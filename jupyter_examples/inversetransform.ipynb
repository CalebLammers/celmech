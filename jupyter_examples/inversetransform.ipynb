{
 "cells": [
  {
   "cell_type": "code",
   "execution_count": 1,
   "metadata": {
    "collapsed": false
   },
   "outputs": [],
   "source": [
    "from sympy import symbols, init_printing\n",
    "init_printing()\n",
    "from celmech.hamiltonian import AndoyerHamiltonian, EquibAndoyerHamiltonian\n",
    "from celmech.transformations import poincare_vars_to_andoyer_vars, poincare_vars_from_sim\n",
    "from celmech.transformations import jacobi_masses_from_sim, get_andoyer_params\n",
    "from celmech.transformations import andoyer_vars_to_poincare_vars, andoyer_vars_from_sim\n",
    "from celmech.transformations import poincare_vars_to_sim, andoyer_vars_to_sim\n",
    "from celmech.transformations import andoyer_vars_to_poincare_vars, equib_andoyer_vars_from_sim\n",
    "from celmech.transformations import setup_res\n",
    "import numpy as np"
   ]
  },
  {
   "cell_type": "code",
   "execution_count": 2,
   "metadata": {
    "collapsed": false
   },
   "outputs": [],
   "source": [
    "G = 4*np.pi**2\n",
    "masses = [1., 1.e-5, 1.e-6]\n",
    "Phi_equil = 10\n",
    "j = 7\n",
    "k = 2\n",
    "\n",
    "sim = setup_res(G, masses, j, k, Phi_equil)"
   ]
  },
  {
   "cell_type": "code",
   "execution_count": 3,
   "metadata": {
    "collapsed": false
   },
   "outputs": [],
   "source": [
    "a10 = 1.\n",
    "andvars = equib_andoyer_vars_from_sim(sim, j, k, a10)"
   ]
  },
  {
   "cell_type": "code",
   "execution_count": 4,
   "metadata": {
    "collapsed": false
   },
   "outputs": [
    {
     "data": {
      "text/plain": [
       "OrderedDict([('Phix', -10.000000000007576),\n",
       " ('Phiy', -3.7849708728192892e-06),\n",
       " ('Wx', -5.7370673824055837e-23),\n",
       " ('Wy', 1.0735409052377868e-27),\n",
       " ('Brouwer', -9.7500000000053664),\n",
       " ('K', -1.5683242728336017e-11),\n",
       " ('deltalambda', 3.1415927076608057),\n",
       " ('lambda1', 0.0)])"
      ]
     },
     "execution_count": 4,
     "metadata": {},
     "output_type": "execute_result"
    }
   ],
   "source": [
    "andvars.state"
   ]
  },
  {
   "cell_type": "code",
   "execution_count": 5,
   "metadata": {
    "collapsed": false
   },
   "outputs": [
    {
     "name": "stdout",
     "output_type": "stream",
     "text": [
      "<rebound.Orbit instance, a=0.9999931233992311 e=0.0028181501148275175 inc=0.0 Omega=0.0 omega=0.0 f=0.0>\n",
      "<rebound.Orbit instance, a=1.2515726505188007 e=0.030204033779418986 inc=0.0 Omega=0.0 omega=3.141592653589793 f=0.0>\n"
     ]
    }
   ],
   "source": [
    "for p in sim.particles[1:]:\n",
    "    print(p.orbit)"
   ]
  },
  {
   "cell_type": "code",
   "execution_count": 7,
   "metadata": {
    "collapsed": false
   },
   "outputs": [
    {
     "ename": "NameError",
     "evalue": "name 'timescale' is not defined",
     "output_type": "error",
     "traceback": [
      "\u001b[0;31m---------------------------------------------------------------------------\u001b[0m",
      "\u001b[0;31mNameError\u001b[0m                                 Traceback (most recent call last)",
      "\u001b[0;32m<ipython-input-7-803a30bdd8d3>\u001b[0m in \u001b[0;36m<module>\u001b[0;34m()\u001b[0m\n\u001b[1;32m     12\u001b[0m \u001b[0mtmax\u001b[0m \u001b[0;34m=\u001b[0m \u001b[0mNorbits\u001b[0m\u001b[0;34m*\u001b[0m\u001b[0msim\u001b[0m\u001b[0;34m.\u001b[0m\u001b[0mparticles\u001b[0m\u001b[0;34m[\u001b[0m\u001b[0;36m1\u001b[0m\u001b[0;34m]\u001b[0m\u001b[0;34m.\u001b[0m\u001b[0mP\u001b[0m\u001b[0;34m\u001b[0m\u001b[0m\n\u001b[1;32m     13\u001b[0m \u001b[0mtimes\u001b[0m \u001b[0;34m=\u001b[0m \u001b[0mnp\u001b[0m\u001b[0;34m.\u001b[0m\u001b[0mlinspace\u001b[0m\u001b[0;34m(\u001b[0m\u001b[0;36m0\u001b[0m\u001b[0;34m,\u001b[0m \u001b[0mtmax\u001b[0m\u001b[0;34m,\u001b[0m \u001b[0mNout\u001b[0m\u001b[0;34m)\u001b[0m\u001b[0;34m\u001b[0m\u001b[0m\n\u001b[0;32m---> 14\u001b[0;31m \u001b[0msymtimes\u001b[0m \u001b[0;34m=\u001b[0m \u001b[0mtimes\u001b[0m\u001b[0;34m/\u001b[0m\u001b[0mabs\u001b[0m\u001b[0;34m(\u001b[0m\u001b[0mtimescale\u001b[0m\u001b[0;34m)\u001b[0m\u001b[0;34m\u001b[0m\u001b[0m\n\u001b[0m\u001b[1;32m     15\u001b[0m \u001b[0;34m\u001b[0m\u001b[0m\n\u001b[1;32m     16\u001b[0m \u001b[0mNsol\u001b[0m \u001b[0;34m=\u001b[0m \u001b[0mnp\u001b[0m\u001b[0;34m.\u001b[0m\u001b[0mzeros\u001b[0m\u001b[0;34m(\u001b[0m\u001b[0;34m(\u001b[0m\u001b[0;36m2\u001b[0m\u001b[0;34m,\u001b[0m \u001b[0mNout\u001b[0m\u001b[0;34m)\u001b[0m\u001b[0;34m)\u001b[0m\u001b[0;34m\u001b[0m\u001b[0m\n",
      "\u001b[0;31mNameError\u001b[0m: name 'timescale' is not defined"
     ]
    }
   ],
   "source": [
    "from celmech.transformations import andoyer_phiprime\n",
    "ps = sim.particles\n",
    "\n",
    "andvars = equib_andoyer_vars_from_sim(sim, j, k, a10)#, average_synodic_terms=True)\n",
    "B0 = andvars.Brouwer\n",
    "W0 = andvars.W\n",
    "phiprime = andoyer_phiprime(andvars, G, masses, j, k, a10)\n",
    "Hsim = EquibAndoyerHamiltonian(k, phiprime, andvars.Phi, andvars.phi)\n",
    "\n",
    "Norbits = 3000\n",
    "Nout = 1000\n",
    "tmax = Norbits*sim.particles[1].P\n",
    "times = np.linspace(0, tmax, Nout)\n",
    "symtimes = times/abs(timescale)\n",
    "\n",
    "Nsol = np.zeros((2, Nout))\n",
    "symsol = np.zeros((2, Nout))\n",
    "pratio, BrouwerErr, WErr, Ks = np.zeros(Nout), np.zeros(Nout), np.zeros(Nout), np.zeros(Nout)\n",
    "Ws, ws = np.zeros(Nout), np.zeros(Nout)\n",
    "\n",
    "for i, time in enumerate(times):\n",
    "    pratio[i] = ps[2].P/ps[1].P\n",
    "    andvars = equib_andoyer_vars_from_sim(sim, j, k, a10)#, average_synodic_terms=True)\n",
    "    Phi, phi, W, w, B, K, deltalambda, lambda1 = andvars\n",
    "    BrouwerErr[i] = abs((andvars.Brouwer-B0)/B0)\n",
    "    WErr[i] = abs((andvars.W-W0)/W0)\n",
    "    Ks[i] = andvars.K\n",
    "    Ws[i] = andvars.W\n",
    "    ws[i] = andvars.w\n",
    "\n",
    "    symsol[:,i] = [Hsim.y['Phi'], Hsim.y['phi']]\n",
    "    Nsol[:,i] = [Phi, phi]\n",
    "\n",
    "    sim.integrate(np.sign(timescale)*time)    \n",
    "    Hsim.integrate(symtimes[i])"
   ]
  },
  {
   "cell_type": "code",
   "execution_count": 7,
   "metadata": {
    "collapsed": false
   },
   "outputs": [
    {
     "data": {
      "image/png": "[encoded data removed]",
      "text/latex": [
       "$$4 \\Phi^{2} + 2 \\Phi \\cos{\\left (\\phi \\right )} - 78.0000000000462 \\Phi$$"
      ],
      "text/plain": [
       "   2                                  \n",
       "4⋅Φ  + 2⋅Φ⋅cos(φ) - 78.0000000000462⋅Φ"
      ]
     },
     "execution_count": 7,
     "metadata": {},
     "output_type": "execute_result"
    }
   ],
   "source": [
    "Hsim.NH"
   ]
  },
  {
   "cell_type": "code",
   "execution_count": 8,
   "metadata": {
    "collapsed": false
   },
   "outputs": [
    {
     "data": {
      "text/plain": [
       "<matplotlib.legend.Legend at 0x10c61ad68>"
      ]
     },
     "execution_count": 8,
     "metadata": {},
     "output_type": "execute_result"
    },
    {
     "data": {
      "image/png": "[encoded data removed]",
      "text/plain": [
       "<matplotlib.figure.Figure at 0x10c51e5f8>"
      ]
     },
     "metadata": {},
     "output_type": "display_data"
    }
   ],
   "source": [
    "%matplotlib inline\n",
    "import matplotlib.pyplot as plt\n",
    "\n",
    "ax = plt.subplot('111', projection='polar')\n",
    "ax.plot(Nsol[1,:], Nsol[0,:], '*', label='Nbody')\n",
    "ax.plot(symsol[1,:], symsol[0,:], label='Symbolic')\n",
    "ax.set_rlim(0,15)\n",
    "ax.legend()"
   ]
  },
  {
   "cell_type": "code",
   "execution_count": 9,
   "metadata": {
    "collapsed": false
   },
   "outputs": [],
   "source": [
    "def wrap(val):\n",
    "    while val < -np.pi:\n",
    "        val += 2*np.pi\n",
    "    while val > np.pi:\n",
    "        val -= 2*np.pi\n",
    "    return val\n",
    "\n",
    "npwrap = np.vectorize(wrap)"
   ]
  },
  {
   "cell_type": "code",
   "execution_count": 10,
   "metadata": {
    "collapsed": false
   },
   "outputs": [
    {
     "data": {
      "text/plain": [
       "<matplotlib.legend.Legend at 0x10c71bf98>"
      ]
     },
     "execution_count": 10,
     "metadata": {},
     "output_type": "execute_result"
    },
    {
     "data": {
      "image/png": "[encoded data removed]",
      "text/plain": [
       "<matplotlib.figure.Figure at 0x10c614160>"
      ]
     },
     "metadata": {},
     "output_type": "display_data"
    }
   ],
   "source": [
    "%matplotlib inline\n",
    "import matplotlib.pyplot as plt\n",
    "\n",
    "fig, ax = plt.subplots()\n",
    "ax.plot(npwrap(Nsol[1,:]), Nsol[0,:], '.', label='Nbody')\n",
    "ax.plot(npwrap(symsol[1,:]), symsol[0,:], '.', label='Symbolic')\n",
    "ax.legend()"
   ]
  },
  {
   "cell_type": "markdown",
   "metadata": {},
   "source": [
    "# Previous test"
   ]
  },
  {
   "cell_type": "code",
   "execution_count": 23,
   "metadata": {
    "collapsed": false
   },
   "outputs": [],
   "source": [
    "from celmech.transformations import get_second_order_equilibrium, get_second_order_phiprime"
   ]
  },
  {
   "cell_type": "code",
   "execution_count": 24,
   "metadata": {
    "collapsed": false
   },
   "outputs": [
    {
     "data": {
      "image/png": "[encoded data removed]",
      "text/latex": [
       "$$26.0$$"
      ],
      "text/plain": [
       "26.0"
      ]
     },
     "execution_count": 24,
     "metadata": {},
     "output_type": "execute_result"
    }
   ],
   "source": [
    "Phiprime = get_second_order_phiprime(np.sqrt(20))\n",
    "Phiprime"
   ]
  },
  {
   "cell_type": "code",
   "execution_count": 25,
   "metadata": {
    "collapsed": false
   },
   "outputs": [],
   "source": [
    "def wrap(val):\n",
    "    while val < -np.pi:\n",
    "        val += 2*np.pi\n",
    "    while val > np.pi:\n",
    "        val -= 2*np.pi\n",
    "    return val\n",
    "\n",
    "npwrap = np.vectorize(wrap)"
   ]
  },
  {
   "cell_type": "code",
   "execution_count": 26,
   "metadata": {
    "collapsed": false
   },
   "outputs": [],
   "source": [
    "Hsim = EquibAndoyerHamiltonian(k, Phiprime, 10, np.pi)\n",
    "tmax=10\n",
    "Nout = 1000\n",
    "times = np.linspace(0, tmax, Nout)\n",
    "\n",
    "symsol = np.zeros((2, Nout))\n",
    "pratio, BrouwerErr, WErr, Ks = np.zeros(Nout), np.zeros(Nout), np.zeros(Nout), np.zeros(Nout)\n",
    "\n",
    "for i, time in enumerate(times):\n",
    "    symsol[:,i] = [Hsim.y['Phi'], Hsim.y['phi']]\n",
    "    Hsim.integrate(times[i])"
   ]
  },
  {
   "cell_type": "code",
   "execution_count": 27,
   "metadata": {
    "collapsed": false
   },
   "outputs": [
    {
     "data": {
      "image/png": "[encoded data removed]",
      "text/latex": [
       "$$4 \\Phi^{2} + 2 \\Phi \\cos{\\left (\\phi \\right )} - 78.0 \\Phi$$"
      ],
      "text/plain": [
       "   2                      \n",
       "4⋅Φ  + 2⋅Φ⋅cos(φ) - 78.0⋅Φ"
      ]
     },
     "execution_count": 27,
     "metadata": {},
     "output_type": "execute_result"
    }
   ],
   "source": [
    "Hsim.NH"
   ]
  },
  {
   "cell_type": "code",
   "execution_count": 28,
   "metadata": {
    "collapsed": false
   },
   "outputs": [
    {
     "data": {
      "text/plain": [
       "[<matplotlib.lines.Line2D at 0x10c722518>]"
      ]
     },
     "execution_count": 28,
     "metadata": {},
     "output_type": "execute_result"
    },
    {
     "data": {
      "image/png": "[encoded data removed]",
      "text/plain": [
       "<matplotlib.figure.Figure at 0x10c7220b8>"
      ]
     },
     "metadata": {},
     "output_type": "display_data"
    }
   ],
   "source": [
    "%matplotlib inline\n",
    "import matplotlib.pyplot as plt\n",
    "\n",
    "fig, ax = plt.subplots()\n",
    "ax.plot(npwrap(symsol[1,:]), symsol[0,:], '.')"
   ]
  },
  {
   "cell_type": "code",
   "execution_count": null,
   "metadata": {
    "collapsed": true
   },
   "outputs": [],
   "source": []
  }
 ],
 "metadata": {
  "kernelspec": {
   "display_name": "Python 3",
   "language": "python",
   "name": "python3"
  },
  "language_info": {
   "codemirror_mode": {
    "name": "ipython",
    "version": 3
   },
   "file_extension": ".py",
   "mimetype": "text/x-python",
   "name": "python",
   "nbconvert_exporter": "python",
   "pygments_lexer": "ipython3",
   "version": "3.5.1"
  }
 },
 "nbformat": 4,
 "nbformat_minor": 2
}
