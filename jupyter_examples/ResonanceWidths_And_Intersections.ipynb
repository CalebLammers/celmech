{
 "cells": [
  {
   "cell_type": "markdown",
   "metadata": {},
   "source": [
    "# Predict resonance locations, widths, and intersections"
   ]
  },
  {
   "cell_type": "code",
   "execution_count": null,
   "metadata": {
    "collapsed": true
   },
   "outputs": [],
   "source": [
    "import celmech"
   ]
  },
  {
   "cell_type": "code",
   "execution_count": null,
   "metadata": {
    "collapsed": false
   },
   "outputs": [],
   "source": [
    "%run -i ../celmech/ResonanceLocationsAndWidths.py"
   ]
  },
  {
   "cell_type": "code",
   "execution_count": null,
   "metadata": {
    "collapsed": true
   },
   "outputs": [],
   "source": [
    "import matplotlib.pyplot as plt\n",
    "%matplotlib inline"
   ]
  },
  {
   "cell_type": "code",
   "execution_count": null,
   "metadata": {
    "collapsed": false
   },
   "outputs": [],
   "source": [
    "max_order = 5\n",
    "min_p=0.6\n",
    "max_p=3/4.+0.01\n",
    "logmass=-5\n",
    "resonances=resonant_period_ratios(min_p,max_p,max_order)\n",
    "intersections=resonance_intersections_list(10**logmass,10**logmass,min_p,max_p,max_order)\n",
    "Z0range=np.linspace(0,0.3,50)\n",
    "for res in resonances:\n",
    "    resJ,resK = res[1],res[1]-res[0]\n",
    "    separatrixPts=np.array([ resonance_pratio_span(10**logmass,10**logmass,Z0,resJ,resK) for Z0 in Z0range])\n",
    "    plt.plot(separatrixPts[:,0],Z0range,'k-')\n",
    "    plt.plot(separatrixPts[:,1],Z0range,'k-')\n",
    "plt.plot(intersections[:,0],intersections[:,1],'rx')\n",
    "plt.plot(intersections[:,0],intersections[:,1],'r--')\n",
    "\n",
    "plt.xlim(0.6,0.8)\n",
    "plt.ylim(0,0.3)"
   ]
  }
 ],
 "metadata": {
  "kernelspec": {
   "display_name": "Python 3",
   "language": "python",
   "name": "python3"
  },
  "language_info": {
   "codemirror_mode": {
    "name": "ipython",
    "version": 3
   },
   "file_extension": ".py",
   "mimetype": "text/x-python",
   "name": "python",
   "nbconvert_exporter": "python",
   "pygments_lexer": "ipython3",
   "version": "3.5.1"
  }
 },
 "nbformat": 4,
 "nbformat_minor": 0
}
