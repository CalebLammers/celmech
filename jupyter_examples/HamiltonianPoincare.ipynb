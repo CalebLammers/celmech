{
 "cells": [
  {
   "cell_type": "code",
   "execution_count": null,
   "metadata": {
    "collapsed": false
   },
   "outputs": [],
   "source": [
    "from sympy import symbols, init_printing\n",
    "init_printing()\n",
    "from celmech.hamiltonian import HamiltonianPoincare\n",
    "from celmech.transformations import poincare_vars_from_sim"
   ]
  },
  {
   "cell_type": "code",
   "execution_count": null,
   "metadata": {
    "collapsed": false
   },
   "outputs": [],
   "source": [
    "import rebound\n",
    "import numpy as np\n",
    "\n",
    "def make_sim(j, k):\n",
    "    mass = 1.e-5\n",
    "    e0 = 0.001 # initial eccentricity of planets\n",
    "    \n",
    "    sim = rebound.Simulation()\n",
    "    sim.G = 4*np.pi**2\n",
    "    sim.add(m=1.)\n",
    "    sim.add(m=mass, e=e0, P=1.)\n",
    "    sim.add(m=4*mass, e=1.e-5, P=j/float(j-k))\n",
    "    sim.add(m=mass, e=e0, P=5.)\n",
    "    sim.move_to_com()\n",
    "    return sim\n",
    "\n",
    "j=5\n",
    "k=1\n",
    "sim = make_sim(j,k)"
   ]
  },
  {
   "cell_type": "code",
   "execution_count": null,
   "metadata": {
    "collapsed": false
   },
   "outputs": [],
   "source": [
    "Hsim = HamiltonianPoincare()\n",
    "Hsim.initialize_from_sim(sim)"
   ]
  },
  {
   "cell_type": "code",
   "execution_count": null,
   "metadata": {
    "collapsed": false
   },
   "outputs": [],
   "source": [
    "Hsim.H"
   ]
  },
  {
   "cell_type": "code",
   "execution_count": null,
   "metadata": {
    "collapsed": false
   },
   "outputs": [],
   "source": [
    "Hsim.add_all_resonance_subterms(1,2,j,k)"
   ]
  },
  {
   "cell_type": "code",
   "execution_count": null,
   "metadata": {
    "collapsed": false
   },
   "outputs": [],
   "source": [
    "Hsim.H"
   ]
  },
  {
   "cell_type": "code",
   "execution_count": null,
   "metadata": {
    "collapsed": false
   },
   "outputs": [],
   "source": [
    "Hsim.NH"
   ]
  },
  {
   "cell_type": "code",
   "execution_count": null,
   "metadata": {
    "collapsed": false
   },
   "outputs": [],
   "source": [
    "Norbits = 300\n",
    "Nout = 1000\n",
    "tmax = Norbits*sim.particles[1].P\n",
    "times = np.linspace(0, tmax, Nout)\n",
    "\n",
    "Nsol = np.zeros((4*(sim.N-1), Nout))\n",
    "symsol = np.zeros((4*(sim.N-1), Nout))\n",
    "for i, time in enumerate(times):\n",
    "    sim.integrate(time)\n",
    "    Hsim.integrate(time)\n",
    "    Nsol[:,i] = poincare_vars_from_sim(sim)\n",
    "    symsol[:,i] = list(Hsim.integrator.y)"
   ]
  },
  {
   "cell_type": "code",
   "execution_count": null,
   "metadata": {
    "collapsed": false
   },
   "outputs": [],
   "source": [
    "%matplotlib inline\n",
    "import matplotlib.pyplot as plt\n",
    "\n",
    "fig, ax = plt.subplots(figsize=(15,10))\n",
    "ax.set_xlabel(\"Time (years = inner planet orbits)\", fontsize=24)\n",
    "ax.set_ylabel(r\"$\\Lambda_1$\", fontsize=24)\n",
    "\n",
    "ax.plot(times, Nsol[0,:], '.', label='Nbody')\n",
    "ax.plot(times, symsol[0,:], '.', label='Symbolic')\n",
    "\n",
    "ax.legend()"
   ]
  }
 ],
 "metadata": {
  "kernelspec": {
   "display_name": "Python 3",
   "language": "python",
   "name": "python3"
  },
  "language_info": {
   "codemirror_mode": {
    "name": "ipython",
    "version": 3
   },
   "file_extension": ".py",
   "mimetype": "text/x-python",
   "name": "python",
   "nbconvert_exporter": "python",
   "pygments_lexer": "ipython3",
   "version": "3.5.1"
  }
 },
 "nbformat": 4,
 "nbformat_minor": 2
}
