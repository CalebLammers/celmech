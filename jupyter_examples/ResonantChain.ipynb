{
 "cells": [
  {
   "cell_type": "markdown",
   "id": "b14fe97e",
   "metadata": {},
   "source": [
    "# The Kepler-223 resonant chain system"
   ]
  },
  {
   "cell_type": "markdown",
   "id": "c00e6480",
   "metadata": {},
   "source": [
    "Kepler-223 is a 4-planet resonant chain discovered by the *Kepler* mission. The system has been characterized via TTV analysis by [Mills et. al. 2016](https://ui.adsabs.harvard.edu/abs/2016Natur.533..509M/abstract). \n",
    "The planet's periods are locked in/near a 3:4:6:8 commensurability. [Delisle (2017)](https://ui.adsabs.harvard.edu/abs/2017A%26A...605A..96D/abstract)\n",
    "describes an analytic model for the resonant dynamics of this (and similar) systems. This example is based on  this analytic model.\n",
    "\n",
    "We'll proceed through a series of canonical transformations to arrive at a Hamiltonian model for the resonant interactions in this system. We'll then use this model to solve for the families of equilibrium configurations for this resonant chain."
   ]
  },
  {
   "cell_type": "code",
   "execution_count": 1,
   "id": "330bd51a",
   "metadata": {},
   "outputs": [],
   "source": [
    "import numpy as np\n",
    "import matplotlib.pyplot as plt\n",
    "%matplotlib inline\n",
    "import rebound as rb"
   ]
  },
  {
   "cell_type": "markdown",
   "id": "96d20d83",
   "metadata": {},
   "source": [
    "## Set up a `rebound` simulation of Kepler-223\n",
    "\n",
    "First we'll set up a `rebound` simulation of the Kepler-223 system, initializing each planet at its observed best-fit mass and orbital period. We won't worry about setting eccentricities our orbital phases now, since we'll be determining these later when we solve for resonant equilibrium configurations."
   ]
  },
  {
   "cell_type": "code",
   "execution_count": 2,
   "id": "654ea0e0",
   "metadata": {},
   "outputs": [],
   "source": [
    "# Taken from Table 1 of Mills+ (2016)\n",
    "Mstar = 1.125\n",
    "Mearth = 3e-6\n",
    "\n",
    "periods = [7.38449,9.84564,14.78869,19.72567] # Periods in days\n",
    "masses = [7.4,5.1,8.0,4.8] # Masses in Earth masses\n",
    "\n",
    "\n",
    "sim = rb.Simulation()\n",
    "sim.units  = (\"Msun\",\"days\",\"AU\")\n",
    "sim.add(m=Mstar)\n",
    "for mass,per in zip(masses,periods):\n",
    "    sim.add(m = mass*Mearth,P =per)\n",
    "sim.move_to_com()\n"
   ]
  },
  {
   "cell_type": "markdown",
   "id": "bb149793",
   "metadata": {},
   "source": [
    "## Set up a `PoincareHamiltonian` object\n",
    "\n",
    "We'll use the `PoincareHamiltonian` class to begin constructing an analytic model for the system."
   ]
  },
  {
   "cell_type": "code",
   "execution_count": 3,
   "id": "a18448cf",
   "metadata": {},
   "outputs": [],
   "source": [
    "from celmech import Poincare,PoincareHamiltonian"
   ]
  },
  {
   "cell_type": "code",
   "execution_count": 4,
   "id": "47da9cd8",
   "metadata": {},
   "outputs": [],
   "source": [
    "pvars = Poincare.from_Simulation(sim)\n",
    "pham = PoincareHamiltonian(pvars)"
   ]
  },
  {
   "cell_type": "markdown",
   "id": "e1a36ec6",
   "metadata": {},
   "source": [
    "### Add resonant interaction terms: \n",
    "First, we determine nearest $j$:$j-1$ for each adjacent resonant pair, then add the corresponding resonant interaction terms for each pair. Finally, we add the additional 2:1 MMR terms for the non-adjacent planets."
   ]
  },
  {
   "cell_type": "code",
   "execution_count": 7,
   "id": "f9cfc647",
   "metadata": {},
   "outputs": [
    {
     "name": "stdout",
     "output_type": "stream",
     "text": [
      "[4 3 4]\n"
     ]
    }
   ],
   "source": [
    "max_order = 1 # Include terms up to 1st order in e\n",
    "add_secular = False # We won't include secular terms\n",
    "p_arr=np.array(periods) \n",
    "# the nearest j:j-1 resonance is given by j= Round[ 1+1/((P_out/P_in) - 1) ]\n",
    "res_list = np.round(1+1/(p_arr[1:]/p_arr[:-1]-1)).astype(int)\n",
    "print(res_list)\n",
    "\n",
    "# Add secular terms\n",
    "if add_secular:\n",
    "    for i in range(1,pham.N):\n",
    "        for j in range(i+1,pham.N):\n",
    "            pham.add_monomial_term([0 for _ in range(6)],(0,0,1,0),indexIn=i,indexOut=j)\n",
    "            pham.add_monomial_term([0 for _ in range(6)],(0,0,0,1),indexIn=i,indexOut=j)\n",
    "            pham.add_monomial_term([0,0,-1,1,0,0],(0,0,0,0),indexIn=i,indexOut=j)\n",
    "        \n",
    "# Add adjacent pair terms\n",
    "for i,j in enumerate(res_list):\n",
    "    pham.add_eccentricity_MMR_terms(j,1,max_order,indexIn=i+1,indexOut=i+2)\n",
    "\n",
    "    \n",
    "# add the 2:1 MMR terms for non-adjacent pairs\n",
    "pham.add_eccentricity_MMR_terms(2,1,max_order,indexIn=2,indexOut=4)\n",
    "pham.add_eccentricity_MMR_terms(2,1,max_order,indexIn=1,indexOut=3)\n"
   ]
  },
  {
   "cell_type": "code",
   "execution_count": 8,
   "id": "669e1fab",
   "metadata": {},
   "outputs": [
    {
     "data": {
      "text/latex": [
       "$\\displaystyle - \\frac{C_{(2,-1,-1,0,0,0)}^{(0,0,0,0),(0,0)}(\\alpha_{1,3}) G m_{1} m_{3} \\left(\\frac{\\eta_{1} \\sin{\\left(\\lambda_{1} - 2 \\lambda_{3} \\right)}}{\\sqrt{\\Lambda_{1,0}}} + \\frac{\\kappa_{1} \\cos{\\left(\\lambda_{1} - 2 \\lambda_{3} \\right)}}{\\sqrt{\\Lambda_{1,0}}}\\right)}{a_{3,0}} - \\frac{C_{(2,-1,-1,0,0,0)}^{(0,0,0,0),(0,0)}(\\alpha_{2,4}) G m_{2} m_{4} \\left(\\frac{\\eta_{2} \\sin{\\left(\\lambda_{2} - 2 \\lambda_{4} \\right)}}{\\sqrt{\\Lambda_{2,0}}} + \\frac{\\kappa_{2} \\cos{\\left(\\lambda_{2} - 2 \\lambda_{4} \\right)}}{\\sqrt{\\Lambda_{2,0}}}\\right)}{a_{4,0}} - \\frac{C_{(2,-1,0,-1,0,0)}^{(0,0,0,0),(0,0)}(\\alpha_{1,3}) G m_{1} m_{3} \\left(\\frac{\\eta_{3} \\sin{\\left(\\lambda_{1} - 2 \\lambda_{3} \\right)}}{\\sqrt{\\Lambda_{3,0}}} + \\frac{\\kappa_{3} \\cos{\\left(\\lambda_{1} - 2 \\lambda_{3} \\right)}}{\\sqrt{\\Lambda_{3,0}}}\\right)}{a_{3,0}} - \\frac{C_{(2,-1,0,-1,0,0)}^{(0,0,0,0),(0,0)}(\\alpha_{2,4}) G m_{2} m_{4} \\left(\\frac{\\eta_{4} \\sin{\\left(\\lambda_{2} - 2 \\lambda_{4} \\right)}}{\\sqrt{\\Lambda_{4,0}}} + \\frac{\\kappa_{4} \\cos{\\left(\\lambda_{2} - 2 \\lambda_{4} \\right)}}{\\sqrt{\\Lambda_{4,0}}}\\right)}{a_{4,0}} - \\frac{C_{(3,-2,-1,0,0,0)}^{(0,0,0,0),(0,0)}(\\alpha_{2,3}) G m_{2} m_{3} \\left(\\frac{\\eta_{2} \\sin{\\left(2 \\lambda_{2} - 3 \\lambda_{3} \\right)}}{\\sqrt{\\Lambda_{2,0}}} + \\frac{\\kappa_{2} \\cos{\\left(2 \\lambda_{2} - 3 \\lambda_{3} \\right)}}{\\sqrt{\\Lambda_{2,0}}}\\right)}{a_{3,0}} - \\frac{C_{(3,-2,0,-1,0,0)}^{(0,0,0,0),(0,0)}(\\alpha_{2,3}) G m_{2} m_{3} \\left(\\frac{\\eta_{3} \\sin{\\left(2 \\lambda_{2} - 3 \\lambda_{3} \\right)}}{\\sqrt{\\Lambda_{3,0}}} + \\frac{\\kappa_{3} \\cos{\\left(2 \\lambda_{2} - 3 \\lambda_{3} \\right)}}{\\sqrt{\\Lambda_{3,0}}}\\right)}{a_{3,0}} - \\frac{C_{(4,-3,-1,0,0,0)}^{(0,0,0,0),(0,0)}(\\alpha_{1,2}) G m_{1} m_{2} \\left(\\frac{\\eta_{1} \\sin{\\left(3 \\lambda_{1} - 4 \\lambda_{2} \\right)}}{\\sqrt{\\Lambda_{1,0}}} + \\frac{\\kappa_{1} \\cos{\\left(3 \\lambda_{1} - 4 \\lambda_{2} \\right)}}{\\sqrt{\\Lambda_{1,0}}}\\right)}{a_{2,0}} - \\frac{C_{(4,-3,-1,0,0,0)}^{(0,0,0,0),(0,0)}(\\alpha_{3,4}) G m_{3} m_{4} \\left(\\frac{\\eta_{3} \\sin{\\left(3 \\lambda_{3} - 4 \\lambda_{4} \\right)}}{\\sqrt{\\Lambda_{3,0}}} + \\frac{\\kappa_{3} \\cos{\\left(3 \\lambda_{3} - 4 \\lambda_{4} \\right)}}{\\sqrt{\\Lambda_{3,0}}}\\right)}{a_{4,0}} - \\frac{C_{(4,-3,0,-1,0,0)}^{(0,0,0,0),(0,0)}(\\alpha_{1,2}) G m_{1} m_{2} \\left(\\frac{\\eta_{2} \\sin{\\left(3 \\lambda_{1} - 4 \\lambda_{2} \\right)}}{\\sqrt{\\Lambda_{2,0}}} + \\frac{\\kappa_{2} \\cos{\\left(3 \\lambda_{1} - 4 \\lambda_{2} \\right)}}{\\sqrt{\\Lambda_{2,0}}}\\right)}{a_{2,0}} - \\frac{C_{(4,-3,0,-1,0,0)}^{(0,0,0,0),(0,0)}(\\alpha_{3,4}) G m_{3} m_{4} \\left(\\frac{\\eta_{4} \\sin{\\left(3 \\lambda_{3} - 4 \\lambda_{4} \\right)}}{\\sqrt{\\Lambda_{4,0}}} + \\frac{\\kappa_{4} \\cos{\\left(3 \\lambda_{3} - 4 \\lambda_{4} \\right)}}{\\sqrt{\\Lambda_{4,0}}}\\right)}{a_{4,0}} - \\frac{G^{2} M_{4}^{2} \\mu_{4}^{3}}{2 \\Lambda_{4}^{2}} - \\frac{G^{2} M_{3}^{2} \\mu_{3}^{3}}{2 \\Lambda_{3}^{2}} - \\frac{G^{2} M_{2}^{2} \\mu_{2}^{3}}{2 \\Lambda_{2}^{2}} - \\frac{G^{2} M_{1}^{2} \\mu_{1}^{3}}{2 \\Lambda_{1}^{2}}$"
      ],
      "text/plain": [
       "                                                               ⎛η₁⋅sin(λ₁ - 2⋅λ₃)   κ₁⋅cos(λ₁ - 2⋅λ₃)⎞                                                      \n",
       "  C_{(2,-1,-1,0,0,0)}_{1,3})__{(0,0,0,0),(0,0)}(\\alpha⋅G⋅m₁⋅m₃⋅⎜───────────────── + ─────────────────⎟   C_{(2,-1,-1,0,0,0)}_{2,4})__{(0,0,0,0),(0,0)}(\\alph\n",
       "                                                               ⎜  _______________     _______________⎟                                                      \n",
       "                                                               ⎝╲╱ \\Lambda_{1,0}    ╲╱ \\Lambda_{1,0} ⎠                                                      \n",
       "- ──────────────────────────────────────────────────────────────────────────────────────────────────── - ───────────────────────────────────────────────────\n",
       "                                                a_{3,0}                                                                                                a_{4,\n",
       "                                                                                                                                                            \n",
       "\n",
       "          ⎛η₂⋅sin(λ₂ - 2⋅λ₄)   κ₂⋅cos(λ₂ - 2⋅λ₄)⎞                                                                ⎛η₃⋅sin(λ₁ - 2⋅λ₃)   κ₃⋅cos(λ₁ - 2⋅λ₃)⎞    \n",
       "a⋅G⋅m₂⋅m₄⋅⎜───────────────── + ─────────────────⎟   C_{(2,-1,0,-1,0,0)}_{1,3})__{(0,0,0,0),(0,0)}(\\alpha⋅G⋅m₁⋅m₃⋅⎜───────────────── + ─────────────────⎟   C\n",
       "          ⎜  _______________     _______________⎟                                                                ⎜  _______________     _______________⎟    \n",
       "          ⎝╲╱ \\Lambda_{2,0}    ╲╱ \\Lambda_{2,0} ⎠                                                                ⎝╲╱ \\Lambda_{3,0}    ╲╱ \\Lambda_{3,0} ⎠    \n",
       "───────────────────────────────────────────────── - ──────────────────────────────────────────────────────────────────────────────────────────────────── - ─\n",
       "0}                                                                                                a_{3,0}                                                   \n",
       "                                                                                                                                                            \n",
       "\n",
       "                                                            ⎛η₄⋅sin(λ₂ - 2⋅λ₄)   κ₄⋅cos(λ₂ - 2⋅λ₄)⎞                                                         \n",
       "_{(2,-1,0,-1,0,0)}_{2,4})__{(0,0,0,0),(0,0)}(\\alpha⋅G⋅m₂⋅m₄⋅⎜───────────────── + ─────────────────⎟   C_{(3,-2,-1,0,0,0)}_{2,3})__{(0,0,0,0),(0,0)}(\\alpha⋅G\n",
       "                                                            ⎜  _______________     _______________⎟                                                         \n",
       "                                                            ⎝╲╱ \\Lambda_{4,0}    ╲╱ \\Lambda_{4,0} ⎠                                                         \n",
       "─────────────────────────────────────────────────────────────────────────────────────────────────── - ──────────────────────────────────────────────────────\n",
       "                                             a_{4,0}                                                                                                  a_{3,0\n",
       "                                                                                                                                                            \n",
       "\n",
       "       ⎛η₂⋅sin(2⋅λ₂ - 3⋅λ₃)   κ₂⋅cos(2⋅λ₂ - 3⋅λ₃)⎞                                                                ⎛η₃⋅sin(2⋅λ₂ - 3⋅λ₃)   κ₃⋅cos(2⋅λ₂ - 3⋅λ₃)\n",
       "⋅m₂⋅m₃⋅⎜─────────────────── + ───────────────────⎟   C_{(3,-2,0,-1,0,0)}_{2,3})__{(0,0,0,0),(0,0)}(\\alpha⋅G⋅m₂⋅m₃⋅⎜─────────────────── + ───────────────────\n",
       "       ⎜   _______________       _______________ ⎟                                                                ⎜   _______________       _______________ \n",
       "       ⎝ ╲╱ \\Lambda_{2,0}      ╲╱ \\Lambda_{2,0}  ⎠                                                                ⎝ ╲╱ \\Lambda_{3,0}      ╲╱ \\Lambda_{3,0}  \n",
       "────────────────────────────────────────────────── - ───────────────────────────────────────────────────────────────────────────────────────────────────────\n",
       "}                                                                                                    a_{3,0}                                                \n",
       "                                                                                                                                                            \n",
       "\n",
       "⎞                                                                ⎛η₁⋅sin(3⋅λ₁ - 4⋅λ₂)   κ₁⋅cos(3⋅λ₁ - 4⋅λ₂)⎞                                                \n",
       "⎟   C_{(4,-3,-1,0,0,0)}_{1,2})__{(0,0,0,0),(0,0)}(\\alpha⋅G⋅m₁⋅m₂⋅⎜─────────────────── + ───────────────────⎟   C_{(4,-3,-1,0,0,0)}_{3,4})__{(0,0,0,0),(0,0)}\n",
       "⎟                                                                ⎜   _______________       _______________ ⎟                                                \n",
       "⎠                                                                ⎝ ╲╱ \\Lambda_{1,0}      ╲╱ \\Lambda_{1,0}  ⎠                                                \n",
       "─ - ──────────────────────────────────────────────────────────────────────────────────────────────────────── - ─────────────────────────────────────────────\n",
       "                                                    a_{2,0}                                                                                                 \n",
       "                                                                                                                                                            \n",
       "\n",
       "                ⎛η₃⋅sin(3⋅λ₃ - 4⋅λ₄)   κ₃⋅cos(3⋅λ₃ - 4⋅λ₄)⎞                                                                ⎛η₂⋅sin(3⋅λ₁ - 4⋅λ₂)   κ₂⋅cos(3⋅λ\n",
       "(\\alpha⋅G⋅m₃⋅m₄⋅⎜─────────────────── + ───────────────────⎟   C_{(4,-3,0,-1,0,0)}_{1,2})__{(0,0,0,0),(0,0)}(\\alpha⋅G⋅m₁⋅m₂⋅⎜─────────────────── + ──────────\n",
       "                ⎜   _______________       _______________ ⎟                                                                ⎜   _______________       _______\n",
       "                ⎝ ╲╱ \\Lambda_{3,0}      ╲╱ \\Lambda_{3,0}  ⎠                                                                ⎝ ╲╱ \\Lambda_{2,0}      ╲╱ \\Lambd\n",
       "─────────────────────────────────────────────────────────── - ──────────────────────────────────────────────────────────────────────────────────────────────\n",
       "   a_{4,0}                                                                                                    a_{2,0}                                       \n",
       "                                                                                                                                                            \n",
       "\n",
       "₁ - 4⋅λ₂)⎞                                                                ⎛η₄⋅sin(3⋅λ₃ - 4⋅λ₄)   κ₄⋅cos(3⋅λ₃ - 4⋅λ₄)⎞                                       \n",
       "─────────⎟   C_{(4,-3,0,-1,0,0)}_{3,4})__{(0,0,0,0),(0,0)}(\\alpha⋅G⋅m₃⋅m₄⋅⎜─────────────────── + ───────────────────⎟                                       \n",
       "________ ⎟                                                                ⎜   _______________       _______________ ⎟    2   2   3    2   2   3    2   2   3\n",
       "a_{2,0}  ⎠                                                                ⎝ ╲╱ \\Lambda_{4,0}      ╲╱ \\Lambda_{4,0}  ⎠   G ⋅M₄ ⋅μ₄    G ⋅M₃ ⋅μ₃    G ⋅M₂ ⋅μ₂ \n",
       "────────── - ──────────────────────────────────────────────────────────────────────────────────────────────────────── - ────────── - ────────── - ──────────\n",
       "                                                             a_{4,0}                                                          2            2            2   \n",
       "                                                                                                                          2⋅Λ₄         2⋅Λ₃         2⋅Λ₂    \n",
       "\n",
       "             \n",
       "             \n",
       "    2   2   3\n",
       "   G ⋅M₁ ⋅μ₁ \n",
       " - ──────────\n",
       "         2   \n",
       "     2⋅Λ₁    "
      ]
     },
     "execution_count": 8,
     "metadata": {},
     "output_type": "execute_result"
    }
   ],
   "source": [
    "pham.H"
   ]
  },
  {
   "cell_type": "markdown",
   "id": "a592214f",
   "metadata": {},
   "source": [
    "# Transformation to resonant variables\n",
    "\n",
    "Following Equation 12 of [Delisle (2017)](https://ui.adsabs.harvard.edu/abs/2017A%26A...605A..96D/abstract), we perform a canonical transformation to new resonant angle variables[^1].  \n",
    "\n",
    "$$\n",
    "\\begin{pmatrix}\n",
    "\\phi_1\\\\\n",
    "\\phi_2\\\\\n",
    "\\phi_3\\\\\n",
    "\\phi_4\\\\\\\n",
    "s_1\\\\\n",
    "s_2\\\\\n",
    "s_3\\\\\n",
    "s_4\n",
    "\\end{pmatrix}\n",
    "= \n",
    "\\underbrace{\n",
    "\\begin{pmatrix}\n",
    "    1 & -2 &  1 &  0     & 0 & 0 & 0 & 0 \\\\\n",
    "    0 &  1 & -3 &  2     & 0 & 0 & 0 & 0 \\\\\n",
    "    0 &  0 &  1 & -1     & 0 & 0 & 0 & 0 \\\\\n",
    "    0 &  0 & -3 &  4     & 0 & 0 & 0 & 0 \\\\    \n",
    "    0 &  0 & -3 &  4     & 1 & 0 & 0 & 0 \\\\\n",
    "    0 &  0 & -3 &  4     & 0 & 1 & 0 & 0 \\\\\n",
    "    0 &  0 & -3 &  4     & 0 & 0 & 1 & 0 \\\\\n",
    "    0 &  0 & -3 &  4     & 0 & 0 & 0 & 1 \n",
    "\\end{pmatrix}}_{A}\n",
    "\\cdot\n",
    "\\begin{pmatrix}\n",
    "\\lambda_1\\\\\n",
    "\\lambda_2\\\\\n",
    "\\lambda_3\\\\\n",
    "\\lambda_4\\\\\n",
    "\\gamma_1\\\\\n",
    "\\gamma_2\\\\\n",
    "\\gamma_3\\\\\n",
    "\\gamma_4\n",
    "\\end{pmatrix}\n",
    "$$\n",
    "along with conjugate momenta $(\\Phi_1,...,\\Phi_4,D_1,...,D_4) = [A^{-1}]^{\\mathrm{tr}} \\cdot (\\Lambda_1,...,\\Lambda_4,\\Gamma_1,...,\\Gamma_4)$. We also introduce $\\psi_i = \\phi_i - \\gamma_i+q_i$ with conjugate momenta $Q_i$ so that inclination resonance terms could be analyzed as well, though we will not consider them in this example.\n",
    "\n",
    "[^1]: [Delisle (2017)](https://ui.adsabs.harvard.edu/abs/2017A%26A...605A..96D/abstract) uses the notation $\\sigma_i$ for the angles we have termed $s_i$ conjugate to the momenta $D_i$. We adopt $s_i$ to avoid confusion with the default `Poincare` variables $\\sigma_i=\\sqrt{2Q_i}\\cos q_i$"
   ]
  },
  {
   "cell_type": "markdown",
   "id": "84b7ebcf",
   "metadata": {},
   "source": [
    "### Set up the transformation matrix"
   ]
  },
  {
   "cell_type": "code",
   "execution_count": 10,
   "id": "b01efe77",
   "metadata": {},
   "outputs": [
    {
     "data": {
      "text/plain": [
       "array([[ 1, -2,  1,  0,  0,  0,  0,  0,  0,  0,  0,  0],\n",
       "       [ 0,  1, -3,  2,  0,  0,  0,  0,  0,  0,  0,  0],\n",
       "       [ 0,  0,  1, -1,  0,  0,  0,  0,  0,  0,  0,  0],\n",
       "       [ 0,  0, -3,  4,  0,  0,  0,  0,  0,  0,  0,  0],\n",
       "       [ 0,  0, -3,  4,  1,  0,  0,  0,  0,  0,  0,  0],\n",
       "       [ 0,  0, -3,  4,  0,  1,  0,  0,  0,  0,  0,  0],\n",
       "       [ 0,  0, -3,  4,  0,  0,  1,  0,  0,  0,  0,  0],\n",
       "       [ 0,  0, -3,  4,  0,  0,  0,  1,  0,  0,  0,  0],\n",
       "       [ 0,  0, -3,  4,  0,  0,  0,  0,  1,  0,  0,  0],\n",
       "       [ 0,  0, -3,  4,  0,  0,  0,  0,  0,  1,  0,  0],\n",
       "       [ 0,  0, -3,  4,  0,  0,  0,  0,  0,  0,  1,  0],\n",
       "       [ 0,  0, -3,  4,  0,  0,  0,  0,  0,  0,  0,  1]])"
      ]
     },
     "execution_count": 10,
     "metadata": {},
     "output_type": "execute_result"
    }
   ],
   "source": [
    "from sympy import symbols\n",
    "# Equation 12 of Delisle 2017 \n",
    "\n",
    "A = np.zeros((pham.N_dof,pham.N_dof),dtype = int)\n",
    "\n",
    "A[0,:4] = [1,-2, 1, 0]\n",
    "A[1,:4] = [0, 1,-3, 2]\n",
    "A[2,:4] = [0, 0, 1,-1]\n",
    "A[3:,:4] = [0, 0,-3, 4]\n",
    "A[4:8,4:8]  = np.eye(4)\n",
    "A[8:12,8:12]  = np.eye(4)\n",
    "A"
   ]
  },
  {
   "cell_type": "markdown",
   "id": "46984961",
   "metadata": {},
   "source": [
    "### Construct `CanonicalTransformation` object\n",
    "\n",
    "We'll use the`CanonicalTransformation` class method `from_poincare_angles_matrix` to derive an object representing the canonical transformation to the resonant action/angle variables described above."
   ]
  },
  {
   "cell_type": "code",
   "execution_count": 17,
   "id": "7afc93cc",
   "metadata": {},
   "outputs": [],
   "source": [
    "from celmech.canonical_transformations import CanonicalTransformation\n",
    "\n",
    "# angle variables\n",
    "phi = symbols(\"phi(1:5)\")\n",
    "s = symbols(\"s(1:5)\")\n",
    "psi = symbols(\"psi(1:5)\")\n",
    "\n",
    "# action-like variables\n",
    "Phi = symbols(\"Phi(1:5)\")\n",
    "D = symbols(\"D(1:5)\")\n",
    "Psi = symbols(\"Psi(1:5)\")\n",
    "\n",
    "new_qs = list(phi)+list(s)+list(psi)\n",
    "new_ps = list(Phi)+list(D)+list(Psi)\n",
    "new_qp_pairs = list(zip(new_qs,new_ps))\n",
    "\n",
    "ct = CanonicalTransformation.from_poincare_angles_matrix(pvars,A,new_qp_pairs= new_qp_pairs)"
   ]
  },
  {
   "cell_type": "markdown",
   "id": "a1e16f9f",
   "metadata": {},
   "source": [
    "### Transform the Hamiltonian\n",
    "\n",
    "Applying the `CanonicalTransformation` to our old Hamiltonian, `pham`, will give a new Hamiltonian object\n",
    "representing the Hamiltonian\n",
    "$$\n",
    "K(\\phi_i,s_i;\\Phi_i,D_i) = (H \\circ T^{-1})(\\phi_i,s_i;\\Phi_i,D_i)\n",
    "$$\n",
    "where $T : (\\lambda_i,\\gamma_i,\\Lambda_i,\\Gamma_i) \\mapsto (\\phi_i,s_i,\\Phi_i,D_i)$ is the canonical transformation from old to new canonical varaibles and $H$ is the Hamiltonian in terms of the old variables."
   ]
  },
  {
   "cell_type": "code",
   "execution_count": 18,
   "id": "d5317689",
   "metadata": {},
   "outputs": [
    {
     "data": {
      "text/latex": [
       "$\\displaystyle - \\frac{\\sqrt{2} C_{(2,-1,-1,0,0,0)}^{(0,0,0,0),(0,0)}(\\alpha_{1,3}) \\sqrt{D_{1}} G m_{1} m_{3} \\cos{\\left(\\phi_{1} + 2 \\phi_{2} - s_{1} \\right)}}{\\sqrt{\\Lambda_{1,0}} a_{3,0}} - \\frac{\\sqrt{2} C_{(2,-1,-1,0,0,0)}^{(0,0,0,0),(0,0)}(\\alpha_{2,4}) \\sqrt{D_{2}} G m_{2} m_{4} \\cos{\\left(\\phi_{2} - s_{2} \\right)}}{\\sqrt{\\Lambda_{2,0}} a_{4,0}} - \\frac{\\sqrt{2} C_{(2,-1,0,-1,0,0)}^{(0,0,0,0),(0,0)}(\\alpha_{1,3}) \\sqrt{D_{3}} G m_{1} m_{3} \\cos{\\left(\\phi_{1} + 2 \\phi_{2} - s_{3} \\right)}}{\\sqrt{\\Lambda_{3,0}} a_{3,0}} - \\frac{\\sqrt{2} C_{(2,-1,0,-1,0,0)}^{(0,0,0,0),(0,0)}(\\alpha_{2,4}) \\sqrt{D_{4}} G m_{2} m_{4} \\cos{\\left(\\phi_{2} - s_{4} \\right)}}{\\sqrt{\\Lambda_{4,0}} a_{4,0}} - \\frac{\\sqrt{2} C_{(3,-2,-1,0,0,0)}^{(0,0,0,0),(0,0)}(\\alpha_{2,3}) \\sqrt{D_{2}} G m_{2} m_{3} \\cos{\\left(2 \\phi_{2} - s_{2} \\right)}}{\\sqrt{\\Lambda_{2,0}} a_{3,0}} - \\frac{\\sqrt{2} C_{(3,-2,0,-1,0,0)}^{(0,0,0,0),(0,0)}(\\alpha_{2,3}) \\sqrt{D_{3}} G m_{2} m_{3} \\cos{\\left(2 \\phi_{2} - s_{3} \\right)}}{\\sqrt{\\Lambda_{3,0}} a_{3,0}} - \\frac{\\sqrt{2} C_{(4,-3,-1,0,0,0)}^{(0,0,0,0),(0,0)}(\\alpha_{1,2}) \\sqrt{D_{1}} G m_{1} m_{2} \\cos{\\left(3 \\phi_{1} + 2 \\phi_{2} - s_{1} \\right)}}{\\sqrt{\\Lambda_{1,0}} a_{2,0}} - \\frac{\\sqrt{2} C_{(4,-3,-1,0,0,0)}^{(0,0,0,0),(0,0)}(\\alpha_{3,4}) \\sqrt{D_{3}} G m_{3} m_{4} \\cos{\\left(s_{3} \\right)}}{\\sqrt{\\Lambda_{3,0}} a_{4,0}} - \\frac{\\sqrt{2} C_{(4,-3,0,-1,0,0)}^{(0,0,0,0),(0,0)}(\\alpha_{1,2}) \\sqrt{D_{2}} G m_{1} m_{2} \\cos{\\left(3 \\phi_{1} + 2 \\phi_{2} - s_{2} \\right)}}{\\sqrt{\\Lambda_{2,0}} a_{2,0}} - \\frac{\\sqrt{2} C_{(4,-3,0,-1,0,0)}^{(0,0,0,0),(0,0)}(\\alpha_{3,4}) \\sqrt{D_{4}} G m_{3} m_{4} \\cos{\\left(s_{4} \\right)}}{\\sqrt{\\Lambda_{4,0}} a_{4,0}} - \\frac{G^{2} M_{1}^{2} \\mu_{1}^{3}}{2 \\Phi_{1}^{2}} - \\frac{G^{2} M_{2}^{2} \\mu_{2}^{3}}{2 \\left(- 2 \\Phi_{1} + \\Phi_{2}\\right)^{2}} - \\frac{G^{2} M_{3}^{2} \\mu_{3}^{3}}{2 \\left(- 3 D_{1} - 3 D_{2} - 3 D_{3} - 3 D_{4} + \\Phi_{1} - 3 \\Phi_{2} + \\Phi_{3} - 3 \\Phi_{4} - 3 \\Psi_{1} - 3 \\Psi_{2} - 3 \\Psi_{3} - 3 \\Psi_{4}\\right)^{2}} - \\frac{G^{2} M_{4}^{2} \\mu_{4}^{3}}{2 \\left(4 D_{1} + 4 D_{2} + 4 D_{3} + 4 D_{4} + 2 \\Phi_{2} - \\Phi_{3} + 4 \\Phi_{4} + 4 \\Psi_{1} + 4 \\Psi_{2} + 4 \\Psi_{3} + 4 \\Psi_{4}\\right)^{2}}$"
      ],
      "text/plain": [
       "                                                            ____                                                                                         ___\n",
       "  √2⋅C_{(2,-1,-1,0,0,0)}_{1,3})__{(0,0,0,0),(0,0)}(\\alpha⋅╲╱ D₁ ⋅G⋅m₁⋅m₃⋅cos(φ₁ + 2⋅φ₂ - s₁)   √2⋅C_{(2,-1,-1,0,0,0)}_{2,4})__{(0,0,0,0),(0,0)}(\\alpha⋅╲╱ D₂\n",
       "- ────────────────────────────────────────────────────────────────────────────────────────── - ─────────────────────────────────────────────────────────────\n",
       "                                    _______________                                                                           _______________               \n",
       "                                  ╲╱ \\Lambda_{1,0} ⋅a_{3,0}                                                                 ╲╱ \\Lambda_{2,0} ⋅a_{4,0}       \n",
       "\n",
       "_                                                                                  ____                                                                     \n",
       " ⋅G⋅m₂⋅m₄⋅cos(φ₂ - s₂)   √2⋅C_{(2,-1,0,-1,0,0)}_{1,3})__{(0,0,0,0),(0,0)}(\\alpha⋅╲╱ D₃ ⋅G⋅m₁⋅m₃⋅cos(φ₁ + 2⋅φ₂ - s₃)   √2⋅C_{(2,-1,0,-1,0,0)}_{2,4})__{(0,0,0\n",
       "────────────────────── - ────────────────────────────────────────────────────────────────────────────────────────── - ──────────────────────────────────────\n",
       "                                                           _______________                                                                           _______\n",
       "                                                         ╲╱ \\Lambda_{3,0} ⋅a_{3,0}                                                                 ╲╱ \\Lambd\n",
       "\n",
       "                    ____                                                                                  ____                                              \n",
       ",0),(0,0)}(\\alpha⋅╲╱ D₄ ⋅G⋅m₂⋅m₄⋅cos(φ₂ - s₄)   √2⋅C_{(3,-2,-1,0,0,0)}_{2,3})__{(0,0,0,0),(0,0)}(\\alpha⋅╲╱ D₂ ⋅G⋅m₂⋅m₃⋅cos(2⋅φ₂ - s₂)   √2⋅C_{(3,-2,0,-1,0,0\n",
       "───────────────────────────────────────────── - ───────────────────────────────────────────────────────────────────────────────────── - ────────────────────\n",
       "________                                                                        _______________                                                             \n",
       "a_{4,0} ⋅a_{4,0}                                                              ╲╱ \\Lambda_{2,0} ⋅a_{3,0}                                                     \n",
       "\n",
       "                                      ____                                                                                    ____                          \n",
       ")}_{2,3})__{(0,0,0,0),(0,0)}(\\alpha⋅╲╱ D₃ ⋅G⋅m₂⋅m₃⋅cos(2⋅φ₂ - s₃)   √2⋅C_{(4,-3,-1,0,0,0)}_{1,2})__{(0,0,0,0),(0,0)}(\\alpha⋅╲╱ D₁ ⋅G⋅m₁⋅m₂⋅cos(3⋅φ₁ + 2⋅φ₂ -\n",
       "───────────────────────────────────────────────────────────────── - ────────────────────────────────────────────────────────────────────────────────────────\n",
       "            _______________                                                                            _______________                                      \n",
       "          ╲╱ \\Lambda_{3,0} ⋅a_{3,0}                                                                  ╲╱ \\Lambda_{1,0} ⋅a_{2,0}                              \n",
       "\n",
       "                                                                 ____                                                                             ____      \n",
       " s₁)   √2⋅C_{(4,-3,-1,0,0,0)}_{3,4})__{(0,0,0,0),(0,0)}(\\alpha⋅╲╱ D₃ ⋅G⋅m₃⋅m₄⋅cos(s₃)   √2⋅C_{(4,-3,0,-1,0,0)}_{1,2})__{(0,0,0,0),(0,0)}(\\alpha⋅╲╱ D₂ ⋅G⋅m₁⋅\n",
       "──── - ────────────────────────────────────────────────────────────────────────────── - ────────────────────────────────────────────────────────────────────\n",
       "                                   _______________                                                                         _______________                  \n",
       "                                 ╲╱ \\Lambda_{3,0} ⋅a_{4,0}                                                               ╲╱ \\Lambda_{2,0} ⋅a_{2,0}          \n",
       "\n",
       "                                                                                     ____                    2   2   3       2   2   3                      \n",
       "m₂⋅cos(3⋅φ₁ + 2⋅φ₂ - s₂)   √2⋅C_{(4,-3,0,-1,0,0)}_{3,4})__{(0,0,0,0),(0,0)}(\\alpha⋅╲╱ D₄ ⋅G⋅m₃⋅m₄⋅cos(s₄)   G ⋅M₁ ⋅μ₁       G ⋅M₂ ⋅μ₂                       \n",
       "──────────────────────── - ────────────────────────────────────────────────────────────────────────────── - ────────── - ─────────────── - ─────────────────\n",
       "                                                       _______________                                            2                    2                    \n",
       "                                                     ╲╱ \\Lambda_{4,0} ⋅a_{4,0}                                2⋅Φ₁       2⋅(-2⋅Φ₁ + Φ₂)    2⋅(-3⋅D₁ - 3⋅D₂ -\n",
       "\n",
       "                     2   2   3                                                                          2   2   3                                 \n",
       "                    G ⋅M₃ ⋅μ₃                                                                          G ⋅M₄ ⋅μ₄                                  \n",
       "────────────────────────────────────────────────────────────────── - ─────────────────────────────────────────────────────────────────────────────\n",
       "                                                                 2                                                                               2\n",
       " 3⋅D₃ - 3⋅D₄ + Φ₁ - 3⋅Φ₂ + Φ₃ - 3⋅Φ₄ - 3⋅Ψ₁ - 3⋅Ψ₂ - 3⋅Ψ₃ - 3⋅Ψ₄)    2⋅(4⋅D₁ + 4⋅D₂ + 4⋅D₃ + 4⋅D₄ + 2⋅Φ₂ - Φ₃ + 4⋅Φ₄ + 4⋅Ψ₁ + 4⋅Ψ₂ + 4⋅Ψ₃ + 4⋅Ψ₄) "
      ]
     },
     "execution_count": 18,
     "metadata": {},
     "output_type": "execute_result"
    }
   ],
   "source": [
    "kam = ct.old_to_new_hamiltonian(pham,do_reduction=True)\n",
    "kam.H"
   ]
  },
  {
   "cell_type": "markdown",
   "id": "add43ac1",
   "metadata": {},
   "source": [
    "# Examine new conserved quantites\n",
    "\n",
    "By setting the keyword argument `do_reduction=True` when performing the canonical transformation, `celmech` has automatically reduced the number of degrees of freedom. It does this by identifying which of the new canonical angle variables do not appear in the Hamilton.[^1] \n",
    "\n",
    "Six of the 12 new canonical angle variables do not appear in the transformed Hamiltonian, so the number of degrees of freedom has been reduced from 6 to 12:\n",
    "\n",
    "[^1]: `celmech` will also check if there are canonical momentum variables that do not appear in a given Hamiltonian and promote their conjugate angle variables to conserved quantities if there are any."
   ]
  },
  {
   "cell_type": "code",
   "execution_count": 20,
   "id": "edd5cefc",
   "metadata": {},
   "outputs": [
    {
     "data": {
      "text/latex": [
       "$\\displaystyle \\left( 12, \\  6\\right)$"
      ],
      "text/plain": [
       "(12, 6)"
      ]
     },
     "execution_count": 20,
     "metadata": {},
     "output_type": "execute_result"
    }
   ],
   "source": [
    "(pham.N_dof,kam.N_dof)"
   ]
  },
  {
   "cell_type": "markdown",
   "id": "c6dabe1a",
   "metadata": {},
   "source": [
    "The canonical momenta conjugate to these cyclic angle variables are conserved and now do not appear as dynamical variables for our Hamiltonian object `kam`.\n",
    "We can still access the full set of canonical variables using the `full_qpvars` attribute"
   ]
  },
  {
   "cell_type": "code",
   "execution_count": 23,
   "id": "e569c0f4",
   "metadata": {},
   "outputs": [
    {
     "data": {
      "text/latex": [
       "$\\displaystyle \\left[ \\phi_{1}, \\  \\phi_{2}, \\  s_{1}, \\  s_{2}, \\  s_{3}, \\  s_{4}, \\  \\Phi_{1}, \\  \\Phi_{2}, \\  D_{1}, \\  D_{2}, \\  D_{3}, \\  D_{4}\\right]$"
      ],
      "text/plain": [
       "[φ₁, φ₂, s₁, s₂, s₃, s₄, Φ₁, Φ₂, D₁, D₂, D₃, D₄]"
      ]
     },
     "metadata": {},
     "output_type": "display_data"
    }
   ],
   "source": [
    "display(kam.qp_vars)"
   ]
  },
  {
   "cell_type": "code",
   "execution_count": 25,
   "id": "72b928ac",
   "metadata": {},
   "outputs": [
    {
     "data": {
      "text/latex": [
       "$\\displaystyle \\left[ \\phi_{1}, \\  \\phi_{2}, \\  \\phi_{3}, \\  \\phi_{4}, \\  s_{1}, \\  s_{2}, \\  s_{3}, \\  s_{4}, \\  \\psi_{1}, \\  \\psi_{2}, \\  \\psi_{3}, \\  \\psi_{4}, \\  \\Phi_{1}, \\  \\Phi_{2}, \\  \\Phi_{3}, \\  \\Phi_{4}, \\  D_{1}, \\  D_{2}, \\  D_{3}, \\  D_{4}, \\  \\Psi_{1}, \\  \\Psi_{2}, \\  \\Psi_{3}, \\  \\Psi_{4}\\right]$"
      ],
      "text/plain": [
       "[φ₁, φ₂, φ₃, φ₄, s₁, s₂, s₃, s₄, ψ₁, ψ₂, ψ₃, ψ₄, Φ₁, Φ₂, Φ₃, Φ₄, D₁, D₂, D₃, D₄, Ψ₁, Ψ₂, Ψ₃, Ψ₄]"
      ]
     },
     "metadata": {},
     "output_type": "display_data"
    }
   ],
   "source": [
    "display(kam.full_qp_vars)"
   ]
  },
  {
   "cell_type": "markdown",
   "id": "9b241555",
   "metadata": {},
   "source": [
    "The momenta conjugate to the cyclic angle variables are conserved. We now examine what the conserved quantities are:"
   ]
  },
  {
   "cell_type": "code",
   "execution_count": 28,
   "id": "acfe45e5",
   "metadata": {},
   "outputs": [],
   "source": [
    "conserved_quantities = [v for v in kam.full_qp_vars[kam.full_N_dof:] if v not in kam.qp_vars]"
   ]
  },
  {
   "cell_type": "markdown",
   "id": "0f8114e5",
   "metadata": {},
   "source": [
    "The conserved quantity $\\Phi_4$ is equal to the total angular momentum:"
   ]
  },
  {
   "cell_type": "code",
   "execution_count": 29,
   "id": "80a926cc",
   "metadata": {},
   "outputs": [
    {
     "data": {
      "text/latex": [
       "$\\displaystyle \\Phi_{4}$"
      ],
      "text/plain": [
       "Φ₄"
      ]
     },
     "metadata": {},
     "output_type": "display_data"
    },
    {
     "data": {
      "text/latex": [
       "$\\displaystyle \\Lambda_{1} + \\Lambda_{2} + \\Lambda_{3} + \\Lambda_{4} - \\frac{\\eta_{1}^{2}}{2} - \\frac{\\eta_{2}^{2}}{2} - \\frac{\\eta_{3}^{2}}{2} - \\frac{\\eta_{4}^{2}}{2} - \\frac{\\kappa_{1}^{2}}{2} - \\frac{\\kappa_{2}^{2}}{2} - \\frac{\\kappa_{3}^{2}}{2} - \\frac{\\kappa_{4}^{2}}{2} - \\frac{\\rho_{1}^{2}}{2} - \\frac{\\rho_{2}^{2}}{2} - \\frac{\\rho_{3}^{2}}{2} - \\frac{\\rho_{4}^{2}}{2} - \\frac{\\sigma_{1}^{2}}{2} - \\frac{\\sigma_{2}^{2}}{2} - \\frac{\\sigma_{3}^{2}}{2} - \\frac{\\sigma_{4}^{2}}{2}$"
      ],
      "text/plain": [
       "                      2     2     2     2     2     2     2     2     2     2     2     2     2     2     2     2\n",
       "                    η₁    η₂    η₃    η₄    κ₁    κ₂    κ₃    κ₄    ρ₁    ρ₂    ρ₃    ρ₄    σ₁    σ₂    σ₃    σ₄ \n",
       "Λ₁ + Λ₂ + Λ₃ + Λ₄ - ─── - ─── - ─── - ─── - ─── - ─── - ─── - ─── - ─── - ─── - ─── - ─── - ─── - ─── - ─── - ───\n",
       "                     2     2     2     2     2     2     2     2     2     2     2     2     2     2     2     2 "
      ]
     },
     "execution_count": 29,
     "metadata": {},
     "output_type": "execute_result"
    }
   ],
   "source": [
    "display(conserved_quantities[1])\n",
    "ct.new_to_old(conserved_quantities[1])"
   ]
  },
  {
   "cell_type": "markdown",
   "id": "a3d0afa2",
   "metadata": {},
   "source": [
    "The conserved quantity $\\Phi_3$ is a consequence of system's resonant configuration:"
   ]
  },
  {
   "cell_type": "code",
   "execution_count": 30,
   "id": "e2077dde",
   "metadata": {},
   "outputs": [
    {
     "data": {
      "text/latex": [
       "$\\displaystyle \\Phi_{3}$"
      ],
      "text/plain": [
       "Φ₃"
      ]
     },
     "metadata": {},
     "output_type": "display_data"
    },
    {
     "data": {
      "text/latex": [
       "$\\displaystyle 8 \\Lambda_{1} + 6 \\Lambda_{2} + 4 \\Lambda_{3} + 3 \\Lambda_{4}$"
      ],
      "text/plain": [
       "8⋅Λ₁ + 6⋅Λ₂ + 4⋅Λ₃ + 3⋅Λ₄"
      ]
     },
     "execution_count": 30,
     "metadata": {},
     "output_type": "execute_result"
    }
   ],
   "source": [
    "display(conserved_quantities[0])\n",
    "ct.new_to_old(conserved_quantities[0])"
   ]
  },
  {
   "cell_type": "markdown",
   "id": "73a148b7",
   "metadata": {},
   "source": [
    "The other conserved quantites are simply the actions associated with the planets' inclinations."
   ]
  },
  {
   "cell_type": "code",
   "execution_count": 33,
   "id": "a72a91d4",
   "metadata": {},
   "outputs": [
    {
     "data": {
      "text/latex": [
       "$\\displaystyle \\left( \\Psi_{1}, \\  \\frac{\\rho_{1}^{2}}{2} + \\frac{\\sigma_{1}^{2}}{2}\\right)$"
      ],
      "text/plain": [
       "⎛      2     2⎞\n",
       "⎜    ρ₁    σ₁ ⎟\n",
       "⎜Ψ₁, ─── + ───⎟\n",
       "⎝     2     2 ⎠"
      ]
     },
     "metadata": {},
     "output_type": "display_data"
    },
    {
     "data": {
      "text/latex": [
       "$\\displaystyle \\left( \\Psi_{2}, \\  \\frac{\\rho_{2}^{2}}{2} + \\frac{\\sigma_{2}^{2}}{2}\\right)$"
      ],
      "text/plain": [
       "⎛      2     2⎞\n",
       "⎜    ρ₂    σ₂ ⎟\n",
       "⎜Ψ₂, ─── + ───⎟\n",
       "⎝     2     2 ⎠"
      ]
     },
     "metadata": {},
     "output_type": "display_data"
    },
    {
     "data": {
      "text/latex": [
       "$\\displaystyle \\left( \\Psi_{3}, \\  \\frac{\\rho_{3}^{2}}{2} + \\frac{\\sigma_{3}^{2}}{2}\\right)$"
      ],
      "text/plain": [
       "⎛      2     2⎞\n",
       "⎜    ρ₃    σ₃ ⎟\n",
       "⎜Ψ₃, ─── + ───⎟\n",
       "⎝     2     2 ⎠"
      ]
     },
     "metadata": {},
     "output_type": "display_data"
    },
    {
     "data": {
      "text/latex": [
       "$\\displaystyle \\left( \\Psi_{4}, \\  \\frac{\\rho_{4}^{2}}{2} + \\frac{\\sigma_{4}^{2}}{2}\\right)$"
      ],
      "text/plain": [
       "⎛      2     2⎞\n",
       "⎜    ρ₄    σ₄ ⎟\n",
       "⎜Ψ₄, ─── + ───⎟\n",
       "⎝     2     2 ⎠"
      ]
     },
     "metadata": {},
     "output_type": "display_data"
    }
   ],
   "source": [
    "for P in conserved_quantities[2:]:\n",
    "    display((P,ct.new_to_old(P)))"
   ]
  },
  {
   "cell_type": "markdown",
   "id": "9aec9f2d",
   "metadata": {},
   "source": [
    "### New momentum variables in terms of old variables:"
   ]
  },
  {
   "cell_type": "markdown",
   "id": "ca25c869",
   "metadata": {},
   "source": [
    "The first two $\\Phi_i$ are related to the $\\Lambda_i$ variables"
   ]
  },
  {
   "cell_type": "code",
   "execution_count": null,
   "id": "953dd662",
   "metadata": {},
   "outputs": [],
   "source": [
    "for P in Phi[:2]:\n",
    "    print(\"{} = {}\".format(P,ct.new_to_old(P)))"
   ]
  },
  {
   "cell_type": "markdown",
   "id": "f90d4668",
   "metadata": {},
   "source": [
    "The $D_i$ variables are equal to the old $\\Gamma_i = (\\eta_i^2 + \\kappa_i^2)/2$ Poincare variables."
   ]
  },
  {
   "cell_type": "code",
   "execution_count": null,
   "id": "222569b4",
   "metadata": {},
   "outputs": [],
   "source": [
    "for P in D[:]:\n",
    "    print(\"{} = {}\".format(P,ct.new_to_old(P)))"
   ]
  },
  {
   "cell_type": "markdown",
   "id": "15481236",
   "metadata": {},
   "source": [
    "# Applying some additional convenient canonical transformations\n",
    "We've arrived at an analytic model for our resonant chain with a minimum number of degrees of freedom.\n",
    "We could go ahead and search for equilibrium configurations of our current model, but before doing so\n",
    "we'll apply a few additional transformations to make our search more covenient."
   ]
  },
  {
   "cell_type": "markdown",
   "id": "c5af471a",
   "metadata": {},
   "source": [
    "## Re-scaling\n",
    "We'll rescale all the canonical momenta and the Hamiltonian by a factor of $1/\\Lambda_{1,0}$.\n",
    "This isn't strictly neccessary but it does make results more readable:"
   ]
  },
  {
   "cell_type": "code",
   "execution_count": null,
   "id": "02a03699",
   "metadata": {},
   "outputs": [],
   "source": [
    "L0s = pham.Lambda0s\n",
    "full_qs = kam.full_qpvars[:kam.full_Ndof]\n",
    "full_ps = kam.full_qpvars[kam.full_Ndof:]\n",
    "full_qp_pairs = list(zip(full_qs,full_ps))\n",
    "ct_rescale = CanonicalTransformation.RescaleTransformation(\n",
    "    full_qp_pairs,\n",
    "    1/L0s[1],\n",
    "    params = {L0s[1]:pham.Hparams[L0s[1]]}\n",
    ")\n"
   ]
  },
  {
   "cell_type": "code",
   "execution_count": null,
   "id": "902dc75c",
   "metadata": {},
   "outputs": [],
   "source": [
    "kam_rescaled = ct_rescale.old_to_new_hamiltonian(kam)"
   ]
  },
  {
   "cell_type": "markdown",
   "id": "db4ff0cc",
   "metadata": {},
   "source": [
    "We see that, after rescaling, the terms associated with resonant planet-planet interactions are $\\mathcal{O}(m_p/M_*)\\sim 10^{-5}$ while the Keplerian terms are $\\mathcal{O}(1)$"
   ]
  },
  {
   "cell_type": "code",
   "execution_count": null,
   "id": "18a0e13e",
   "metadata": {},
   "outputs": [],
   "source": [
    "kam_rescaled.NH"
   ]
  },
  {
   "cell_type": "markdown",
   "id": "7c2e996c",
   "metadata": {},
   "source": [
    "## Translating from $\\Phi_{i}$ to $\\delta\\Phi_i = \\Phi_{i} - \\Phi_{i,0}$\n",
    "The $\\Phi_i$ variables contain different linear combinations of the $\\Lambda_{i}/\\Lambda_{1,0}$:"
   ]
  },
  {
   "cell_type": "code",
   "execution_count": null,
   "id": "a46de921",
   "metadata": {},
   "outputs": [],
   "source": [
    "ct_combined = CanonicalTransformation.Composite([ct,ct_rescale])\n",
    "for P in Phi:\n",
    "    print(\"{} = {}\".format(P,ct_combined.new_to_old(P)))"
   ]
  },
  {
   "cell_type": "markdown",
   "id": "6266f8aa",
   "metadata": {},
   "source": [
    "We're interested in studying the system near its multi-resonant configurations. so we'll transform from the canonical momenta $\\Phi_i$ to new momenta,$\\delta\\Phi_i = \\Phi_i - \\Phi_{i,0}$ where the values of $\\Phi_{i,0}$ represent the values of $\\Phi_i$ at exact resonance.\n",
    "To determine the values $\\Lambda_{i}$ at exact resonance, note that $\\Lambda_i = \\mu_in_i^2a_i$. Therefore \n",
    "$$\n",
    "\\Lambda_{i,0}/\\Lambda_{1,0} = \\frac{\\mu_i}{\\mu_1}\\left(\\frac{P_{i}}{P_1}\\right)^{1/3}\n",
    "$$\n",
    "\n"
   ]
  },
  {
   "cell_type": "markdown",
   "id": "c08b9762",
   "metadata": {},
   "source": [
    "We'll set up a list, `Lambda0Ratios`, to hold the values of $\\Lambda_{i,0}/\\Lambda_{1,0}$ at exact resonance:"
   ]
  },
  {
   "cell_type": "code",
   "execution_count": null,
   "id": "1f9fee68",
   "metadata": {},
   "outputs": [],
   "source": [
    "from sympy import S\n",
    "period_ratios =[3,4,6,8]\n",
    "Lambda0Ratios = [(p/S(3))**(1/S(3)) * S(\"mu{}\".format(i+1))/S(\"mu1\") for i,p in enumerate(period_ratios)]\n",
    "Lambda0Ratios"
   ]
  },
  {
   "cell_type": "markdown",
   "id": "9808572d",
   "metadata": {},
   "source": [
    "Now we'll use these values to set up rules for transforming from $\\Phi_i$ to $\\delta\\Phi_i$:"
   ]
  },
  {
   "cell_type": "code",
   "execution_count": null,
   "id": "52be11aa",
   "metadata": {},
   "outputs": [],
   "source": [
    "# Variable  symbols\n",
    "from sympy import symbols\n",
    "Lambdas = symbols(\"Lambda(1:5)\") \n",
    "dPhi = symbols(\",\".join([r\"\\delta\\Phi_{{{}}}\".format(i) for i in range(1,5)]))\n",
    "# Transformation rules \n",
    "new2old,old2new = dict(),dict()\n",
    "Lambda2Lambda0Ratios = dict(zip(Lambdas,Lambda0Ratios))\n",
    "ecc_inc_2_zero = dict(zip(symbols(\"eta(1:5),kappa(1:5),rho(1:5),sigma(1:5)\"),np.zeros(4*4)))\n",
    "for P,dP in zip(Phi,dPhi):\n",
    "    P0 = ct.new_to_old(P).subs(Lambda2Lambda0Ratios).subs(ecc_inc_2_zero)\n",
    "    new2old[dP] = P-P0\n",
    "    old2new[P] = P0 + dP\n",
    "new2old"
   ]
  },
  {
   "cell_type": "markdown",
   "id": "5c0d218e",
   "metadata": {},
   "source": [
    "Using these rules, we create a canonical transformation object to gofrom our `oldvars` to our `newvars`"
   ]
  },
  {
   "cell_type": "code",
   "execution_count": null,
   "id": "3a552656",
   "metadata": {},
   "outputs": [],
   "source": [
    "oldvars = kam_rescaled.full_qpvars\n",
    "newvars = [var.subs(dict(zip(Phi,dPhi))) for var in kam_rescaled.full_qpvars]\n",
    "# The planets' mu's appear as parameters in our transformation\n",
    "#  We specify a parameter dictionary to supply numerical values\n",
    "#  for these parameters.\n",
    "pars = {mu:kam_rescaled.Hparams[mu] for mu in symbols(\"mu(1:5)\")}\n",
    "ct_translate = CanonicalTransformation(oldvars,newvars,old2new,new2old,params=pars)"
   ]
  },
  {
   "cell_type": "code",
   "execution_count": null,
   "id": "f85780d7",
   "metadata": {},
   "outputs": [],
   "source": [
    "kam_rescaled_translated = ct_translate.old_to_new_hamiltonian(kam_rescaled)"
   ]
  },
  {
   "cell_type": "code",
   "execution_count": null,
   "id": "02042b3b",
   "metadata": {
    "scrolled": false
   },
   "outputs": [],
   "source": [
    "kam_rescaled_translated.H"
   ]
  },
  {
   "cell_type": "markdown",
   "id": "10e9e8b1",
   "metadata": {},
   "source": [
    "## Transform from polar eccentricity variables, $(s_i,D_i)$,  to cartesian variables $(x_i,y_i) =\\sqrt{2D_i}\\times (\\cos s_i, \\sin s_i)$\n",
    "\n",
    "Transforming from polar to cartesian variables avoids coordinate singularities at zero eccentricity.\n",
    "The `CanonicalTransformation.PolarToCartesian` class method provides a convenient way to construct this transformation."
   ]
  },
  {
   "cell_type": "code",
   "execution_count": null,
   "id": "c6270ff4",
   "metadata": {},
   "outputs": [],
   "source": [
    "oldvars = kam_rescaled_translated.full_qpvars\n",
    "to_cart_indices = [oldvars.index(s) for s in symbols(\"s(1:5)\")]\n",
    "ct_polar2cart = CanonicalTransformation.PolarToCartesian(oldvars,to_cart_indices)"
   ]
  },
  {
   "cell_type": "code",
   "execution_count": null,
   "id": "83ef137a",
   "metadata": {},
   "outputs": [],
   "source": [
    "# A rescaled, translated, cartesian (rtc) version of our Hamiltonian\n",
    "kam_rtc = ct_polar2cart.old_to_new_hamiltonian(kam_rescaled_translated)"
   ]
  },
  {
   "cell_type": "code",
   "execution_count": null,
   "id": "4ed96794",
   "metadata": {},
   "outputs": [],
   "source": [
    "kam_rtc.H"
   ]
  },
  {
   "cell_type": "markdown",
   "id": "c634fb37",
   "metadata": {},
   "source": [
    "# Solve for equilibrium configurations\n",
    "Now, we'll search for equilibrium solutions to the equations of motion.\n",
    "\n",
    "In gerenral these equilibria depend on the various conserved quantites. Since we're only interested in planar configurations, we can set the $\\Psi_i=0$. We therefore nominally have two quantities, $\\delta \\Phi_3$ and $\\delta \\Phi_4$. However, *(blah blah blah)*. Therefore, without loss of generality, we can set $\\delta \\Phi_3=0$ and search for equilibria as a function of $\\delta \\Phi_4$.\n",
    "In fact, we'll search for equailirbia as function of the variable $\\mathcal{D} = -\\delta \\Phi_4$, which is essentially the AMD of the system (see [Haddden & Payne 2020](https://ui.adsabs.harvard.edu/abs/2020AJ....160..106H/abstract))"
   ]
  },
  {
   "cell_type": "code",
   "execution_count": null,
   "id": "cb564e7c",
   "metadata": {},
   "outputs": [],
   "source": [
    "amd = symbols(r\"\\mathcal{D}\")\n",
    "amd_rule = {Phi[2]:0,dPhi[3]: -1*amd}\n",
    "pars = kam_rtc.Hparams\n",
    "\n",
    "\n",
    "# The Hamiltonian flow and its Jacobian wrt the canonical variables\n",
    "Nflow = kam_rtc.flow.subs(amd_rule).evalf().subs(pars)\n",
    "Njac = kam_rtc.jac.subs(amd_rule).evalf().subs(pars)\n",
    "# \n",
    "from sympy import lambdify\n",
    "dyvars = kam_rtc.qpvars + [amd]\n",
    "flow_func = lambdify(dyvars,Nflow)\n",
    "Dflow_func = lambdify(dyvars,Njac)"
   ]
  },
  {
   "cell_type": "code",
   "execution_count": null,
   "id": "d3f88f90",
   "metadata": {},
   "outputs": [],
   "source": [
    "from scipy.linalg import solve as lin_solve\n",
    "import warnings\n",
    "\n",
    "\n",
    "fun = lambda x,D: flow_func(*x,D).reshape(-1)\n",
    "Dfun = lambda x,D: Dflow_func(*x,D) \n",
    "\n",
    "\n",
    "def newton_solve(guess,amd0,max_iter=100,rtol=1e-6,atol=1e-12):\n",
    "    y = guess.copy()\n",
    "    for itr in range(max_iter):\n",
    "        f = fun(y,amd0)\n",
    "        Df = Dfun(y,amd0)\n",
    "        dy = -1 * lin_solve(Df,f)\n",
    "        y+=dy\n",
    "        if np.alltrue( np.abs(dy) < rtol * np.abs(y) + atol ):\n",
    "            break\n",
    "    else:\n",
    "        warnings.warn(\"did not converge\")\n",
    "    return y\n"
   ]
  },
  {
   "cell_type": "markdown",
   "id": "0d36cb35",
   "metadata": {},
   "source": [
    "The root-finding in this high dimensional problem can be a bit finicky: \n",
    " - Trying lots of initial guesses helps find all the elliptic equilibria\n",
    " - Turning off warnings surpresses annoying warnings about a poorly conditioned Jacobian during the Newton's method root-finding"
   ]
  },
  {
   "cell_type": "code",
   "execution_count": null,
   "id": "944b68a3",
   "metadata": {},
   "outputs": [],
   "source": [
    "inital_guesses=[]\n",
    "for phi10 in np.linspace(0,350,23):\n",
    "    for phi20 in [75,180,300]:\n",
    "        guess=np.zeros(12)\n",
    "        guess[:2] = np.array([phi10,phi20]) * np.pi/180\n",
    "        inital_guesses.append(guess)\n",
    "inital_guesses = np.array(inital_guesses)\n",
    "\n",
    "import warnings\n",
    "warnings.filterwarnings(\"ignore\")"
   ]
  },
  {
   "cell_type": "code",
   "execution_count": null,
   "id": "35923dcb",
   "metadata": {
    "scrolled": false
   },
   "outputs": [],
   "source": [
    "\n",
    "\n",
    "amd0 = 0.02**2\n",
    "initial_solns = []\n",
    "phi_eqs = []\n",
    "already_found = False\n",
    "for ig in inital_guesses:\n",
    "    try:\n",
    "        soln = newton_solve(ig,amd0,rtol = 1e-8,atol = 1e-13)\n",
    "    except:\n",
    "        continue\n",
    "    phi1,phi2 = soln[:2]\n",
    "    phi1,phi2=np.mod([phi1,phi2],2*np.pi)\n",
    "    \n",
    "    # Has this combinations of phi1 & phi2 occurred yet?\n",
    "    if len(phi_eqs)>0:\n",
    "        already_found = np.any(np.alltrue(np.isclose(np.array(phi_eqs),np.array((phi1,phi2))),axis=1))\n",
    "    if not already_found:\n",
    "        phi_eqs.append((phi1,phi2))\n",
    "        jac = Dfun(soln,amd0)\n",
    "        eigs = np.linalg.eigvals(jac)\n",
    "        eigs_r = np.real(eigs)\n",
    "        ell = np.alltrue(np.isclose(np.abs(eigs_r),0))\n",
    "        # Save initial conditions for points at \n",
    "        # elliptic equilibria\n",
    "        if ell:\n",
    "            initial_solns.append(soln)\n",
    "        mrker = 'o' if ell else 'x'\n",
    "        plt.scatter(180 * phi1 / np.pi,180 * phi2 / np.pi,s=150,marker=mrker)\n",
    "plt.xlim(-2,362)\n",
    "plt.ylim(-2,362)\n",
    "plt.xticks([0,90,180,270,360])\n",
    "plt.yticks([0,90,180,270,360])\n",
    "plt.tick_params(labelsize=16,size=8,direction='in')\n",
    "plt.xlabel(r\"$\\phi_1$ [deg]\",fontsize=20)\n",
    "plt.ylabel(r\"$\\phi_2$ [deg]\",fontsize=20)"
   ]
  },
  {
   "cell_type": "markdown",
   "id": "f04c1ba4",
   "metadata": {},
   "source": [
    "# Get $N$-body simulations at equilibria"
   ]
  },
  {
   "cell_type": "code",
   "execution_count": null,
   "id": "38f5e2f3",
   "metadata": {},
   "outputs": [],
   "source": [
    "# A canonical transformation representing the composition of all the transformations we've \n",
    "# gone through so far. \n",
    "# Used to go from equlibiria -> poincare variables -> N-body simulations\n",
    "ct_composite = CanonicalTransformation.Composite([ct,ct_rescale,ct_translate,ct_polar2cart])"
   ]
  },
  {
   "cell_type": "code",
   "execution_count": null,
   "id": "cb188458",
   "metadata": {},
   "outputs": [],
   "source": [
    "active_mask = np.array([v in kam_rtc.qpvars for v in kam_rtc.full_qpvars])\n",
    "idPhi4 = kam_rtc.full_qpvars.index(dPhi[3])\n",
    "\n",
    "# Convert a solution to a rebound simulation\n",
    "def to_sim(soln,amdval,sim0):\n",
    "    vals = np.array(kam_rtc.full_values)\n",
    "    vals[active_mask] = soln\n",
    "    vals[idPhi4] = -1*amdval\n",
    "    pvars = Poincare.from_Simulation(sim0)\n",
    "    pvars.values = ct_composite.new_to_old_array(vals)\n",
    "    sim = pvars.to_Simulation()\n",
    "    sim.t = 0\n",
    "    return sim\n",
    "# Run a rebound simulation and get orbital angles and eccentricities\n",
    "def get_angles_and_eccentricities(sim,times):\n",
    "    N = len(times) \n",
    "    ps = sim.particles\n",
    "    Npl = len(ps) - 1\n",
    "    angs = np.zeros((N,3*Npl))\n",
    "    eccs = np.zeros((N,Npl))\n",
    "    for i,t in enumerate(times):\n",
    "        sim.integrate(t)\n",
    "        for j,p in enumerate(ps[1:]):\n",
    "            eccs[i,j] = p.e\n",
    "            angs[i,j] = p.l\n",
    "            angs[i,j+Npl] = -1 * p.pomega\n",
    "            angs[i,j+2*Npl] = -1 * p.Omega\n",
    "    return angs,eccs\n",
    "    "
   ]
  },
  {
   "cell_type": "code",
   "execution_count": null,
   "id": "96befbbf",
   "metadata": {},
   "outputs": [],
   "source": [
    "# Simulation times to get N-body results for\n",
    "times = np.linspace(0,1,256) * 2e3 * sim.particles[1].P\n",
    "\n",
    "# Set up plots\n",
    "fig,ax = plt.subplots(2,6,figsize=(15,5),sharex=True,sharey='row')\n",
    "\n",
    "# Loop over 6 stable equilibria, plot N-body solutions\n",
    "for i,soln in enumerate(initial_solns):\n",
    "    sim = to_sim(soln,amd0,sim)\n",
    "    angs,eccs = get_angles_and_eccentricities(sim,times)\n",
    "    ax[0,i].plot(times,eccs)\n",
    "    res_angs = np.mod(np.array([A @ ang for ang in angs]),2*np.pi)\n",
    "    ax[1,i].plot(times,180*res_angs[:,0]/np.pi)\n",
    "    ax[1,i].plot(times,180*res_angs[:,1]/np.pi)\n",
    "    \n",
    "# make things  prettier\n",
    "ax[0,0].set_ylabel(r\"$e_i$ [deg]\",fontsize = 16)\n",
    "ax[1,0].set_ylabel(r\"$\\phi_i$ [deg]\",fontsize = 16)\n",
    "ax[1,0].set_yticks([0,90,180,270,360])"
   ]
  },
  {
   "cell_type": "markdown",
   "id": "804c374e",
   "metadata": {},
   "source": [
    "# AMD-dependence of Period ratios and eccentricities \n",
    "Here we'll choose one of our families of equilibria and look at how the planets eccentricities and distance to resonance, defined as $\\Delta = \\frac{j-1}{j}\\frac{P_\\mathrm{out}}{P_\\mathrm{in}} - 1$ with $j$ particular to each pair's resonance."
   ]
  },
  {
   "cell_type": "code",
   "execution_count": null,
   "id": "ab324bd1",
   "metadata": {},
   "outputs": [],
   "source": [
    "init_soln = initial_solns[4]\n",
    "phi1eq,phi2eq=np.array(init_soln[:2]) * 180/np.pi\n",
    "print(\"Using equilibrium with phi1={:.1f} deg, phi2={:.1f} deg\".format(phi1eq,phi2eq))\n",
    "# The actual Kepler-223 system resides close to this equilibrium"
   ]
  },
  {
   "cell_type": "code",
   "execution_count": null,
   "id": "61f2ef07",
   "metadata": {},
   "outputs": [],
   "source": [
    "Nsolns = 150\n",
    "amdvals = np.logspace(np.log10(0.05 * amd0),np.log10(25*amd0),Nsolns)\n",
    "guess = init_soln.copy()\n",
    "eq_solns = np.zeros((Nsolns,guess.shape[0]))\n",
    "for i,amdval in enumerate(amdvals):\n",
    "    guess = newton_solve(guess,amdval)\n",
    "    eq_solns[i] = guess\n",
    "    \n",
    "#for amdval in "
   ]
  },
  {
   "cell_type": "code",
   "execution_count": null,
   "id": "3c22b4dd",
   "metadata": {},
   "outputs": [],
   "source": [
    "plstr='bcde'\n",
    "fig,ax = plt.subplots(3,sharex=True,figsize=(5,7))\n",
    "periods,eccs = np.zeros((2,len(eq_solns),4))\n",
    "for i,soln in enumerate(eq_solns):\n",
    "    sim = to_sim(soln,amdvals[i],sim)\n",
    "    ps = sim.particles\n",
    "    periods[i] = [p.P for p in ps[1:]]\n",
    "    eccs[i] = [p.e for p in ps[1:]]\n",
    "Deltas = periods[:,1:]/periods[:,:-1] * np.array([3/4,2/3,3/4])-1\n",
    "for j,D in enumerate(Deltas.T):\n",
    "    ax[j].plot(100*D,eccs[:,j],'k',label=\"$e_{}$\".format(plstr[j]))\n",
    "    ax[j].plot(100*D,eccs[:,j+1],'r',label=\"$e_{}$\".format(plstr[j+1]))\n",
    "    ax[j].legend(fontsize=20)\n",
    "    ax[j].set_ylim(0,0.15)\n",
    "    ax[j].set_ylabel(\"$e$\")\n",
    "ax[2].set_xlabel(r\"$100\\times\\Delta$\",fontsize=20)"
   ]
  },
  {
   "cell_type": "markdown",
   "id": "bcbf2437",
   "metadata": {},
   "source": [
    "# Migration Simulation\n",
    "Maybe do something with this?"
   ]
  },
  {
   "cell_type": "code",
   "execution_count": null,
   "id": "0d1fbb48",
   "metadata": {},
   "outputs": [],
   "source": [
    "import reboundx as rbx"
   ]
  },
  {
   "cell_type": "code",
   "execution_count": null,
   "id": "652ed924",
   "metadata": {},
   "outputs": [],
   "source": [
    "sim = rb.Simulation()\n",
    "# Taken from Table 1 of Mills+ (2016)\n",
    "Mstar = 1.125\n",
    "Mearth = 3e-6\n",
    "\n",
    "periods = [7.38449,9.84564,14.78869,19.72567] # Periods in days\n",
    "masses = [7.4,5.1,8.0,4.8] # Masses in Earth masses\n",
    "\n",
    "\n",
    "sim = rb.Simulation()\n",
    "sim.units  = (\"Msun\",\"days\",\"AU\")\n",
    "sim.add(m=Mstar)\n",
    "factors = np.cumproduct(1 + np.array([0,0.005,0.005,0.01]))\n",
    "for mass,per,f in zip(masses,periods,factors):\n",
    "    sim.add(m = mass*Mearth,P =per * f)\n",
    "sim.move_to_com()\n",
    "extras = rbx.Extras(sim)\n",
    "mod=extras.load_operator(\"modify_orbits_direct\")\n",
    "mod.params['p']=0\n",
    "extras.add_operator(mod)\n",
    "tau_alpha = 1e6 * sim.particles[1].P\n",
    "\n",
    "mtrx=np.array([\n",
    "    [p.m/p.a for p in sim.particles[1:]],\n",
    "    [1,-1,0,0],\n",
    "    [0, 1,-1,0],\n",
    "    [0, 0,1,-1],\n",
    "])\n",
    "tau_inv_vals = np.linalg.inv(mtrx) @np.array([0,1/tau_alpha,1/tau_alpha,1/tau_alpha])\n",
    "for p,tau_i in zip(sim.particles[1:],1/tau_inv_vals):\n",
    "    p.params['tau_a'] = tau_i\n",
    "    p.params['tau_e'] = -1 * np.abs(tau_i)/100\n"
   ]
  },
  {
   "cell_type": "code",
   "execution_count": null,
   "id": "6fc6813a",
   "metadata": {},
   "outputs": [],
   "source": [
    "from celmech.nbody_simulation_utilities import set_timestep, get_simarchive_integration_results"
   ]
  },
  {
   "cell_type": "code",
   "execution_count": null,
   "id": "51cc2643",
   "metadata": {},
   "outputs": [],
   "source": [
    "sim.integrator = 'whfast'\n",
    "set_timestep(sim,1/45.)\n",
    "Tfin = 3e4 * sim.particles[1].P\n",
    "Nout = 256\n",
    "sim.automateSimulationArchive(\"migration.sa\",interval=Tfin/Nout,deletefile=True)"
   ]
  },
  {
   "cell_type": "code",
   "execution_count": null,
   "id": "432bcdb1",
   "metadata": {},
   "outputs": [],
   "source": [
    "sim.integrate(Tfin)"
   ]
  },
  {
   "cell_type": "code",
   "execution_count": null,
   "id": "3974b7b9",
   "metadata": {},
   "outputs": [],
   "source": [
    "results=get_simarchive_integration_results(\"migration.sa\")"
   ]
  },
  {
   "cell_type": "code",
   "execution_count": null,
   "id": "28fd4c03",
   "metadata": {
    "scrolled": false
   },
   "outputs": [],
   "source": [
    "colors = 'rgby'\n",
    "fig,ax = plt.subplots(3,1,sharex=True,figsize=(7,9))\n",
    "angs = np.vstack((results['l'],-1*results['pomega'],-1*results['Omega'])).T\n",
    "res_angs = np.mod(np.array([A @ ang for ang in angs]),2*np.pi)\n",
    "ax[0].plot(results['time'],res_angs[:,0] * 180 / np.pi,'-')\n",
    "ax[0].plot(results['time'],res_angs[:,1] * 180 / np.pi,'-')\n",
    "ax[0].set_ylim(-5,365)\n",
    "ax[0].set_yticks([0,90,180,270,360])\n",
    "for i,e in enumerate(results['e']):\n",
    "    ax[1].plot(results['time'],results['e'][i],color=colors[i],label=i+1)\n",
    "ax[1].legend(fontsize=14)\n",
    "\n",
    "\n",
    "ax[2].plot(results['time'],results['P'][1]/results['P'][0]*3/4-1)\n",
    "ax[2].plot(results['time'],results['P'][2]/results['P'][1]*2/3-1)\n",
    "ax[2].plot(results['time'],results['P'][3]/results['P'][2]*3/4-1)\n",
    "\n",
    "for a in ax:\n",
    "    plt.sca(a)\n",
    "    plt.tick_params(labelsize=16)"
   ]
  }
 ],
 "metadata": {
  "kernelspec": {
   "display_name": "Python 3 (ipykernel)",
   "language": "python",
   "name": "python3"
  },
  "language_info": {
   "codemirror_mode": {
    "name": "ipython",
    "version": 3
   },
   "file_extension": ".py",
   "mimetype": "text/x-python",
   "name": "python",
   "nbconvert_exporter": "python",
   "pygments_lexer": "ipython3",
   "version": "3.9.7"
  }
 },
 "nbformat": 4,
 "nbformat_minor": 5
}
