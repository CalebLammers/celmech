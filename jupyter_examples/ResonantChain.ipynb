{
 "cells": [
  {
   "cell_type": "markdown",
   "id": "b14fe97e",
   "metadata": {},
   "source": [
    "# The Kepler-223 resonant chain system"
   ]
  },
  {
   "cell_type": "markdown",
   "id": "c00e6480",
   "metadata": {},
   "source": [
    "Kepler-223 is a 4-planet resonant chain discovered by the *Kepler* mission. The system has been characterized via TTV analysis by [Mills et. al. 2016](https://ui.adsabs.harvard.edu/abs/2016Natur.533..509M/abstract). \n",
    "The planet's periods are locked in/near a 3:4:6:8 commensurability. [Delisle (2017)](https://ui.adsabs.harvard.edu/abs/2017A%26A...605A..96D/abstract)\n",
    "describes an analytic model for the resonant dynamics of this (and similar) systems. This example is based on  this analytic model.\n",
    "\n",
    "We'll proceed through a series of canonical transformations to arrive at a Hamiltonian model for the resonant interactions in this system. We'll then use this model to solve for the families of equilibrium configurations for this resonant chain."
   ]
  },
  {
   "cell_type": "code",
   "execution_count": 1,
   "id": "330bd51a",
   "metadata": {},
   "outputs": [],
   "source": [
    "import numpy as np\n",
    "import matplotlib.pyplot as plt\n",
    "%matplotlib inline\n",
    "import rebound as rb"
   ]
  },
  {
   "cell_type": "markdown",
   "id": "96d20d83",
   "metadata": {},
   "source": [
    "## Set up a `rebound` simulation of Kepler-223\n",
    "\n",
    "First we'll set up a `rebound` simulation of the Kepler-223 system, initializing each planet at its observed best-fit mass and orbital period. We won't worry about setting eccentricities our orbital phases now, since we'll be determining these later when we solve for resonant equilibrium configurations."
   ]
  },
  {
   "cell_type": "code",
   "execution_count": 2,
   "id": "654ea0e0",
   "metadata": {},
   "outputs": [],
   "source": [
    "# Taken from Table 1 of Mills+ (2016)\n",
    "Mstar = 1.125\n",
    "Mearth = 3e-6\n",
    "\n",
    "periods = [7.38449,9.84564,14.78869,19.72567] # Periods in days\n",
    "masses = [7.4,5.1,8.0,4.8] # Masses in Earth masses\n",
    "\n",
    "\n",
    "sim = rb.Simulation()\n",
    "sim.units  = (\"Msun\",\"days\",\"AU\")\n",
    "sim.add(m=Mstar)\n",
    "for mass,per in zip(masses,periods):\n",
    "    sim.add(m = mass*Mearth,P =per)\n",
    "sim.move_to_com()\n"
   ]
  },
  {
   "cell_type": "markdown",
   "id": "bb149793",
   "metadata": {},
   "source": [
    "## Set up a `PoincareHamiltonian` object\n",
    "\n",
    "We'll use the `PoincareHamiltonian` class to begin constructing an analytic model for the system."
   ]
  },
  {
   "cell_type": "code",
   "execution_count": 3,
   "id": "a18448cf",
   "metadata": {},
   "outputs": [],
   "source": [
    "from celmech import Poincare,PoincareHamiltonian"
   ]
  },
  {
   "cell_type": "code",
   "execution_count": 4,
   "id": "47da9cd8",
   "metadata": {},
   "outputs": [],
   "source": [
    "pvars = Poincare.from_Simulation(sim)\n",
    "pham = PoincareHamiltonian(pvars)"
   ]
  },
  {
   "cell_type": "markdown",
   "id": "e1a36ec6",
   "metadata": {},
   "source": [
    "### Add resonant interaction terms: \n",
    "First, we determine nearest $j$:$j-1$ for each adjacent resonant pair, then add the corresponding resonant interaction terms for each pair. Finally, we add the additional 2:1 MMR terms for the non-adjacent planets."
   ]
  },
  {
   "cell_type": "code",
   "execution_count": 5,
   "id": "f9cfc647",
   "metadata": {},
   "outputs": [
    {
     "name": "stdout",
     "output_type": "stream",
     "text": [
      "[4 3 4]\n"
     ]
    }
   ],
   "source": [
    "max_order = 1 # Include terms up to 1st order in e\n",
    "add_secular = False # We won't include secular terms\n",
    "p_arr=np.array(periods) \n",
    "# the nearest j:j-1 resonance is given by j= Round[ 1+1/((P_out/P_in) - 1) ]\n",
    "res_list = np.round(1+1/(p_arr[1:]/p_arr[:-1]-1)).astype(int)\n",
    "print(res_list)\n",
    "\n",
    "# Add secular terms\n",
    "if add_secular:\n",
    "    for i in range(1,pham.N):\n",
    "        for j in range(i+1,pham.N):\n",
    "            pham.add_secular_terms(indexIn=i,indexOut=j,inclinations=False)\n",
    "        \n",
    "# Add adjacent pair terms\n",
    "for i,j in enumerate(res_list):\n",
    "    pham.add_MMR_terms(j,1,max_order,indexIn=i+1,indexOut=i+2,inclinations=False)\n",
    "\n",
    "    \n",
    "# add the 2:1 MMR terms for non-adjacent pairs\n",
    "pham.add_MMR_terms(2,1,max_order,indexIn=2,indexOut=4,inclinations=False)\n",
    "pham.add_MMR_terms(2,1,max_order,indexIn=1,indexOut=3,inclinations=False)\n"
   ]
  },
  {
   "cell_type": "code",
   "execution_count": 6,
   "id": "669e1fab",
   "metadata": {},
   "outputs": [
    {
     "data": {
      "text/latex": [
       "$\\displaystyle - \\frac{C_{(2,-1,-1,0,0,0)}^{(0,0,0,0),(0,0)}(\\alpha_{1,3}) G m_{1} m_{3} \\left(\\frac{\\eta_{1} \\sin{\\left(\\lambda_{1} - 2 \\lambda_{3} \\right)}}{\\sqrt{\\Lambda_{1,0}}} + \\frac{\\kappa_{1} \\cos{\\left(\\lambda_{1} - 2 \\lambda_{3} \\right)}}{\\sqrt{\\Lambda_{1,0}}}\\right)}{a_{3,0}} - \\frac{C_{(2,-1,-1,0,0,0)}^{(0,0,0,0),(0,0)}(\\alpha_{2,4}) G m_{2} m_{4} \\left(\\frac{\\eta_{2} \\sin{\\left(\\lambda_{2} - 2 \\lambda_{4} \\right)}}{\\sqrt{\\Lambda_{2,0}}} + \\frac{\\kappa_{2} \\cos{\\left(\\lambda_{2} - 2 \\lambda_{4} \\right)}}{\\sqrt{\\Lambda_{2,0}}}\\right)}{a_{4,0}} - \\frac{C_{(2,-1,0,-1,0,0)}^{(0,0,0,0),(0,0)}(\\alpha_{1,3}) G m_{1} m_{3} \\left(\\frac{\\eta_{3} \\sin{\\left(\\lambda_{1} - 2 \\lambda_{3} \\right)}}{\\sqrt{\\Lambda_{3,0}}} + \\frac{\\kappa_{3} \\cos{\\left(\\lambda_{1} - 2 \\lambda_{3} \\right)}}{\\sqrt{\\Lambda_{3,0}}}\\right)}{a_{3,0}} - \\frac{C_{(2,-1,0,-1,0,0)}^{(0,0,0,0),(0,0)}(\\alpha_{2,4}) G m_{2} m_{4} \\left(\\frac{\\eta_{4} \\sin{\\left(\\lambda_{2} - 2 \\lambda_{4} \\right)}}{\\sqrt{\\Lambda_{4,0}}} + \\frac{\\kappa_{4} \\cos{\\left(\\lambda_{2} - 2 \\lambda_{4} \\right)}}{\\sqrt{\\Lambda_{4,0}}}\\right)}{a_{4,0}} - \\frac{C_{(3,-2,-1,0,0,0)}^{(0,0,0,0),(0,0)}(\\alpha_{2,3}) G m_{2} m_{3} \\left(\\frac{\\eta_{2} \\sin{\\left(2 \\lambda_{2} - 3 \\lambda_{3} \\right)}}{\\sqrt{\\Lambda_{2,0}}} + \\frac{\\kappa_{2} \\cos{\\left(2 \\lambda_{2} - 3 \\lambda_{3} \\right)}}{\\sqrt{\\Lambda_{2,0}}}\\right)}{a_{3,0}} - \\frac{C_{(3,-2,0,-1,0,0)}^{(0,0,0,0),(0,0)}(\\alpha_{2,3}) G m_{2} m_{3} \\left(\\frac{\\eta_{3} \\sin{\\left(2 \\lambda_{2} - 3 \\lambda_{3} \\right)}}{\\sqrt{\\Lambda_{3,0}}} + \\frac{\\kappa_{3} \\cos{\\left(2 \\lambda_{2} - 3 \\lambda_{3} \\right)}}{\\sqrt{\\Lambda_{3,0}}}\\right)}{a_{3,0}} - \\frac{C_{(4,-3,-1,0,0,0)}^{(0,0,0,0),(0,0)}(\\alpha_{1,2}) G m_{1} m_{2} \\left(\\frac{\\eta_{1} \\sin{\\left(3 \\lambda_{1} - 4 \\lambda_{2} \\right)}}{\\sqrt{\\Lambda_{1,0}}} + \\frac{\\kappa_{1} \\cos{\\left(3 \\lambda_{1} - 4 \\lambda_{2} \\right)}}{\\sqrt{\\Lambda_{1,0}}}\\right)}{a_{2,0}} - \\frac{C_{(4,-3,-1,0,0,0)}^{(0,0,0,0),(0,0)}(\\alpha_{3,4}) G m_{3} m_{4} \\left(\\frac{\\eta_{3} \\sin{\\left(3 \\lambda_{3} - 4 \\lambda_{4} \\right)}}{\\sqrt{\\Lambda_{3,0}}} + \\frac{\\kappa_{3} \\cos{\\left(3 \\lambda_{3} - 4 \\lambda_{4} \\right)}}{\\sqrt{\\Lambda_{3,0}}}\\right)}{a_{4,0}} - \\frac{C_{(4,-3,0,-1,0,0)}^{(0,0,0,0),(0,0)}(\\alpha_{1,2}) G m_{1} m_{2} \\left(\\frac{\\eta_{2} \\sin{\\left(3 \\lambda_{1} - 4 \\lambda_{2} \\right)}}{\\sqrt{\\Lambda_{2,0}}} + \\frac{\\kappa_{2} \\cos{\\left(3 \\lambda_{1} - 4 \\lambda_{2} \\right)}}{\\sqrt{\\Lambda_{2,0}}}\\right)}{a_{2,0}} - \\frac{C_{(4,-3,0,-1,0,0)}^{(0,0,0,0),(0,0)}(\\alpha_{3,4}) G m_{3} m_{4} \\left(\\frac{\\eta_{4} \\sin{\\left(3 \\lambda_{3} - 4 \\lambda_{4} \\right)}}{\\sqrt{\\Lambda_{4,0}}} + \\frac{\\kappa_{4} \\cos{\\left(3 \\lambda_{3} - 4 \\lambda_{4} \\right)}}{\\sqrt{\\Lambda_{4,0}}}\\right)}{a_{4,0}} - \\frac{G^{2} M_{4}^{2} \\mu_{4}^{3}}{2 \\Lambda_{4}^{2}} - \\frac{G^{2} M_{3}^{2} \\mu_{3}^{3}}{2 \\Lambda_{3}^{2}} - \\frac{G^{2} M_{2}^{2} \\mu_{2}^{3}}{2 \\Lambda_{2}^{2}} - \\frac{G^{2} M_{1}^{2} \\mu_{1}^{3}}{2 \\Lambda_{1}^{2}}$"
      ],
      "text/plain": [
       "                                                               ⎛η₁⋅sin(λ₁ - 2⋅λ₃)   κ₁⋅cos(λ₁ - 2⋅λ₃)⎞       \n",
       "  C_{(2,-1,-1,0,0,0)}_{1,3})__{(0,0,0,0),(0,0)}(\\alpha⋅G⋅m₁⋅m₃⋅⎜───────────────── + ─────────────────⎟   C_{(\n",
       "                                                               ⎜  _______________     _______________⎟       \n",
       "                                                               ⎝╲╱ \\Lambda_{1,0}    ╲╱ \\Lambda_{1,0} ⎠       \n",
       "- ──────────────────────────────────────────────────────────────────────────────────────────────────── - ────\n",
       "                                                a_{3,0}                                                      \n",
       "                                                                                                             \n",
       "\n",
       "                                                         ⎛η₂⋅sin(λ₂ - 2⋅λ₄)   κ₂⋅cos(λ₂ - 2⋅λ₄)⎞             \n",
       "2,-1,-1,0,0,0)}_{2,4})__{(0,0,0,0),(0,0)}(\\alpha⋅G⋅m₂⋅m₄⋅⎜───────────────── + ─────────────────⎟   C_{(2,-1,0\n",
       "                                                         ⎜  _______________     _______________⎟             \n",
       "                                                         ⎝╲╱ \\Lambda_{2,0}    ╲╱ \\Lambda_{2,0} ⎠             \n",
       "──────────────────────────────────────────────────────────────────────────────────────────────── - ──────────\n",
       "                                          a_{4,0}                                                            \n",
       "                                                                                                             \n",
       "\n",
       "                                                   ⎛η₃⋅sin(λ₁ - 2⋅λ₃)   κ₃⋅cos(λ₁ - 2⋅λ₃)⎞                   \n",
       ",-1,0,0)}_{1,3})__{(0,0,0,0),(0,0)}(\\alpha⋅G⋅m₁⋅m₃⋅⎜───────────────── + ─────────────────⎟   C_{(2,-1,0,-1,0,\n",
       "                                                   ⎜  _______________     _______________⎟                   \n",
       "                                                   ⎝╲╱ \\Lambda_{3,0}    ╲╱ \\Lambda_{3,0} ⎠                   \n",
       "────────────────────────────────────────────────────────────────────────────────────────── - ────────────────\n",
       "                                    a_{3,0}                                                                  \n",
       "                                                                                                             \n",
       "\n",
       "                                             ⎛η₄⋅sin(λ₂ - 2⋅λ₄)   κ₄⋅cos(λ₂ - 2⋅λ₄)⎞                         \n",
       "0)}_{2,4})__{(0,0,0,0),(0,0)}(\\alpha⋅G⋅m₂⋅m₄⋅⎜───────────────── + ─────────────────⎟   C_{(3,-2,-1,0,0,0)}_{2\n",
       "                                             ⎜  _______________     _______________⎟                         \n",
       "                                             ⎝╲╱ \\Lambda_{4,0}    ╲╱ \\Lambda_{4,0} ⎠                         \n",
       "──────────────────────────────────────────────────────────────────────────────────── - ──────────────────────\n",
       "                              a_{4,0}                                                                        \n",
       "                                                                                                             \n",
       "\n",
       "                                       ⎛η₂⋅sin(2⋅λ₂ - 3⋅λ₃)   κ₂⋅cos(2⋅λ₂ - 3⋅λ₃)⎞                           \n",
       ",3})__{(0,0,0,0),(0,0)}(\\alpha⋅G⋅m₂⋅m₃⋅⎜─────────────────── + ───────────────────⎟   C_{(3,-2,0,-1,0,0)}_{2,3\n",
       "                                       ⎜   _______________       _______________ ⎟                           \n",
       "                                       ⎝ ╲╱ \\Lambda_{2,0}      ╲╱ \\Lambda_{2,0}  ⎠                           \n",
       "────────────────────────────────────────────────────────────────────────────────── - ────────────────────────\n",
       "                          a_{3,0}                                                                            \n",
       "                                                                                                             \n",
       "\n",
       "                                     ⎛η₃⋅sin(2⋅λ₂ - 3⋅λ₃)   κ₃⋅cos(2⋅λ₂ - 3⋅λ₃)⎞                             \n",
       "})__{(0,0,0,0),(0,0)}(\\alpha⋅G⋅m₂⋅m₃⋅⎜─────────────────── + ───────────────────⎟   C_{(4,-3,-1,0,0,0)}_{1,2})\n",
       "                                     ⎜   _______________       _______________ ⎟                             \n",
       "                                     ⎝ ╲╱ \\Lambda_{3,0}      ╲╱ \\Lambda_{3,0}  ⎠                             \n",
       "──────────────────────────────────────────────────────────────────────────────── - ──────────────────────────\n",
       "                        a_{3,0}                                                                              \n",
       "                                                                                                             \n",
       "\n",
       "                                   ⎛η₁⋅sin(3⋅λ₁ - 4⋅λ₂)   κ₁⋅cos(3⋅λ₁ - 4⋅λ₂)⎞                               \n",
       "__{(0,0,0,0),(0,0)}(\\alpha⋅G⋅m₁⋅m₂⋅⎜─────────────────── + ───────────────────⎟   C_{(4,-3,-1,0,0,0)}_{3,4})__\n",
       "                                   ⎜   _______________       _______________ ⎟                               \n",
       "                                   ⎝ ╲╱ \\Lambda_{1,0}      ╲╱ \\Lambda_{1,0}  ⎠                               \n",
       "────────────────────────────────────────────────────────────────────────────── - ────────────────────────────\n",
       "                      a_{2,0}                                                                                \n",
       "                                                                                                             \n",
       "\n",
       "                                 ⎛η₃⋅sin(3⋅λ₃ - 4⋅λ₄)   κ₃⋅cos(3⋅λ₃ - 4⋅λ₄)⎞                                 \n",
       "{(0,0,0,0),(0,0)}(\\alpha⋅G⋅m₃⋅m₄⋅⎜─────────────────── + ───────────────────⎟   C_{(4,-3,0,-1,0,0)}_{1,2})__{(\n",
       "                                 ⎜   _______________       _______________ ⎟                                 \n",
       "                                 ⎝ ╲╱ \\Lambda_{3,0}      ╲╱ \\Lambda_{3,0}  ⎠                                 \n",
       "──────────────────────────────────────────────────────────────────────────── - ──────────────────────────────\n",
       "                    a_{4,0}                                                                                  \n",
       "                                                                                                             \n",
       "\n",
       "                               ⎛η₂⋅sin(3⋅λ₁ - 4⋅λ₂)   κ₂⋅cos(3⋅λ₁ - 4⋅λ₂)⎞                                   \n",
       "0,0,0,0),(0,0)}(\\alpha⋅G⋅m₁⋅m₂⋅⎜─────────────────── + ───────────────────⎟   C_{(4,-3,0,-1,0,0)}_{3,4})__{(0,\n",
       "                               ⎜   _______________       _______________ ⎟                                   \n",
       "                               ⎝ ╲╱ \\Lambda_{2,0}      ╲╱ \\Lambda_{2,0}  ⎠                                   \n",
       "────────────────────────────────────────────────────────────────────────── - ────────────────────────────────\n",
       "                  a_{2,0}                                                                                    \n",
       "                                                                                                             \n",
       "\n",
       "                             ⎛η₄⋅sin(3⋅λ₃ - 4⋅λ₄)   κ₄⋅cos(3⋅λ₃ - 4⋅λ₄)⎞                                     \n",
       "0,0,0),(0,0)}(\\alpha⋅G⋅m₃⋅m₄⋅⎜─────────────────── + ───────────────────⎟                                     \n",
       "                             ⎜   _______________       _______________ ⎟    2   2   3    2   2   3    2   2  \n",
       "                             ⎝ ╲╱ \\Lambda_{4,0}      ╲╱ \\Lambda_{4,0}  ⎠   G ⋅M₄ ⋅μ₄    G ⋅M₃ ⋅μ₃    G ⋅M₂ ⋅μ\n",
       "──────────────────────────────────────────────────────────────────────── - ────────── - ────────── - ────────\n",
       "                a_{4,0}                                                          2            2            2 \n",
       "                                                                             2⋅Λ₄         2⋅Λ₃         2⋅Λ₂  \n",
       "\n",
       "               \n",
       "               \n",
       " 3    2   2   3\n",
       "₂    G ⋅M₁ ⋅μ₁ \n",
       "── - ──────────\n",
       "           2   \n",
       "       2⋅Λ₁    "
      ]
     },
     "execution_count": 6,
     "metadata": {},
     "output_type": "execute_result"
    }
   ],
   "source": [
    "pham.H"
   ]
  },
  {
   "cell_type": "markdown",
   "id": "a592214f",
   "metadata": {},
   "source": [
    "# Transformation to resonant variables\n",
    "\n",
    "Following Equation 12 of [Delisle (2017)](https://ui.adsabs.harvard.edu/abs/2017A%26A...605A..96D/abstract), we perform a canonical transformation to new resonant angle variables[^1].  \n",
    "\n",
    "$$\n",
    "\\begin{pmatrix}\n",
    "\\phi_1\\\\\n",
    "\\phi_2\\\\\n",
    "\\phi_3\\\\\n",
    "\\phi_4\\\\\\\n",
    "s_1\\\\\n",
    "s_2\\\\\n",
    "s_3\\\\\n",
    "s_4\n",
    "\\end{pmatrix}\n",
    "= \n",
    "\\underbrace{\n",
    "\\begin{pmatrix}\n",
    "    1 & -2 &  1 &  0     & 0 & 0 & 0 & 0 \\\\\n",
    "    0 &  1 & -3 &  2     & 0 & 0 & 0 & 0 \\\\\n",
    "    0 &  0 &  1 & -1     & 0 & 0 & 0 & 0 \\\\\n",
    "    0 &  0 & -3 &  4     & 0 & 0 & 0 & 0 \\\\    \n",
    "    0 &  0 & -3 &  4     & 1 & 0 & 0 & 0 \\\\\n",
    "    0 &  0 & -3 &  4     & 0 & 1 & 0 & 0 \\\\\n",
    "    0 &  0 & -3 &  4     & 0 & 0 & 1 & 0 \\\\\n",
    "    0 &  0 & -3 &  4     & 0 & 0 & 0 & 1 \n",
    "\\end{pmatrix}}_{A}\n",
    "\\cdot\n",
    "\\begin{pmatrix}\n",
    "\\lambda_1\\\\\n",
    "\\lambda_2\\\\\n",
    "\\lambda_3\\\\\n",
    "\\lambda_4\\\\\n",
    "\\gamma_1\\\\\n",
    "\\gamma_2\\\\\n",
    "\\gamma_3\\\\\n",
    "\\gamma_4\n",
    "\\end{pmatrix}\n",
    "$$\n",
    "along with conjugate momenta $(\\Phi_1,...,\\Phi_4,D_1,...,D_4) = [A^{-1}]^{\\mathrm{tr}} \\cdot (\\Lambda_1,...,\\Lambda_4,\\Gamma_1,...,\\Gamma_4)$. We also introduce $\\psi_i = \\phi_i - \\gamma_i+q_i$ with conjugate momenta $Q_i$ so that inclination resonance terms could be analyzed as well, though we will not consider them in this example.\n",
    "\n",
    "[^1]: [Delisle (2017)](https://ui.adsabs.harvard.edu/abs/2017A%26A...605A..96D/abstract) uses the notation $\\sigma_i$ for the angles we have termed $s_i$ conjugate to the momenta $D_i$. We adopt $s_i$ to avoid confusion with the default `Poincare` variables $\\sigma_i=\\sqrt{2Q_i}\\cos q_i$"
   ]
  },
  {
   "cell_type": "markdown",
   "id": "84b7ebcf",
   "metadata": {},
   "source": [
    "### Set up the transformation matrix"
   ]
  },
  {
   "cell_type": "code",
   "execution_count": 7,
   "id": "b01efe77",
   "metadata": {},
   "outputs": [
    {
     "data": {
      "text/plain": [
       "array([[ 1, -2,  1,  0,  0,  0,  0,  0,  0,  0,  0,  0],\n",
       "       [ 0,  1, -3,  2,  0,  0,  0,  0,  0,  0,  0,  0],\n",
       "       [ 0,  0,  1, -1,  0,  0,  0,  0,  0,  0,  0,  0],\n",
       "       [ 0,  0, -3,  4,  0,  0,  0,  0,  0,  0,  0,  0],\n",
       "       [ 0,  0, -3,  4,  1,  0,  0,  0,  0,  0,  0,  0],\n",
       "       [ 0,  0, -3,  4,  0,  1,  0,  0,  0,  0,  0,  0],\n",
       "       [ 0,  0, -3,  4,  0,  0,  1,  0,  0,  0,  0,  0],\n",
       "       [ 0,  0, -3,  4,  0,  0,  0,  1,  0,  0,  0,  0],\n",
       "       [ 0,  0, -3,  4,  0,  0,  0,  0,  1,  0,  0,  0],\n",
       "       [ 0,  0, -3,  4,  0,  0,  0,  0,  0,  1,  0,  0],\n",
       "       [ 0,  0, -3,  4,  0,  0,  0,  0,  0,  0,  1,  0],\n",
       "       [ 0,  0, -3,  4,  0,  0,  0,  0,  0,  0,  0,  1]])"
      ]
     },
     "execution_count": 7,
     "metadata": {},
     "output_type": "execute_result"
    }
   ],
   "source": [
    "from sympy import symbols\n",
    "# Equation 12 of Delisle 2017 \n",
    "\n",
    "A = np.zeros((pham.N_dof,pham.N_dof),dtype = int)\n",
    "\n",
    "A[0,:4] = [1,-2, 1, 0]\n",
    "A[1,:4] = [0, 1,-3, 2]\n",
    "A[2,:4] = [0, 0, 1,-1]\n",
    "A[3:,:4] = [0, 0,-3, 4]\n",
    "A[4:8,4:8]  = np.eye(4)\n",
    "A[8:12,8:12]  = np.eye(4)\n",
    "A"
   ]
  },
  {
   "cell_type": "markdown",
   "id": "46984961",
   "metadata": {},
   "source": [
    "### Construct `CanonicalTransformation` object\n",
    "\n",
    "We'll use the`CanonicalTransformation` class method `from_poincare_angles_matrix` to derive an object representing the canonical transformation to the resonant action/angle variables described above."
   ]
  },
  {
   "cell_type": "code",
   "execution_count": 8,
   "id": "7afc93cc",
   "metadata": {},
   "outputs": [],
   "source": [
    "from celmech.canonical_transformations import CanonicalTransformation\n",
    "\n",
    "# angle variables\n",
    "phi = symbols(\"phi(1:5)\")\n",
    "s = symbols(\"s(1:5)\")\n",
    "psi = symbols(\"psi(1:5)\")\n",
    "\n",
    "# action-like variables\n",
    "Phi = symbols(\"Phi(1:5)\")\n",
    "D = symbols(\"D(1:5)\")\n",
    "Psi = symbols(\"Psi(1:5)\")\n",
    "\n",
    "new_qs = list(phi)+list(s)+list(psi)\n",
    "new_ps = list(Phi)+list(D)+list(Psi)\n",
    "new_qp_pairs = list(zip(new_qs,new_ps))\n",
    "\n",
    "ct = CanonicalTransformation.from_poincare_angles_matrix(pvars,A,new_qp_pairs= new_qp_pairs)"
   ]
  },
  {
   "cell_type": "markdown",
   "id": "a1e16f9f",
   "metadata": {},
   "source": [
    "### Transform the Hamiltonian\n",
    "\n",
    "Applying the `CanonicalTransformation` to our old Hamiltonian, `pham`, will give a new Hamiltonian object\n",
    "representing the Hamiltonian\n",
    "$$\n",
    "K(\\phi_i,s_i;\\Phi_i,D_i) = (H \\circ T^{-1})(\\phi_i,s_i;\\Phi_i,D_i)\n",
    "$$\n",
    "where $T : (\\lambda_i,\\gamma_i,\\Lambda_i,\\Gamma_i) \\mapsto (\\phi_i,s_i,\\Phi_i,D_i)$ is the canonical transformation from old to new canonical varaibles and $H$ is the Hamiltonian in terms of the old variables."
   ]
  },
  {
   "cell_type": "code",
   "execution_count": 9,
   "id": "d5317689",
   "metadata": {},
   "outputs": [
    {
     "data": {
      "text/latex": [
       "$\\displaystyle - \\frac{\\sqrt{2} C_{(2,-1,-1,0,0,0)}^{(0,0,0,0),(0,0)}(\\alpha_{1,3}) \\sqrt{D_{1}} G m_{1} m_{3} \\cos{\\left(\\phi_{1} + 2 \\phi_{2} - s_{1} \\right)}}{\\sqrt{\\Lambda_{1,0}} a_{3,0}} - \\frac{\\sqrt{2} C_{(2,-1,-1,0,0,0)}^{(0,0,0,0),(0,0)}(\\alpha_{2,4}) \\sqrt{D_{2}} G m_{2} m_{4} \\cos{\\left(\\phi_{2} - s_{2} \\right)}}{\\sqrt{\\Lambda_{2,0}} a_{4,0}} - \\frac{\\sqrt{2} C_{(2,-1,0,-1,0,0)}^{(0,0,0,0),(0,0)}(\\alpha_{1,3}) \\sqrt{D_{3}} G m_{1} m_{3} \\cos{\\left(\\phi_{1} + 2 \\phi_{2} - s_{3} \\right)}}{\\sqrt{\\Lambda_{3,0}} a_{3,0}} - \\frac{\\sqrt{2} C_{(2,-1,0,-1,0,0)}^{(0,0,0,0),(0,0)}(\\alpha_{2,4}) \\sqrt{D_{4}} G m_{2} m_{4} \\cos{\\left(\\phi_{2} - s_{4} \\right)}}{\\sqrt{\\Lambda_{4,0}} a_{4,0}} - \\frac{\\sqrt{2} C_{(3,-2,-1,0,0,0)}^{(0,0,0,0),(0,0)}(\\alpha_{2,3}) \\sqrt{D_{2}} G m_{2} m_{3} \\cos{\\left(2 \\phi_{2} - s_{2} \\right)}}{\\sqrt{\\Lambda_{2,0}} a_{3,0}} - \\frac{\\sqrt{2} C_{(3,-2,0,-1,0,0)}^{(0,0,0,0),(0,0)}(\\alpha_{2,3}) \\sqrt{D_{3}} G m_{2} m_{3} \\cos{\\left(2 \\phi_{2} - s_{3} \\right)}}{\\sqrt{\\Lambda_{3,0}} a_{3,0}} - \\frac{\\sqrt{2} C_{(4,-3,-1,0,0,0)}^{(0,0,0,0),(0,0)}(\\alpha_{1,2}) \\sqrt{D_{1}} G m_{1} m_{2} \\cos{\\left(3 \\phi_{1} + 2 \\phi_{2} - s_{1} \\right)}}{\\sqrt{\\Lambda_{1,0}} a_{2,0}} - \\frac{\\sqrt{2} C_{(4,-3,-1,0,0,0)}^{(0,0,0,0),(0,0)}(\\alpha_{3,4}) \\sqrt{D_{3}} G m_{3} m_{4} \\cos{\\left(s_{3} \\right)}}{\\sqrt{\\Lambda_{3,0}} a_{4,0}} - \\frac{\\sqrt{2} C_{(4,-3,0,-1,0,0)}^{(0,0,0,0),(0,0)}(\\alpha_{1,2}) \\sqrt{D_{2}} G m_{1} m_{2} \\cos{\\left(3 \\phi_{1} + 2 \\phi_{2} - s_{2} \\right)}}{\\sqrt{\\Lambda_{2,0}} a_{2,0}} - \\frac{\\sqrt{2} C_{(4,-3,0,-1,0,0)}^{(0,0,0,0),(0,0)}(\\alpha_{3,4}) \\sqrt{D_{4}} G m_{3} m_{4} \\cos{\\left(s_{4} \\right)}}{\\sqrt{\\Lambda_{4,0}} a_{4,0}} - \\frac{G^{2} M_{1}^{2} \\mu_{1}^{3}}{2 \\Phi_{1}^{2}} - \\frac{G^{2} M_{2}^{2} \\mu_{2}^{3}}{2 \\left(- 2 \\Phi_{1} + \\Phi_{2}\\right)^{2}} - \\frac{G^{2} M_{3}^{2} \\mu_{3}^{3}}{2 \\left(- 3 D_{1} - 3 D_{2} - 3 D_{3} - 3 D_{4} + \\Phi_{1} - 3 \\Phi_{2} + \\Phi_{3} - 3 \\Phi_{4} - 3 \\Psi_{1} - 3 \\Psi_{2} - 3 \\Psi_{3} - 3 \\Psi_{4}\\right)^{2}} - \\frac{G^{2} M_{4}^{2} \\mu_{4}^{3}}{2 \\left(4 D_{1} + 4 D_{2} + 4 D_{3} + 4 D_{4} + 2 \\Phi_{2} - \\Phi_{3} + 4 \\Phi_{4} + 4 \\Psi_{1} + 4 \\Psi_{2} + 4 \\Psi_{3} + 4 \\Psi_{4}\\right)^{2}}$"
      ],
      "text/plain": [
       "                                                            ____                                             \n",
       "  √2⋅C_{(2,-1,-1,0,0,0)}_{1,3})__{(0,0,0,0),(0,0)}(\\alpha⋅╲╱ D₁ ⋅G⋅m₁⋅m₃⋅cos(φ₁ + 2⋅φ₂ - s₁)   √2⋅C_{(2,-1,-1\n",
       "- ────────────────────────────────────────────────────────────────────────────────────────── - ──────────────\n",
       "                                    _______________                                                          \n",
       "                                  ╲╱ \\Lambda_{1,0} ⋅a_{3,0}                                                  \n",
       "\n",
       "                                            ____                                                             \n",
       ",0,0,0)}_{2,4})__{(0,0,0,0),(0,0)}(\\alpha⋅╲╱ D₂ ⋅G⋅m₂⋅m₄⋅cos(φ₂ - s₂)   √2⋅C_{(2,-1,0,-1,0,0)}_{1,3})__{(0,0,\n",
       "───────────────────────────────────────────────────────────────────── - ─────────────────────────────────────\n",
       "                 _______________                                                                          ___\n",
       "               ╲╱ \\Lambda_{2,0} ⋅a_{4,0}                                                                ╲╱ \\L\n",
       "\n",
       "                     ____                                                                                    \n",
       "0,0),(0,0)}(\\alpha⋅╲╱ D₃ ⋅G⋅m₁⋅m₃⋅cos(φ₁ + 2⋅φ₂ - s₃)   √2⋅C_{(2,-1,0,-1,0,0)}_{2,4})__{(0,0,0,0),(0,0)}(\\alp\n",
       "───────────────────────────────────────────────────── - ─────────────────────────────────────────────────────\n",
       "____________                                                                           _______________       \n",
       "ambda_{3,0} ⋅a_{3,0}                                                                 ╲╱ \\Lambda_{4,0} ⋅a_{4,0\n",
       "\n",
       "     ____                                                                                  ____              \n",
       "ha⋅╲╱ D₄ ⋅G⋅m₂⋅m₄⋅cos(φ₂ - s₄)   √2⋅C_{(3,-2,-1,0,0,0)}_{2,3})__{(0,0,0,0),(0,0)}(\\alpha⋅╲╱ D₂ ⋅G⋅m₂⋅m₃⋅cos(2\n",
       "────────────────────────────── - ────────────────────────────────────────────────────────────────────────────\n",
       "                                                                 _______________                             \n",
       "}                                                              ╲╱ \\Lambda_{2,0} ⋅a_{3,0}                     \n",
       "\n",
       "                                                                      ____                                   \n",
       "⋅φ₂ - s₂)   √2⋅C_{(3,-2,0,-1,0,0)}_{2,3})__{(0,0,0,0),(0,0)}(\\alpha⋅╲╱ D₃ ⋅G⋅m₂⋅m₃⋅cos(2⋅φ₂ - s₃)   √2⋅C_{(4,\n",
       "───────── - ───────────────────────────────────────────────────────────────────────────────────── - ─────────\n",
       "                                            _______________                                                  \n",
       "                                          ╲╱ \\Lambda_{3,0} ⋅a_{3,0}                                          \n",
       "\n",
       "                                                 ____                                                        \n",
       "-3,-1,0,0,0)}_{1,2})__{(0,0,0,0),(0,0)}(\\alpha⋅╲╱ D₁ ⋅G⋅m₁⋅m₂⋅cos(3⋅φ₁ + 2⋅φ₂ - s₁)   √2⋅C_{(4,-3,-1,0,0,0)}_\n",
       "─────────────────────────────────────────────────────────────────────────────────── - ───────────────────────\n",
       "                          _______________                                                                    \n",
       "                        ╲╱ \\Lambda_{1,0} ⋅a_{2,0}                                                            \n",
       "\n",
       "                                   ____                                                                      \n",
       "{3,4})__{(0,0,0,0),(0,0)}(\\alpha⋅╲╱ D₃ ⋅G⋅m₃⋅m₄⋅cos(s₃)   √2⋅C_{(4,-3,0,-1,0,0)}_{1,2})__{(0,0,0,0),(0,0)}(\\a\n",
       "─────────────────────────────────────────────────────── - ───────────────────────────────────────────────────\n",
       "     _______________                                                                         _______________ \n",
       "   ╲╱ \\Lambda_{3,0} ⋅a_{4,0}                                                               ╲╱ \\Lambda_{2,0} ⋅\n",
       "\n",
       "       ____                                                                                           ____   \n",
       "lpha⋅╲╱ D₂ ⋅G⋅m₁⋅m₂⋅cos(3⋅φ₁ + 2⋅φ₂ - s₂)   √2⋅C_{(4,-3,0,-1,0,0)}_{3,4})__{(0,0,0,0),(0,0)}(\\alpha⋅╲╱ D₄ ⋅G⋅\n",
       "───────────────────────────────────────── - ─────────────────────────────────────────────────────────────────\n",
       "                                                                        _______________                      \n",
       "a_{2,0}                                                               ╲╱ \\Lambda_{4,0} ⋅a_{4,0}              \n",
       "\n",
       "                 2   2   3       2   2   3                                           2   2   3               \n",
       "m₃⋅m₄⋅cos(s₄)   G ⋅M₁ ⋅μ₁       G ⋅M₂ ⋅μ₂                                           G ⋅M₃ ⋅μ₃                \n",
       "───────────── - ────────── - ─────────────── - ──────────────────────────────────────────────────────────────\n",
       "                      2                    2                                                                 \n",
       "                  2⋅Φ₁       2⋅(-2⋅Φ₁ + Φ₂)    2⋅(-3⋅D₁ - 3⋅D₂ - 3⋅D₃ - 3⋅D₄ + Φ₁ - 3⋅Φ₂ + Φ₃ - 3⋅Φ₄ - 3⋅Ψ₁ -\n",
       "\n",
       "                                                           2   2   3                                 \n",
       "                                                          G ⋅M₄ ⋅μ₄                                  \n",
       "───────────────────── - ─────────────────────────────────────────────────────────────────────────────\n",
       "                    2                                                                               2\n",
       " 3⋅Ψ₂ - 3⋅Ψ₃ - 3⋅Ψ₄)    2⋅(4⋅D₁ + 4⋅D₂ + 4⋅D₃ + 4⋅D₄ + 2⋅Φ₂ - Φ₃ + 4⋅Φ₄ + 4⋅Ψ₁ + 4⋅Ψ₂ + 4⋅Ψ₃ + 4⋅Ψ₄) "
      ]
     },
     "execution_count": 9,
     "metadata": {},
     "output_type": "execute_result"
    }
   ],
   "source": [
    "kam = ct.old_to_new_hamiltonian(pham,do_reduction=True)\n",
    "kam.H"
   ]
  },
  {
   "cell_type": "markdown",
   "id": "add43ac1",
   "metadata": {},
   "source": [
    "# Examine new conserved quantites\n",
    "\n",
    "By setting the keyword argument `do_reduction=True` when performing the canonical transformation, `celmech` has automatically reduced the number of degrees of freedom. It does this by identifying which of the new canonical angle variables do not appear in the Hamilton.[^1] \n",
    "\n",
    "Six of the 12 new canonical angle variables do not appear in the transformed Hamiltonian, so the number of degrees of freedom has been reduced from 6 to 12:\n",
    "\n",
    "[^1]: `celmech` will also check if there are canonical momentum variables that do not appear in a given Hamiltonian and promote their conjugate angle variables to conserved quantities if there are any."
   ]
  },
  {
   "cell_type": "code",
   "execution_count": 10,
   "id": "edd5cefc",
   "metadata": {},
   "outputs": [
    {
     "data": {
      "text/latex": [
       "$\\displaystyle \\left( 12, \\  6\\right)$"
      ],
      "text/plain": [
       "(12, 6)"
      ]
     },
     "execution_count": 10,
     "metadata": {},
     "output_type": "execute_result"
    }
   ],
   "source": [
    "(pham.N_dof,kam.N_dof)"
   ]
  },
  {
   "cell_type": "markdown",
   "id": "c6dabe1a",
   "metadata": {},
   "source": [
    "The canonical momenta conjugate to these cyclic angle variables are conserved and now do not appear as dynamical variables for our Hamiltonian object `kam`.\n",
    "We can still access the full set of canonical variables using the `full_qpvars` attribute"
   ]
  },
  {
   "cell_type": "code",
   "execution_count": 11,
   "id": "e569c0f4",
   "metadata": {},
   "outputs": [
    {
     "data": {
      "text/latex": [
       "$\\displaystyle \\left[ \\phi_{1}, \\  \\phi_{2}, \\  s_{1}, \\  s_{2}, \\  s_{3}, \\  s_{4}, \\  \\Phi_{1}, \\  \\Phi_{2}, \\  D_{1}, \\  D_{2}, \\  D_{3}, \\  D_{4}\\right]$"
      ],
      "text/plain": [
       "[φ₁, φ₂, s₁, s₂, s₃, s₄, Φ₁, Φ₂, D₁, D₂, D₃, D₄]"
      ]
     },
     "metadata": {},
     "output_type": "display_data"
    }
   ],
   "source": [
    "display(kam.qp_vars)"
   ]
  },
  {
   "cell_type": "code",
   "execution_count": 12,
   "id": "72b928ac",
   "metadata": {},
   "outputs": [
    {
     "data": {
      "text/latex": [
       "$\\displaystyle \\left[ \\phi_{1}, \\  \\phi_{2}, \\  \\phi_{3}, \\  \\phi_{4}, \\  s_{1}, \\  s_{2}, \\  s_{3}, \\  s_{4}, \\  \\psi_{1}, \\  \\psi_{2}, \\  \\psi_{3}, \\  \\psi_{4}, \\  \\Phi_{1}, \\  \\Phi_{2}, \\  \\Phi_{3}, \\  \\Phi_{4}, \\  D_{1}, \\  D_{2}, \\  D_{3}, \\  D_{4}, \\  \\Psi_{1}, \\  \\Psi_{2}, \\  \\Psi_{3}, \\  \\Psi_{4}\\right]$"
      ],
      "text/plain": [
       "[φ₁, φ₂, φ₃, φ₄, s₁, s₂, s₃, s₄, ψ₁, ψ₂, ψ₃, ψ₄, Φ₁, Φ₂, Φ₃, Φ₄, D₁, D₂, D₃, D₄, Ψ₁, Ψ₂, Ψ₃, Ψ₄]"
      ]
     },
     "metadata": {},
     "output_type": "display_data"
    }
   ],
   "source": [
    "display(kam.full_qp_vars)"
   ]
  },
  {
   "cell_type": "markdown",
   "id": "9b241555",
   "metadata": {},
   "source": [
    "The momenta conjugate to the cyclic angle variables are conserved. We now examine what the conserved quantities are:"
   ]
  },
  {
   "cell_type": "code",
   "execution_count": 13,
   "id": "acfe45e5",
   "metadata": {},
   "outputs": [],
   "source": [
    "conserved_quantities = [v for v in kam.full_qp_vars[kam.full_N_dof:] if v not in kam.qp_vars]"
   ]
  },
  {
   "cell_type": "markdown",
   "id": "0f8114e5",
   "metadata": {},
   "source": [
    "The conserved quantity $\\Phi_4$ is equal to the total angular momentum:"
   ]
  },
  {
   "cell_type": "code",
   "execution_count": 14,
   "id": "80a926cc",
   "metadata": {},
   "outputs": [
    {
     "data": {
      "text/latex": [
       "$\\displaystyle \\Phi_{4}$"
      ],
      "text/plain": [
       "Φ₄"
      ]
     },
     "metadata": {},
     "output_type": "display_data"
    },
    {
     "data": {
      "text/latex": [
       "$\\displaystyle \\Lambda_{1} + \\Lambda_{2} + \\Lambda_{3} + \\Lambda_{4} - \\frac{\\eta_{1}^{2}}{2} - \\frac{\\eta_{2}^{2}}{2} - \\frac{\\eta_{3}^{2}}{2} - \\frac{\\eta_{4}^{2}}{2} - \\frac{\\kappa_{1}^{2}}{2} - \\frac{\\kappa_{2}^{2}}{2} - \\frac{\\kappa_{3}^{2}}{2} - \\frac{\\kappa_{4}^{2}}{2} - \\frac{\\rho_{1}^{2}}{2} - \\frac{\\rho_{2}^{2}}{2} - \\frac{\\rho_{3}^{2}}{2} - \\frac{\\rho_{4}^{2}}{2} - \\frac{\\sigma_{1}^{2}}{2} - \\frac{\\sigma_{2}^{2}}{2} - \\frac{\\sigma_{3}^{2}}{2} - \\frac{\\sigma_{4}^{2}}{2}$"
      ],
      "text/plain": [
       "                      2     2     2     2     2     2     2     2     2     2     2     2     2     2     2  \n",
       "                    η₁    η₂    η₃    η₄    κ₁    κ₂    κ₃    κ₄    ρ₁    ρ₂    ρ₃    ρ₄    σ₁    σ₂    σ₃   \n",
       "Λ₁ + Λ₂ + Λ₃ + Λ₄ - ─── - ─── - ─── - ─── - ─── - ─── - ─── - ─── - ─── - ─── - ─── - ─── - ─── - ─── - ─── -\n",
       "                     2     2     2     2     2     2     2     2     2     2     2     2     2     2     2   \n",
       "\n",
       "   2\n",
       " σ₄ \n",
       " ───\n",
       "  2 "
      ]
     },
     "execution_count": 14,
     "metadata": {},
     "output_type": "execute_result"
    }
   ],
   "source": [
    "display(conserved_quantities[1])\n",
    "ct.new_to_old(conserved_quantities[1])"
   ]
  },
  {
   "cell_type": "markdown",
   "id": "a3d0afa2",
   "metadata": {},
   "source": [
    "The conserved quantity $\\Phi_3$ is a consequence of system's resonant configuration:"
   ]
  },
  {
   "cell_type": "code",
   "execution_count": 15,
   "id": "e2077dde",
   "metadata": {},
   "outputs": [
    {
     "data": {
      "text/latex": [
       "$\\displaystyle \\Phi_{3}$"
      ],
      "text/plain": [
       "Φ₃"
      ]
     },
     "metadata": {},
     "output_type": "display_data"
    },
    {
     "data": {
      "text/latex": [
       "$\\displaystyle 8 \\Lambda_{1} + 6 \\Lambda_{2} + 4 \\Lambda_{3} + 3 \\Lambda_{4}$"
      ],
      "text/plain": [
       "8⋅Λ₁ + 6⋅Λ₂ + 4⋅Λ₃ + 3⋅Λ₄"
      ]
     },
     "execution_count": 15,
     "metadata": {},
     "output_type": "execute_result"
    }
   ],
   "source": [
    "display(conserved_quantities[0])\n",
    "ct.new_to_old(conserved_quantities[0])"
   ]
  },
  {
   "cell_type": "markdown",
   "id": "73a148b7",
   "metadata": {},
   "source": [
    "The other conserved quantites are simply the actions associated with the planets' inclinations."
   ]
  },
  {
   "cell_type": "code",
   "execution_count": 16,
   "id": "a72a91d4",
   "metadata": {},
   "outputs": [
    {
     "data": {
      "text/latex": [
       "$\\displaystyle \\left( \\Psi_{1}, \\  \\frac{\\rho_{1}^{2}}{2} + \\frac{\\sigma_{1}^{2}}{2}\\right)$"
      ],
      "text/plain": [
       "⎛      2     2⎞\n",
       "⎜    ρ₁    σ₁ ⎟\n",
       "⎜Ψ₁, ─── + ───⎟\n",
       "⎝     2     2 ⎠"
      ]
     },
     "metadata": {},
     "output_type": "display_data"
    },
    {
     "data": {
      "text/latex": [
       "$\\displaystyle \\left( \\Psi_{2}, \\  \\frac{\\rho_{2}^{2}}{2} + \\frac{\\sigma_{2}^{2}}{2}\\right)$"
      ],
      "text/plain": [
       "⎛      2     2⎞\n",
       "⎜    ρ₂    σ₂ ⎟\n",
       "⎜Ψ₂, ─── + ───⎟\n",
       "⎝     2     2 ⎠"
      ]
     },
     "metadata": {},
     "output_type": "display_data"
    },
    {
     "data": {
      "text/latex": [
       "$\\displaystyle \\left( \\Psi_{3}, \\  \\frac{\\rho_{3}^{2}}{2} + \\frac{\\sigma_{3}^{2}}{2}\\right)$"
      ],
      "text/plain": [
       "⎛      2     2⎞\n",
       "⎜    ρ₃    σ₃ ⎟\n",
       "⎜Ψ₃, ─── + ───⎟\n",
       "⎝     2     2 ⎠"
      ]
     },
     "metadata": {},
     "output_type": "display_data"
    },
    {
     "data": {
      "text/latex": [
       "$\\displaystyle \\left( \\Psi_{4}, \\  \\frac{\\rho_{4}^{2}}{2} + \\frac{\\sigma_{4}^{2}}{2}\\right)$"
      ],
      "text/plain": [
       "⎛      2     2⎞\n",
       "⎜    ρ₄    σ₄ ⎟\n",
       "⎜Ψ₄, ─── + ───⎟\n",
       "⎝     2     2 ⎠"
      ]
     },
     "metadata": {},
     "output_type": "display_data"
    }
   ],
   "source": [
    "for P in conserved_quantities[2:]:\n",
    "    display((P,ct.new_to_old(P)))"
   ]
  },
  {
   "cell_type": "markdown",
   "id": "9aec9f2d",
   "metadata": {},
   "source": [
    "### New momentum variables in terms of old variables:"
   ]
  },
  {
   "cell_type": "markdown",
   "id": "ca25c869",
   "metadata": {},
   "source": [
    "The first two $\\Phi_i$ are related to the $\\Lambda_i$ variables"
   ]
  },
  {
   "cell_type": "code",
   "execution_count": 17,
   "id": "953dd662",
   "metadata": {},
   "outputs": [
    {
     "name": "stdout",
     "output_type": "stream",
     "text": [
      "Phi1 = Lambda1\n",
      "Phi2 = 2*Lambda1 + Lambda2\n"
     ]
    }
   ],
   "source": [
    "for P in Phi[:2]:\n",
    "    print(\"{} = {}\".format(P,ct.new_to_old(P)))"
   ]
  },
  {
   "cell_type": "markdown",
   "id": "f90d4668",
   "metadata": {},
   "source": [
    "The $D_i$ variables are equal to the old $\\Gamma_i = (\\eta_i^2 + \\kappa_i^2)/2$ Poincare variables."
   ]
  },
  {
   "cell_type": "code",
   "execution_count": 18,
   "id": "222569b4",
   "metadata": {},
   "outputs": [
    {
     "name": "stdout",
     "output_type": "stream",
     "text": [
      "D1 = eta1**2/2 + kappa1**2/2\n",
      "D2 = eta2**2/2 + kappa2**2/2\n",
      "D3 = eta3**2/2 + kappa3**2/2\n",
      "D4 = eta4**2/2 + kappa4**2/2\n"
     ]
    }
   ],
   "source": [
    "for P in D[:]:\n",
    "    print(\"{} = {}\".format(P,ct.new_to_old(P)))"
   ]
  },
  {
   "cell_type": "markdown",
   "id": "15481236",
   "metadata": {},
   "source": [
    "# Applying some additional convenient canonical transformations\n",
    "We've arrived at an analytic model for our resonant chain with a minimum number of degrees of freedom.\n",
    "We could go ahead and search for equilibrium configurations of our current model, but before doing so\n",
    "we'll apply a few additional transformations to make our search more covenient."
   ]
  },
  {
   "cell_type": "markdown",
   "id": "c5af471a",
   "metadata": {},
   "source": [
    "## Re-scaling\n",
    "We'll rescale all the canonical momenta and the Hamiltonian by a factor of $1/\\Lambda_{1,0}$.\n",
    "This isn't strictly neccessary but it does make results more readable:"
   ]
  },
  {
   "cell_type": "code",
   "execution_count": 19,
   "id": "02a03699",
   "metadata": {},
   "outputs": [],
   "source": [
    "L0s = pham.Lambda0s\n",
    "full_qs = kam.full_qp_vars[:kam.full_N_dof]\n",
    "full_ps = kam.full_qp_vars[kam.full_N_dof:]\n",
    "full_qp_pairs = list(zip(full_qs,full_ps))\n",
    "ct_rescale = CanonicalTransformation.rescale_transformation(\n",
    "    full_qp_pairs,\n",
    "    1/L0s[1],\n",
    "    params = {L0s[1]:pham.H_params[L0s[1]]}\n",
    ")\n"
   ]
  },
  {
   "cell_type": "code",
   "execution_count": 20,
   "id": "902dc75c",
   "metadata": {},
   "outputs": [],
   "source": [
    "kam_rescaled = ct_rescale.old_to_new_hamiltonian(kam)"
   ]
  },
  {
   "cell_type": "markdown",
   "id": "db4ff0cc",
   "metadata": {},
   "source": [
    "We see that, after rescaling, the terms associated with resonant planet-planet interactions are $\\mathcal{O}(m_p/M_*)\\sim 10^{-5}$ while the Keplerian terms are $\\mathcal{O}(1)$"
   ]
  },
  {
   "cell_type": "code",
   "execution_count": 21,
   "id": "18a0e13e",
   "metadata": {},
   "outputs": [
    {
     "data": {
      "text/latex": [
       "$\\displaystyle 1.35618252495484 \\cdot 10^{-5} \\sqrt{2} \\sqrt{D_{1}} \\cos{\\left(\\phi_{1} + 2 \\phi_{2} - s_{1} \\right)} + 2.71249940248285 \\cdot 10^{-5} \\sqrt{2} \\sqrt{D_{1}} \\cos{\\left(3 \\phi_{1} + 2 \\phi_{2} - s_{1} \\right)} + 5.30940253216612 \\cdot 10^{-6} \\sqrt{2} \\sqrt{D_{2}} \\cos{\\left(\\phi_{2} - s_{2} \\right)} + 1.82258137586944 \\cdot 10^{-5} \\sqrt{2} \\sqrt{D_{2}} \\cos{\\left(2 \\phi_{2} - s_{2} \\right)} - 3.60009472143273 \\cdot 10^{-5} \\sqrt{2} \\sqrt{D_{2}} \\cos{\\left(3 \\phi_{1} + 2 \\phi_{2} - s_{2} \\right)} + 1.48479212402867 \\cdot 10^{-5} \\sqrt{2} \\sqrt{D_{3}} \\cos{\\left(s_{3} \\right)} - 1.66944191717742 \\cdot 10^{-5} \\sqrt{2} \\sqrt{D_{3}} \\cos{\\left(2 \\phi_{2} - s_{3} \\right)} - 4.1555596899855 \\cdot 10^{-6} \\sqrt{2} \\sqrt{D_{3}} \\cos{\\left(\\phi_{1} + 2 \\phi_{2} - s_{3} \\right)} - 2.11247006180381 \\cdot 10^{-5} \\sqrt{2} \\sqrt{D_{4}} \\cos{\\left(s_{4} \\right)} - 1.74072582127508 \\cdot 10^{-6} \\sqrt{2} \\sqrt{D_{4}} \\cos{\\left(\\phi_{2} - s_{4} \\right)} - \\frac{0.00720405512471945}{\\left(- 0.347282539961088 D_{1} - 0.347282539961088 D_{2} - 0.347282539961088 D_{3} - 0.347282539961088 D_{4} + 0.115760846653696 \\Phi_{1} - 0.347282539961088 \\Phi_{2} + 1\\right)^{2}} - \\frac{0.00544734193806632}{\\left(0.866356747785102 D_{1} + 0.866356747785102 D_{2} + 0.866356747785102 D_{3} + 0.866356747785102 D_{4} + 0.433178373892551 \\Phi_{2} - 1\\right)^{2}} - \\frac{0.0348207060440644}{\\left(- \\Phi_{1} + 0.5 \\Phi_{2}\\right)^{2}} - \\frac{0.425480373166728}{\\Phi_{1}^{2}}$"
      ],
      "text/plain": [
       "                         ____                                                ____                            \n",
       "1.35618252495484e-5⋅√2⋅╲╱ D₁ ⋅cos(φ₁ + 2⋅φ₂ - s₁) + 2.71249940248285e-5⋅√2⋅╲╱ D₁ ⋅cos(3⋅φ₁ + 2⋅φ₂ - s₁) + 5.3\n",
       "                                                                                                             \n",
       "                                                                                                             \n",
       "\n",
       "                      ____                                         ____                                      \n",
       "0940253216612e-6⋅√2⋅╲╱ D₂ ⋅cos(φ₂ - s₂) + 1.82258137586944e-5⋅√2⋅╲╱ D₂ ⋅cos(2⋅φ₂ - s₂) - 3.60009472143273e-5⋅\n",
       "                                                                                                             \n",
       "                                                                                                             \n",
       "\n",
       "     ____                                                  ____                                    ____      \n",
       "√2⋅╲╱ D₂ ⋅cos(3⋅φ₁ + 2⋅φ₂ - s₂) + 1.48479212402867e-5⋅√2⋅╲╱ D₃ ⋅cos(s₃) - 1.66944191717742e-5⋅√2⋅╲╱ D₃ ⋅cos(2\n",
       "                                                                                                             \n",
       "                                                                                                             \n",
       "\n",
       "                                    ____                                                ____                 \n",
       "⋅φ₂ - s₃) - 4.1555596899855e-6⋅√2⋅╲╱ D₃ ⋅cos(φ₁ + 2⋅φ₂ - s₃) - 2.11247006180381e-5⋅√2⋅╲╱ D₄ ⋅cos(s₄) - 1.7407\n",
       "                                                                                                             \n",
       "                                                                                                             \n",
       "\n",
       "                   ____                                                                              0.007204\n",
       "2582127508e-6⋅√2⋅╲╱ D₄ ⋅cos(φ₂ - s₄) - ──────────────────────────────────────────────────────────────────────\n",
       "                                                                                                             \n",
       "                                       (-0.347282539961088⋅D₁ - 0.347282539961088⋅D₂ - 0.347282539961088⋅D₃ -\n",
       "\n",
       "05512471945                                                                                                  \n",
       "───────────────────────────────────────────────────────────────────────── - ─────────────────────────────────\n",
       "                                                                        2                                    \n",
       " 0.347282539961088⋅D₄ + 0.115760846653696⋅Φ₁ - 0.347282539961088⋅Φ₂ + 1)    (0.866356747785102⋅D₁ + 0.8663567\n",
       "\n",
       "                 0.00544734193806632                                                     0.0348207060440644  \n",
       "────────────────────────────────────────────────────────────────────────────────────── - ────────────────── -\n",
       "                                                                                     2                  2    \n",
       "47785102⋅D₂ + 0.866356747785102⋅D₃ + 0.866356747785102⋅D₄ + 0.433178373892551⋅Φ₂ - 1)     (-Φ₁ + 0.5⋅Φ₂)     \n",
       "\n",
       " 0.425480373166728\n",
       " ─────────────────\n",
       "          2       \n",
       "        Φ₁        "
      ]
     },
     "execution_count": 21,
     "metadata": {},
     "output_type": "execute_result"
    }
   ],
   "source": [
    "kam_rescaled.N_H"
   ]
  },
  {
   "cell_type": "markdown",
   "id": "7c2e996c",
   "metadata": {},
   "source": [
    "## Translating from $\\Phi_{i}$ to $\\delta\\Phi_i = \\Phi_{i} - \\Phi_{i,0}$\n",
    "The $\\Phi_i$ variables contain different linear combinations of the $\\Lambda_{i}/\\Lambda_{1,0}$:"
   ]
  },
  {
   "cell_type": "code",
   "execution_count": 22,
   "id": "a46de921",
   "metadata": {},
   "outputs": [
    {
     "data": {
      "text/latex": [
       "$\\displaystyle \\left( \\Phi_{1}, \\  \\frac{\\Lambda_{1}}{\\Lambda_{1,0}}\\right)$"
      ],
      "text/plain": [
       "⎛          Λ₁     ⎞\n",
       "⎜Φ₁, ─────────────⎟\n",
       "⎝    \\Lambda_{1,0}⎠"
      ]
     },
     "metadata": {},
     "output_type": "display_data"
    },
    {
     "data": {
      "text/latex": [
       "$\\displaystyle \\left( \\Phi_{2}, \\  \\frac{2 \\Lambda_{1} + \\Lambda_{2}}{\\Lambda_{1,0}}\\right)$"
      ],
      "text/plain": [
       "⎛      2⋅Λ₁ + Λ₂  ⎞\n",
       "⎜Φ₂, ─────────────⎟\n",
       "⎝    \\Lambda_{1,0}⎠"
      ]
     },
     "metadata": {},
     "output_type": "display_data"
    },
    {
     "data": {
      "text/latex": [
       "$\\displaystyle \\left( \\Phi_{3}, \\  \\frac{8 \\Lambda_{1} + 6 \\Lambda_{2} + 4 \\Lambda_{3} + 3 \\Lambda_{4}}{\\Lambda_{1,0}}\\right)$"
      ],
      "text/plain": [
       "⎛    8⋅Λ₁ + 6⋅Λ₂ + 4⋅Λ₃ + 3⋅Λ₄⎞\n",
       "⎜Φ₃, ─────────────────────────⎟\n",
       "⎝          \\Lambda_{1,0}      ⎠"
      ]
     },
     "metadata": {},
     "output_type": "display_data"
    },
    {
     "data": {
      "text/latex": [
       "$\\displaystyle \\left( \\Phi_{4}, \\  \\frac{\\Lambda_{1} + \\Lambda_{2} + \\Lambda_{3} + \\Lambda_{4} - \\frac{\\eta_{1}^{2}}{2} - \\frac{\\eta_{2}^{2}}{2} - \\frac{\\eta_{3}^{2}}{2} - \\frac{\\eta_{4}^{2}}{2} - \\frac{\\kappa_{1}^{2}}{2} - \\frac{\\kappa_{2}^{2}}{2} - \\frac{\\kappa_{3}^{2}}{2} - \\frac{\\kappa_{4}^{2}}{2} - \\frac{\\rho_{1}^{2}}{2} - \\frac{\\rho_{2}^{2}}{2} - \\frac{\\rho_{3}^{2}}{2} - \\frac{\\rho_{4}^{2}}{2} - \\frac{\\sigma_{1}^{2}}{2} - \\frac{\\sigma_{2}^{2}}{2} - \\frac{\\sigma_{3}^{2}}{2} - \\frac{\\sigma_{4}^{2}}{2}}{\\Lambda_{1,0}}\\right)$"
      ],
      "text/plain": [
       "⎛                          2     2     2     2     2     2     2     2     2     2     2     2     2     2   \n",
       "⎜                        η₁    η₂    η₃    η₄    κ₁    κ₂    κ₃    κ₄    ρ₁    ρ₂    ρ₃    ρ₄    σ₁    σ₂    \n",
       "⎜    Λ₁ + Λ₂ + Λ₃ + Λ₄ - ─── - ─── - ─── - ─── - ─── - ─── - ─── - ─── - ─── - ─── - ─── - ─── - ─── - ─── - \n",
       "⎜                         2     2     2     2     2     2     2     2     2     2     2     2     2     2    \n",
       "⎜Φ₄, ────────────────────────────────────────────────────────────────────────────────────────────────────────\n",
       "⎝                                                      \\Lambda_{1,0}                                         \n",
       "\n",
       "  2     2⎞\n",
       "σ₃    σ₄ ⎟\n",
       "─── - ───⎟\n",
       " 2     2 ⎟\n",
       "─────────⎟\n",
       "         ⎠"
      ]
     },
     "metadata": {},
     "output_type": "display_data"
    }
   ],
   "source": [
    "ct_combined = CanonicalTransformation.composite([ct,ct_rescale])\n",
    "for P in Phi:\n",
    "    display((P,ct_combined.new_to_old(P)))"
   ]
  },
  {
   "cell_type": "markdown",
   "id": "6266f8aa",
   "metadata": {},
   "source": [
    "We're interested in studying the system near its multi-resonant configurations. so we'll transform from the canonical momenta $\\Phi_i$ to new momenta,$\\delta\\Phi_i = \\Phi_i - \\Phi_{i,0}$ where the values of $\\Phi_{i,0}$ represent the values of $\\Phi_i$ at exact resonance.\n",
    "To determine the values $\\Lambda_{i}$ at exact resonance, note that $\\Lambda_i = \\mu_in_i^2a_i$. Therefore \n",
    "$$\n",
    "\\Lambda_{i,0}/\\Lambda_{1,0} = \\frac{\\mu_i}{\\mu_1}\\left(\\frac{P_{i}}{P_1}\\right)^{1/3}\n",
    "$$\n",
    "\n"
   ]
  },
  {
   "cell_type": "markdown",
   "id": "c08b9762",
   "metadata": {},
   "source": [
    "We'll set up a list, `Lambda0Ratios`, to hold the values of $\\Lambda_{i,0}/\\Lambda_{1,0}$ at exact resonance:"
   ]
  },
  {
   "cell_type": "code",
   "execution_count": 23,
   "id": "1f9fee68",
   "metadata": {},
   "outputs": [
    {
     "data": {
      "text/latex": [
       "$\\displaystyle \\left[ 1, \\  \\frac{6^{\\frac{2}{3}} \\mu_{2}}{3 \\mu_{1}}, \\  \\frac{\\sqrt[3]{2} \\mu_{3}}{\\mu_{1}}, \\  \\frac{2 \\cdot 3^{\\frac{2}{3}} \\mu_{4}}{3 \\mu_{1}}\\right]$"
      ],
      "text/plain": [
       "⎡    2/3     3 ___        2/3   ⎤\n",
       "⎢   6   ⋅μ₂  ╲╱ 2 ⋅μ₃  2⋅3   ⋅μ₄⎥\n",
       "⎢1, ───────, ────────, ─────────⎥\n",
       "⎣     3⋅μ₁      μ₁        3⋅μ₁  ⎦"
      ]
     },
     "execution_count": 23,
     "metadata": {},
     "output_type": "execute_result"
    }
   ],
   "source": [
    "from sympy import S\n",
    "period_ratios =[3,4,6,8]\n",
    "Lambda0Ratios = [(p/S(3))**(1/S(3)) * S(\"mu{}\".format(i+1))/S(\"mu1\") for i,p in enumerate(period_ratios)]\n",
    "Lambda0Ratios"
   ]
  },
  {
   "cell_type": "markdown",
   "id": "9808572d",
   "metadata": {},
   "source": [
    "Now we'll use these values to set up rules for transforming from $\\Phi_i$ to $\\delta\\Phi_i$:"
   ]
  },
  {
   "cell_type": "code",
   "execution_count": 24,
   "id": "52be11aa",
   "metadata": {},
   "outputs": [
    {
     "data": {
      "text/latex": [
       "$\\displaystyle \\left\\{ \\delta\\Phi_{1} : \\Phi_{1} - 1, \\  \\delta\\Phi_{2} : \\Phi_{2} - 2 - \\frac{6^{\\frac{2}{3}} \\mu_{2}}{3 \\mu_{1}}, \\  \\delta\\Phi_{3} : \\Phi_{3} - 8 - \\frac{2 \\cdot 6^{\\frac{2}{3}} \\mu_{2}}{\\mu_{1}} - \\frac{4 \\sqrt[3]{2} \\mu_{3}}{\\mu_{1}} - \\frac{2 \\cdot 3^{\\frac{2}{3}} \\mu_{4}}{\\mu_{1}}, \\  \\delta\\Phi_{4} : \\Phi_{4} - 1 - \\frac{6^{\\frac{2}{3}} \\mu_{2}}{3 \\mu_{1}} - \\frac{\\sqrt[3]{2} \\mu_{3}}{\\mu_{1}} - \\frac{2 \\cdot 3^{\\frac{2}{3}} \\mu_{4}}{3 \\mu_{1}}\\right\\}$"
      ],
      "text/plain": [
       "⎧                                                  2/3                                 2/3        3 ___      \n",
       "⎪                                                 6   ⋅μ₂                           2⋅6   ⋅μ₂   4⋅╲╱ 2 ⋅μ₃   \n",
       "⎨\\delta\\Phi_{1}: Φ₁ - 1, \\delta\\Phi_{2}: Φ₂ - 2 - ───────, \\delta\\Phi_{3}: Φ₃ - 8 - ───────── - ────────── - \n",
       "⎪                                                   3⋅μ₁                                μ₁          μ₁       \n",
       "⎩                                                                                                            \n",
       "\n",
       "   2/3                               2/3      3 ___         2/3   ⎫\n",
       "2⋅3   ⋅μ₄                           6   ⋅μ₂   ╲╱ 2 ⋅μ₃   2⋅3   ⋅μ₄⎪\n",
       "─────────, \\delta\\Phi_{4}: Φ₄ - 1 - ─────── - ──────── - ─────────⎬\n",
       "    μ₁                                3⋅μ₁       μ₁         3⋅μ₁  ⎪\n",
       "                                                                  ⎭"
      ]
     },
     "execution_count": 24,
     "metadata": {},
     "output_type": "execute_result"
    }
   ],
   "source": [
    "# Variable  symbols\n",
    "from sympy import symbols\n",
    "Lambdas = symbols(\"Lambda(1:5)\") \n",
    "dPhi = symbols(\",\".join([r\"\\delta\\Phi_{{{}}}\".format(i) for i in range(1,5)]))\n",
    "# Transformation rules \n",
    "new2old,old2new = dict(),dict()\n",
    "Lambda2Lambda0Ratios = dict(zip(Lambdas,Lambda0Ratios))\n",
    "ecc_inc_2_zero = dict(zip(symbols(\"eta(1:5),kappa(1:5),rho(1:5),sigma(1:5)\"),np.zeros(4*4)))\n",
    "for P,dP in zip(Phi,dPhi):\n",
    "    P0 = ct.new_to_old(P).subs(Lambda2Lambda0Ratios).subs(ecc_inc_2_zero)\n",
    "    new2old[dP] = P-P0\n",
    "    old2new[P] = P0 + dP\n",
    "new2old"
   ]
  },
  {
   "cell_type": "markdown",
   "id": "5c0d218e",
   "metadata": {},
   "source": [
    "Using these rules, we create a canonical transformation object to gofrom our `oldvars` to our `newvars`"
   ]
  },
  {
   "cell_type": "code",
   "execution_count": 25,
   "id": "3a552656",
   "metadata": {},
   "outputs": [],
   "source": [
    "oldvars = kam_rescaled.full_qp_vars\n",
    "newvars = [var.subs(dict(zip(Phi,dPhi))) for var in kam_rescaled.full_qp_vars]\n",
    "# The planets' mu's appear as parameters in our transformation\n",
    "#  We specify a parameter dictionary to supply numerical values\n",
    "#  for these parameters.\n",
    "pars = {mu:kam_rescaled.H_params[mu] for mu in symbols(\"mu(1:5)\")}\n",
    "ct_translate = CanonicalTransformation(oldvars,newvars,old2new,new2old,params=pars)"
   ]
  },
  {
   "cell_type": "code",
   "execution_count": 26,
   "id": "f85780d7",
   "metadata": {},
   "outputs": [],
   "source": [
    "kam_rescaled_translated = ct_translate.old_to_new_hamiltonian(kam_rescaled)"
   ]
  },
  {
   "cell_type": "code",
   "execution_count": 27,
   "id": "02042b3b",
   "metadata": {
    "scrolled": false
   },
   "outputs": [
    {
     "data": {
      "text/latex": [
       "$\\displaystyle - \\frac{\\sqrt{2} C_{(2,-1,-1,0,0,0)}^{(0,0,0,0),(0,0)}(\\alpha_{1,3}) \\sqrt{D_{1}} G m_{1} m_{3} \\cos{\\left(\\phi_{1} + 2 \\phi_{2} - s_{1} \\right)}}{\\Lambda_{1,0} a_{3,0}} - \\frac{\\sqrt{2} C_{(2,-1,-1,0,0,0)}^{(0,0,0,0),(0,0)}(\\alpha_{2,4}) \\sqrt{D_{2}} G m_{2} m_{4} \\cos{\\left(\\phi_{2} - s_{2} \\right)}}{\\sqrt{\\Lambda_{1,0}} \\sqrt{\\Lambda_{2,0}} a_{4,0}} - \\frac{\\sqrt{2} C_{(2,-1,0,-1,0,0)}^{(0,0,0,0),(0,0)}(\\alpha_{1,3}) \\sqrt{D_{3}} G m_{1} m_{3} \\cos{\\left(\\phi_{1} + 2 \\phi_{2} - s_{3} \\right)}}{\\sqrt{\\Lambda_{1,0}} \\sqrt{\\Lambda_{3,0}} a_{3,0}} - \\frac{\\sqrt{2} C_{(2,-1,0,-1,0,0)}^{(0,0,0,0),(0,0)}(\\alpha_{2,4}) \\sqrt{D_{4}} G m_{2} m_{4} \\cos{\\left(\\phi_{2} - s_{4} \\right)}}{\\sqrt{\\Lambda_{1,0}} \\sqrt{\\Lambda_{4,0}} a_{4,0}} - \\frac{\\sqrt{2} C_{(3,-2,-1,0,0,0)}^{(0,0,0,0),(0,0)}(\\alpha_{2,3}) \\sqrt{D_{2}} G m_{2} m_{3} \\cos{\\left(2 \\phi_{2} - s_{2} \\right)}}{\\sqrt{\\Lambda_{1,0}} \\sqrt{\\Lambda_{2,0}} a_{3,0}} - \\frac{\\sqrt{2} C_{(3,-2,0,-1,0,0)}^{(0,0,0,0),(0,0)}(\\alpha_{2,3}) \\sqrt{D_{3}} G m_{2} m_{3} \\cos{\\left(2 \\phi_{2} - s_{3} \\right)}}{\\sqrt{\\Lambda_{1,0}} \\sqrt{\\Lambda_{3,0}} a_{3,0}} - \\frac{\\sqrt{2} C_{(4,-3,-1,0,0,0)}^{(0,0,0,0),(0,0)}(\\alpha_{1,2}) \\sqrt{D_{1}} G m_{1} m_{2} \\cos{\\left(3 \\phi_{1} + 2 \\phi_{2} - s_{1} \\right)}}{\\Lambda_{1,0} a_{2,0}} - \\frac{\\sqrt{2} C_{(4,-3,-1,0,0,0)}^{(0,0,0,0),(0,0)}(\\alpha_{3,4}) \\sqrt{D_{3}} G m_{3} m_{4} \\cos{\\left(s_{3} \\right)}}{\\sqrt{\\Lambda_{1,0}} \\sqrt{\\Lambda_{3,0}} a_{4,0}} - \\frac{\\sqrt{2} C_{(4,-3,0,-1,0,0)}^{(0,0,0,0),(0,0)}(\\alpha_{1,2}) \\sqrt{D_{2}} G m_{1} m_{2} \\cos{\\left(3 \\phi_{1} + 2 \\phi_{2} - s_{2} \\right)}}{\\sqrt{\\Lambda_{1,0}} \\sqrt{\\Lambda_{2,0}} a_{2,0}} - \\frac{\\sqrt{2} C_{(4,-3,0,-1,0,0)}^{(0,0,0,0),(0,0)}(\\alpha_{3,4}) \\sqrt{D_{4}} G m_{3} m_{4} \\cos{\\left(s_{4} \\right)}}{\\sqrt{\\Lambda_{1,0}} \\sqrt{\\Lambda_{4,0}} a_{4,0}} - \\frac{G^{2} M_{1}^{2} \\mu_{1}^{3}}{2 \\Lambda_{1,0}^{3} \\left(\\delta\\Phi_{1} + 1\\right)^{2}} - \\frac{G^{2} M_{2}^{2} \\mu_{2}^{3}}{2 \\Lambda_{1,0} \\left(- 2 \\Lambda_{1,0} \\left(\\delta\\Phi_{1} + 1\\right) + \\Lambda_{1,0} \\left(\\delta\\Phi_{2} + 2 + \\frac{6^{\\frac{2}{3}} \\mu_{2}}{3 \\mu_{1}}\\right)\\right)^{2}} - \\frac{G^{2} M_{3}^{2} \\mu_{3}^{3}}{2 \\Lambda_{1,0} \\left(- 3 D_{1} \\Lambda_{1,0} - 3 D_{2} \\Lambda_{1,0} - 3 D_{3} \\Lambda_{1,0} - 3 D_{4} \\Lambda_{1,0} - 3 \\Psi_{1} \\Lambda_{1,0} - 3 \\Psi_{2} \\Lambda_{1,0} - 3 \\Psi_{3} \\Lambda_{1,0} - 3 \\Psi_{4} \\Lambda_{1,0} + \\Lambda_{1,0} \\left(\\delta\\Phi_{1} + 1\\right) - 3 \\Lambda_{1,0} \\left(\\delta\\Phi_{2} + 2 + \\frac{6^{\\frac{2}{3}} \\mu_{2}}{3 \\mu_{1}}\\right) + \\Lambda_{1,0} \\left(\\delta\\Phi_{3} + 8 + \\frac{2 \\cdot 6^{\\frac{2}{3}} \\mu_{2}}{\\mu_{1}} + \\frac{4 \\sqrt[3]{2} \\mu_{3}}{\\mu_{1}} + \\frac{2 \\cdot 3^{\\frac{2}{3}} \\mu_{4}}{\\mu_{1}}\\right) - 3 \\Lambda_{1,0} \\left(\\delta\\Phi_{4} + 1 + \\frac{6^{\\frac{2}{3}} \\mu_{2}}{3 \\mu_{1}} + \\frac{\\sqrt[3]{2} \\mu_{3}}{\\mu_{1}} + \\frac{2 \\cdot 3^{\\frac{2}{3}} \\mu_{4}}{3 \\mu_{1}}\\right)\\right)^{2}} - \\frac{G^{2} M_{4}^{2} \\mu_{4}^{3}}{2 \\Lambda_{1,0} \\left(4 D_{1} \\Lambda_{1,0} + 4 D_{2} \\Lambda_{1,0} + 4 D_{3} \\Lambda_{1,0} + 4 D_{4} \\Lambda_{1,0} + 4 \\Psi_{1} \\Lambda_{1,0} + 4 \\Psi_{2} \\Lambda_{1,0} + 4 \\Psi_{3} \\Lambda_{1,0} + 4 \\Psi_{4} \\Lambda_{1,0} + 2 \\Lambda_{1,0} \\left(\\delta\\Phi_{2} + 2 + \\frac{6^{\\frac{2}{3}} \\mu_{2}}{3 \\mu_{1}}\\right) - \\Lambda_{1,0} \\left(\\delta\\Phi_{3} + 8 + \\frac{2 \\cdot 6^{\\frac{2}{3}} \\mu_{2}}{\\mu_{1}} + \\frac{4 \\sqrt[3]{2} \\mu_{3}}{\\mu_{1}} + \\frac{2 \\cdot 3^{\\frac{2}{3}} \\mu_{4}}{\\mu_{1}}\\right) + 4 \\Lambda_{1,0} \\left(\\delta\\Phi_{4} + 1 + \\frac{6^{\\frac{2}{3}} \\mu_{2}}{3 \\mu_{1}} + \\frac{\\sqrt[3]{2} \\mu_{3}}{\\mu_{1}} + \\frac{2 \\cdot 3^{\\frac{2}{3}} \\mu_{4}}{3 \\mu_{1}}\\right)\\right)^{2}}$"
      ],
      "text/plain": [
       "                                                            ____                                             \n",
       "  √2⋅C_{(2,-1,-1,0,0,0)}_{1,3})__{(0,0,0,0),(0,0)}(\\alpha⋅╲╱ D₁ ⋅G⋅m₁⋅m₃⋅cos(φ₁ + 2⋅φ₂ - s₁)   √2⋅C_{(2,-1,-1\n",
       "- ────────────────────────────────────────────────────────────────────────────────────────── - ──────────────\n",
       "                                    \\Lambda_{1,0}⋅a_{3,0}                                                    \n",
       "                                                                                                             \n",
       "                                                                                                             \n",
       "                                                                                                             \n",
       "                                                                                                             \n",
       "\n",
       "                                            ____                                                             \n",
       ",0,0,0)}_{2,4})__{(0,0,0,0),(0,0)}(\\alpha⋅╲╱ D₂ ⋅G⋅m₂⋅m₄⋅cos(φ₂ - s₂)   √2⋅C_{(2,-1,0,-1,0,0)}_{1,3})__{(0,0,\n",
       "───────────────────────────────────────────────────────────────────── - ─────────────────────────────────────\n",
       "        _______________   _______________                                                        ____________\n",
       "      ╲╱ \\Lambda_{1,0} ⋅╲╱ \\Lambda_{2,0} ⋅a_{4,0}                                              ╲╱ \\Lambda_{1,\n",
       "                                                                                                             \n",
       "                                                                                                             \n",
       "                                                                                                             \n",
       "\n",
       "                     ____                                                                                    \n",
       "0,0),(0,0)}(\\alpha⋅╲╱ D₃ ⋅G⋅m₁⋅m₃⋅cos(φ₁ + 2⋅φ₂ - s₃)   √2⋅C_{(2,-1,0,-1,0,0)}_{2,4})__{(0,0,0,0),(0,0)}(\\alp\n",
       "───────────────────────────────────────────────────── - ─────────────────────────────────────────────────────\n",
       "___   _______________                                                         _______________   _____________\n",
       "0} ⋅╲╱ \\Lambda_{3,0} ⋅a_{3,0}                                               ╲╱ \\Lambda_{1,0} ⋅╲╱ \\Lambda_{4,0\n",
       "                                                                                                             \n",
       "                                                                                                             \n",
       "                                                                                                             \n",
       "\n",
       "     ____                                                                                  ____              \n",
       "ha⋅╲╱ D₄ ⋅G⋅m₂⋅m₄⋅cos(φ₂ - s₄)   √2⋅C_{(3,-2,-1,0,0,0)}_{2,3})__{(0,0,0,0),(0,0)}(\\alpha⋅╲╱ D₂ ⋅G⋅m₂⋅m₃⋅cos(2\n",
       "────────────────────────────── - ────────────────────────────────────────────────────────────────────────────\n",
       "__                                                      _______________   _______________                    \n",
       "} ⋅a_{4,0}                                            ╲╱ \\Lambda_{1,0} ⋅╲╱ \\Lambda_{2,0} ⋅a_{3,0}            \n",
       "                                                                                                             \n",
       "                                                                                                             \n",
       "                                                                                                             \n",
       "\n",
       "                                                                      ____                                   \n",
       "⋅φ₂ - s₂)   √2⋅C_{(3,-2,0,-1,0,0)}_{2,3})__{(0,0,0,0),(0,0)}(\\alpha⋅╲╱ D₃ ⋅G⋅m₂⋅m₃⋅cos(2⋅φ₂ - s₃)   √2⋅C_{(4,\n",
       "───────── - ───────────────────────────────────────────────────────────────────────────────────── - ─────────\n",
       "                                   _______________   _______________                                         \n",
       "                                 ╲╱ \\Lambda_{1,0} ⋅╲╱ \\Lambda_{3,0} ⋅a_{3,0}                                 \n",
       "                                                                                                             \n",
       "                                                                                                             \n",
       "                                                                                                             \n",
       "\n",
       "                                                 ____                                                        \n",
       "-3,-1,0,0,0)}_{1,2})__{(0,0,0,0),(0,0)}(\\alpha⋅╲╱ D₁ ⋅G⋅m₁⋅m₂⋅cos(3⋅φ₁ + 2⋅φ₂ - s₁)   √2⋅C_{(4,-3,-1,0,0,0)}_\n",
       "─────────────────────────────────────────────────────────────────────────────────── - ───────────────────────\n",
       "                          \\Lambda_{1,0}⋅a_{2,0}                                                          ____\n",
       "                                                                                                       ╲╱ \\La\n",
       "                                                                                                             \n",
       "                                                                                                             \n",
       "                                                                                                             \n",
       "\n",
       "                                   ____                                                                      \n",
       "{3,4})__{(0,0,0,0),(0,0)}(\\alpha⋅╲╱ D₃ ⋅G⋅m₃⋅m₄⋅cos(s₃)   √2⋅C_{(4,-3,0,-1,0,0)}_{1,2})__{(0,0,0,0),(0,0)}(\\a\n",
       "─────────────────────────────────────────────────────── - ───────────────────────────────────────────────────\n",
       "___________   _______________                                                       _______________   _______\n",
       "mbda_{1,0} ⋅╲╱ \\Lambda_{3,0} ⋅a_{4,0}                                             ╲╱ \\Lambda_{1,0} ⋅╲╱ \\Lambd\n",
       "                                                                                                             \n",
       "                                                                                                             \n",
       "                                                                                                             \n",
       "\n",
       "       ____                                                                                           ____   \n",
       "lpha⋅╲╱ D₂ ⋅G⋅m₁⋅m₂⋅cos(3⋅φ₁ + 2⋅φ₂ - s₂)   √2⋅C_{(4,-3,0,-1,0,0)}_{3,4})__{(0,0,0,0),(0,0)}(\\alpha⋅╲╱ D₄ ⋅G⋅\n",
       "───────────────────────────────────────── - ─────────────────────────────────────────────────────────────────\n",
       "________                                                       _______________   _______________             \n",
       "a_{2,0} ⋅a_{2,0}                                             ╲╱ \\Lambda_{1,0} ⋅╲╱ \\Lambda_{4,0} ⋅a_{4,0}     \n",
       "                                                                                                             \n",
       "                                                                                                             \n",
       "                                                                                                             \n",
       "\n",
       "                               2   2   3                                                                 2   \n",
       "m₃⋅m₄⋅cos(s₄)                 G ⋅M₁ ⋅μ₁                                                                 G ⋅M₂\n",
       "───────────── - ────────────────────────────────────── - ────────────────────────────────────────────────────\n",
       "                               3                     2                                                       \n",
       "                2⋅\\Lambda_{1,0} ⋅(\\delta\\Phi_{1} + 1)                    ⎛                                   \n",
       "                                                                         ⎜                                   \n",
       "                                                         2⋅\\Lambda_{1,0}⋅⎜-2⋅\\Lambda_{1,0}⋅(\\delta\\Phi_{1} + \n",
       "                                                                         ⎝                                   \n",
       "\n",
       "2   3                                                                                                        \n",
       " ⋅μ₂                                                                                                         \n",
       "─────────────────────────────────────────────────── - ───────────────────────────────────────────────────────\n",
       "                                                  2                                                          \n",
       "                   ⎛                      2/3   ⎞⎞                    ⎛                                      \n",
       "                   ⎜                     6   ⋅μ₂⎟⎟                    ⎜                                      \n",
       "1) + \\Lambda_{1,0}⋅⎜\\delta\\Phi_{2} + 2 + ───────⎟⎟    2⋅\\Lambda_{1,0}⋅⎜-3⋅D₁⋅\\Lambda_{1,0} - 3⋅D₂⋅\\Lambda_{1,\n",
       "                   ⎝                       3⋅μ₁ ⎠⎠                    ⎝                                      \n",
       "\n",
       "                                                                                                             \n",
       "                                                                                                             \n",
       "─────────────────────────────────────────────────────────────────────────────────────────────────────────────\n",
       "                                                                                                             \n",
       "                                                                                                             \n",
       "                                                                                                             \n",
       "0} - 3⋅D₃⋅\\Lambda_{1,0} - 3⋅D₄⋅\\Lambda_{1,0} - 3⋅Ψ₁⋅\\Lambda_{1,0} - 3⋅Ψ₂⋅\\Lambda_{1,0} - 3⋅Ψ₃⋅\\Lambda_{1,0} -\n",
       "                                                                                                             \n",
       "\n",
       "                                         2   2   3                                                           \n",
       "                                        G ⋅M₃ ⋅μ₃                                                            \n",
       "─────────────────────────────────────────────────────────────────────────────────────────────────────────────\n",
       "                                                                                                             \n",
       "                                                                           ⎛                      2/3   ⎞    \n",
       "                                                                           ⎜                     6   ⋅μ₂⎟    \n",
       " 3⋅Ψ₄⋅\\Lambda_{1,0} + \\Lambda_{1,0}⋅(\\delta\\Phi_{1} + 1) - 3⋅\\Lambda_{1,0}⋅⎜\\delta\\Phi_{2} + 2 + ───────⎟ + \\\n",
       "                                                                           ⎝                       3⋅μ₁ ⎠    \n",
       "\n",
       "                                                                                                             \n",
       "                                                                                                             \n",
       "─────────────────────────────────────────────────────────────────────────────────────────────────────────────\n",
       "                                                                                                             \n",
       "             ⎛                        2/3        3 ___         2/3   ⎞                   ⎛                   \n",
       "             ⎜                     2⋅6   ⋅μ₂   4⋅╲╱ 2 ⋅μ₃   2⋅3   ⋅μ₄⎟                   ⎜                   \n",
       "Lambda_{1,0}⋅⎜\\delta\\Phi_{3} + 8 + ───────── + ────────── + ─────────⎟ - 3⋅\\Lambda_{1,0}⋅⎜\\delta\\Phi_{4} + 1 \n",
       "             ⎝                         μ₁          μ₁           μ₁   ⎠                   ⎝                   \n",
       "\n",
       "                                                                                                             \n",
       "                                                                                                             \n",
       "─────────────────────────────────── - ───────────────────────────────────────────────────────────────────────\n",
       "                                  2                                                                          \n",
       "   2/3      3 ___         2/3   ⎞⎞                    ⎛                                                      \n",
       "  6   ⋅μ₂   ╲╱ 2 ⋅μ₃   2⋅3   ⋅μ₄⎟⎟                    ⎜                                                      \n",
       "+ ─────── + ──────── + ─────────⎟⎟    2⋅\\Lambda_{1,0}⋅⎜4⋅D₁⋅\\Lambda_{1,0} + 4⋅D₂⋅\\Lambda_{1,0} + 4⋅D₃⋅\\Lambda\n",
       "    3⋅μ₁       μ₁         3⋅μ₁  ⎠⎠                    ⎝                                                      \n",
       "\n",
       "                                                                                                             \n",
       "                                                                                                             \n",
       "─────────────────────────────────────────────────────────────────────────────────────────────────────────────\n",
       "                                                                                                             \n",
       "                                                                                                             \n",
       "                                                                                                             \n",
       "_{1,0} + 4⋅D₄⋅\\Lambda_{1,0} + 4⋅Ψ₁⋅\\Lambda_{1,0} + 4⋅Ψ₂⋅\\Lambda_{1,0} + 4⋅Ψ₃⋅\\Lambda_{1,0} + 4⋅Ψ₄⋅\\Lambda_{1,\n",
       "                                                                                                             \n",
       "\n",
       "      2   2   3                                                                                              \n",
       "     G ⋅M₄ ⋅μ₄                                                                                               \n",
       "─────────────────────────────────────────────────────────────────────────────────────────────────────────────\n",
       "                                                                                                             \n",
       "                     ⎛                      2/3   ⎞                 ⎛                        2/3        3 ___\n",
       "                     ⎜                     6   ⋅μ₂⎟                 ⎜                     2⋅6   ⋅μ₂   4⋅╲╱ 2 \n",
       "0} + 2⋅\\Lambda_{1,0}⋅⎜\\delta\\Phi_{2} + 2 + ───────⎟ - \\Lambda_{1,0}⋅⎜\\delta\\Phi_{3} + 8 + ───────── + ───────\n",
       "                     ⎝                       3⋅μ₁ ⎠                 ⎝                         μ₁          μ₁ \n",
       "\n",
       "                                                                                          \n",
       "                                                                                          \n",
       "──────────────────────────────────────────────────────────────────────────────────────────\n",
       "                                                                                         2\n",
       "         2/3   ⎞                   ⎛                      2/3      3 ___         2/3   ⎞⎞ \n",
       "⋅μ₃   2⋅3   ⋅μ₄⎟                   ⎜                     6   ⋅μ₂   ╲╱ 2 ⋅μ₃   2⋅3   ⋅μ₄⎟⎟ \n",
       "─── + ─────────⎟ + 4⋅\\Lambda_{1,0}⋅⎜\\delta\\Phi_{4} + 1 + ─────── + ──────── + ─────────⎟⎟ \n",
       "          μ₁   ⎠                   ⎝                       3⋅μ₁       μ₁         3⋅μ₁  ⎠⎠ "
      ]
     },
     "execution_count": 27,
     "metadata": {},
     "output_type": "execute_result"
    }
   ],
   "source": [
    "kam_rescaled_translated.H"
   ]
  },
  {
   "cell_type": "markdown",
   "id": "10e9e8b1",
   "metadata": {},
   "source": [
    "## Transform from polar eccentricity variables, $(s_i,D_i)$,  to cartesian variables $(x_i,y_i) =\\sqrt{2D_i}\\times (\\cos s_i, \\sin s_i)$\n",
    "\n",
    "Transforming from polar to cartesian variables avoids coordinate singularities at zero eccentricity.\n",
    "The `CanonicalTransformation.PolarToCartesian` class method provides a convenient way to construct this transformation."
   ]
  },
  {
   "cell_type": "code",
   "execution_count": 28,
   "id": "c6270ff4",
   "metadata": {},
   "outputs": [],
   "source": [
    "oldvars = kam_rescaled_translated.full_qp_vars\n",
    "to_cart_indices = [oldvars.index(s) for s in symbols(\"s(1:5)\")]\n",
    "ct_polar2cart = CanonicalTransformation.polar_to_cartesian(oldvars,to_cart_indices)"
   ]
  },
  {
   "cell_type": "code",
   "execution_count": 29,
   "id": "83ef137a",
   "metadata": {},
   "outputs": [],
   "source": [
    "# A rescaled, translated, cartesian (rtc) version of our Hamiltonian\n",
    "kam_rtc = ct_polar2cart.old_to_new_hamiltonian(kam_rescaled_translated)"
   ]
  },
  {
   "cell_type": "code",
   "execution_count": 30,
   "id": "4ed96794",
   "metadata": {},
   "outputs": [
    {
     "data": {
      "text/latex": [
       "$\\displaystyle - \\frac{C_{(2,-1,-1,0,0,0)}^{(0,0,0,0),(0,0)}(\\alpha_{1,3}) G m_{1} m_{3} \\left(x_{1} \\cos{\\left(\\phi_{1} + 2 \\phi_{2} \\right)} + y_{1} \\sin{\\left(\\phi_{1} + 2 \\phi_{2} \\right)}\\right)}{\\Lambda_{1,0} a_{3,0}} - \\frac{C_{(2,-1,-1,0,0,0)}^{(0,0,0,0),(0,0)}(\\alpha_{2,4}) G m_{2} m_{4} \\left(x_{2} \\cos{\\left(\\phi_{2} \\right)} + y_{2} \\sin{\\left(\\phi_{2} \\right)}\\right)}{\\sqrt{\\Lambda_{1,0}} \\sqrt{\\Lambda_{2,0}} a_{4,0}} - \\frac{C_{(2,-1,0,-1,0,0)}^{(0,0,0,0),(0,0)}(\\alpha_{1,3}) G m_{1} m_{3} \\left(x_{3} \\cos{\\left(\\phi_{1} + 2 \\phi_{2} \\right)} + y_{3} \\sin{\\left(\\phi_{1} + 2 \\phi_{2} \\right)}\\right)}{\\sqrt{\\Lambda_{1,0}} \\sqrt{\\Lambda_{3,0}} a_{3,0}} - \\frac{C_{(2,-1,0,-1,0,0)}^{(0,0,0,0),(0,0)}(\\alpha_{2,4}) G m_{2} m_{4} \\left(x_{4} \\cos{\\left(\\phi_{2} \\right)} + y_{4} \\sin{\\left(\\phi_{2} \\right)}\\right)}{\\sqrt{\\Lambda_{1,0}} \\sqrt{\\Lambda_{4,0}} a_{4,0}} - \\frac{C_{(3,-2,-1,0,0,0)}^{(0,0,0,0),(0,0)}(\\alpha_{2,3}) G m_{2} m_{3} \\left(x_{2} \\cos{\\left(2 \\phi_{2} \\right)} + y_{2} \\sin{\\left(2 \\phi_{2} \\right)}\\right)}{\\sqrt{\\Lambda_{1,0}} \\sqrt{\\Lambda_{2,0}} a_{3,0}} - \\frac{C_{(3,-2,0,-1,0,0)}^{(0,0,0,0),(0,0)}(\\alpha_{2,3}) G m_{2} m_{3} \\left(x_{3} \\cos{\\left(2 \\phi_{2} \\right)} + y_{3} \\sin{\\left(2 \\phi_{2} \\right)}\\right)}{\\sqrt{\\Lambda_{1,0}} \\sqrt{\\Lambda_{3,0}} a_{3,0}} - \\frac{C_{(4,-3,-1,0,0,0)}^{(0,0,0,0),(0,0)}(\\alpha_{1,2}) G m_{1} m_{2} \\left(x_{1} \\cos{\\left(3 \\phi_{1} + 2 \\phi_{2} \\right)} + y_{1} \\sin{\\left(3 \\phi_{1} + 2 \\phi_{2} \\right)}\\right)}{\\Lambda_{1,0} a_{2,0}} - \\frac{C_{(4,-3,-1,0,0,0)}^{(0,0,0,0),(0,0)}(\\alpha_{3,4}) G m_{3} m_{4} x_{3}}{\\sqrt{\\Lambda_{1,0}} \\sqrt{\\Lambda_{3,0}} a_{4,0}} - \\frac{C_{(4,-3,0,-1,0,0)}^{(0,0,0,0),(0,0)}(\\alpha_{1,2}) G m_{1} m_{2} \\left(x_{2} \\cos{\\left(3 \\phi_{1} + 2 \\phi_{2} \\right)} + y_{2} \\sin{\\left(3 \\phi_{1} + 2 \\phi_{2} \\right)}\\right)}{\\sqrt{\\Lambda_{1,0}} \\sqrt{\\Lambda_{2,0}} a_{2,0}} - \\frac{C_{(4,-3,0,-1,0,0)}^{(0,0,0,0),(0,0)}(\\alpha_{3,4}) G m_{3} m_{4} x_{4}}{\\sqrt{\\Lambda_{1,0}} \\sqrt{\\Lambda_{4,0}} a_{4,0}} - \\frac{G^{2} M_{1}^{2} \\mu_{1}^{3}}{2 \\Lambda_{1,0}^{3} \\left(\\delta\\Phi_{1}^{2} + 2 \\delta\\Phi_{1} + 1\\right)} - \\frac{3 G^{2} M_{2}^{2} \\mu_{1}^{2} \\mu_{2}^{3}}{2 \\Lambda_{1,0}^{3} \\left(3 \\mu_{1}^{2} \\left(4 \\delta\\Phi_{1}^{2} - 4 \\delta\\Phi_{1} \\delta\\Phi_{2} + \\delta\\Phi_{2}^{2}\\right) - 2 \\cdot 6^{\\frac{2}{3}} \\mu_{1} \\mu_{2} \\left(2 \\delta\\Phi_{1} - \\delta\\Phi_{2}\\right) + 2 \\sqrt[3]{6} \\mu_{2}^{2}\\right)} - \\frac{2 G^{2} M_{3}^{2} \\mu_{1}^{2} \\mu_{3}^{3}}{\\Lambda_{1,0}^{3} \\left(\\mu_{1}^{2} \\left(36 \\Psi_{1}^{2} + 72 \\Psi_{1} \\Psi_{2} + 72 \\Psi_{1} \\Psi_{3} + 72 \\Psi_{1} \\Psi_{4} - 24 \\Psi_{1} \\delta\\Phi_{1} + 72 \\Psi_{1} \\delta\\Phi_{2} - 24 \\Psi_{1} \\delta\\Phi_{3} + 72 \\Psi_{1} \\delta\\Phi_{4} + 36 \\Psi_{1} x_{1}^{2} + 36 \\Psi_{1} x_{2}^{2} + 36 \\Psi_{1} x_{3}^{2} + 36 \\Psi_{1} x_{4}^{2} + 36 \\Psi_{1} y_{1}^{2} + 36 \\Psi_{1} y_{2}^{2} + 36 \\Psi_{1} y_{3}^{2} + 36 \\Psi_{1} y_{4}^{2} + 36 \\Psi_{2}^{2} + 72 \\Psi_{2} \\Psi_{3} + 72 \\Psi_{2} \\Psi_{4} - 24 \\Psi_{2} \\delta\\Phi_{1} + 72 \\Psi_{2} \\delta\\Phi_{2} - 24 \\Psi_{2} \\delta\\Phi_{3} + 72 \\Psi_{2} \\delta\\Phi_{4} + 36 \\Psi_{2} x_{1}^{2} + 36 \\Psi_{2} x_{2}^{2} + 36 \\Psi_{2} x_{3}^{2} + 36 \\Psi_{2} x_{4}^{2} + 36 \\Psi_{2} y_{1}^{2} + 36 \\Psi_{2} y_{2}^{2} + 36 \\Psi_{2} y_{3}^{2} + 36 \\Psi_{2} y_{4}^{2} + 36 \\Psi_{3}^{2} + 72 \\Psi_{3} \\Psi_{4} - 24 \\Psi_{3} \\delta\\Phi_{1} + 72 \\Psi_{3} \\delta\\Phi_{2} - 24 \\Psi_{3} \\delta\\Phi_{3} + 72 \\Psi_{3} \\delta\\Phi_{4} + 36 \\Psi_{3} x_{1}^{2} + 36 \\Psi_{3} x_{2}^{2} + 36 \\Psi_{3} x_{3}^{2} + 36 \\Psi_{3} x_{4}^{2} + 36 \\Psi_{3} y_{1}^{2} + 36 \\Psi_{3} y_{2}^{2} + 36 \\Psi_{3} y_{3}^{2} + 36 \\Psi_{3} y_{4}^{2} + 36 \\Psi_{4}^{2} - 24 \\Psi_{4} \\delta\\Phi_{1} + 72 \\Psi_{4} \\delta\\Phi_{2} - 24 \\Psi_{4} \\delta\\Phi_{3} + 72 \\Psi_{4} \\delta\\Phi_{4} + 36 \\Psi_{4} x_{1}^{2} + 36 \\Psi_{4} x_{2}^{2} + 36 \\Psi_{4} x_{3}^{2} + 36 \\Psi_{4} x_{4}^{2} + 36 \\Psi_{4} y_{1}^{2} + 36 \\Psi_{4} y_{2}^{2} + 36 \\Psi_{4} y_{3}^{2} + 36 \\Psi_{4} y_{4}^{2} + 4 \\delta\\Phi_{1}^{2} - 24 \\delta\\Phi_{1} \\delta\\Phi_{2} + 8 \\delta\\Phi_{1} \\delta\\Phi_{3} - 24 \\delta\\Phi_{1} \\delta\\Phi_{4} - 12 \\delta\\Phi_{1} x_{1}^{2} - 12 \\delta\\Phi_{1} x_{2}^{2} - 12 \\delta\\Phi_{1} x_{3}^{2} - 12 \\delta\\Phi_{1} x_{4}^{2} - 12 \\delta\\Phi_{1} y_{1}^{2} - 12 \\delta\\Phi_{1} y_{2}^{2} - 12 \\delta\\Phi_{1} y_{3}^{2} - 12 \\delta\\Phi_{1} y_{4}^{2} + 36 \\delta\\Phi_{2}^{2} - 24 \\delta\\Phi_{2} \\delta\\Phi_{3} + 72 \\delta\\Phi_{2} \\delta\\Phi_{4} + 36 \\delta\\Phi_{2} x_{1}^{2} + 36 \\delta\\Phi_{2} x_{2}^{2} + 36 \\delta\\Phi_{2} x_{3}^{2} + 36 \\delta\\Phi_{2} x_{4}^{2} + 36 \\delta\\Phi_{2} y_{1}^{2} + 36 \\delta\\Phi_{2} y_{2}^{2} + 36 \\delta\\Phi_{2} y_{3}^{2} + 36 \\delta\\Phi_{2} y_{4}^{2} + 4 \\delta\\Phi_{3}^{2} - 24 \\delta\\Phi_{3} \\delta\\Phi_{4} - 12 \\delta\\Phi_{3} x_{1}^{2} - 12 \\delta\\Phi_{3} x_{2}^{2} - 12 \\delta\\Phi_{3} x_{3}^{2} - 12 \\delta\\Phi_{3} x_{4}^{2} - 12 \\delta\\Phi_{3} y_{1}^{2} - 12 \\delta\\Phi_{3} y_{2}^{2} - 12 \\delta\\Phi_{3} y_{3}^{2} - 12 \\delta\\Phi_{3} y_{4}^{2} + 36 \\delta\\Phi_{4}^{2} + 36 \\delta\\Phi_{4} x_{1}^{2} + 36 \\delta\\Phi_{4} x_{2}^{2} + 36 \\delta\\Phi_{4} x_{3}^{2} + 36 \\delta\\Phi_{4} x_{4}^{2} + 36 \\delta\\Phi_{4} y_{1}^{2} + 36 \\delta\\Phi_{4} y_{2}^{2} + 36 \\delta\\Phi_{4} y_{3}^{2} + 36 \\delta\\Phi_{4} y_{4}^{2} + 9 x_{1}^{4} + 18 x_{1}^{2} x_{2}^{2} + 18 x_{1}^{2} x_{3}^{2} + 18 x_{1}^{2} x_{4}^{2} + 18 x_{1}^{2} y_{1}^{2} + 18 x_{1}^{2} y_{2}^{2} + 18 x_{1}^{2} y_{3}^{2} + 18 x_{1}^{2} y_{4}^{2} + 9 x_{2}^{4} + 18 x_{2}^{2} x_{3}^{2} + 18 x_{2}^{2} x_{4}^{2} + 18 x_{2}^{2} y_{1}^{2} + 18 x_{2}^{2} y_{2}^{2} + 18 x_{2}^{2} y_{3}^{2} + 18 x_{2}^{2} y_{4}^{2} + 9 x_{3}^{4} + 18 x_{3}^{2} x_{4}^{2} + 18 x_{3}^{2} y_{1}^{2} + 18 x_{3}^{2} y_{2}^{2} + 18 x_{3}^{2} y_{3}^{2} + 18 x_{3}^{2} y_{4}^{2} + 9 x_{4}^{4} + 18 x_{4}^{2} y_{1}^{2} + 18 x_{4}^{2} y_{2}^{2} + 18 x_{4}^{2} y_{3}^{2} + 18 x_{4}^{2} y_{4}^{2} + 9 y_{1}^{4} + 18 y_{1}^{2} y_{2}^{2} + 18 y_{1}^{2} y_{3}^{2} + 18 y_{1}^{2} y_{4}^{2} + 9 y_{2}^{4} + 18 y_{2}^{2} y_{3}^{2} + 18 y_{2}^{2} y_{4}^{2} + 9 y_{3}^{4} + 18 y_{3}^{2} y_{4}^{2} + 9 y_{4}^{4}\\right) - 4 \\sqrt[3]{2} \\mu_{1} \\mu_{3} \\left(6 \\Psi_{1} + 6 \\Psi_{2} + 6 \\Psi_{3} + 6 \\Psi_{4} - 2 \\delta\\Phi_{1} + 6 \\delta\\Phi_{2} - 2 \\delta\\Phi_{3} + 6 \\delta\\Phi_{4} + 3 x_{1}^{2} + 3 x_{2}^{2} + 3 x_{3}^{2} + 3 x_{4}^{2} + 3 y_{1}^{2} + 3 y_{2}^{2} + 3 y_{3}^{2} + 3 y_{4}^{2}\\right) + 4 \\cdot 2^{\\frac{2}{3}} \\mu_{3}^{2}\\right)} - \\frac{3 G^{2} M_{4}^{2} \\mu_{1}^{2} \\mu_{4}^{3}}{2 \\Lambda_{1,0}^{3} \\left(3 \\mu_{1}^{2} \\left(16 \\Psi_{1}^{2} + 32 \\Psi_{1} \\Psi_{2} + 32 \\Psi_{1} \\Psi_{3} + 32 \\Psi_{1} \\Psi_{4} + 16 \\Psi_{1} \\delta\\Phi_{2} - 8 \\Psi_{1} \\delta\\Phi_{3} + 32 \\Psi_{1} \\delta\\Phi_{4} + 16 \\Psi_{1} x_{1}^{2} + 16 \\Psi_{1} x_{2}^{2} + 16 \\Psi_{1} x_{3}^{2} + 16 \\Psi_{1} x_{4}^{2} + 16 \\Psi_{1} y_{1}^{2} + 16 \\Psi_{1} y_{2}^{2} + 16 \\Psi_{1} y_{3}^{2} + 16 \\Psi_{1} y_{4}^{2} + 16 \\Psi_{2}^{2} + 32 \\Psi_{2} \\Psi_{3} + 32 \\Psi_{2} \\Psi_{4} + 16 \\Psi_{2} \\delta\\Phi_{2} - 8 \\Psi_{2} \\delta\\Phi_{3} + 32 \\Psi_{2} \\delta\\Phi_{4} + 16 \\Psi_{2} x_{1}^{2} + 16 \\Psi_{2} x_{2}^{2} + 16 \\Psi_{2} x_{3}^{2} + 16 \\Psi_{2} x_{4}^{2} + 16 \\Psi_{2} y_{1}^{2} + 16 \\Psi_{2} y_{2}^{2} + 16 \\Psi_{2} y_{3}^{2} + 16 \\Psi_{2} y_{4}^{2} + 16 \\Psi_{3}^{2} + 32 \\Psi_{3} \\Psi_{4} + 16 \\Psi_{3} \\delta\\Phi_{2} - 8 \\Psi_{3} \\delta\\Phi_{3} + 32 \\Psi_{3} \\delta\\Phi_{4} + 16 \\Psi_{3} x_{1}^{2} + 16 \\Psi_{3} x_{2}^{2} + 16 \\Psi_{3} x_{3}^{2} + 16 \\Psi_{3} x_{4}^{2} + 16 \\Psi_{3} y_{1}^{2} + 16 \\Psi_{3} y_{2}^{2} + 16 \\Psi_{3} y_{3}^{2} + 16 \\Psi_{3} y_{4}^{2} + 16 \\Psi_{4}^{2} + 16 \\Psi_{4} \\delta\\Phi_{2} - 8 \\Psi_{4} \\delta\\Phi_{3} + 32 \\Psi_{4} \\delta\\Phi_{4} + 16 \\Psi_{4} x_{1}^{2} + 16 \\Psi_{4} x_{2}^{2} + 16 \\Psi_{4} x_{3}^{2} + 16 \\Psi_{4} x_{4}^{2} + 16 \\Psi_{4} y_{1}^{2} + 16 \\Psi_{4} y_{2}^{2} + 16 \\Psi_{4} y_{3}^{2} + 16 \\Psi_{4} y_{4}^{2} + 4 \\delta\\Phi_{2}^{2} - 4 \\delta\\Phi_{2} \\delta\\Phi_{3} + 16 \\delta\\Phi_{2} \\delta\\Phi_{4} + 8 \\delta\\Phi_{2} x_{1}^{2} + 8 \\delta\\Phi_{2} x_{2}^{2} + 8 \\delta\\Phi_{2} x_{3}^{2} + 8 \\delta\\Phi_{2} x_{4}^{2} + 8 \\delta\\Phi_{2} y_{1}^{2} + 8 \\delta\\Phi_{2} y_{2}^{2} + 8 \\delta\\Phi_{2} y_{3}^{2} + 8 \\delta\\Phi_{2} y_{4}^{2} + \\delta\\Phi_{3}^{2} - 8 \\delta\\Phi_{3} \\delta\\Phi_{4} - 4 \\delta\\Phi_{3} x_{1}^{2} - 4 \\delta\\Phi_{3} x_{2}^{2} - 4 \\delta\\Phi_{3} x_{3}^{2} - 4 \\delta\\Phi_{3} x_{4}^{2} - 4 \\delta\\Phi_{3} y_{1}^{2} - 4 \\delta\\Phi_{3} y_{2}^{2} - 4 \\delta\\Phi_{3} y_{3}^{2} - 4 \\delta\\Phi_{3} y_{4}^{2} + 16 \\delta\\Phi_{4}^{2} + 16 \\delta\\Phi_{4} x_{1}^{2} + 16 \\delta\\Phi_{4} x_{2}^{2} + 16 \\delta\\Phi_{4} x_{3}^{2} + 16 \\delta\\Phi_{4} x_{4}^{2} + 16 \\delta\\Phi_{4} y_{1}^{2} + 16 \\delta\\Phi_{4} y_{2}^{2} + 16 \\delta\\Phi_{4} y_{3}^{2} + 16 \\delta\\Phi_{4} y_{4}^{2} + 4 x_{1}^{4} + 8 x_{1}^{2} x_{2}^{2} + 8 x_{1}^{2} x_{3}^{2} + 8 x_{1}^{2} x_{4}^{2} + 8 x_{1}^{2} y_{1}^{2} + 8 x_{1}^{2} y_{2}^{2} + 8 x_{1}^{2} y_{3}^{2} + 8 x_{1}^{2} y_{4}^{2} + 4 x_{2}^{4} + 8 x_{2}^{2} x_{3}^{2} + 8 x_{2}^{2} x_{4}^{2} + 8 x_{2}^{2} y_{1}^{2} + 8 x_{2}^{2} y_{2}^{2} + 8 x_{2}^{2} y_{3}^{2} + 8 x_{2}^{2} y_{4}^{2} + 4 x_{3}^{4} + 8 x_{3}^{2} x_{4}^{2} + 8 x_{3}^{2} y_{1}^{2} + 8 x_{3}^{2} y_{2}^{2} + 8 x_{3}^{2} y_{3}^{2} + 8 x_{3}^{2} y_{4}^{2} + 4 x_{4}^{4} + 8 x_{4}^{2} y_{1}^{2} + 8 x_{4}^{2} y_{2}^{2} + 8 x_{4}^{2} y_{3}^{2} + 8 x_{4}^{2} y_{4}^{2} + 4 y_{1}^{4} + 8 y_{1}^{2} y_{2}^{2} + 8 y_{1}^{2} y_{3}^{2} + 8 y_{1}^{2} y_{4}^{2} + 4 y_{2}^{4} + 8 y_{2}^{2} y_{3}^{2} + 8 y_{2}^{2} y_{4}^{2} + 4 y_{3}^{4} + 8 y_{3}^{2} y_{4}^{2} + 4 y_{4}^{4}\\right) + 4 \\cdot 3^{\\frac{2}{3}} \\mu_{1} \\mu_{4} \\left(4 \\Psi_{1} + 4 \\Psi_{2} + 4 \\Psi_{3} + 4 \\Psi_{4} + 2 \\delta\\Phi_{2} - \\delta\\Phi_{3} + 4 \\delta\\Phi_{4} + 2 x_{1}^{2} + 2 x_{2}^{2} + 2 x_{3}^{2} + 2 x_{4}^{2} + 2 y_{1}^{2} + 2 y_{2}^{2} + 2 y_{3}^{2} + 2 y_{4}^{2}\\right) + 4 \\sqrt[3]{3} \\mu_{4}^{2}\\right)}$"
      ],
      "text/plain": [
       "                                                                                                             \n",
       "  C_{(2,-1,-1,0,0,0)}_{1,3})__{(0,0,0,0),(0,0)}(\\alpha⋅G⋅m₁⋅m₃⋅(x₁⋅cos(φ₁ + 2⋅φ₂) + y₁⋅sin(φ₁ + 2⋅φ₂))   C_{(\n",
       "- ──────────────────────────────────────────────────────────────────────────────────────────────────── - ────\n",
       "                                         \\Lambda_{1,0}⋅a_{3,0}                                               \n",
       "                                                                                                             \n",
       "\n",
       "                                                                                                             \n",
       "2,-1,-1,0,0,0)}_{2,4})__{(0,0,0,0),(0,0)}(\\alpha⋅G⋅m₂⋅m₄⋅(x₂⋅cos(φ₂) + y₂⋅sin(φ₂))   C_{(2,-1,0,-1,0,0)}_{1,3\n",
       "────────────────────────────────────────────────────────────────────────────────── - ────────────────────────\n",
       "                   _______________   _______________                                                         \n",
       "                 ╲╱ \\Lambda_{1,0} ⋅╲╱ \\Lambda_{2,0} ⋅a_{4,0}                                                 \n",
       "\n",
       "                                                                                                             \n",
       "})__{(0,0,0,0),(0,0)}(\\alpha⋅G⋅m₁⋅m₃⋅(x₃⋅cos(φ₁ + 2⋅φ₂) + y₃⋅sin(φ₁ + 2⋅φ₂))   C_{(2,-1,0,-1,0,0)}_{2,4})__{(\n",
       "──────────────────────────────────────────────────────────────────────────── - ──────────────────────────────\n",
       "      _______________   _______________                                                               _______\n",
       "    ╲╱ \\Lambda_{1,0} ⋅╲╱ \\Lambda_{3,0} ⋅a_{3,0}                                                     ╲╱ \\Lambd\n",
       "\n",
       "                                                                                                             \n",
       "0,0,0,0),(0,0)}(\\alpha⋅G⋅m₂⋅m₄⋅(x₄⋅cos(φ₂) + y₄⋅sin(φ₂))   C_{(3,-2,-1,0,0,0)}_{2,3})__{(0,0,0,0),(0,0)}(\\alp\n",
       "──────────────────────────────────────────────────────── - ──────────────────────────────────────────────────\n",
       "________   _______________                                                          _______________   _______\n",
       "a_{1,0} ⋅╲╱ \\Lambda_{4,0} ⋅a_{4,0}                                                ╲╱ \\Lambda_{1,0} ⋅╲╱ \\Lambd\n",
       "\n",
       "                                                                                                             \n",
       "ha⋅G⋅m₂⋅m₃⋅(x₂⋅cos(2⋅φ₂) + y₂⋅sin(2⋅φ₂))   C_{(3,-2,0,-1,0,0)}_{2,3})__{(0,0,0,0),(0,0)}(\\alpha⋅G⋅m₂⋅m₃⋅(x₃⋅c\n",
       "──────────────────────────────────────── - ──────────────────────────────────────────────────────────────────\n",
       "________                                                            _______________   _______________        \n",
       "a_{2,0} ⋅a_{3,0}                                                  ╲╱ \\Lambda_{1,0} ⋅╲╱ \\Lambda_{3,0} ⋅a_{3,0}\n",
       "\n",
       "                                                                                                             \n",
       "os(2⋅φ₂) + y₃⋅sin(2⋅φ₂))   C_{(4,-3,-1,0,0,0)}_{1,2})__{(0,0,0,0),(0,0)}(\\alpha⋅G⋅m₁⋅m₂⋅(x₁⋅cos(3⋅φ₁ + 2⋅φ₂) \n",
       "──────────────────────── - ──────────────────────────────────────────────────────────────────────────────────\n",
       "                                                                    \\Lambda_{1,0}⋅a_{2,0}                    \n",
       "                                                                                                             \n",
       "\n",
       "                                                                                                             \n",
       "+ y₁⋅sin(3⋅φ₁ + 2⋅φ₂))   C_{(4,-3,-1,0,0,0)}_{3,4})__{(0,0,0,0),(0,0)}(\\alpha⋅G⋅m₃⋅m₄⋅x₃   C_{(4,-3,0,-1,0,0)\n",
       "────────────────────── - ─────────────────────────────────────────────────────────────── - ──────────────────\n",
       "                                     _______________   _______________                                       \n",
       "                                   ╲╱ \\Lambda_{1,0} ⋅╲╱ \\Lambda_{3,0} ⋅a_{4,0}                               \n",
       "\n",
       "                                                                                                             \n",
       "}_{1,2})__{(0,0,0,0),(0,0)}(\\alpha⋅G⋅m₁⋅m₂⋅(x₂⋅cos(3⋅φ₁ + 2⋅φ₂) + y₂⋅sin(3⋅φ₁ + 2⋅φ₂))   C_{(4,-3,0,-1,0,0)}_\n",
       "────────────────────────────────────────────────────────────────────────────────────── - ────────────────────\n",
       "              _______________   _______________                                                      ________\n",
       "            ╲╱ \\Lambda_{1,0} ⋅╲╱ \\Lambda_{2,0} ⋅a_{2,0}                                            ╲╱ \\Lambda\n",
       "\n",
       "                                                                       2   2   3                             \n",
       "{3,4})__{(0,0,0,0),(0,0)}(\\alpha⋅G⋅m₃⋅m₄⋅x₄                           G ⋅M₁ ⋅μ₁                              \n",
       "─────────────────────────────────────────── - ───────────────────────────────────────────────────────── - ───\n",
       "_______   _______________                                    3 ⎛              2                       ⎞      \n",
       "_{1,0} ⋅╲╱ \\Lambda_{4,0} ⋅a_{4,0}             2⋅\\Lambda_{1,0} ⋅⎝\\delta\\Phi_{1}  + 2⋅\\delta\\Phi_{1} + 1⎠   2⋅\\\n",
       "\n",
       "                                                                         2   2   2   3                       \n",
       "                                                                      3⋅G ⋅M₂ ⋅μ₁ ⋅μ₂                        \n",
       "─────────────────────────────────────────────────────────────────────────────────────────────────────────────\n",
       "            3 ⎛    2 ⎛                2                                                   2⎞      2/3        \n",
       "Lambda_{1,0} ⋅⎝3⋅μ₁ ⋅⎝4⋅\\delta\\Phi_{1}  - 4⋅\\delta\\Phi_{1}⋅\\delta\\Phi_{2} + \\delta\\Phi_{2} ⎠ - 2⋅6   ⋅μ₁⋅μ₂⋅(\n",
       "\n",
       "                                                                                                             \n",
       "                                                                                                             \n",
       "───────────────────────────────────────────────── - ─────────────────────────────────────────────────────────\n",
       "                                       3 ___   2⎞                3 ⎛  2 ⎛     2                              \n",
       "2⋅\\delta\\Phi_{1} - \\delta\\Phi_{2}) + 2⋅╲╱ 6 ⋅μ₂ ⎠   \\Lambda_{1,0} ⋅⎝μ₁ ⋅⎝36⋅Ψ₁  + 72⋅Ψ₁⋅Ψ₂ + 72⋅Ψ₁⋅Ψ₃ + 72⋅Ψ₁\n",
       "\n",
       "                                                                                                             \n",
       "                                                                                                             \n",
       "─────────────────────────────────────────────────────────────────────────────────────────────────────────────\n",
       "                                                                                                          2  \n",
       "⋅Ψ₄ - 24⋅Ψ₁⋅\\delta\\Phi_{1} + 72⋅Ψ₁⋅\\delta\\Phi_{2} - 24⋅Ψ₁⋅\\delta\\Phi_{3} + 72⋅Ψ₁⋅\\delta\\Phi_{4} + 36⋅Ψ₁⋅x₁  +\n",
       "\n",
       "                                                                                                             \n",
       "                                                                                                             \n",
       "─────────────────────────────────────────────────────────────────────────────────────────────────────────────\n",
       "         2           2           2           2           2           2           2        2                  \n",
       " 36⋅Ψ₁⋅x₂  + 36⋅Ψ₁⋅x₃  + 36⋅Ψ₁⋅x₄  + 36⋅Ψ₁⋅y₁  + 36⋅Ψ₁⋅y₂  + 36⋅Ψ₁⋅y₃  + 36⋅Ψ₁⋅y₄  + 36⋅Ψ₂  + 72⋅Ψ₂⋅Ψ₃ + 72⋅Ψ\n",
       "\n",
       "                                                                                                             \n",
       "                                                                                                             \n",
       "─────────────────────────────────────────────────────────────────────────────────────────────────────────────\n",
       "                                                                                                           2 \n",
       "₂⋅Ψ₄ - 24⋅Ψ₂⋅\\delta\\Phi_{1} + 72⋅Ψ₂⋅\\delta\\Phi_{2} - 24⋅Ψ₂⋅\\delta\\Phi_{3} + 72⋅Ψ₂⋅\\delta\\Phi_{4} + 36⋅Ψ₂⋅x₁  \n",
       "\n",
       "                                                                                                             \n",
       "                                                                                                             \n",
       "─────────────────────────────────────────────────────────────────────────────────────────────────────────────\n",
       "          2           2           2           2           2           2           2        2                 \n",
       "+ 36⋅Ψ₂⋅x₂  + 36⋅Ψ₂⋅x₃  + 36⋅Ψ₂⋅x₄  + 36⋅Ψ₂⋅y₁  + 36⋅Ψ₂⋅y₂  + 36⋅Ψ₂⋅y₃  + 36⋅Ψ₂⋅y₄  + 36⋅Ψ₃  + 72⋅Ψ₃⋅Ψ₄ - 24⋅\n",
       "\n",
       "                                                                                                             \n",
       "                                                                                                             \n",
       "─────────────────────────────────────────────────────────────────────────────────────────────────────────────\n",
       "                                                                                                 2           \n",
       "Ψ₃⋅\\delta\\Phi_{1} + 72⋅Ψ₃⋅\\delta\\Phi_{2} - 24⋅Ψ₃⋅\\delta\\Phi_{3} + 72⋅Ψ₃⋅\\delta\\Phi_{4} + 36⋅Ψ₃⋅x₁  + 36⋅Ψ₃⋅x₂\n",
       "\n",
       "                                                                                                             \n",
       "                                                                                                             \n",
       "─────────────────────────────────────────────────────────────────────────────────────────────────────────────\n",
       "2           2           2           2           2           2           2        2                           \n",
       "  + 36⋅Ψ₃⋅x₃  + 36⋅Ψ₃⋅x₄  + 36⋅Ψ₃⋅y₁  + 36⋅Ψ₃⋅y₂  + 36⋅Ψ₃⋅y₃  + 36⋅Ψ₃⋅y₄  + 36⋅Ψ₄  - 24⋅Ψ₄⋅\\delta\\Phi_{1} + 7\n",
       "\n",
       "                                                                                                             \n",
       "                                                                                                             \n",
       "─────────────────────────────────────────────────────────────────────────────────────────────────────────────\n",
       "                                                                            2           2           2        \n",
       "2⋅Ψ₄⋅\\delta\\Phi_{2} - 24⋅Ψ₄⋅\\delta\\Phi_{3} + 72⋅Ψ₄⋅\\delta\\Phi_{4} + 36⋅Ψ₄⋅x₁  + 36⋅Ψ₄⋅x₂  + 36⋅Ψ₄⋅x₃  + 36⋅Ψ₄\n",
       "\n",
       "                                                                                                             \n",
       "                                                                                                             \n",
       "─────────────────────────────────────────────────────────────────────────────────────────────────────────────\n",
       "   2           2           2           2           2                   2                                     \n",
       "⋅x₄  + 36⋅Ψ₄⋅y₁  + 36⋅Ψ₄⋅y₂  + 36⋅Ψ₄⋅y₃  + 36⋅Ψ₄⋅y₄  + 4⋅\\delta\\Phi_{1}  - 24⋅\\delta\\Phi_{1}⋅\\delta\\Phi_{2} +\n",
       "\n",
       "                                                                                                             \n",
       "                                                                                                             \n",
       "─────────────────────────────────────────────────────────────────────────────────────────────────────────────\n",
       "                                                                                          2                  \n",
       " 8⋅\\delta\\Phi_{1}⋅\\delta\\Phi_{3} - 24⋅\\delta\\Phi_{1}⋅\\delta\\Phi_{4} - 12⋅\\delta\\Phi_{1}⋅x₁  - 12⋅\\delta\\Phi_{\n",
       "\n",
       "                                                                                                             \n",
       "                                                                                                             \n",
       "─────────────────────────────────────────────────────────────────────────────────────────────────────────────\n",
       "     2                       2                       2                       2                       2       \n",
       "1}⋅x₂  - 12⋅\\delta\\Phi_{1}⋅x₃  - 12⋅\\delta\\Phi_{1}⋅x₄  - 12⋅\\delta\\Phi_{1}⋅y₁  - 12⋅\\delta\\Phi_{1}⋅y₂  - 12⋅\\\n",
       "\n",
       "                                                                                                             \n",
       "                                                                                                             \n",
       "─────────────────────────────────────────────────────────────────────────────────────────────────────────────\n",
       "                2                       2                    2                                               \n",
       "delta\\Phi_{1}⋅y₃  - 12⋅\\delta\\Phi_{1}⋅y₄  + 36⋅\\delta\\Phi_{2}  - 24⋅\\delta\\Phi_{2}⋅\\delta\\Phi_{3} + 72⋅\\delta\n",
       "\n",
       "                  2   2   2   3                                                                              \n",
       "               2⋅G ⋅M₃ ⋅μ₁ ⋅μ₃                                                                               \n",
       "─────────────────────────────────────────────────────────────────────────────────────────────────────────────\n",
       "                                              2                       2                       2              \n",
       "\\Phi_{2}⋅\\delta\\Phi_{4} + 36⋅\\delta\\Phi_{2}⋅x₁  + 36⋅\\delta\\Phi_{2}⋅x₂  + 36⋅\\delta\\Phi_{2}⋅x₃  + 36⋅\\delta\\P\n",
       "\n",
       "                                                                                                             \n",
       "                                                                                                             \n",
       "─────────────────────────────────────────────────────────────────────────────────────────────────────────────\n",
       "         2                       2                       2                       2                       2   \n",
       "hi_{2}⋅x₄  + 36⋅\\delta\\Phi_{2}⋅y₁  + 36⋅\\delta\\Phi_{2}⋅y₂  + 36⋅\\delta\\Phi_{2}⋅y₃  + 36⋅\\delta\\Phi_{2}⋅y₄  + \n",
       "\n",
       "                                                                                                             \n",
       "                                                                                                             \n",
       "─────────────────────────────────────────────────────────────────────────────────────────────────────────────\n",
       "                2                                                          2                       2         \n",
       "4⋅\\delta\\Phi_{3}  - 24⋅\\delta\\Phi_{3}⋅\\delta\\Phi_{4} - 12⋅\\delta\\Phi_{3}⋅x₁  - 12⋅\\delta\\Phi_{3}⋅x₂  - 12⋅\\de\n",
       "\n",
       "                                                                                                             \n",
       "                                                                                                             \n",
       "─────────────────────────────────────────────────────────────────────────────────────────────────────────────\n",
       "              2                       2                       2                       2                      \n",
       "lta\\Phi_{3}⋅x₃  - 12⋅\\delta\\Phi_{3}⋅x₄  - 12⋅\\delta\\Phi_{3}⋅y₁  - 12⋅\\delta\\Phi_{3}⋅y₂  - 12⋅\\delta\\Phi_{3}⋅y\n",
       "\n",
       "                                                                                                             \n",
       "                                                                                                             \n",
       "─────────────────────────────────────────────────────────────────────────────────────────────────────────────\n",
       " 2                       2                    2                       2                       2              \n",
       "₃  - 12⋅\\delta\\Phi_{3}⋅y₄  + 36⋅\\delta\\Phi_{4}  + 36⋅\\delta\\Phi_{4}⋅x₁  + 36⋅\\delta\\Phi_{4}⋅x₂  + 36⋅\\delta\\P\n",
       "\n",
       "                                                                                                             \n",
       "                                                                                                             \n",
       "─────────────────────────────────────────────────────────────────────────────────────────────────────────────\n",
       "         2                       2                       2                       2                       2   \n",
       "hi_{4}⋅x₃  + 36⋅\\delta\\Phi_{4}⋅x₄  + 36⋅\\delta\\Phi_{4}⋅y₁  + 36⋅\\delta\\Phi_{4}⋅y₂  + 36⋅\\delta\\Phi_{4}⋅y₃  + \n",
       "\n",
       "                                                                                                             \n",
       "                                                                                                             \n",
       "─────────────────────────────────────────────────────────────────────────────────────────────────────────────\n",
       "                    2       4        2   2        2   2        2   2        2   2        2   2        2   2  \n",
       "36⋅\\delta\\Phi_{4}⋅y₄  + 9⋅x₁  + 18⋅x₁ ⋅x₂  + 18⋅x₁ ⋅x₃  + 18⋅x₁ ⋅x₄  + 18⋅x₁ ⋅y₁  + 18⋅x₁ ⋅y₂  + 18⋅x₁ ⋅y₃  +\n",
       "\n",
       "                                                                                                             \n",
       "                                                                                                             \n",
       "─────────────────────────────────────────────────────────────────────────────────────────────────────────────\n",
       "      2   2       4        2   2        2   2        2   2        2   2        2   2        2   2       4    \n",
       " 18⋅x₁ ⋅y₄  + 9⋅x₂  + 18⋅x₂ ⋅x₃  + 18⋅x₂ ⋅x₄  + 18⋅x₂ ⋅y₁  + 18⋅x₂ ⋅y₂  + 18⋅x₂ ⋅y₃  + 18⋅x₂ ⋅y₄  + 9⋅x₃  + 1\n",
       "\n",
       "                                                                                                             \n",
       "                                                                                                             \n",
       "─────────────────────────────────────────────────────────────────────────────────────────────────────────────\n",
       "    2   2        2   2        2   2        2   2        2   2       4        2   2        2   2        2   2 \n",
       "8⋅x₃ ⋅x₄  + 18⋅x₃ ⋅y₁  + 18⋅x₃ ⋅y₂  + 18⋅x₃ ⋅y₃  + 18⋅x₃ ⋅y₄  + 9⋅x₄  + 18⋅x₄ ⋅y₁  + 18⋅x₄ ⋅y₂  + 18⋅x₄ ⋅y₃  \n",
       "\n",
       "                                                                                                             \n",
       "                                                                                                             \n",
       "─────────────────────────────────────────────────────────────────────────────────────────────────────────────\n",
       "       2   2       4        2   2        2   2        2   2       4        2   2        2   2       4        \n",
       "+ 18⋅x₄ ⋅y₄  + 9⋅y₁  + 18⋅y₁ ⋅y₂  + 18⋅y₁ ⋅y₃  + 18⋅y₁ ⋅y₄  + 9⋅y₂  + 18⋅y₂ ⋅y₃  + 18⋅y₂ ⋅y₄  + 9⋅y₃  + 18⋅y₃\n",
       "\n",
       "                                                                                                             \n",
       "                                                                                                             \n",
       "─────────────────────────────────────────────────────────────────────────────────────────────────────────────\n",
       "2   2       4⎞     3 ___       ⎛                                                                             \n",
       " ⋅y₄  + 9⋅y₄ ⎠ - 4⋅╲╱ 2 ⋅μ₁⋅μ₃⋅⎝6⋅Ψ₁ + 6⋅Ψ₂ + 6⋅Ψ₃ + 6⋅Ψ₄ - 2⋅\\delta\\Phi_{1} + 6⋅\\delta\\Phi_{2} - 2⋅\\delta\\Ph\n",
       "\n",
       "                                                                                                             \n",
       "                                                                                                             \n",
       "─────────────────────────────────────────────────────────────────────────────────────────────────────── - ───\n",
       "                               2       2       2       2       2       2       2       2⎞      2/3   2⎞      \n",
       "i_{3} + 6⋅\\delta\\Phi_{4} + 3⋅x₁  + 3⋅x₂  + 3⋅x₃  + 3⋅x₄  + 3⋅y₁  + 3⋅y₂  + 3⋅y₃  + 3⋅y₄ ⎠ + 4⋅2   ⋅μ₃ ⎠   2⋅\\\n",
       "\n",
       "                                                                                                             \n",
       "                                                                                                             \n",
       "─────────────────────────────────────────────────────────────────────────────────────────────────────────────\n",
       "            3 ⎛    2 ⎛     2                                                                                 \n",
       "Lambda_{1,0} ⋅⎝3⋅μ₁ ⋅⎝16⋅Ψ₁  + 32⋅Ψ₁⋅Ψ₂ + 32⋅Ψ₁⋅Ψ₃ + 32⋅Ψ₁⋅Ψ₄ + 16⋅Ψ₁⋅\\delta\\Phi_{2} - 8⋅Ψ₁⋅\\delta\\Phi_{3} + \n",
       "\n",
       "                                                                                                             \n",
       "                                                                                                             \n",
       "─────────────────────────────────────────────────────────────────────────────────────────────────────────────\n",
       "                               2           2           2           2           2           2           2     \n",
       "32⋅Ψ₁⋅\\delta\\Phi_{4} + 16⋅Ψ₁⋅x₁  + 16⋅Ψ₁⋅x₂  + 16⋅Ψ₁⋅x₃  + 16⋅Ψ₁⋅x₄  + 16⋅Ψ₁⋅y₁  + 16⋅Ψ₁⋅y₂  + 16⋅Ψ₁⋅y₃  + 16\n",
       "\n",
       "                                                                                                             \n",
       "                                                                                                             \n",
       "─────────────────────────────────────────────────────────────────────────────────────────────────────────────\n",
       "      2        2                                                                                             \n",
       "⋅Ψ₁⋅y₄  + 16⋅Ψ₂  + 32⋅Ψ₂⋅Ψ₃ + 32⋅Ψ₂⋅Ψ₄ + 16⋅Ψ₂⋅\\delta\\Phi_{2} - 8⋅Ψ₂⋅\\delta\\Phi_{3} + 32⋅Ψ₂⋅\\delta\\Phi_{4} + \n",
       "\n",
       "                                                                                                             \n",
       "                                                                                                             \n",
       "─────────────────────────────────────────────────────────────────────────────────────────────────────────────\n",
       "        2           2           2           2           2           2           2           2        2       \n",
       "16⋅Ψ₂⋅x₁  + 16⋅Ψ₂⋅x₂  + 16⋅Ψ₂⋅x₃  + 16⋅Ψ₂⋅x₄  + 16⋅Ψ₂⋅y₁  + 16⋅Ψ₂⋅y₂  + 16⋅Ψ₂⋅y₃  + 16⋅Ψ₂⋅y₄  + 16⋅Ψ₃  + 32⋅Ψ\n",
       "\n",
       "                                                                                                             \n",
       "                                                                                                             \n",
       "─────────────────────────────────────────────────────────────────────────────────────────────────────────────\n",
       "                                                                                   2           2           2 \n",
       "₃⋅Ψ₄ + 16⋅Ψ₃⋅\\delta\\Phi_{2} - 8⋅Ψ₃⋅\\delta\\Phi_{3} + 32⋅Ψ₃⋅\\delta\\Phi_{4} + 16⋅Ψ₃⋅x₁  + 16⋅Ψ₃⋅x₂  + 16⋅Ψ₃⋅x₃  \n",
       "\n",
       "                                                                                                             \n",
       "                                                                                                             \n",
       "─────────────────────────────────────────────────────────────────────────────────────────────────────────────\n",
       "          2           2           2           2           2        2                                         \n",
       "+ 16⋅Ψ₃⋅x₄  + 16⋅Ψ₃⋅y₁  + 16⋅Ψ₃⋅y₂  + 16⋅Ψ₃⋅y₃  + 16⋅Ψ₃⋅y₄  + 16⋅Ψ₄  + 16⋅Ψ₄⋅\\delta\\Phi_{2} - 8⋅Ψ₄⋅\\delta\\Phi\n",
       "\n",
       "                                                                                                             \n",
       "                                                                                                             \n",
       "─────────────────────────────────────────────────────────────────────────────────────────────────────────────\n",
       "                                      2           2           2           2           2           2          \n",
       "_{3} + 32⋅Ψ₄⋅\\delta\\Phi_{4} + 16⋅Ψ₄⋅x₁  + 16⋅Ψ₄⋅x₂  + 16⋅Ψ₄⋅x₃  + 16⋅Ψ₄⋅x₄  + 16⋅Ψ₄⋅y₁  + 16⋅Ψ₄⋅y₂  + 16⋅Ψ₄⋅y\n",
       "\n",
       "                                                                                                             \n",
       "                                                                                                             \n",
       "─────────────────────────────────────────────────────────────────────────────────────────────────────────────\n",
       " 2           2                   2                                                                           \n",
       "₃  + 16⋅Ψ₄⋅y₄  + 4⋅\\delta\\Phi_{2}  - 4⋅\\delta\\Phi_{2}⋅\\delta\\Phi_{3} + 16⋅\\delta\\Phi_{2}⋅\\delta\\Phi_{4} + 8⋅\\\n",
       "\n",
       "                                                                                                             \n",
       "                                                                                                             \n",
       "─────────────────────────────────────────────────────────────────────────────────────────────────────────────\n",
       "                2                      2                      2                      2                      2\n",
       "delta\\Phi_{2}⋅x₁  + 8⋅\\delta\\Phi_{2}⋅x₂  + 8⋅\\delta\\Phi_{2}⋅x₃  + 8⋅\\delta\\Phi_{2}⋅x₄  + 8⋅\\delta\\Phi_{2}⋅y₁ \n",
       "\n",
       "                                                   2   2   2   3                                             \n",
       "                                                3⋅G ⋅M₄ ⋅μ₁ ⋅μ₄                                              \n",
       "─────────────────────────────────────────────────────────────────────────────────────────────────────────────\n",
       "                      2                      2                      2                 2                      \n",
       " + 8⋅\\delta\\Phi_{2}⋅y₂  + 8⋅\\delta\\Phi_{2}⋅y₃  + 8⋅\\delta\\Phi_{2}⋅y₄  + \\delta\\Phi_{3}  - 8⋅\\delta\\Phi_{3}⋅\\d\n",
       "\n",
       "                                                                                                             \n",
       "                                                                                                             \n",
       "─────────────────────────────────────────────────────────────────────────────────────────────────────────────\n",
       "                                  2                      2                      2                      2     \n",
       "elta\\Phi_{4} - 4⋅\\delta\\Phi_{3}⋅x₁  - 4⋅\\delta\\Phi_{3}⋅x₂  - 4⋅\\delta\\Phi_{3}⋅x₃  - 4⋅\\delta\\Phi_{3}⋅x₄  - 4⋅\n",
       "\n",
       "                                                                                                             \n",
       "                                                                                                             \n",
       "─────────────────────────────────────────────────────────────────────────────────────────────────────────────\n",
       "                 2                      2                      2                      2                    2 \n",
       "\\delta\\Phi_{3}⋅y₁  - 4⋅\\delta\\Phi_{3}⋅y₂  - 4⋅\\delta\\Phi_{3}⋅y₃  - 4⋅\\delta\\Phi_{3}⋅y₄  + 16⋅\\delta\\Phi_{4}  \n",
       "\n",
       "                                                                                                             \n",
       "                                                                                                             \n",
       "─────────────────────────────────────────────────────────────────────────────────────────────────────────────\n",
       "                      2                       2                       2                       2              \n",
       "+ 16⋅\\delta\\Phi_{4}⋅x₁  + 16⋅\\delta\\Phi_{4}⋅x₂  + 16⋅\\delta\\Phi_{4}⋅x₃  + 16⋅\\delta\\Phi_{4}⋅x₄  + 16⋅\\delta\\P\n",
       "\n",
       "                                                                                                             \n",
       "                                                                                                             \n",
       "─────────────────────────────────────────────────────────────────────────────────────────────────────────────\n",
       "         2                       2                       2                       2       4       2   2       \n",
       "hi_{4}⋅y₁  + 16⋅\\delta\\Phi_{4}⋅y₂  + 16⋅\\delta\\Phi_{4}⋅y₃  + 16⋅\\delta\\Phi_{4}⋅y₄  + 4⋅x₁  + 8⋅x₁ ⋅x₂  + 8⋅x₁\n",
       "\n",
       "                                                                                                             \n",
       "                                                                                                             \n",
       "─────────────────────────────────────────────────────────────────────────────────────────────────────────────\n",
       "2   2       2   2       2   2       2   2       2   2       2   2       4       2   2       2   2       2   2\n",
       " ⋅x₃  + 8⋅x₁ ⋅x₄  + 8⋅x₁ ⋅y₁  + 8⋅x₁ ⋅y₂  + 8⋅x₁ ⋅y₃  + 8⋅x₁ ⋅y₄  + 4⋅x₂  + 8⋅x₂ ⋅x₃  + 8⋅x₂ ⋅x₄  + 8⋅x₂ ⋅y₁ \n",
       "\n",
       "                                                                                                             \n",
       "                                                                                                             \n",
       "─────────────────────────────────────────────────────────────────────────────────────────────────────────────\n",
       "       2   2       2   2       2   2       4       2   2       2   2       2   2       2   2       2   2     \n",
       " + 8⋅x₂ ⋅y₂  + 8⋅x₂ ⋅y₃  + 8⋅x₂ ⋅y₄  + 4⋅x₃  + 8⋅x₃ ⋅x₄  + 8⋅x₃ ⋅y₁  + 8⋅x₃ ⋅y₂  + 8⋅x₃ ⋅y₃  + 8⋅x₃ ⋅y₄  + 4⋅\n",
       "\n",
       "                                                                                                             \n",
       "                                                                                                             \n",
       "─────────────────────────────────────────────────────────────────────────────────────────────────────────────\n",
       "  4       2   2       2   2       2   2       2   2       4       2   2       2   2       2   2       4      \n",
       "x₄  + 8⋅x₄ ⋅y₁  + 8⋅x₄ ⋅y₂  + 8⋅x₄ ⋅y₃  + 8⋅x₄ ⋅y₄  + 4⋅y₁  + 8⋅y₁ ⋅y₂  + 8⋅y₁ ⋅y₃  + 8⋅y₁ ⋅y₄  + 4⋅y₂  + 8⋅y\n",
       "\n",
       "                                                                                                             \n",
       "                                                                                                             \n",
       "─────────────────────────────────────────────────────────────────────────────────────────────────────────────\n",
       " 2   2       2   2       4       2   2       4⎞      2/3       ⎛                                             \n",
       "₂ ⋅y₃  + 8⋅y₂ ⋅y₄  + 4⋅y₃  + 8⋅y₃ ⋅y₄  + 4⋅y₄ ⎠ + 4⋅3   ⋅μ₁⋅μ₄⋅⎝4⋅Ψ₁ + 4⋅Ψ₂ + 4⋅Ψ₃ + 4⋅Ψ₄ + 2⋅\\delta\\Phi_{2} \n",
       "\n",
       "                                                                                                             \n",
       "                                                                                                             \n",
       "─────────────────────────────────────────────────────────────────────────────────────────────────────────────\n",
       "                                          2       2       2       2       2       2       2       2⎞     3 __\n",
       "- \\delta\\Phi_{3} + 4⋅\\delta\\Phi_{4} + 2⋅x₁  + 2⋅x₂  + 2⋅x₃  + 2⋅x₄  + 2⋅y₁  + 2⋅y₂  + 2⋅y₃  + 2⋅y₄ ⎠ + 4⋅╲╱ 3\n",
       "\n",
       "      \n",
       "      \n",
       "──────\n",
       "_   2⎞\n",
       " ⋅μ₄ ⎠"
      ]
     },
     "execution_count": 30,
     "metadata": {},
     "output_type": "execute_result"
    }
   ],
   "source": [
    "kam_rtc.H"
   ]
  },
  {
   "cell_type": "markdown",
   "id": "c634fb37",
   "metadata": {},
   "source": [
    "# Solve for equilibrium configurations\n",
    "Now, we'll search for equilibrium solutions to the equations of motion.\n",
    "\n",
    "In gerenral these equilibria depend on the various conserved quantites. Since we're only interested in planar configurations, we can set the $\\Psi_i=0$. We therefore nominally have two quantities, $\\delta \\Phi_3$ and $\\delta \\Phi_4$. However, *(blah blah blah)*. Therefore, without loss of generality, we can set $\\delta \\Phi_3=0$ and search for equilibria as a function of $\\delta \\Phi_4$.\n",
    "In fact, we'll search for equailirbia as function of the variable $\\mathcal{D} = -\\delta \\Phi_4$, which is essentially the AMD of the system (see [Haddden & Payne 2020](https://ui.adsabs.harvard.edu/abs/2020AJ....160..106H/abstract))"
   ]
  },
  {
   "cell_type": "code",
   "execution_count": 31,
   "id": "db02c5b2",
   "metadata": {},
   "outputs": [
    {
     "data": {
      "text/plain": [
       "True"
      ]
     },
     "execution_count": 31,
     "metadata": {},
     "output_type": "execute_result"
    }
   ],
   "source": [
    "kam_rtc._needs_update"
   ]
  },
  {
   "cell_type": "code",
   "execution_count": 32,
   "id": "7ed11288",
   "metadata": {},
   "outputs": [],
   "source": [
    "amd = symbols(r\"\\mathcal{D}\")\n",
    "amd_rule = {Phi[2]:0,dPhi[3]: -1*amd}\n",
    "pars = kam_rtc.H_params"
   ]
  },
  {
   "cell_type": "code",
   "execution_count": 33,
   "id": "f5e8b05d",
   "metadata": {},
   "outputs": [
    {
     "data": {
      "text/latex": [
       "$\\displaystyle \\left\\{ \\Phi_{3} : 0, \\  \\delta\\Phi_{4} : - \\mathcal{D}\\right\\}$"
      ],
      "text/plain": [
       "{Φ₃: 0, \\delta\\Phi_{4}: -\\mathcal{D}}"
      ]
     },
     "execution_count": 33,
     "metadata": {},
     "output_type": "execute_result"
    }
   ],
   "source": [
    "amd_rule"
   ]
  },
  {
   "cell_type": "code",
   "execution_count": 34,
   "id": "82490b9c",
   "metadata": {},
   "outputs": [],
   "source": [
    "Nflow = kam_rtc.flow.subs(amd_rule).subs(pars).evalf()\n",
    "\n",
    "Njac = kam_rtc.jacobian.subs(amd_rule).evalf().subs(pars)"
   ]
  },
  {
   "cell_type": "code",
   "execution_count": 35,
   "id": "cb564e7c",
   "metadata": {},
   "outputs": [],
   "source": [
    "from sympy import lambdify\n",
    "dyvars = kam_rtc.qp_vars + [amd]\n",
    "flow_func = lambdify(dyvars,Nflow)\n",
    "Dflow_func = lambdify(dyvars,Njac)"
   ]
  },
  {
   "cell_type": "code",
   "execution_count": 36,
   "id": "d3f88f90",
   "metadata": {},
   "outputs": [],
   "source": [
    "from scipy.linalg import solve as lin_solve\n",
    "import warnings\n",
    "\n",
    "\n",
    "fun = lambda x,D: flow_func(*x,D).reshape(-1)\n",
    "Dfun = lambda x,D: Dflow_func(*x,D) \n",
    "\n",
    "\n",
    "def newton_solve(guess,amd0,max_iter=100,rtol=1e-6,atol=1e-12):\n",
    "    y = guess.copy()\n",
    "    for itr in range(max_iter):\n",
    "        f = fun(y,amd0)\n",
    "        Df = Dfun(y,amd0)\n",
    "        dy = -1 * lin_solve(Df,f)\n",
    "        y+=dy\n",
    "        if np.alltrue( np.abs(dy) < rtol * np.abs(y) + atol ):\n",
    "            break\n",
    "    else:\n",
    "        warnings.warn(\"did not converge\")\n",
    "    return y\n"
   ]
  },
  {
   "cell_type": "markdown",
   "id": "0d36cb35",
   "metadata": {},
   "source": [
    "The root-finding in this high dimensional problem can be a bit finicky: \n",
    " - Trying lots of initial guesses helps find all the elliptic equilibria\n",
    " - Turning off warnings surpresses annoying warnings about a poorly conditioned Jacobian during the Newton's method root-finding"
   ]
  },
  {
   "cell_type": "code",
   "execution_count": 37,
   "id": "944b68a3",
   "metadata": {},
   "outputs": [],
   "source": [
    "inital_guesses=[]\n",
    "for phi10 in np.linspace(0,350,23):\n",
    "    for phi20 in [75,180,300]:\n",
    "        guess=np.zeros(12)\n",
    "        guess[:2] = np.array([phi10,phi20]) * np.pi/180\n",
    "        inital_guesses.append(guess)\n",
    "inital_guesses = np.array(inital_guesses)\n",
    "\n",
    "import warnings\n",
    "warnings.filterwarnings(\"ignore\")"
   ]
  },
  {
   "cell_type": "code",
   "execution_count": 38,
   "id": "35923dcb",
   "metadata": {
    "scrolled": false
   },
   "outputs": [
    {
     "data": {
      "text/plain": [
       "Text(0, 0.5, '$\\\\phi_2$ [deg]')"
      ]
     },
     "execution_count": 38,
     "metadata": {},
     "output_type": "execute_result"
    },
    {
     "data": {
      "image/png": "[encoded data removed]",
      "text/plain": [
       "<Figure size 432x288 with 1 Axes>"
      ]
     },
     "metadata": {
      "needs_background": "light"
     },
     "output_type": "display_data"
    }
   ],
   "source": [
    "\n",
    "\n",
    "amd0 = 0.02**2\n",
    "initial_solns = []\n",
    "phi_eqs = []\n",
    "already_found = False\n",
    "for ig in inital_guesses:\n",
    "    try:\n",
    "        soln = newton_solve(ig,amd0,rtol = 1e-8,atol = 1e-13)\n",
    "    except:\n",
    "        continue\n",
    "    phi1,phi2 = soln[:2]\n",
    "    phi1,phi2=np.mod([phi1,phi2],2*np.pi)\n",
    "    \n",
    "    # Has this combinations of phi1 & phi2 occurred yet?\n",
    "    if len(phi_eqs)>0:\n",
    "        already_found = np.any(np.alltrue(np.isclose(np.array(phi_eqs),np.array((phi1,phi2))),axis=1))\n",
    "    if not already_found:\n",
    "        phi_eqs.append((phi1,phi2))\n",
    "        jac = Dfun(soln,amd0)\n",
    "        eigs = np.linalg.eigvals(jac)\n",
    "        eigs_r = np.real(eigs)\n",
    "        ell = np.alltrue(np.isclose(np.abs(eigs_r),0))\n",
    "        # Save initial conditions for points at \n",
    "        # elliptic equilibria\n",
    "        if ell:\n",
    "            initial_solns.append(soln)\n",
    "        mrker = 'o' if ell else 'x'\n",
    "        plt.scatter(180 * phi1 / np.pi,180 * phi2 / np.pi,s=150,marker=mrker)\n",
    "plt.xlim(-2,362)\n",
    "plt.ylim(-2,362)\n",
    "plt.xticks([0,90,180,270,360])\n",
    "plt.yticks([0,90,180,270,360])\n",
    "plt.tick_params(labelsize=16,size=8,direction='in')\n",
    "plt.xlabel(r\"$\\phi_1$ [deg]\",fontsize=20)\n",
    "plt.ylabel(r\"$\\phi_2$ [deg]\",fontsize=20)"
   ]
  },
  {
   "cell_type": "markdown",
   "id": "f04c1ba4",
   "metadata": {},
   "source": [
    "# Get $N$-body simulations at equilibria"
   ]
  },
  {
   "cell_type": "code",
   "execution_count": 40,
   "id": "38f5e2f3",
   "metadata": {},
   "outputs": [],
   "source": [
    "# A canonical transformation representing the composition of all the transformations we've \n",
    "# gone through so far. \n",
    "# Used to go from equlibiria -> poincare variables -> N-body simulations\n",
    "ct_composite = CanonicalTransformation.composite([ct,ct_rescale,ct_translate,ct_polar2cart])"
   ]
  },
  {
   "cell_type": "code",
   "execution_count": 43,
   "id": "cb188458",
   "metadata": {},
   "outputs": [],
   "source": [
    "active_mask = np.array([v in kam_rtc.qp_vars for v in kam_rtc.full_qp_vars])\n",
    "idPhi4 = kam_rtc.full_qp_vars.index(dPhi[3])\n",
    "\n",
    "# Convert a solution to a rebound simulation\n",
    "def to_sim(soln,amdval,sim0):\n",
    "    vals = np.array(kam_rtc.full_values)\n",
    "    vals[active_mask] = soln\n",
    "    vals[idPhi4] = -1*amdval\n",
    "    pvars = Poincare.from_Simulation(sim0)\n",
    "    pvars.values = ct_composite.new_to_old_array(vals)\n",
    "    sim = pvars.to_Simulation()\n",
    "    sim.t = 0\n",
    "    return sim\n",
    "# Run a rebound simulation and get orbital angles and eccentricities\n",
    "def get_angles_and_eccentricities(sim,times):\n",
    "    N = len(times) \n",
    "    ps = sim.particles\n",
    "    Npl = len(ps) - 1\n",
    "    angs = np.zeros((N,3*Npl))\n",
    "    eccs = np.zeros((N,Npl))\n",
    "    for i,t in enumerate(times):\n",
    "        sim.integrate(t)\n",
    "        for j,p in enumerate(ps[1:]):\n",
    "            eccs[i,j] = p.e\n",
    "            angs[i,j] = p.l\n",
    "            angs[i,j+Npl] = -1 * p.pomega\n",
    "            angs[i,j+2*Npl] = -1 * p.Omega\n",
    "    return angs,eccs\n",
    "    "
   ]
  },
  {
   "cell_type": "code",
   "execution_count": 44,
   "id": "96befbbf",
   "metadata": {},
   "outputs": [
    {
     "data": {
      "text/plain": [
       "[<matplotlib.axis.YTick at 0x7fac9e252340>,\n",
       " <matplotlib.axis.YTick at 0x7fac9e252280>,\n",
       " <matplotlib.axis.YTick at 0x7fac9f9d0970>,\n",
       " <matplotlib.axis.YTick at 0x7faca0918100>,\n",
       " <matplotlib.axis.YTick at 0x7faca09187c0>]"
      ]
     },
     "execution_count": 44,
     "metadata": {},
     "output_type": "execute_result"
    },
    {
     "data": {
      "image/png": "[encoded data removed]",
      "text/plain": [
       "<Figure size 1080x360 with 12 Axes>"
      ]
     },
     "metadata": {
      "needs_background": "light"
     },
     "output_type": "display_data"
    }
   ],
   "source": [
    "# Simulation times to get N-body results for\n",
    "times = np.linspace(0,1,256) * 2e3 * sim.particles[1].P\n",
    "\n",
    "# Set up plots\n",
    "fig,ax = plt.subplots(2,6,figsize=(15,5),sharex=True,sharey='row')\n",
    "\n",
    "# Loop over 6 stable equilibria, plot N-body solutions\n",
    "for i,soln in enumerate(initial_solns):\n",
    "    sim = to_sim(soln,amd0,sim)\n",
    "    angs,eccs = get_angles_and_eccentricities(sim,times)\n",
    "    ax[0,i].plot(times,eccs)\n",
    "    res_angs = np.mod(np.array([A @ ang for ang in angs]),2*np.pi)\n",
    "    ax[1,i].plot(times,180*res_angs[:,0]/np.pi)\n",
    "    ax[1,i].plot(times,180*res_angs[:,1]/np.pi)\n",
    "    \n",
    "# make things  prettier\n",
    "ax[0,0].set_ylabel(r\"$e_i$ [deg]\",fontsize = 16)\n",
    "ax[1,0].set_ylabel(r\"$\\phi_i$ [deg]\",fontsize = 16)\n",
    "ax[1,0].set_yticks([0,90,180,270,360])"
   ]
  },
  {
   "cell_type": "markdown",
   "id": "804c374e",
   "metadata": {},
   "source": [
    "# AMD-dependence of Period ratios and eccentricities \n",
    "Here we'll choose one of our families of equilibria and look at how the planets eccentricities and distance to resonance, defined as $\\Delta = \\frac{j-1}{j}\\frac{P_\\mathrm{out}}{P_\\mathrm{in}} - 1$ with $j$ particular to each pair's resonance."
   ]
  },
  {
   "cell_type": "code",
   "execution_count": 45,
   "id": "ab324bd1",
   "metadata": {},
   "outputs": [
    {
     "name": "stdout",
     "output_type": "stream",
     "text": [
      "Using equilibrium with phi1=-57.9 deg, phi2=78.2 deg\n"
     ]
    }
   ],
   "source": [
    "init_soln = initial_solns[4]\n",
    "phi1eq,phi2eq=np.array(init_soln[:2]) * 180/np.pi\n",
    "print(\"Using equilibrium with phi1={:.1f} deg, phi2={:.1f} deg\".format(phi1eq,phi2eq))\n",
    "# The actual Kepler-223 system resides close to this equilibrium"
   ]
  },
  {
   "cell_type": "code",
   "execution_count": 46,
   "id": "61f2ef07",
   "metadata": {},
   "outputs": [],
   "source": [
    "Nsolns = 150\n",
    "amdvals = np.logspace(np.log10(0.05 * amd0),np.log10(25*amd0),Nsolns)\n",
    "guess = init_soln.copy()\n",
    "eq_solns = np.zeros((Nsolns,guess.shape[0]))\n",
    "for i,amdval in enumerate(amdvals):\n",
    "    guess = newton_solve(guess,amdval)\n",
    "    eq_solns[i] = guess\n",
    "    \n",
    "#for amdval in "
   ]
  },
  {
   "cell_type": "code",
   "execution_count": 47,
   "id": "3c22b4dd",
   "metadata": {},
   "outputs": [
    {
     "data": {
      "text/plain": [
       "Text(0.5, 0, '$100\\\\times\\\\Delta$')"
      ]
     },
     "execution_count": 47,
     "metadata": {},
     "output_type": "execute_result"
    },
    {
     "data": {
      "image/png": "[encoded data removed]",
      "text/plain": [
       "<Figure size 360x504 with 3 Axes>"
      ]
     },
     "metadata": {
      "needs_background": "light"
     },
     "output_type": "display_data"
    }
   ],
   "source": [
    "plstr='bcde'\n",
    "fig,ax = plt.subplots(3,sharex=True,figsize=(5,7))\n",
    "periods,eccs = np.zeros((2,len(eq_solns),4))\n",
    "for i,soln in enumerate(eq_solns):\n",
    "    sim = to_sim(soln,amdvals[i],sim)\n",
    "    ps = sim.particles\n",
    "    periods[i] = [p.P for p in ps[1:]]\n",
    "    eccs[i] = [p.e for p in ps[1:]]\n",
    "Deltas = periods[:,1:]/periods[:,:-1] * np.array([3/4,2/3,3/4])-1\n",
    "for j,D in enumerate(Deltas.T):\n",
    "    ax[j].plot(100*D,eccs[:,j],'k',label=\"$e_{}$\".format(plstr[j]))\n",
    "    ax[j].plot(100*D,eccs[:,j+1],'r',label=\"$e_{}$\".format(plstr[j+1]))\n",
    "    ax[j].legend(fontsize=20)\n",
    "    ax[j].set_ylim(0,0.15)\n",
    "    ax[j].set_ylabel(\"$e$\")\n",
    "ax[2].set_xlabel(r\"$100\\times\\Delta$\",fontsize=20)"
   ]
  },
  {
   "cell_type": "markdown",
   "id": "bcbf2437",
   "metadata": {},
   "source": [
    "# Migration Simulation\n",
    "Maybe do something with this?"
   ]
  },
  {
   "cell_type": "code",
   "execution_count": null,
   "id": "0d1fbb48",
   "metadata": {},
   "outputs": [],
   "source": [
    "import reboundx as rbx"
   ]
  },
  {
   "cell_type": "code",
   "execution_count": null,
   "id": "652ed924",
   "metadata": {},
   "outputs": [],
   "source": [
    "sim = rb.Simulation()\n",
    "# Taken from Table 1 of Mills+ (2016)\n",
    "Mstar = 1.125\n",
    "Mearth = 3e-6\n",
    "\n",
    "periods = [7.38449,9.84564,14.78869,19.72567] # Periods in days\n",
    "masses = [7.4,5.1,8.0,4.8] # Masses in Earth masses\n",
    "\n",
    "\n",
    "sim = rb.Simulation()\n",
    "sim.units  = (\"Msun\",\"days\",\"AU\")\n",
    "sim.add(m=Mstar)\n",
    "factors = np.cumproduct(1 + np.array([0,0.005,0.005,0.01]))\n",
    "for mass,per,f in zip(masses,periods,factors):\n",
    "    sim.add(m = mass*Mearth,P =per * f)\n",
    "sim.move_to_com()\n",
    "extras = rbx.Extras(sim)\n",
    "mod=extras.load_operator(\"modify_orbits_direct\")\n",
    "mod.params['p']=0\n",
    "extras.add_operator(mod)\n",
    "tau_alpha = 1e6 * sim.particles[1].P\n",
    "\n",
    "mtrx=np.array([\n",
    "    [p.m/p.a for p in sim.particles[1:]],\n",
    "    [1,-1,0,0],\n",
    "    [0, 1,-1,0],\n",
    "    [0, 0,1,-1],\n",
    "])\n",
    "tau_inv_vals = np.linalg.inv(mtrx) @np.array([0,1/tau_alpha,1/tau_alpha,1/tau_alpha])\n",
    "for p,tau_i in zip(sim.particles[1:],1/tau_inv_vals):\n",
    "    p.params['tau_a'] = tau_i\n",
    "    p.params['tau_e'] = -1 * np.abs(tau_i)/100\n"
   ]
  },
  {
   "cell_type": "code",
   "execution_count": null,
   "id": "6fc6813a",
   "metadata": {},
   "outputs": [],
   "source": [
    "from celmech.nbody_simulation_utilities import set_timestep, get_simarchive_integration_results"
   ]
  },
  {
   "cell_type": "code",
   "execution_count": null,
   "id": "51cc2643",
   "metadata": {},
   "outputs": [],
   "source": [
    "sim.integrator = 'whfast'\n",
    "set_timestep(sim,1/45.)\n",
    "Tfin = 3e4 * sim.particles[1].P\n",
    "Nout = 256\n",
    "sim.automateSimulationArchive(\"migration.sa\",interval=Tfin/Nout,deletefile=True)"
   ]
  },
  {
   "cell_type": "code",
   "execution_count": null,
   "id": "432bcdb1",
   "metadata": {},
   "outputs": [],
   "source": [
    "sim.integrate(Tfin)"
   ]
  },
  {
   "cell_type": "code",
   "execution_count": null,
   "id": "3974b7b9",
   "metadata": {},
   "outputs": [],
   "source": [
    "results=get_simarchive_integration_results(\"migration.sa\")"
   ]
  },
  {
   "cell_type": "code",
   "execution_count": null,
   "id": "28fd4c03",
   "metadata": {
    "scrolled": false
   },
   "outputs": [],
   "source": [
    "colors = 'rgby'\n",
    "fig,ax = plt.subplots(3,1,sharex=True,figsize=(7,9))\n",
    "angs = np.vstack((results['l'],-1*results['pomega'],-1*results['Omega'])).T\n",
    "res_angs = np.mod(np.array([A @ ang for ang in angs]),2*np.pi)\n",
    "ax[0].plot(results['time'],res_angs[:,0] * 180 / np.pi,'-')\n",
    "ax[0].plot(results['time'],res_angs[:,1] * 180 / np.pi,'-')\n",
    "ax[0].set_ylim(-5,365)\n",
    "ax[0].set_yticks([0,90,180,270,360])\n",
    "for i,e in enumerate(results['e']):\n",
    "    ax[1].plot(results['time'],results['e'][i],color=colors[i],label=i+1)\n",
    "ax[1].legend(fontsize=14)\n",
    "\n",
    "\n",
    "ax[2].plot(results['time'],results['P'][1]/results['P'][0]*3/4-1)\n",
    "ax[2].plot(results['time'],results['P'][2]/results['P'][1]*2/3-1)\n",
    "ax[2].plot(results['time'],results['P'][3]/results['P'][2]*3/4-1)\n",
    "\n",
    "for a in ax:\n",
    "    plt.sca(a)\n",
    "    plt.tick_params(labelsize=16)"
   ]
  }
 ],
 "metadata": {
  "kernelspec": {
   "display_name": "Python 3 (ipykernel)",
   "language": "python",
   "name": "python3"
  },
  "language_info": {
   "codemirror_mode": {
    "name": "ipython",
    "version": 3
   },
   "file_extension": ".py",
   "mimetype": "text/x-python",
   "name": "python",
   "nbconvert_exporter": "python",
   "pygments_lexer": "ipython3",
   "version": "3.9.7"
  }
 },
 "nbformat": 4,
 "nbformat_minor": 5
}
