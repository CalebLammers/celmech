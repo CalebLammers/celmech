{
 "cells": [
  {
   "cell_type": "markdown",
   "id": "b14fe97e",
   "metadata": {},
   "source": [
    "# The Kepler-223 resonant chain system"
   ]
  },
  {
   "cell_type": "markdown",
   "id": "c00e6480",
   "metadata": {},
   "source": [
    "Kepler-223 is a 4-planet resonant chain discovered by the *Kepler* mission. The system has been characterized via TTV analysis by [Mills et. al. 2016](https://ui.adsabs.harvard.edu/abs/2016Natur.533..509M/abstract). \n",
    "The planet's periods are locked in/near a 3:4:6:8 commensurability. [Delisle (2017)](https://ui.adsabs.harvard.edu/abs/2017A%26A...605A..96D/abstract)\n",
    "describes an analytic model for the resonant dynamics of this (and similar) systems. This example is based on  this analytic model.\n",
    "\n",
    "We'll proceed through a series of canonical transformations to arrive at a Hamiltonian model for the resonant interactions in this system. We'll then use this model to solve for the families of equilibrium configurations for this resonant chain."
   ]
  },
  {
   "cell_type": "code",
   "execution_count": 1,
   "id": "330bd51a",
   "metadata": {},
   "outputs": [],
   "source": [
    "import numpy as np\n",
    "import matplotlib.pyplot as plt\n",
    "%matplotlib inline\n",
    "import rebound as rb\n",
    "from celmech import get_symbol, get_symbol0"
   ]
  },
  {
   "cell_type": "markdown",
   "id": "96d20d83",
   "metadata": {},
   "source": [
    "## Set up a `rebound` simulation of Kepler-223\n",
    "\n",
    "First we'll set up a `rebound` simulation of the Kepler-223 system, initializing each planet at its observed best-fit mass and orbital period. We won't worry about setting eccentricities our orbital phases now, since we'll be determining these later when we solve for resonant equilibrium configurations."
   ]
  },
  {
   "cell_type": "code",
   "execution_count": 2,
   "id": "654ea0e0",
   "metadata": {},
   "outputs": [],
   "source": [
    "# Taken from Table 1 of Mills+ (2016)\n",
    "Mstar = 1.125\n",
    "Mearth = 3e-6\n",
    "\n",
    "periods = [7.38449,9.84564,14.78869,19.72567] # Periods in days\n",
    "masses = [7.4,5.1,8.0,4.8] # Masses in Earth masses\n",
    "\n",
    "\n",
    "sim = rb.Simulation()\n",
    "sim.units  = (\"Msun\",\"days\",\"AU\")\n",
    "sim.add(m=Mstar)\n",
    "for mass,per in zip(masses,periods):\n",
    "    sim.add(m = mass*Mearth,P =per)\n",
    "sim.move_to_com()"
   ]
  },
  {
   "cell_type": "markdown",
   "id": "bb149793",
   "metadata": {},
   "source": [
    "## Set up a `PoincareHamiltonian` object\n",
    "\n",
    "We'll use the `PoincareHamiltonian` class to begin constructing an analytic model for the system."
   ]
  },
  {
   "cell_type": "code",
   "execution_count": 3,
   "id": "a18448cf",
   "metadata": {},
   "outputs": [],
   "source": [
    "from celmech import Poincare,PoincareHamiltonian"
   ]
  },
  {
   "cell_type": "code",
   "execution_count": 4,
   "id": "47da9cd8",
   "metadata": {},
   "outputs": [],
   "source": [
    "pvars = Poincare.from_Simulation(sim)\n",
    "pham = PoincareHamiltonian(pvars)"
   ]
  },
  {
   "cell_type": "markdown",
   "id": "e1a36ec6",
   "metadata": {},
   "source": [
    "### Add resonant interaction terms: \n",
    "First, we determine nearest $j$:$j-1$ for each adjacent resonant pair, then add the corresponding resonant interaction terms for each pair. Finally, we add the additional 2:1 MMR terms for the non-adjacent planets."
   ]
  },
  {
   "cell_type": "code",
   "execution_count": 5,
   "id": "f9cfc647",
   "metadata": {},
   "outputs": [],
   "source": [
    "max_order = 1 # Include terms up to 1st order in e\n",
    "add_secular = False # We won't include secular terms\n",
    "p_arr=np.array(periods) \n",
    "# the nearest j:j-1 resonance is given by j= Round[ 1+1/((P_out/P_in) - 1) ]\n",
    "res_list = np.round(1+1/(p_arr[1:]/p_arr[:-1]-1)).astype(int)\n",
    "\n",
    "# Add secular terms\n",
    "if add_secular:\n",
    "    for i in range(1,pham.N):\n",
    "        for j in range(i+1,pham.N):\n",
    "            pham.add_monomial_term([0 for _ in range(6)],(0,0,1,0),indexIn=i,indexOut=j)\n",
    "            pham.add_monomial_term([0 for _ in range(6)],(0,0,0,1),indexIn=i,indexOut=j)\n",
    "            pham.add_monomial_term([0,0,-1,1,0,0],(0,0,0,0),indexIn=i,indexOut=j)\n",
    "        \n",
    "# Add adjacent pair terms\n",
    "for i,j in enumerate(res_list):\n",
    "    pham.add_MMR_terms(j,1,max_order,indexIn=i+1,indexOut=i+2,inclinations=False)\n",
    "\n",
    "    \n",
    "# add the 2:1 MMR terms for non-adjacent pairs\n",
    "pham.add_MMR_terms(2,1,max_order,indexIn=2,indexOut=4,inclinations=False)\n",
    "pham.add_MMR_terms(2,1,max_order,indexIn=1,indexOut=3,inclinations=False)"
   ]
  },
  {
   "cell_type": "markdown",
   "id": "a592214f",
   "metadata": {},
   "source": [
    "# Transformation to resonant variables\n",
    "\n",
    "Following Equation 12 of [Delisle (2017)](https://ui.adsabs.harvard.edu/abs/2017A%26A...605A..96D/abstract), we perform a canonical transformation to new resonant angle variables[^1].  \n",
    "\n",
    "$$\n",
    "\\begin{pmatrix}\n",
    "\\phi_1\\\\\n",
    "\\phi_2\\\\\n",
    "\\phi_3\\\\\n",
    "\\phi_4\\\\\\\n",
    "s_1\\\\\n",
    "s_2\\\\\n",
    "s_3\\\\\n",
    "s_4\n",
    "\\end{pmatrix}\n",
    "= \n",
    "\\underbrace{\n",
    "\\begin{pmatrix}\n",
    "    1 & -2 &  1 &  0     & 0 & 0 & 0 & 0 \\\\\n",
    "    0 &  1 & -3 &  2     & 0 & 0 & 0 & 0 \\\\\n",
    "    0 &  0 &  1 & -1     & 0 & 0 & 0 & 0 \\\\\n",
    "    0 &  0 & -3 &  4     & 0 & 0 & 0 & 0 \\\\    \n",
    "    0 &  0 & -3 &  4     & 1 & 0 & 0 & 0 \\\\\n",
    "    0 &  0 & -3 &  4     & 0 & 1 & 0 & 0 \\\\\n",
    "    0 &  0 & -3 &  4     & 0 & 0 & 1 & 0 \\\\\n",
    "    0 &  0 & -3 &  4     & 0 & 0 & 0 & 1 \n",
    "\\end{pmatrix}}_{A}\n",
    "\\cdot\n",
    "\\begin{pmatrix}\n",
    "\\lambda_1\\\\\n",
    "\\lambda_2\\\\\n",
    "\\lambda_3\\\\\n",
    "\\lambda_4\\\\\n",
    "\\gamma_1\\\\\n",
    "\\gamma_2\\\\\n",
    "\\gamma_3\\\\\n",
    "\\gamma_4\n",
    "\\end{pmatrix}\n",
    "$$\n",
    "along with conjugate momenta $(\\Phi_1,...,\\Phi_4,D_1,...,D_4) = [A^{-1}]^{\\mathrm{tr}} \\cdot (\\Lambda_1,...,\\Lambda_4,\\Gamma_1,...,\\Gamma_4)$. We also introduce $\\psi_i = \\phi_i - \\gamma_i+q_i$ with conjugate momenta $Q_i$ so that inclination resonance terms could be analyzed as well, though we will not consider them in this example.\n",
    "\n",
    "[^1]: [Delisle (2017)](https://ui.adsabs.harvard.edu/abs/2017A%26A...605A..96D/abstract) uses the notation $\\sigma_i$ for the angles we have termed $s_i$ conjugate to the momenta $D_i$. We adopt $s_i$ to avoid confusion with the default `Poincare` variables $\\sigma_i=\\sqrt{2Q_i}\\cos q_i$"
   ]
  },
  {
   "cell_type": "markdown",
   "id": "84b7ebcf",
   "metadata": {},
   "source": [
    "### Set up the transformation matrix above, with diagonal elements for the $\\Omega$ angles corresponding to the non-planar degrees of freedom"
   ]
  },
  {
   "cell_type": "code",
   "execution_count": 6,
   "id": "b01efe77",
   "metadata": {},
   "outputs": [
    {
     "data": {
      "text/plain": [
       "array([[ 1, -2,  1,  0,  0,  0,  0,  0,  0,  0,  0,  0],\n",
       "       [ 0,  1, -3,  2,  0,  0,  0,  0,  0,  0,  0,  0],\n",
       "       [ 0,  0,  1, -1,  0,  0,  0,  0,  0,  0,  0,  0],\n",
       "       [ 0,  0, -3,  4,  0,  0,  0,  0,  0,  0,  0,  0],\n",
       "       [ 0,  0, -3,  4,  1,  0,  0,  0,  0,  0,  0,  0],\n",
       "       [ 0,  0, -3,  4,  0,  1,  0,  0,  0,  0,  0,  0],\n",
       "       [ 0,  0, -3,  4,  0,  0,  1,  0,  0,  0,  0,  0],\n",
       "       [ 0,  0, -3,  4,  0,  0,  0,  1,  0,  0,  0,  0],\n",
       "       [ 0,  0,  0,  0,  0,  0,  0,  0,  1,  0,  0,  0],\n",
       "       [ 0,  0,  0,  0,  0,  0,  0,  0,  0,  1,  0,  0],\n",
       "       [ 0,  0,  0,  0,  0,  0,  0,  0,  0,  0,  1,  0],\n",
       "       [ 0,  0,  0,  0,  0,  0,  0,  0,  0,  0,  0,  1]])"
      ]
     },
     "execution_count": 6,
     "metadata": {},
     "output_type": "execute_result"
    }
   ],
   "source": [
    "from sympy import symbols\n",
    "# Equation 12 of Delisle 2017 \n",
    "\n",
    "A = np.zeros((pham.N_dof,pham.N_dof),dtype = int)\n",
    "\n",
    "A[0,:4] = [1,-2, 1, 0]\n",
    "A[1,:4] = [0, 1,-3, 2]\n",
    "A[2,:4] = [0, 0, 1,-1]\n",
    "A[3:8,:4] = [0, 0,-3, 4]\n",
    "A[4:8,4:8]  = np.eye(4)\n",
    "A[8:12,8:12]  = np.eye(4)\n",
    "A"
   ]
  },
  {
   "cell_type": "markdown",
   "id": "46984961",
   "metadata": {},
   "source": [
    "### Construct `CanonicalTransformation` object\n",
    "\n",
    "We'll use the`CanonicalTransformation` class method `from_poincare_angles_matrix` to derive an object representing the canonical transformation to the resonant action/angle variables described above."
   ]
  },
  {
   "cell_type": "code",
   "execution_count": 7,
   "id": "2c2dca26",
   "metadata": {},
   "outputs": [],
   "source": [
    "from celmech.canonical_transformations import CanonicalTransformation\n",
    "# angle variables\n",
    "phi = symbols('phi(1:5)')\n",
    "s = symbols('s(1:5)')\n",
    "psi = symbols('psi(1:5)')\n",
    "\n",
    "# action-like variables\n",
    "Phi = symbols('Phi(1:5)')\n",
    "D = symbols('D(1:5)')\n",
    "Psi = symbols('Psi(1:5)')\n",
    "\n",
    "new_qp_pairs = list(zip(list(phi)+list(s)+list(psi), list(Phi)+list(D)+list(Psi)))\n",
    "#new_qp_pairs = list(zip(list(phi)+list(s), list(Phi)+list(D)))\n",
    "\n",
    "ct = CanonicalTransformation.from_poincare_angles_matrix(pvars,A,new_qp_pairs=new_qp_pairs)"
   ]
  },
  {
   "cell_type": "markdown",
   "id": "a1e16f9f",
   "metadata": {},
   "source": [
    "### Transform the Hamiltonian\n",
    "\n",
    "Applying the `CanonicalTransformation` to our old Hamiltonian, `pham`, will give a new Hamiltonian object\n",
    "representing the Hamiltonian\n",
    "$$\n",
    "K(\\phi_i,s_i;\\Phi_i,D_i) = (H \\circ T^{-1})(\\phi_i,s_i;\\Phi_i,D_i)\n",
    "$$\n",
    "where $T : (\\lambda_i,\\gamma_i,\\Lambda_i,\\Gamma_i) \\mapsto (\\phi_i,s_i,\\Phi_i,D_i)$ is the canonical transformation from old to new canonical varaibles and $H$ is the Hamiltonian in terms of the old variables."
   ]
  },
  {
   "cell_type": "code",
   "execution_count": 8,
   "id": "d5317689",
   "metadata": {},
   "outputs": [
    {
     "data": {
      "text/latex": [
       "$\\displaystyle - \\frac{\\sqrt{2} C_{(2,-1,-1,0,0,0)}^{(0,0,0,0),(0,0)}(\\alpha_{1,3}) \\sqrt{D_{1}} G m_{1} m_{3} \\cos{\\left(\\phi_{1} + 2 \\phi_{2} - s_{1} \\right)}}{\\sqrt{\\Lambda_{1,0}} a_{3,0}} - \\frac{\\sqrt{2} C_{(2,-1,-1,0,0,0)}^{(0,0,0,0),(0,0)}(\\alpha_{2,4}) \\sqrt{D_{2}} G m_{2} m_{4} \\cos{\\left(\\phi_{2} - s_{2} \\right)}}{\\sqrt{\\Lambda_{2,0}} a_{4,0}} - \\frac{\\sqrt{2} C_{(2,-1,0,-1,0,0)}^{(0,0,0,0),(0,0)}(\\alpha_{1,3}) \\sqrt{D_{3}} G m_{1} m_{3} \\cos{\\left(\\phi_{1} + 2 \\phi_{2} - s_{3} \\right)}}{\\sqrt{\\Lambda_{3,0}} a_{3,0}} - \\frac{\\sqrt{2} C_{(2,-1,0,-1,0,0)}^{(0,0,0,0),(0,0)}(\\alpha_{2,4}) \\sqrt{D_{4}} G m_{2} m_{4} \\cos{\\left(\\phi_{2} - s_{4} \\right)}}{\\sqrt{\\Lambda_{4,0}} a_{4,0}} - \\frac{\\sqrt{2} C_{(3,-2,-1,0,0,0)}^{(0,0,0,0),(0,0)}(\\alpha_{2,3}) \\sqrt{D_{2}} G m_{2} m_{3} \\cos{\\left(2 \\phi_{2} - s_{2} \\right)}}{\\sqrt{\\Lambda_{2,0}} a_{3,0}} - \\frac{\\sqrt{2} C_{(3,-2,0,-1,0,0)}^{(0,0,0,0),(0,0)}(\\alpha_{2,3}) \\sqrt{D_{3}} G m_{2} m_{3} \\cos{\\left(2 \\phi_{2} - s_{3} \\right)}}{\\sqrt{\\Lambda_{3,0}} a_{3,0}} - \\frac{\\sqrt{2} C_{(4,-3,-1,0,0,0)}^{(0,0,0,0),(0,0)}(\\alpha_{1,2}) \\sqrt{D_{1}} G m_{1} m_{2} \\cos{\\left(3 \\phi_{1} + 2 \\phi_{2} - s_{1} \\right)}}{\\sqrt{\\Lambda_{1,0}} a_{2,0}} - \\frac{\\sqrt{2} C_{(4,-3,-1,0,0,0)}^{(0,0,0,0),(0,0)}(\\alpha_{3,4}) \\sqrt{D_{3}} G m_{3} m_{4} \\cos{\\left(s_{3} \\right)}}{\\sqrt{\\Lambda_{3,0}} a_{4,0}} - \\frac{\\sqrt{2} C_{(4,-3,0,-1,0,0)}^{(0,0,0,0),(0,0)}(\\alpha_{1,2}) \\sqrt{D_{2}} G m_{1} m_{2} \\cos{\\left(3 \\phi_{1} + 2 \\phi_{2} - s_{2} \\right)}}{\\sqrt{\\Lambda_{2,0}} a_{2,0}} - \\frac{\\sqrt{2} C_{(4,-3,0,-1,0,0)}^{(0,0,0,0),(0,0)}(\\alpha_{3,4}) \\sqrt{D_{4}} G m_{3} m_{4} \\cos{\\left(s_{4} \\right)}}{\\sqrt{\\Lambda_{4,0}} a_{4,0}} - \\frac{G^{2} M_{1}^{2} \\mu_{1}^{3}}{2 \\Phi_{1}^{2}} - \\frac{G^{2} M_{2}^{2} \\mu_{2}^{3}}{2 \\left(- 2 \\Phi_{1} + \\Phi_{2}\\right)^{2}} - \\frac{G^{2} M_{3}^{2} \\mu_{3}^{3}}{2 \\left(- 3 D_{1} - 3 D_{2} - 3 D_{3} - 3 D_{4} + \\Phi_{1} - 3 \\Phi_{2} + \\Phi_{3} - 3 \\Phi_{4}\\right)^{2}} - \\frac{G^{2} M_{4}^{2} \\mu_{4}^{3}}{2 \\left(4 D_{1} + 4 D_{2} + 4 D_{3} + 4 D_{4} + 2 \\Phi_{2} - \\Phi_{3} + 4 \\Phi_{4}\\right)^{2}}$"
      ],
      "text/plain": [
       "                                                            ____                                                                               \n",
       "  √2⋅C_{(2,-1,-1,0,0,0)}_{1,3})__{(0,0,0,0),(0,0)}(\\alpha⋅╲╱ D₁ ⋅G⋅m₁⋅m₃⋅cos(φ₁ + 2⋅φ₂ - s₁)   √2⋅C_{(2,-1,-1,0,0,0)}_{2,4})__{(0,0,0,0),(0,0)}\n",
       "- ────────────────────────────────────────────────────────────────────────────────────────── - ────────────────────────────────────────────────\n",
       "                                    _______________                                                                           _______________  \n",
       "                                  ╲╱ \\Lambda_{1,0} ⋅a_{3,0}                                                                 ╲╱ \\Lambda_{2,0} ⋅a\n",
       "\n",
       "          ____                                                                                  ____                                           \n",
       "(\\alpha⋅╲╱ D₂ ⋅G⋅m₂⋅m₄⋅cos(φ₂ - s₂)   √2⋅C_{(2,-1,0,-1,0,0)}_{1,3})__{(0,0,0,0),(0,0)}(\\alpha⋅╲╱ D₃ ⋅G⋅m₁⋅m₃⋅cos(φ₁ + 2⋅φ₂ - s₃)   √2⋅C_{(2,-1,\n",
       "─────────────────────────────────── - ────────────────────────────────────────────────────────────────────────────────────────── - ────────────\n",
       "                                                                        _______________                                                        \n",
       "_{4,0}                                                                ╲╱ \\Lambda_{3,0} ⋅a_{3,0}                                                \n",
       "\n",
       "                                              ____                                                                                  ____       \n",
       "0,-1,0,0)}_{2,4})__{(0,0,0,0),(0,0)}(\\alpha⋅╲╱ D₄ ⋅G⋅m₂⋅m₄⋅cos(φ₂ - s₄)   √2⋅C_{(3,-2,-1,0,0,0)}_{2,3})__{(0,0,0,0),(0,0)}(\\alpha⋅╲╱ D₂ ⋅G⋅m₂⋅m\n",
       "─────────────────────────────────────────────────────────────────────── - ─────────────────────────────────────────────────────────────────────\n",
       "                   _______________                                                                        _______________                      \n",
       "                 ╲╱ \\Lambda_{4,0} ⋅a_{4,0}                                                              ╲╱ \\Lambda_{2,0} ⋅a_{3,0}              \n",
       "\n",
       "                                                                             ____                                                              \n",
       "₃⋅cos(2⋅φ₂ - s₂)   √2⋅C_{(3,-2,0,-1,0,0)}_{2,3})__{(0,0,0,0),(0,0)}(\\alpha⋅╲╱ D₃ ⋅G⋅m₂⋅m₃⋅cos(2⋅φ₂ - s₃)   √2⋅C_{(4,-3,-1,0,0,0)}_{1,2})__{(0,0\n",
       "──────────────── - ───────────────────────────────────────────────────────────────────────────────────── - ────────────────────────────────────\n",
       "                                                   _______________                                                                            _\n",
       "                                                 ╲╱ \\Lambda_{3,0} ⋅a_{3,0}                                                                  ╲╱ \n",
       "\n",
       "                      ____                                                                                           ____                      \n",
       ",0,0),(0,0)}(\\alpha⋅╲╱ D₁ ⋅G⋅m₁⋅m₂⋅cos(3⋅φ₁ + 2⋅φ₂ - s₁)   √2⋅C_{(4,-3,-1,0,0,0)}_{3,4})__{(0,0,0,0),(0,0)}(\\alpha⋅╲╱ D₃ ⋅G⋅m₃⋅m₄⋅cos(s₃)   √2⋅\n",
       "──────────────────────────────────────────────────────── - ────────────────────────────────────────────────────────────────────────────── - ───\n",
       "______________                                                                         _______________                                         \n",
       "\\Lambda_{1,0} ⋅a_{2,0}                                                               ╲╱ \\Lambda_{3,0} ⋅a_{4,0}                                 \n",
       "\n",
       "                                                       ____                                                                                    \n",
       "C_{(4,-3,0,-1,0,0)}_{1,2})__{(0,0,0,0),(0,0)}(\\alpha⋅╲╱ D₂ ⋅G⋅m₁⋅m₂⋅cos(3⋅φ₁ + 2⋅φ₂ - s₂)   √2⋅C_{(4,-3,0,-1,0,0)}_{3,4})__{(0,0,0,0),(0,0)}(\\a\n",
       "───────────────────────────────────────────────────────────────────────────────────────── - ───────────────────────────────────────────────────\n",
       "                                _______________                                                                         _______________        \n",
       "                              ╲╱ \\Lambda_{2,0} ⋅a_{2,0}                                                               ╲╱ \\Lambda_{4,0} ⋅a_{4,0}\n",
       "\n",
       "       ____                    2   2   3       2   2   3                             2   2   3                                              2  \n",
       "lpha⋅╲╱ D₄ ⋅G⋅m₃⋅m₄⋅cos(s₄)   G ⋅M₁ ⋅μ₁       G ⋅M₂ ⋅μ₂                             G ⋅M₃ ⋅μ₃                                              G ⋅M\n",
       "─────────────────────────── - ────────── - ─────────────── - ─────────────────────────────────────────────────────── - ────────────────────────\n",
       "                                    2                    2                                                         2                           \n",
       "                                2⋅Φ₁       2⋅(-2⋅Φ₁ + Φ₂)    2⋅(-3⋅D₁ - 3⋅D₂ - 3⋅D₃ - 3⋅D₄ + Φ₁ - 3⋅Φ₂ + Φ₃ - 3⋅Φ₄)    2⋅(4⋅D₁ + 4⋅D₂ + 4⋅D₃ + \n",
       "\n",
       " 2   3                   \n",
       "₄ ⋅μ₄                    \n",
       "─────────────────────────\n",
       "                        2\n",
       "4⋅D₄ + 2⋅Φ₂ - Φ₃ + 4⋅Φ₄) "
      ]
     },
     "execution_count": 8,
     "metadata": {},
     "output_type": "execute_result"
    }
   ],
   "source": [
    "kam = ct.old_to_new_hamiltonian(pham,do_reduction=True)\n",
    "kam.H"
   ]
  },
  {
   "cell_type": "markdown",
   "id": "add43ac1",
   "metadata": {},
   "source": [
    "# Examine new conserved quantites\n",
    "\n",
    "By setting the keyword argument `do_reduction=True` when performing the canonical transformation, `celmech` has automatically reduced the number of degrees of freedom. It does this by identifying which of the new canonical angle variables do not appear in the Hamiltonian.[^1] \n",
    "\n",
    "Six of the 12 new canonical angle variables do not appear in the transformed Hamiltonian, so the number of degrees of freedom has been reduced from 12 to 6:\n",
    "\n",
    "[^1]: `celmech` will also check if there are canonical momentum variables that do not appear in a given Hamiltonian and promote their conjugate angle variables to conserved quantities if there are any."
   ]
  },
  {
   "cell_type": "code",
   "execution_count": 9,
   "id": "edd5cefc",
   "metadata": {},
   "outputs": [
    {
     "data": {
      "text/latex": [
       "$\\displaystyle \\left( 12, \\  6\\right)$"
      ],
      "text/plain": [
       "(12, 6)"
      ]
     },
     "execution_count": 9,
     "metadata": {},
     "output_type": "execute_result"
    }
   ],
   "source": [
    "(pham.N_dof,kam.N_dof)"
   ]
  },
  {
   "cell_type": "markdown",
   "id": "c6dabe1a",
   "metadata": {},
   "source": [
    "The canonical momenta conjugate to these cyclic angle variables are conserved and now do not appear as dynamical variables for our Hamiltonian object `kam`.\n",
    "We can still access the full set of canonical variables using the `full_qpvars` attribute"
   ]
  },
  {
   "cell_type": "code",
   "execution_count": 10,
   "id": "e569c0f4",
   "metadata": {},
   "outputs": [
    {
     "data": {
      "text/latex": [
       "$\\displaystyle \\left[ \\phi_{1}, \\  \\phi_{2}, \\  s_{1}, \\  s_{2}, \\  s_{3}, \\  s_{4}, \\  \\Phi_{1}, \\  \\Phi_{2}, \\  D_{1}, \\  D_{2}, \\  D_{3}, \\  D_{4}\\right]$"
      ],
      "text/plain": [
       "[φ₁, φ₂, s₁, s₂, s₃, s₄, Φ₁, Φ₂, D₁, D₂, D₃, D₄]"
      ]
     },
     "execution_count": 10,
     "metadata": {},
     "output_type": "execute_result"
    }
   ],
   "source": [
    "kam.qp_vars"
   ]
  },
  {
   "cell_type": "code",
   "execution_count": 11,
   "id": "72b928ac",
   "metadata": {},
   "outputs": [
    {
     "data": {
      "text/latex": [
       "$\\displaystyle \\left[ \\phi_{1}, \\  \\phi_{2}, \\  \\phi_{3}, \\  \\phi_{4}, \\  s_{1}, \\  s_{2}, \\  s_{3}, \\  s_{4}, \\  \\psi_{1}, \\  \\psi_{2}, \\  \\psi_{3}, \\  \\psi_{4}, \\  \\Phi_{1}, \\  \\Phi_{2}, \\  \\Phi_{3}, \\  \\Phi_{4}, \\  D_{1}, \\  D_{2}, \\  D_{3}, \\  D_{4}, \\  \\Psi_{1}, \\  \\Psi_{2}, \\  \\Psi_{3}, \\  \\Psi_{4}\\right]$"
      ],
      "text/plain": [
       "[φ₁, φ₂, φ₃, φ₄, s₁, s₂, s₃, s₄, ψ₁, ψ₂, ψ₃, ψ₄, Φ₁, Φ₂, Φ₃, Φ₄, D₁, D₂, D₃, D₄, Ψ₁, Ψ₂, Ψ₃, Ψ₄]"
      ]
     },
     "execution_count": 11,
     "metadata": {},
     "output_type": "execute_result"
    }
   ],
   "source": [
    "kam.full_qp_vars"
   ]
  },
  {
   "cell_type": "markdown",
   "id": "9b241555",
   "metadata": {},
   "source": [
    "The momenta conjugate to the cyclic angle variables are conserved. We now examine what the conserved quantities are:"
   ]
  },
  {
   "cell_type": "code",
   "execution_count": 12,
   "id": "acfe45e5",
   "metadata": {},
   "outputs": [],
   "source": [
    "conserved_quantities = [v for v in kam.full_qp_vars[kam.full_N_dof:] if v not in kam.qp_vars]"
   ]
  },
  {
   "cell_type": "markdown",
   "id": "0f8114e5",
   "metadata": {},
   "source": [
    "The conserved quantity $\\Phi_4$ is equal to the total angular momentum:"
   ]
  },
  {
   "cell_type": "code",
   "execution_count": 13,
   "id": "80a926cc",
   "metadata": {},
   "outputs": [
    {
     "data": {
      "text/latex": [
       "$\\displaystyle \\left( \\Phi_{4}, \\  \\Lambda_{1} + \\Lambda_{2} + \\Lambda_{3} + \\Lambda_{4} - \\frac{\\eta_{1}^{2}}{2} - \\frac{\\eta_{2}^{2}}{2} - \\frac{\\eta_{3}^{2}}{2} - \\frac{\\eta_{4}^{2}}{2} - \\frac{\\kappa_{1}^{2}}{2} - \\frac{\\kappa_{2}^{2}}{2} - \\frac{\\kappa_{3}^{2}}{2} - \\frac{\\kappa_{4}^{2}}{2}\\right)$"
      ],
      "text/plain": [
       "⎛                          2     2     2     2     2     2     2     2⎞\n",
       "⎜                        η₁    η₂    η₃    η₄    κ₁    κ₂    κ₃    κ₄ ⎟\n",
       "⎜Φ₄, Λ₁ + Λ₂ + Λ₃ + Λ₄ - ─── - ─── - ─── - ─── - ─── - ─── - ─── - ───⎟\n",
       "⎝                         2     2     2     2     2     2     2     2 ⎠"
      ]
     },
     "execution_count": 13,
     "metadata": {},
     "output_type": "execute_result"
    }
   ],
   "source": [
    "conserved_quantities[1], ct.new_to_old(conserved_quantities[1])"
   ]
  },
  {
   "cell_type": "markdown",
   "id": "a3d0afa2",
   "metadata": {},
   "source": [
    "The conserved quantity $\\Phi_3$ is a consequence of system's resonant configuration:"
   ]
  },
  {
   "cell_type": "code",
   "execution_count": 14,
   "id": "e2077dde",
   "metadata": {},
   "outputs": [
    {
     "data": {
      "text/latex": [
       "$\\displaystyle \\left( \\Phi_{3}, \\  8 \\Lambda_{1} + 6 \\Lambda_{2} + 4 \\Lambda_{3} + 3 \\Lambda_{4}\\right)$"
      ],
      "text/plain": [
       "(Φ₃, 8⋅Λ₁ + 6⋅Λ₂ + 4⋅Λ₃ + 3⋅Λ₄)"
      ]
     },
     "execution_count": 14,
     "metadata": {},
     "output_type": "execute_result"
    }
   ],
   "source": [
    "conserved_quantities[0], ct.new_to_old(conserved_quantities[0])"
   ]
  },
  {
   "cell_type": "markdown",
   "id": "73a148b7",
   "metadata": {},
   "source": [
    "The other conserved quantites are simply the actions associated with the planets' inclinations."
   ]
  },
  {
   "cell_type": "code",
   "execution_count": 15,
   "id": "a72a91d4",
   "metadata": {},
   "outputs": [
    {
     "data": {
      "text/latex": [
       "$\\displaystyle \\left( \\Psi_{1}, \\  \\frac{\\rho_{1}^{2}}{2} + \\frac{\\sigma_{1}^{2}}{2}\\right)$"
      ],
      "text/plain": [
       "⎛      2     2⎞\n",
       "⎜    ρ₁    σ₁ ⎟\n",
       "⎜Ψ₁, ─── + ───⎟\n",
       "⎝     2     2 ⎠"
      ]
     },
     "metadata": {},
     "output_type": "display_data"
    },
    {
     "data": {
      "text/latex": [
       "$\\displaystyle \\left( \\Psi_{2}, \\  \\frac{\\rho_{2}^{2}}{2} + \\frac{\\sigma_{2}^{2}}{2}\\right)$"
      ],
      "text/plain": [
       "⎛      2     2⎞\n",
       "⎜    ρ₂    σ₂ ⎟\n",
       "⎜Ψ₂, ─── + ───⎟\n",
       "⎝     2     2 ⎠"
      ]
     },
     "metadata": {},
     "output_type": "display_data"
    },
    {
     "data": {
      "text/latex": [
       "$\\displaystyle \\left( \\Psi_{3}, \\  \\frac{\\rho_{3}^{2}}{2} + \\frac{\\sigma_{3}^{2}}{2}\\right)$"
      ],
      "text/plain": [
       "⎛      2     2⎞\n",
       "⎜    ρ₃    σ₃ ⎟\n",
       "⎜Ψ₃, ─── + ───⎟\n",
       "⎝     2     2 ⎠"
      ]
     },
     "metadata": {},
     "output_type": "display_data"
    },
    {
     "data": {
      "text/latex": [
       "$\\displaystyle \\left( \\Psi_{4}, \\  \\frac{\\rho_{4}^{2}}{2} + \\frac{\\sigma_{4}^{2}}{2}\\right)$"
      ],
      "text/plain": [
       "⎛      2     2⎞\n",
       "⎜    ρ₄    σ₄ ⎟\n",
       "⎜Ψ₄, ─── + ───⎟\n",
       "⎝     2     2 ⎠"
      ]
     },
     "metadata": {},
     "output_type": "display_data"
    }
   ],
   "source": [
    "for P in conserved_quantities[2:]:\n",
    "    display((P,ct.new_to_old(P)))"
   ]
  },
  {
   "cell_type": "markdown",
   "id": "9aec9f2d",
   "metadata": {},
   "source": [
    "### New momentum variables in terms of old variables:"
   ]
  },
  {
   "cell_type": "markdown",
   "id": "ca25c869",
   "metadata": {},
   "source": [
    "The first two $\\Phi_i$ are related to the $\\Lambda_i$ variables"
   ]
  },
  {
   "cell_type": "code",
   "execution_count": 16,
   "id": "953dd662",
   "metadata": {},
   "outputs": [
    {
     "data": {
      "text/latex": [
       "$\\displaystyle \\left( \\Phi_{1}, \\  \\Lambda_{1}\\right)$"
      ],
      "text/plain": [
       "(Φ₁, Λ₁)"
      ]
     },
     "metadata": {},
     "output_type": "display_data"
    },
    {
     "data": {
      "text/latex": [
       "$\\displaystyle \\left( \\Phi_{2}, \\  2 \\Lambda_{1} + \\Lambda_{2}\\right)$"
      ],
      "text/plain": [
       "(Φ₂, 2⋅Λ₁ + Λ₂)"
      ]
     },
     "metadata": {},
     "output_type": "display_data"
    }
   ],
   "source": [
    "for P in Phi[:2]:\n",
    "    display((P,ct.new_to_old(P)))"
   ]
  },
  {
   "cell_type": "code",
   "execution_count": 17,
   "id": "728d813a",
   "metadata": {},
   "outputs": [
    {
     "data": {
      "text/latex": [
       "$\\displaystyle \\left( \\Lambda_{1}, \\  \\Phi_{1}\\right)$"
      ],
      "text/plain": [
       "(Λ₁, Φ₁)"
      ]
     },
     "metadata": {},
     "output_type": "display_data"
    },
    {
     "data": {
      "text/latex": [
       "$\\displaystyle \\left( \\Lambda_{2}, \\  - 2 \\Phi_{1} + \\Phi_{2}\\right)$"
      ],
      "text/plain": [
       "(Λ₂, -2⋅Φ₁ + Φ₂)"
      ]
     },
     "metadata": {},
     "output_type": "display_data"
    },
    {
     "data": {
      "text/latex": [
       "$\\displaystyle \\left( \\Lambda_{3}, \\  - 3 D_{1} - 3 D_{2} - 3 D_{3} - 3 D_{4} + \\Phi_{1} - 3 \\Phi_{2} + \\Phi_{3} - 3 \\Phi_{4}\\right)$"
      ],
      "text/plain": [
       "(Λ₃, -3⋅D₁ - 3⋅D₂ - 3⋅D₃ - 3⋅D₄ + Φ₁ - 3⋅Φ₂ + Φ₃ - 3⋅Φ₄)"
      ]
     },
     "metadata": {},
     "output_type": "display_data"
    },
    {
     "data": {
      "text/latex": [
       "$\\displaystyle \\left( \\Lambda_{4}, \\  4 D_{1} + 4 D_{2} + 4 D_{3} + 4 D_{4} + 2 \\Phi_{2} - \\Phi_{3} + 4 \\Phi_{4}\\right)$"
      ],
      "text/plain": [
       "(Λ₄, 4⋅D₁ + 4⋅D₂ + 4⋅D₃ + 4⋅D₄ + 2⋅Φ₂ - Φ₃ + 4⋅Φ₄)"
      ]
     },
     "metadata": {},
     "output_type": "display_data"
    }
   ],
   "source": [
    "Lambda = symbols('Lambda(1:5)')\n",
    "\n",
    "for L in Lambda:\n",
    "    display((L,ct.old_to_new(L)))"
   ]
  },
  {
   "cell_type": "markdown",
   "id": "f90d4668",
   "metadata": {},
   "source": [
    "The $D_i$ variables are equal to the old $\\Gamma_i = (\\eta_i^2 + \\kappa_i^2)/2$ Poincare variables."
   ]
  },
  {
   "cell_type": "code",
   "execution_count": 18,
   "id": "222569b4",
   "metadata": {},
   "outputs": [
    {
     "data": {
      "text/latex": [
       "$\\displaystyle \\left( D_{1}, \\  \\frac{\\eta_{1}^{2}}{2} + \\frac{\\kappa_{1}^{2}}{2}\\right)$"
      ],
      "text/plain": [
       "⎛      2     2⎞\n",
       "⎜    η₁    κ₁ ⎟\n",
       "⎜D₁, ─── + ───⎟\n",
       "⎝     2     2 ⎠"
      ]
     },
     "metadata": {},
     "output_type": "display_data"
    },
    {
     "data": {
      "text/latex": [
       "$\\displaystyle \\left( D_{2}, \\  \\frac{\\eta_{2}^{2}}{2} + \\frac{\\kappa_{2}^{2}}{2}\\right)$"
      ],
      "text/plain": [
       "⎛      2     2⎞\n",
       "⎜    η₂    κ₂ ⎟\n",
       "⎜D₂, ─── + ───⎟\n",
       "⎝     2     2 ⎠"
      ]
     },
     "metadata": {},
     "output_type": "display_data"
    },
    {
     "data": {
      "text/latex": [
       "$\\displaystyle \\left( D_{3}, \\  \\frac{\\eta_{3}^{2}}{2} + \\frac{\\kappa_{3}^{2}}{2}\\right)$"
      ],
      "text/plain": [
       "⎛      2     2⎞\n",
       "⎜    η₃    κ₃ ⎟\n",
       "⎜D₃, ─── + ───⎟\n",
       "⎝     2     2 ⎠"
      ]
     },
     "metadata": {},
     "output_type": "display_data"
    },
    {
     "data": {
      "text/latex": [
       "$\\displaystyle \\left( D_{4}, \\  \\frac{\\eta_{4}^{2}}{2} + \\frac{\\kappa_{4}^{2}}{2}\\right)$"
      ],
      "text/plain": [
       "⎛      2     2⎞\n",
       "⎜    η₄    κ₄ ⎟\n",
       "⎜D₄, ─── + ───⎟\n",
       "⎝     2     2 ⎠"
      ]
     },
     "metadata": {},
     "output_type": "display_data"
    }
   ],
   "source": [
    "for P in D[:]:\n",
    "    display((P,ct.new_to_old(P)))"
   ]
  },
  {
   "cell_type": "markdown",
   "id": "15481236",
   "metadata": {},
   "source": [
    "# Applying some additional convenient canonical transformations\n",
    "We've arrived at an analytic model for our resonant chain with a minimum number of degrees of freedom.\n",
    "We could go ahead and search for equilibrium configurations of our current model, but before doing so\n",
    "we'll apply a few additional transformations to make our search more covenient.\n",
    "\n",
    "The two parameters in this problem are the conserved quantities $\\Phi_3$ and $\\Phi_4$. As Delisle (2017) points out, $\\Phi_3$ acts simply as a scaling parameter defining the distance, time and energy scales in the problem, and does not otherwise affect the dynamics. He therefore chooses to scale all the canonical momenta by $\\Phi_3$, reducing things to a one-parameter problem. That is certainly a good choice, but any scaling choice will do. We instead choose to scale all the canonical momenta by $\\Lambda_{1,0}$, which makes it simple to write the scaled $\\Lambda_{i,0}$ using the resonant period ratios below. "
   ]
  },
  {
   "cell_type": "code",
   "execution_count": 19,
   "id": "02a03699",
   "metadata": {},
   "outputs": [],
   "source": [
    "L0s = pham.Lambda0s\n",
    "full_qs = kam.full_qp_vars[:kam.full_N_dof]\n",
    "full_ps = kam.full_qp_vars[kam.full_N_dof:]\n",
    "full_qp_pairs = list(zip(full_qs,full_ps))\n",
    "ct_rescale = CanonicalTransformation.rescale_transformation(\n",
    "    full_qp_pairs,\n",
    "    1/L0s[1],\n",
    "    params = {L0s[1]:pham.H_params[L0s[1]]}\n",
    ")\n",
    "kam_rescaled = ct_rescale.old_to_new_hamiltonian(kam)"
   ]
  },
  {
   "cell_type": "markdown",
   "id": "db4ff0cc",
   "metadata": {},
   "source": [
    "We see that, after rescaling, the terms associated with resonant planet-planet interactions are $\\mathcal{O}(m_p/M_*)\\sim 10^{-5}$ while the Keplerian terms are $\\mathcal{O}(1)$"
   ]
  },
  {
   "cell_type": "code",
   "execution_count": 20,
   "id": "18a0e13e",
   "metadata": {},
   "outputs": [
    {
     "data": {
      "text/latex": [
       "$\\displaystyle 1.35618252495484 \\cdot 10^{-5} \\sqrt{2} \\sqrt{D_{1}} \\cos{\\left(\\phi_{1} + 2 \\phi_{2} - s_{1} \\right)} + 2.71249940248285 \\cdot 10^{-5} \\sqrt{2} \\sqrt{D_{1}} \\cos{\\left(3 \\phi_{1} + 2 \\phi_{2} - s_{1} \\right)} + 5.30940253216612 \\cdot 10^{-6} \\sqrt{2} \\sqrt{D_{2}} \\cos{\\left(\\phi_{2} - s_{2} \\right)} + 1.82258137586944 \\cdot 10^{-5} \\sqrt{2} \\sqrt{D_{2}} \\cos{\\left(2 \\phi_{2} - s_{2} \\right)} - 3.60009472143273 \\cdot 10^{-5} \\sqrt{2} \\sqrt{D_{2}} \\cos{\\left(3 \\phi_{1} + 2 \\phi_{2} - s_{2} \\right)} + 1.48479212402867 \\cdot 10^{-5} \\sqrt{2} \\sqrt{D_{3}} \\cos{\\left(s_{3} \\right)} - 1.66944191717742 \\cdot 10^{-5} \\sqrt{2} \\sqrt{D_{3}} \\cos{\\left(2 \\phi_{2} - s_{3} \\right)} - 4.1555596899855 \\cdot 10^{-6} \\sqrt{2} \\sqrt{D_{3}} \\cos{\\left(\\phi_{1} + 2 \\phi_{2} - s_{3} \\right)} - 2.11247006180381 \\cdot 10^{-5} \\sqrt{2} \\sqrt{D_{4}} \\cos{\\left(s_{4} \\right)} - 1.74072582127508 \\cdot 10^{-6} \\sqrt{2} \\sqrt{D_{4}} \\cos{\\left(\\phi_{2} - s_{4} \\right)} - \\frac{0.00720405512471946}{\\left(- 0.347282539961088 D_{1} - 0.347282539961088 D_{2} - 0.347282539961088 D_{3} - 0.347282539961088 D_{4} + 0.115760846653696 \\Phi_{1} - 0.347282539961088 \\Phi_{2} + 1\\right)^{2}} - \\frac{0.00544734193806633}{\\left(0.866356747785103 D_{1} + 0.866356747785103 D_{2} + 0.866356747785103 D_{3} + 0.866356747785103 D_{4} + 0.433178373892551 \\Phi_{2} - 1\\right)^{2}} - \\frac{0.0348207060440645}{\\left(- \\Phi_{1} + 0.5 \\Phi_{2}\\right)^{2}} - \\frac{0.425480373166728}{\\Phi_{1}^{2}}$"
      ],
      "text/plain": [
       "                         ____                                                ____                                                  ____        \n",
       "1.35618252495484e-5⋅√2⋅╲╱ D₁ ⋅cos(φ₁ + 2⋅φ₂ - s₁) + 2.71249940248285e-5⋅√2⋅╲╱ D₁ ⋅cos(3⋅φ₁ + 2⋅φ₂ - s₁) + 5.30940253216612e-6⋅√2⋅╲╱ D₂ ⋅cos(φ₂ \n",
       "                                                                                                                                               \n",
       "                                                                                                                                               \n",
       "\n",
       "                                 ____                                           ____                                                  ____     \n",
       "- s₂) + 1.82258137586944e-5⋅√2⋅╲╱ D₂ ⋅cos(2⋅φ₂ - s₂) - 3.60009472143273e-5⋅√2⋅╲╱ D₂ ⋅cos(3⋅φ₁ + 2⋅φ₂ - s₂) + 1.48479212402867e-5⋅√2⋅╲╱ D₃ ⋅cos(\n",
       "                                                                                                                                               \n",
       "                                                                                                                                               \n",
       "\n",
       "                               ____                                          ____                                                ____          \n",
       "s₃) - 1.66944191717742e-5⋅√2⋅╲╱ D₃ ⋅cos(2⋅φ₂ - s₃) - 4.1555596899855e-6⋅√2⋅╲╱ D₃ ⋅cos(φ₁ + 2⋅φ₂ - s₃) - 2.11247006180381e-5⋅√2⋅╲╱ D₄ ⋅cos(s₄) -\n",
       "                                                                                                                                               \n",
       "                                                                                                                                               \n",
       "\n",
       "                          ____                                                                              0.00720405512471946                \n",
       " 1.74072582127508e-6⋅√2⋅╲╱ D₄ ⋅cos(φ₂ - s₄) - ─────────────────────────────────────────────────────────────────────────────────────────────────\n",
       "                                                                                                                                               \n",
       "                                              (-0.347282539961088⋅D₁ - 0.347282539961088⋅D₂ - 0.347282539961088⋅D₃ - 0.347282539961088⋅D₄ + 0.1\n",
       "\n",
       "                                                                                                   0.00544734193806633                         \n",
       "────────────────────────────────────────────── - ──────────────────────────────────────────────────────────────────────────────────────────────\n",
       "                                             2                                                                                                 \n",
       "15760846653696⋅Φ₁ - 0.347282539961088⋅Φ₂ + 1)    (0.866356747785103⋅D₁ + 0.866356747785103⋅D₂ + 0.866356747785103⋅D₃ + 0.866356747785103⋅D₄ + 0\n",
       "\n",
       "                            0.0348207060440645   0.425480373166728\n",
       "───────────────────────── - ────────────────── - ─────────────────\n",
       "                        2                  2              2       \n",
       ".433178373892551⋅Φ₂ - 1)     (-Φ₁ + 0.5⋅Φ₂)             Φ₁        "
      ]
     },
     "execution_count": 20,
     "metadata": {},
     "output_type": "execute_result"
    }
   ],
   "source": [
    "kam_rescaled.N_H"
   ]
  },
  {
   "cell_type": "markdown",
   "id": "7c2e996c",
   "metadata": {},
   "source": [
    "## Translating from $\\Phi_{i}$ to $\\delta\\Phi_i = \\Phi_{i} - \\Phi_{i,0}$\n",
    "\n",
    "We're interested in studying the system near its multi-resonant configurations. so we'll transform from the canonical momenta $\\Phi_i$ to new momenta, $\\delta\\Phi_i = \\Phi_i - \\Phi_{i,0}$ where the values of $\\Phi_{i,0}$ represent the values of $\\Phi_i$ at exact period commensurability (and zero eccentricity and inclination). \n",
    "\n",
    "Let's check the form of the $\\Phi_i$ momenta in terms of our original variables:"
   ]
  },
  {
   "cell_type": "code",
   "execution_count": 21,
   "id": "a46de921",
   "metadata": {},
   "outputs": [
    {
     "data": {
      "text/latex": [
       "$\\displaystyle \\left( \\Phi_{1}, \\  \\frac{\\Lambda_{1}}{\\Lambda_{1,0}}\\right)$"
      ],
      "text/plain": [
       "⎛          Λ₁     ⎞\n",
       "⎜Φ₁, ─────────────⎟\n",
       "⎝    \\Lambda_{1,0}⎠"
      ]
     },
     "metadata": {},
     "output_type": "display_data"
    },
    {
     "data": {
      "text/latex": [
       "$\\displaystyle \\left( \\Phi_{2}, \\  \\frac{2 \\Lambda_{1} + \\Lambda_{2}}{\\Lambda_{1,0}}\\right)$"
      ],
      "text/plain": [
       "⎛      2⋅Λ₁ + Λ₂  ⎞\n",
       "⎜Φ₂, ─────────────⎟\n",
       "⎝    \\Lambda_{1,0}⎠"
      ]
     },
     "metadata": {},
     "output_type": "display_data"
    },
    {
     "data": {
      "text/latex": [
       "$\\displaystyle \\left( \\Phi_{3}, \\  \\frac{8 \\Lambda_{1} + 6 \\Lambda_{2} + 4 \\Lambda_{3} + 3 \\Lambda_{4}}{\\Lambda_{1,0}}\\right)$"
      ],
      "text/plain": [
       "⎛    8⋅Λ₁ + 6⋅Λ₂ + 4⋅Λ₃ + 3⋅Λ₄⎞\n",
       "⎜Φ₃, ─────────────────────────⎟\n",
       "⎝          \\Lambda_{1,0}      ⎠"
      ]
     },
     "metadata": {},
     "output_type": "display_data"
    },
    {
     "data": {
      "text/latex": [
       "$\\displaystyle \\left( \\Phi_{4}, \\  \\frac{\\Lambda_{1} + \\Lambda_{2} + \\Lambda_{3} + \\Lambda_{4} - \\frac{\\eta_{1}^{2}}{2} - \\frac{\\eta_{2}^{2}}{2} - \\frac{\\eta_{3}^{2}}{2} - \\frac{\\eta_{4}^{2}}{2} - \\frac{\\kappa_{1}^{2}}{2} - \\frac{\\kappa_{2}^{2}}{2} - \\frac{\\kappa_{3}^{2}}{2} - \\frac{\\kappa_{4}^{2}}{2}}{\\Lambda_{1,0}}\\right)$"
      ],
      "text/plain": [
       "⎛                          2     2     2     2     2     2     2     2⎞\n",
       "⎜                        η₁    η₂    η₃    η₄    κ₁    κ₂    κ₃    κ₄ ⎟\n",
       "⎜    Λ₁ + Λ₂ + Λ₃ + Λ₄ - ─── - ─── - ─── - ─── - ─── - ─── - ─── - ───⎟\n",
       "⎜                         2     2     2     2     2     2     2     2 ⎟\n",
       "⎜Φ₄, ─────────────────────────────────────────────────────────────────⎟\n",
       "⎝                              \\Lambda_{1,0}                          ⎠"
      ]
     },
     "metadata": {},
     "output_type": "display_data"
    }
   ],
   "source": [
    "ct_combined = CanonicalTransformation.composite([ct,ct_rescale])\n",
    "for P in Phi:\n",
    "    display((P,ct_combined.new_to_old(P)))"
   ]
  },
  {
   "cell_type": "markdown",
   "id": "071c9ce6",
   "metadata": {},
   "source": [
    "To get the resonant values of $\\Phi_{i,0}$, we need to set the $\\Lambda_i$ above to the reference $\\Lambda_{i,0}$ values at resonance, and set the $\\eta_i, \\kappa_i$ to zero. Given the set of period ratios $P_{i+1}/P{i}$ in the resonant chain, and the fact that $\\Lambda_i \\equiv \\mu_in_i^2a_i$, we have\n",
    "$$\n",
    "\\frac{\\Lambda_{i,0}}{\\Lambda_{1,0}} = \\frac{\\mu_i}{\\mu_1}\\left(\\frac{P_{i}}{P_1}\\right)^{1/3}\n",
    "$$\n",
    "\n",
    "We'll set up a list, `Lambda0Ratios`, to hold the values of $\\Lambda_{i,0}/\\Lambda_{1,0}$ at exact resonance (with a dummy entry for the 0 index):"
   ]
  },
  {
   "cell_type": "code",
   "execution_count": 22,
   "id": "f6dc93b2",
   "metadata": {},
   "outputs": [
    {
     "data": {
      "text/latex": [
       "$\\displaystyle \\left[ 0, \\  1, \\  \\frac{6^{\\frac{2}{3}} \\mu_{2}}{3 \\mu_{1}}, \\  \\frac{\\sqrt[3]{2} \\mu_{3}}{\\mu_{1}}, \\  \\frac{2 \\cdot 3^{\\frac{2}{3}} \\mu_{4}}{3 \\mu_{1}}\\right]$"
      ],
      "text/plain": [
       "⎡       2/3     3 ___        2/3   ⎤\n",
       "⎢      6   ⋅μ₂  ╲╱ 2 ⋅μ₃  2⋅3   ⋅μ₄⎥\n",
       "⎢0, 1, ───────, ────────, ─────────⎥\n",
       "⎣        3⋅μ₁      μ₁        3⋅μ₁  ⎦"
      ]
     },
     "execution_count": 22,
     "metadata": {},
     "output_type": "execute_result"
    }
   ],
   "source": [
    "from sympy import S\n",
    "periods = [0,3,4,6,8] # absolute value doesn't matter, just need to be in ratio of 3:4:6:8 for this chain\n",
    "Lambda0Ratios = [(p/S(3))**(1/S(3)) * S(\"mu{}\".format(i))/S(\"mu1\") for i,p in enumerate(periods)]\n",
    "Lambda0Ratios"
   ]
  },
  {
   "cell_type": "markdown",
   "id": "ff8745d5",
   "metadata": {},
   "source": [
    "Now we simply read off the expressions for the $\\Phi_{i,0}$ from above, plugging in our `Lambda0Ratios`"
   ]
  },
  {
   "cell_type": "code",
   "execution_count": 23,
   "id": "97d8d8da",
   "metadata": {},
   "outputs": [
    {
     "data": {
      "text/latex": [
       "$\\displaystyle \\left[ 1, \\  2 + \\frac{6^{\\frac{2}{3}} \\mu_{2}}{3 \\mu_{1}}, \\  8 + \\frac{2 \\cdot 6^{\\frac{2}{3}} \\mu_{2}}{\\mu_{1}} + \\frac{4 \\sqrt[3]{2} \\mu_{3}}{\\mu_{1}} + \\frac{2 \\cdot 3^{\\frac{2}{3}} \\mu_{4}}{\\mu_{1}}, \\  1 + \\frac{6^{\\frac{2}{3}} \\mu_{2}}{3 \\mu_{1}} + \\frac{\\sqrt[3]{2} \\mu_{3}}{\\mu_{1}} + \\frac{2 \\cdot 3^{\\frac{2}{3}} \\mu_{4}}{3 \\mu_{1}}\\right]$"
      ],
      "text/plain": [
       "⎡        2/3            2/3        3 ___         2/3          2/3      3 ___         2/3   ⎤\n",
       "⎢       6   ⋅μ₂      2⋅6   ⋅μ₂   4⋅╲╱ 2 ⋅μ₃   2⋅3   ⋅μ₄      6   ⋅μ₂   ╲╱ 2 ⋅μ₃   2⋅3   ⋅μ₄⎥\n",
       "⎢1, 2 + ───────, 8 + ───────── + ────────── + ─────────, 1 + ─────── + ──────── + ─────────⎥\n",
       "⎣         3⋅μ₁           μ₁          μ₁           μ₁           3⋅μ₁       μ₁         3⋅μ₁  ⎦"
      ]
     },
     "execution_count": 23,
     "metadata": {},
     "output_type": "execute_result"
    }
   ],
   "source": [
    "Phi0 = [Lambda0Ratios[1], \n",
    "        2*Lambda0Ratios[1] + Lambda0Ratios[2], \n",
    "        8*Lambda0Ratios[1] + 6*Lambda0Ratios[2] + 4*Lambda0Ratios[3] + 3*Lambda0Ratios[4],\n",
    "        Lambda0Ratios[1] + Lambda0Ratios[2] + Lambda0Ratios[3] + Lambda0Ratios[4]]\n",
    "Phi0"
   ]
  },
  {
   "cell_type": "markdown",
   "id": "1a64bd75",
   "metadata": {},
   "source": [
    "Above we took advantage of sympy's `symbols` function attempts to autodetect the latex representations we want. This works for simple cases, but is a pain for more complicated symbols. We've written a simple function in `celmech` for giving back `sympy` symbols consisting of a latex expression plus a subscript. Let's use it to create our $\\delta\\Phi$ and $\\mu$ symbols (the latter would be simple enough for sympy's `symbols` function's autodetect, but not the former):"
   ]
  },
  {
   "cell_type": "code",
   "execution_count": 24,
   "id": "778aee09",
   "metadata": {},
   "outputs": [
    {
     "data": {
      "text/latex": [
       "$\\displaystyle \\left[ \\delta\\Phi_{1}, \\  \\delta\\Phi_{2}, \\  \\delta\\Phi_{3}, \\  \\delta\\Phi_{4}\\right]$"
      ],
      "text/plain": [
       "[\\delta\\Phi_{1}, \\delta\\Phi_{2}, \\delta\\Phi_{3}, \\delta\\Phi_{4}]"
      ]
     },
     "execution_count": 24,
     "metadata": {},
     "output_type": "execute_result"
    }
   ],
   "source": [
    "from celmech import get_symbol\n",
    "\n",
    "dPhi = [get_symbol('\\delta\\Phi', i) for i in range(1,5)]\n",
    "mus = symbols(\"mu(1:5)\")#[get_symbol('\\mu', i) for i in range(1,5)]\n",
    "dPhi"
   ]
  },
  {
   "cell_type": "markdown",
   "id": "99fc0fdc",
   "metadata": {},
   "source": [
    "We can now set up an `actions_to_delta_actions` canonical transformation by specifying the full set of old variables, the old `actions` symbols we want to expand (`Phi`), the symbolic expressions for the reference values `actions_ref` that we calculated above (`Phi0`), and the symbols for the new `delta_actions` (`dPhi`). These are related by\n",
    "\n",
    "$\\Phi_i = \\Phi_{i,0} + \\delta\\Phi_i$\n",
    "\n",
    "Additionally, we need to specify a dictionary `params` mapping symbols for all fixed parameters to their numerical values (which we take from `kam_rescaled`):"
   ]
  },
  {
   "cell_type": "code",
   "execution_count": 25,
   "id": "2e74f34a",
   "metadata": {},
   "outputs": [],
   "source": [
    "muparams = {mu:kam_rescaled.H_params[mu] for mu in mus}\n",
    "ct_translate = CanonicalTransformation.actions_to_delta_actions(\n",
    "kam_rescaled.full_qp_vars, actions=Phi, delta_actions=dPhi, actions_ref=Phi0, params=muparams)"
   ]
  },
  {
   "cell_type": "code",
   "execution_count": 26,
   "id": "bbfe412f",
   "metadata": {},
   "outputs": [
    {
     "data": {
      "text/latex": [
       "$\\displaystyle - \\frac{\\sqrt{2} C_{(2,-1,-1,0,0,0)}^{(0,0,0,0),(0,0)}(\\alpha_{1,3}) \\sqrt{D_{1}} G m_{1} m_{3} \\cos{\\left(\\phi_{1} + 2 \\phi_{2} - s_{1} \\right)}}{\\Lambda_{1,0} a_{3,0}} - \\frac{\\sqrt{2} C_{(2,-1,-1,0,0,0)}^{(0,0,0,0),(0,0)}(\\alpha_{2,4}) \\sqrt{D_{2}} G m_{2} m_{4} \\cos{\\left(\\phi_{2} - s_{2} \\right)}}{\\sqrt{\\Lambda_{1,0}} \\sqrt{\\Lambda_{2,0}} a_{4,0}} - \\frac{\\sqrt{2} C_{(2,-1,0,-1,0,0)}^{(0,0,0,0),(0,0)}(\\alpha_{1,3}) \\sqrt{D_{3}} G m_{1} m_{3} \\cos{\\left(\\phi_{1} + 2 \\phi_{2} - s_{3} \\right)}}{\\sqrt{\\Lambda_{1,0}} \\sqrt{\\Lambda_{3,0}} a_{3,0}} - \\frac{\\sqrt{2} C_{(2,-1,0,-1,0,0)}^{(0,0,0,0),(0,0)}(\\alpha_{2,4}) \\sqrt{D_{4}} G m_{2} m_{4} \\cos{\\left(\\phi_{2} - s_{4} \\right)}}{\\sqrt{\\Lambda_{1,0}} \\sqrt{\\Lambda_{4,0}} a_{4,0}} - \\frac{\\sqrt{2} C_{(3,-2,-1,0,0,0)}^{(0,0,0,0),(0,0)}(\\alpha_{2,3}) \\sqrt{D_{2}} G m_{2} m_{3} \\cos{\\left(2 \\phi_{2} - s_{2} \\right)}}{\\sqrt{\\Lambda_{1,0}} \\sqrt{\\Lambda_{2,0}} a_{3,0}} - \\frac{\\sqrt{2} C_{(3,-2,0,-1,0,0)}^{(0,0,0,0),(0,0)}(\\alpha_{2,3}) \\sqrt{D_{3}} G m_{2} m_{3} \\cos{\\left(2 \\phi_{2} - s_{3} \\right)}}{\\sqrt{\\Lambda_{1,0}} \\sqrt{\\Lambda_{3,0}} a_{3,0}} - \\frac{\\sqrt{2} C_{(4,-3,-1,0,0,0)}^{(0,0,0,0),(0,0)}(\\alpha_{1,2}) \\sqrt{D_{1}} G m_{1} m_{2} \\cos{\\left(3 \\phi_{1} + 2 \\phi_{2} - s_{1} \\right)}}{\\Lambda_{1,0} a_{2,0}} - \\frac{\\sqrt{2} C_{(4,-3,-1,0,0,0)}^{(0,0,0,0),(0,0)}(\\alpha_{3,4}) \\sqrt{D_{3}} G m_{3} m_{4} \\cos{\\left(s_{3} \\right)}}{\\sqrt{\\Lambda_{1,0}} \\sqrt{\\Lambda_{3,0}} a_{4,0}} - \\frac{\\sqrt{2} C_{(4,-3,0,-1,0,0)}^{(0,0,0,0),(0,0)}(\\alpha_{1,2}) \\sqrt{D_{2}} G m_{1} m_{2} \\cos{\\left(3 \\phi_{1} + 2 \\phi_{2} - s_{2} \\right)}}{\\sqrt{\\Lambda_{1,0}} \\sqrt{\\Lambda_{2,0}} a_{2,0}} - \\frac{\\sqrt{2} C_{(4,-3,0,-1,0,0)}^{(0,0,0,0),(0,0)}(\\alpha_{3,4}) \\sqrt{D_{4}} G m_{3} m_{4} \\cos{\\left(s_{4} \\right)}}{\\sqrt{\\Lambda_{1,0}} \\sqrt{\\Lambda_{4,0}} a_{4,0}} - \\frac{G^{2} M_{1}^{2} \\mu_{1}^{3}}{2 \\Lambda_{1,0}^{3} \\left(\\delta\\Phi_{1} + 1\\right)^{2}} - \\frac{G^{2} M_{2}^{2} \\mu_{2}^{3}}{2 \\Lambda_{1,0} \\left(- 2 \\Lambda_{1,0} \\left(\\delta\\Phi_{1} + 1\\right) + \\Lambda_{1,0} \\left(\\delta\\Phi_{2} + 2 + \\frac{6^{\\frac{2}{3}} \\mu_{2}}{3 \\mu_{1}}\\right)\\right)^{2}} - \\frac{G^{2} M_{3}^{2} \\mu_{3}^{3}}{2 \\Lambda_{1,0} \\left(- 3 D_{1} \\Lambda_{1,0} - 3 D_{2} \\Lambda_{1,0} - 3 D_{3} \\Lambda_{1,0} - 3 D_{4} \\Lambda_{1,0} + \\Lambda_{1,0} \\left(\\delta\\Phi_{1} + 1\\right) - 3 \\Lambda_{1,0} \\left(\\delta\\Phi_{2} + 2 + \\frac{6^{\\frac{2}{3}} \\mu_{2}}{3 \\mu_{1}}\\right) + \\Lambda_{1,0} \\left(\\delta\\Phi_{3} + 8 + \\frac{2 \\cdot 6^{\\frac{2}{3}} \\mu_{2}}{\\mu_{1}} + \\frac{4 \\sqrt[3]{2} \\mu_{3}}{\\mu_{1}} + \\frac{2 \\cdot 3^{\\frac{2}{3}} \\mu_{4}}{\\mu_{1}}\\right) - 3 \\Lambda_{1,0} \\left(\\delta\\Phi_{4} + 1 + \\frac{6^{\\frac{2}{3}} \\mu_{2}}{3 \\mu_{1}} + \\frac{\\sqrt[3]{2} \\mu_{3}}{\\mu_{1}} + \\frac{2 \\cdot 3^{\\frac{2}{3}} \\mu_{4}}{3 \\mu_{1}}\\right)\\right)^{2}} - \\frac{G^{2} M_{4}^{2} \\mu_{4}^{3}}{2 \\Lambda_{1,0} \\left(4 D_{1} \\Lambda_{1,0} + 4 D_{2} \\Lambda_{1,0} + 4 D_{3} \\Lambda_{1,0} + 4 D_{4} \\Lambda_{1,0} + 2 \\Lambda_{1,0} \\left(\\delta\\Phi_{2} + 2 + \\frac{6^{\\frac{2}{3}} \\mu_{2}}{3 \\mu_{1}}\\right) - \\Lambda_{1,0} \\left(\\delta\\Phi_{3} + 8 + \\frac{2 \\cdot 6^{\\frac{2}{3}} \\mu_{2}}{\\mu_{1}} + \\frac{4 \\sqrt[3]{2} \\mu_{3}}{\\mu_{1}} + \\frac{2 \\cdot 3^{\\frac{2}{3}} \\mu_{4}}{\\mu_{1}}\\right) + 4 \\Lambda_{1,0} \\left(\\delta\\Phi_{4} + 1 + \\frac{6^{\\frac{2}{3}} \\mu_{2}}{3 \\mu_{1}} + \\frac{\\sqrt[3]{2} \\mu_{3}}{\\mu_{1}} + \\frac{2 \\cdot 3^{\\frac{2}{3}} \\mu_{4}}{3 \\mu_{1}}\\right)\\right)^{2}}$"
      ],
      "text/plain": [
       "                                                            ____                                                                               \n",
       "  √2⋅C_{(2,-1,-1,0,0,0)}_{1,3})__{(0,0,0,0),(0,0)}(\\alpha⋅╲╱ D₁ ⋅G⋅m₁⋅m₃⋅cos(φ₁ + 2⋅φ₂ - s₁)   √2⋅C_{(2,-1,-1,0,0,0)}_{2,4})__{(0,0,0,0),(0,0)}\n",
       "- ────────────────────────────────────────────────────────────────────────────────────────── - ────────────────────────────────────────────────\n",
       "                                    \\Lambda_{1,0}⋅a_{3,0}                                                            _______________   ________\n",
       "                                                                                                                   ╲╱ \\Lambda_{1,0} ⋅╲╱ \\Lambda\n",
       "                                                                                                                                               \n",
       "                                                                                                                                               \n",
       "                                                                                                                                               \n",
       "\n",
       "          ____                                                                                  ____                                           \n",
       "(\\alpha⋅╲╱ D₂ ⋅G⋅m₂⋅m₄⋅cos(φ₂ - s₂)   √2⋅C_{(2,-1,0,-1,0,0)}_{1,3})__{(0,0,0,0),(0,0)}(\\alpha⋅╲╱ D₃ ⋅G⋅m₁⋅m₃⋅cos(φ₁ + 2⋅φ₂ - s₃)   √2⋅C_{(2,-1,\n",
       "─────────────────────────────────── - ────────────────────────────────────────────────────────────────────────────────────────── - ────────────\n",
       "_______                                                        _______________   _______________                                               \n",
       "_{2,0} ⋅a_{4,0}                                              ╲╱ \\Lambda_{1,0} ⋅╲╱ \\Lambda_{3,0} ⋅a_{3,0}                                       \n",
       "                                                                                                                                               \n",
       "                                                                                                                                               \n",
       "                                                                                                                                               \n",
       "\n",
       "                                              ____                                                                                  ____       \n",
       "0,-1,0,0)}_{2,4})__{(0,0,0,0),(0,0)}(\\alpha⋅╲╱ D₄ ⋅G⋅m₂⋅m₄⋅cos(φ₂ - s₄)   √2⋅C_{(3,-2,-1,0,0,0)}_{2,3})__{(0,0,0,0),(0,0)}(\\alpha⋅╲╱ D₂ ⋅G⋅m₂⋅m\n",
       "─────────────────────────────────────────────────────────────────────── - ─────────────────────────────────────────────────────────────────────\n",
       "          _______________   _______________                                                      _______________   _______________             \n",
       "        ╲╱ \\Lambda_{1,0} ⋅╲╱ \\Lambda_{4,0} ⋅a_{4,0}                                            ╲╱ \\Lambda_{1,0} ⋅╲╱ \\Lambda_{2,0} ⋅a_{3,0}     \n",
       "                                                                                                                                               \n",
       "                                                                                                                                               \n",
       "                                                                                                                                               \n",
       "\n",
       "                                                                             ____                                                              \n",
       "₃⋅cos(2⋅φ₂ - s₂)   √2⋅C_{(3,-2,0,-1,0,0)}_{2,3})__{(0,0,0,0),(0,0)}(\\alpha⋅╲╱ D₃ ⋅G⋅m₂⋅m₃⋅cos(2⋅φ₂ - s₃)   √2⋅C_{(4,-3,-1,0,0,0)}_{1,2})__{(0,0\n",
       "──────────────── - ───────────────────────────────────────────────────────────────────────────────────── - ────────────────────────────────────\n",
       "                                          _______________   _______________                                                                   \\\n",
       "                                        ╲╱ \\Lambda_{1,0} ⋅╲╱ \\Lambda_{3,0} ⋅a_{3,0}                                                            \n",
       "                                                                                                                                               \n",
       "                                                                                                                                               \n",
       "                                                                                                                                               \n",
       "\n",
       "                      ____                                                                                           ____                      \n",
       ",0,0),(0,0)}(\\alpha⋅╲╱ D₁ ⋅G⋅m₁⋅m₂⋅cos(3⋅φ₁ + 2⋅φ₂ - s₁)   √2⋅C_{(4,-3,-1,0,0,0)}_{3,4})__{(0,0,0,0),(0,0)}(\\alpha⋅╲╱ D₃ ⋅G⋅m₃⋅m₄⋅cos(s₃)   √2⋅\n",
       "──────────────────────────────────────────────────────── - ────────────────────────────────────────────────────────────────────────────── - ───\n",
       "Lambda_{1,0}⋅a_{2,0}                                                          _______________   _______________                                \n",
       "                                                                            ╲╱ \\Lambda_{1,0} ⋅╲╱ \\Lambda_{3,0} ⋅a_{4,0}                        \n",
       "                                                                                                                                               \n",
       "                                                                                                                                               \n",
       "                                                                                                                                               \n",
       "\n",
       "                                                       ____                                                                                    \n",
       "C_{(4,-3,0,-1,0,0)}_{1,2})__{(0,0,0,0),(0,0)}(\\alpha⋅╲╱ D₂ ⋅G⋅m₁⋅m₂⋅cos(3⋅φ₁ + 2⋅φ₂ - s₂)   √2⋅C_{(4,-3,0,-1,0,0)}_{3,4})__{(0,0,0,0),(0,0)}(\\a\n",
       "───────────────────────────────────────────────────────────────────────────────────────── - ───────────────────────────────────────────────────\n",
       "                       _______________   _______________                                                       _______________   ______________\n",
       "                     ╲╱ \\Lambda_{1,0} ⋅╲╱ \\Lambda_{2,0} ⋅a_{2,0}                                             ╲╱ \\Lambda_{1,0} ⋅╲╱ \\Lambda_{4,0}\n",
       "                                                                                                                                               \n",
       "                                                                                                                                               \n",
       "                                                                                                                                               \n",
       "\n",
       "       ____                                  2   2   3                                                                 2   2   3               \n",
       "lpha⋅╲╱ D₄ ⋅G⋅m₃⋅m₄⋅cos(s₄)                 G ⋅M₁ ⋅μ₁                                                                 G ⋅M₂ ⋅μ₂                \n",
       "─────────────────────────── - ────────────────────────────────────── - ────────────────────────────────────────────────────────────────────────\n",
       "_                                            3                     2                                                                           \n",
       " ⋅a_{4,0}                     2⋅\\Lambda_{1,0} ⋅(\\delta\\Phi_{1} + 1)                    ⎛                                                      ⎛\n",
       "                                                                                       ⎜                                                      ⎜\n",
       "                                                                       2⋅\\Lambda_{1,0}⋅⎜-2⋅\\Lambda_{1,0}⋅(\\delta\\Phi_{1} + 1) + \\Lambda_{1,0}⋅⎜\n",
       "                                                                                       ⎝                                                      ⎝\n",
       "\n",
       "                                                                                                                                               \n",
       "                                                                                                                                               \n",
       "─────────────────────────────── - ─────────────────────────────────────────────────────────────────────────────────────────────────────────────\n",
       "                              2                                                                                                                \n",
       "                      2/3   ⎞⎞                    ⎛                                                                                            \n",
       "                     6   ⋅μ₂⎟⎟                    ⎜                                                                                            \n",
       "\\delta\\Phi_{2} + 2 + ───────⎟⎟    2⋅\\Lambda_{1,0}⋅⎜-3⋅D₁⋅\\Lambda_{1,0} - 3⋅D₂⋅\\Lambda_{1,0} - 3⋅D₃⋅\\Lambda_{1,0} - 3⋅D₄⋅\\Lambda_{1,0} + \\Lambda\n",
       "                       3⋅μ₁ ⎠⎠                    ⎝                                                                                            \n",
       "\n",
       "                                                      2   2   3                                                                                \n",
       "                                                     G ⋅M₃ ⋅μ₃                                                                                 \n",
       "───────────────────────────────────────────────────────────────────────────────────────────────────────────────────────────────────────────────\n",
       "                                                                                                                                               \n",
       "                                              ⎛                      2/3   ⎞                 ⎛                        2/3        3 ___         \n",
       "                                              ⎜                     6   ⋅μ₂⎟                 ⎜                     2⋅6   ⋅μ₂   4⋅╲╱ 2 ⋅μ₃   2⋅3\n",
       "_{1,0}⋅(\\delta\\Phi_{1} + 1) - 3⋅\\Lambda_{1,0}⋅⎜\\delta\\Phi_{2} + 2 + ───────⎟ + \\Lambda_{1,0}⋅⎜\\delta\\Phi_{3} + 8 + ───────── + ────────── + ───\n",
       "                                              ⎝                       3⋅μ₁ ⎠                 ⎝                         μ₁          μ₁          \n",
       "\n",
       "                                                                                                                                               \n",
       "                                                                                                                                               \n",
       "───────────────────────────────────────────────────────────────────────────────── - ───────────────────────────────────────────────────────────\n",
       "                                                                                2                                                              \n",
       "2/3   ⎞                   ⎛                      2/3      3 ___         2/3   ⎞⎞                    ⎛                                          \n",
       "   ⋅μ₄⎟                   ⎜                     6   ⋅μ₂   ╲╱ 2 ⋅μ₃   2⋅3   ⋅μ₄⎟⎟                    ⎜                                          \n",
       "──────⎟ - 3⋅\\Lambda_{1,0}⋅⎜\\delta\\Phi_{4} + 1 + ─────── + ──────── + ─────────⎟⎟    2⋅\\Lambda_{1,0}⋅⎜4⋅D₁⋅\\Lambda_{1,0} + 4⋅D₂⋅\\Lambda_{1,0} + \n",
       " μ₁   ⎠                   ⎝                       3⋅μ₁       μ₁         3⋅μ₁  ⎠⎠                    ⎝                                          \n",
       "\n",
       "                                                                                     2   2   3                                                 \n",
       "                                                                                    G ⋅M₄ ⋅μ₄                                                  \n",
       "───────────────────────────────────────────────────────────────────────────────────────────────────────────────────────────────────────────────\n",
       "                                                                                                                                               \n",
       "                                                          ⎛                      2/3   ⎞                 ⎛                        2/3        3 \n",
       "                                                          ⎜                     6   ⋅μ₂⎟                 ⎜                     2⋅6   ⋅μ₂   4⋅╲╱\n",
       "4⋅D₃⋅\\Lambda_{1,0} + 4⋅D₄⋅\\Lambda_{1,0} + 2⋅\\Lambda_{1,0}⋅⎜\\delta\\Phi_{2} + 2 + ───────⎟ - \\Lambda_{1,0}⋅⎜\\delta\\Phi_{3} + 8 + ───────── + ────\n",
       "                                                          ⎝                       3⋅μ₁ ⎠                 ⎝                         μ₁          \n",
       "\n",
       "                                                                                             \n",
       "                                                                                             \n",
       "─────────────────────────────────────────────────────────────────────────────────────────────\n",
       "                                                                                            2\n",
       "___         2/3   ⎞                   ⎛                      2/3      3 ___         2/3   ⎞⎞ \n",
       " 2 ⋅μ₃   2⋅3   ⋅μ₄⎟                   ⎜                     6   ⋅μ₂   ╲╱ 2 ⋅μ₃   2⋅3   ⋅μ₄⎟⎟ \n",
       "────── + ─────────⎟ + 4⋅\\Lambda_{1,0}⋅⎜\\delta\\Phi_{4} + 1 + ─────── + ──────── + ─────────⎟⎟ \n",
       "μ₁           μ₁   ⎠                   ⎝                       3⋅μ₁       μ₁         3⋅μ₁  ⎠⎠ "
      ]
     },
     "execution_count": 26,
     "metadata": {},
     "output_type": "execute_result"
    }
   ],
   "source": [
    "kam_rescaled_translated = ct_translate.old_to_new_hamiltonian(kam_rescaled)\n",
    "kam_rescaled_translated.H"
   ]
  },
  {
   "cell_type": "markdown",
   "id": "67b3c2b4",
   "metadata": {},
   "source": [
    "## Transform from polar eccentricity variables, $(s_i,D_i)$,  to cartesian variables $(x_i,y_i) =\\sqrt{2D_i}\\times (\\cos s_i, \\sin s_i)$\n",
    "\n",
    "In order to avoid coordinate singularities at zero eccentricity, we transform the eccentricity degrees of freedom from polar to cartesian coordinates (we ignore the inclination degrees of freedom since we're assuming everything is coplanar). \n",
    "The `CanonicalTransformation.PolarToCartesian` class method provides a convenient way to construct this transformation, where we have to pass the indices of our `full_qp_pairs` that we want to convert to cartesian variables.\n",
    "One pitfall is that because we reduced the degrees of freedom above from 12 to 6:"
   ]
  },
  {
   "cell_type": "code",
   "execution_count": 27,
   "id": "e50996c4",
   "metadata": {},
   "outputs": [
    {
     "data": {
      "text/latex": [
       "$\\displaystyle \\left[ \\left( \\phi_{1}, \\  \\delta\\Phi_{1}\\right), \\  \\left( \\phi_{2}, \\  \\delta\\Phi_{2}\\right), \\  \\left( s_{1}, \\  D_{1}\\right), \\  \\left( s_{2}, \\  D_{2}\\right), \\  \\left( s_{3}, \\  D_{3}\\right), \\  \\left( s_{4}, \\  D_{4}\\right)\\right]$"
      ],
      "text/plain": [
       "[(φ₁, \\delta\\Phi_{1}), (φ₂, \\delta\\Phi_{2}), (s₁, D₁), (s₂, D₂), (s₃, D₃), (s₄, D₄)]"
      ]
     },
     "execution_count": 27,
     "metadata": {},
     "output_type": "execute_result"
    }
   ],
   "source": [
    "kam_rescaled_translated.qp_pairs"
   ]
  },
  {
   "cell_type": "markdown",
   "id": "12c53993",
   "metadata": {},
   "source": [
    "we wouldn't be able to map back to our original variables. The Hamiltonian we get back when use `do_reduction=True` therefore still keeps track of the remaining degrees of freedom to allow us to transform back if we want. We can access them like this"
   ]
  },
  {
   "cell_type": "code",
   "execution_count": 28,
   "id": "e09838cb",
   "metadata": {},
   "outputs": [
    {
     "data": {
      "text/latex": [
       "$\\displaystyle \\left[ \\left( \\phi_{1}, \\  \\delta\\Phi_{1}\\right), \\  \\left( \\phi_{2}, \\  \\delta\\Phi_{2}\\right), \\  \\left( \\phi_{3}, \\  \\delta\\Phi_{3}\\right), \\  \\left( \\phi_{4}, \\  \\delta\\Phi_{4}\\right), \\  \\left( s_{1}, \\  D_{1}\\right), \\  \\left( s_{2}, \\  D_{2}\\right), \\  \\left( s_{3}, \\  D_{3}\\right), \\  \\left( s_{4}, \\  D_{4}\\right), \\  \\left( \\psi_{1}, \\  \\Psi_{1}\\right), \\  \\left( \\psi_{2}, \\  \\Psi_{2}\\right), \\  \\left( \\psi_{3}, \\  \\Psi_{3}\\right), \\  \\left( \\psi_{4}, \\  \\Psi_{4}\\right)\\right]$"
      ],
      "text/plain": [
       "[(φ₁, \\delta\\Phi_{1}), (φ₂, \\delta\\Phi_{2}), (φ₃, \\delta\\Phi_{3}), (φ₄, \\delta\\Phi_{4}), (s₁, D₁), (s₂, D₂), (s₃, D₃), (s₄, D₄), (ψ₁, Ψ₁), (ψ₂,\n",
       " Ψ₂), (ψ₃, Ψ₃), (ψ₄, Ψ₄)]"
      ]
     },
     "execution_count": 28,
     "metadata": {},
     "output_type": "execute_result"
    }
   ],
   "source": [
    "kam_rescaled_translated.full_qp_pairs"
   ]
  },
  {
   "cell_type": "markdown",
   "id": "10e9e8b1",
   "metadata": {},
   "source": [
    "All transformations therefore always go from one set of `full_qp_pairs` to a second set of `full_qp_pairs` to ensure that the number of degrees of freedom doesn't change. \n",
    "When we do our `polar_to_cartesian` transformation, we therefore need to ensure that we use the indices in `full_qp_pairs` to specify the $(s_i, D_i)$ degrees of freedom:"
   ]
  },
  {
   "cell_type": "code",
   "execution_count": 29,
   "id": "c6270ff4",
   "metadata": {},
   "outputs": [],
   "source": [
    "oldvars = kam_rescaled_translated.full_qp_vars\n",
    "ct_polar2cart = CanonicalTransformation.polar_to_cartesian(oldvars,[4, 5, 6, 7])"
   ]
  },
  {
   "cell_type": "code",
   "execution_count": 30,
   "id": "83ef137a",
   "metadata": {},
   "outputs": [],
   "source": [
    "# A rescaled, translated, cartesian (rtc) version of our Hamiltonian\n",
    "kam_rtc = ct_polar2cart.old_to_new_hamiltonian(kam_rescaled_translated)"
   ]
  },
  {
   "cell_type": "code",
   "execution_count": 31,
   "id": "4ed96794",
   "metadata": {},
   "outputs": [
    {
     "data": {
      "text/latex": [
       "$\\displaystyle - \\frac{C_{(2,-1,-1,0,0,0)}^{(0,0,0,0),(0,0)}(\\alpha_{1,3}) G m_{1} m_{3} \\left(x_{1} \\cos{\\left(\\phi_{1} + 2 \\phi_{2} \\right)} + y_{1} \\sin{\\left(\\phi_{1} + 2 \\phi_{2} \\right)}\\right)}{\\Lambda_{1,0} a_{3,0}} - \\frac{C_{(2,-1,-1,0,0,0)}^{(0,0,0,0),(0,0)}(\\alpha_{2,4}) G m_{2} m_{4} \\left(x_{2} \\cos{\\left(\\phi_{2} \\right)} + y_{2} \\sin{\\left(\\phi_{2} \\right)}\\right)}{\\sqrt{\\Lambda_{1,0}} \\sqrt{\\Lambda_{2,0}} a_{4,0}} - \\frac{C_{(2,-1,0,-1,0,0)}^{(0,0,0,0),(0,0)}(\\alpha_{1,3}) G m_{1} m_{3} \\left(x_{3} \\cos{\\left(\\phi_{1} + 2 \\phi_{2} \\right)} + y_{3} \\sin{\\left(\\phi_{1} + 2 \\phi_{2} \\right)}\\right)}{\\sqrt{\\Lambda_{1,0}} \\sqrt{\\Lambda_{3,0}} a_{3,0}} - \\frac{C_{(2,-1,0,-1,0,0)}^{(0,0,0,0),(0,0)}(\\alpha_{2,4}) G m_{2} m_{4} \\left(x_{4} \\cos{\\left(\\phi_{2} \\right)} + y_{4} \\sin{\\left(\\phi_{2} \\right)}\\right)}{\\sqrt{\\Lambda_{1,0}} \\sqrt{\\Lambda_{4,0}} a_{4,0}} - \\frac{C_{(3,-2,-1,0,0,0)}^{(0,0,0,0),(0,0)}(\\alpha_{2,3}) G m_{2} m_{3} \\left(x_{2} \\cos{\\left(2 \\phi_{2} \\right)} + y_{2} \\sin{\\left(2 \\phi_{2} \\right)}\\right)}{\\sqrt{\\Lambda_{1,0}} \\sqrt{\\Lambda_{2,0}} a_{3,0}} - \\frac{C_{(3,-2,0,-1,0,0)}^{(0,0,0,0),(0,0)}(\\alpha_{2,3}) G m_{2} m_{3} \\left(x_{3} \\cos{\\left(2 \\phi_{2} \\right)} + y_{3} \\sin{\\left(2 \\phi_{2} \\right)}\\right)}{\\sqrt{\\Lambda_{1,0}} \\sqrt{\\Lambda_{3,0}} a_{3,0}} - \\frac{C_{(4,-3,-1,0,0,0)}^{(0,0,0,0),(0,0)}(\\alpha_{1,2}) G m_{1} m_{2} \\left(x_{1} \\cos{\\left(3 \\phi_{1} + 2 \\phi_{2} \\right)} + y_{1} \\sin{\\left(3 \\phi_{1} + 2 \\phi_{2} \\right)}\\right)}{\\Lambda_{1,0} a_{2,0}} - \\frac{C_{(4,-3,-1,0,0,0)}^{(0,0,0,0),(0,0)}(\\alpha_{3,4}) G m_{3} m_{4} x_{3}}{\\sqrt{\\Lambda_{1,0}} \\sqrt{\\Lambda_{3,0}} a_{4,0}} - \\frac{C_{(4,-3,0,-1,0,0)}^{(0,0,0,0),(0,0)}(\\alpha_{1,2}) G m_{1} m_{2} \\left(x_{2} \\cos{\\left(3 \\phi_{1} + 2 \\phi_{2} \\right)} + y_{2} \\sin{\\left(3 \\phi_{1} + 2 \\phi_{2} \\right)}\\right)}{\\sqrt{\\Lambda_{1,0}} \\sqrt{\\Lambda_{2,0}} a_{2,0}} - \\frac{C_{(4,-3,0,-1,0,0)}^{(0,0,0,0),(0,0)}(\\alpha_{3,4}) G m_{3} m_{4} x_{4}}{\\sqrt{\\Lambda_{1,0}} \\sqrt{\\Lambda_{4,0}} a_{4,0}} - \\frac{G^{2} M_{1}^{2} \\mu_{1}^{3}}{2 \\Lambda_{1,0}^{3} \\left(\\delta\\Phi_{1} + 1\\right)^{2}} - \\frac{G^{2} M_{2}^{2} \\mu_{2}^{3}}{2 \\Lambda_{1,0}^{3} \\left(- 2 \\delta\\Phi_{1} + \\delta\\Phi_{2} + \\frac{6^{\\frac{2}{3}} \\mu_{2}}{3 \\mu_{1}}\\right)^{2}} - \\frac{G^{2} M_{3}^{2} \\mu_{3}^{3}}{2 \\Lambda_{1,0}^{3} \\left(\\delta\\Phi_{1} - 3 \\delta\\Phi_{2} + \\delta\\Phi_{3} - 3 \\delta\\Phi_{4} - \\frac{3 x_{1}^{2}}{2} - \\frac{3 x_{2}^{2}}{2} - \\frac{3 x_{3}^{2}}{2} - \\frac{3 x_{4}^{2}}{2} - \\frac{3 y_{1}^{2}}{2} - \\frac{3 y_{2}^{2}}{2} - \\frac{3 y_{3}^{2}}{2} - \\frac{3 y_{4}^{2}}{2} + \\frac{\\sqrt[3]{2} \\mu_{3}}{\\mu_{1}}\\right)^{2}} - \\frac{G^{2} M_{4}^{2} \\mu_{4}^{3}}{2 \\Lambda_{1,0}^{3} \\left(2 \\delta\\Phi_{2} - \\delta\\Phi_{3} + 4 \\delta\\Phi_{4} + 2 x_{1}^{2} + 2 x_{2}^{2} + 2 x_{3}^{2} + 2 x_{4}^{2} + 2 y_{1}^{2} + 2 y_{2}^{2} + 2 y_{3}^{2} + 2 y_{4}^{2} + \\frac{2 \\cdot 3^{\\frac{2}{3}} \\mu_{4}}{3 \\mu_{1}}\\right)^{2}}$"
      ],
      "text/plain": [
       "                                                                                                                                               \n",
       "  C_{(2,-1,-1,0,0,0)}_{1,3})__{(0,0,0,0),(0,0)}(\\alpha⋅G⋅m₁⋅m₃⋅(x₁⋅cos(φ₁ + 2⋅φ₂) + y₁⋅sin(φ₁ + 2⋅φ₂))   C_{(2,-1,-1,0,0,0)}_{2,4})__{(0,0,0,0)\n",
       "- ──────────────────────────────────────────────────────────────────────────────────────────────────── - ──────────────────────────────────────\n",
       "                                         \\Lambda_{1,0}⋅a_{3,0}                                                                  _______________\n",
       "                                                                                                                              ╲╱ \\Lambda_{1,0} \n",
       "                                                                                                                                               \n",
       "                                                                                                                                               \n",
       "                                                                                                                                               \n",
       "\n",
       "                                                                                                                                               \n",
       ",(0,0)}(\\alpha⋅G⋅m₂⋅m₄⋅(x₂⋅cos(φ₂) + y₂⋅sin(φ₂))   C_{(2,-1,0,-1,0,0)}_{1,3})__{(0,0,0,0),(0,0)}(\\alpha⋅G⋅m₁⋅m₃⋅(x₃⋅cos(φ₁ + 2⋅φ₂) + y₃⋅sin(φ₁ \n",
       "──────────────────────────────────────────────── - ────────────────────────────────────────────────────────────────────────────────────────────\n",
       "   _______________                                                               _______________   _______________                             \n",
       "⋅╲╱ \\Lambda_{2,0} ⋅a_{4,0}                                                     ╲╱ \\Lambda_{1,0} ⋅╲╱ \\Lambda_{3,0} ⋅a_{3,0}                     \n",
       "                                                                                                                                               \n",
       "                                                                                                                                               \n",
       "                                                                                                                                               \n",
       "\n",
       "                                                                                                                                               \n",
       "+ 2⋅φ₂))   C_{(2,-1,0,-1,0,0)}_{2,4})__{(0,0,0,0),(0,0)}(\\alpha⋅G⋅m₂⋅m₄⋅(x₄⋅cos(φ₂) + y₄⋅sin(φ₂))   C_{(3,-2,-1,0,0,0)}_{2,3})__{(0,0,0,0),(0,0\n",
       "──────── - ────────────────────────────────────────────────────────────────────────────────────── - ───────────────────────────────────────────\n",
       "                                  _______________   _______________                                                          _______________   \n",
       "                                ╲╱ \\Lambda_{1,0} ⋅╲╱ \\Lambda_{4,0} ⋅a_{4,0}                                                ╲╱ \\Lambda_{1,0} ⋅╲╱\n",
       "                                                                                                                                               \n",
       "                                                                                                                                               \n",
       "                                                                                                                                               \n",
       "\n",
       "                                                                                                                                               \n",
       ")}(\\alpha⋅G⋅m₂⋅m₃⋅(x₂⋅cos(2⋅φ₂) + y₂⋅sin(2⋅φ₂))   C_{(3,-2,0,-1,0,0)}_{2,3})__{(0,0,0,0),(0,0)}(\\alpha⋅G⋅m₂⋅m₃⋅(x₃⋅cos(2⋅φ₂) + y₃⋅sin(2⋅φ₂))   \n",
       "─────────────────────────────────────────────── - ────────────────────────────────────────────────────────────────────────────────────────── - \n",
       "_______________                                                            _______________   _______________                                   \n",
       " \\Lambda_{2,0} ⋅a_{3,0}                                                  ╲╱ \\Lambda_{1,0} ⋅╲╱ \\Lambda_{3,0} ⋅a_{3,0}                           \n",
       "                                                                                                                                               \n",
       "                                                                                                                                               \n",
       "                                                                                                                                               \n",
       "\n",
       "                                                                                                                                               \n",
       "C_{(4,-3,-1,0,0,0)}_{1,2})__{(0,0,0,0),(0,0)}(\\alpha⋅G⋅m₁⋅m₂⋅(x₁⋅cos(3⋅φ₁ + 2⋅φ₂) + y₁⋅sin(3⋅φ₁ + 2⋅φ₂))   C_{(4,-3,-1,0,0,0)}_{3,4})__{(0,0,0,\n",
       "──────────────────────────────────────────────────────────────────────────────────────────────────────── - ────────────────────────────────────\n",
       "                                         \\Lambda_{1,0}⋅a_{2,0}                                                         _______________   ______\n",
       "                                                                                                                     ╲╱ \\Lambda_{1,0} ⋅╲╱ \\Lamb\n",
       "                                                                                                                                               \n",
       "                                                                                                                                               \n",
       "                                                                                                                                               \n",
       "\n",
       "                                                                                                                                               \n",
       "0),(0,0)}(\\alpha⋅G⋅m₃⋅m₄⋅x₃   C_{(4,-3,0,-1,0,0)}_{1,2})__{(0,0,0,0),(0,0)}(\\alpha⋅G⋅m₁⋅m₂⋅(x₂⋅cos(3⋅φ₁ + 2⋅φ₂) + y₂⋅sin(3⋅φ₁ + 2⋅φ₂))   C_{(4,\n",
       "─────────────────────────── - ──────────────────────────────────────────────────────────────────────────────────────────────────────── - ──────\n",
       "_________                                                     _______________   _______________                                                \n",
       "da_{3,0} ⋅a_{4,0}                                           ╲╱ \\Lambda_{1,0} ⋅╲╱ \\Lambda_{2,0} ⋅a_{2,0}                                        \n",
       "                                                                                                                                               \n",
       "                                                                                                                                               \n",
       "                                                                                                                                               \n",
       "\n",
       "                                                                           2   2   3                                             2   2   3     \n",
       "-3,0,-1,0,0)}_{3,4})__{(0,0,0,0),(0,0)}(\\alpha⋅G⋅m₃⋅m₄⋅x₄                 G ⋅M₁ ⋅μ₁                                             G ⋅M₂ ⋅μ₂      \n",
       "───────────────────────────────────────────────────────── - ────────────────────────────────────── - ──────────────────────────────────────────\n",
       "      _______________   _______________                                    3                     2                                             \n",
       "    ╲╱ \\Lambda_{1,0} ⋅╲╱ \\Lambda_{4,0} ⋅a_{4,0}             2⋅\\Lambda_{1,0} ⋅(\\delta\\Phi_{1} + 1)                     ⎛                        \n",
       "                                                                                                                    3 ⎜                        \n",
       "                                                                                                     2⋅\\Lambda_{1,0} ⋅⎜-2⋅\\delta\\Phi_{1} + \\del\n",
       "                                                                                                                      ⎝                        \n",
       "\n",
       "                                                                                                       2   2   3                               \n",
       "                                                                                                      G ⋅M₃ ⋅μ₃                                \n",
       "────────────────────── - ──────────────────────────────────────────────────────────────────────────────────────────────────────────────────────\n",
       "                     2                                                                                                                         \n",
       "              2/3   ⎞                     ⎛                                                                            2       2       2       \n",
       "             6   ⋅μ₂⎟                   3 ⎜                                                                        3⋅x₁    3⋅x₂    3⋅x₃    3⋅x₄\n",
       "ta\\Phi_{2} + ───────⎟    2⋅\\Lambda_{1,0} ⋅⎜\\delta\\Phi_{1} - 3⋅\\delta\\Phi_{2} + \\delta\\Phi_{3} - 3⋅\\delta\\Phi_{4} - ───── - ───── - ───── - ────\n",
       "               3⋅μ₁ ⎠                     ⎝                                                                          2       2       2       2 \n",
       "\n",
       "                                                                                                                       2   2   3               \n",
       "                                                                                                                      G ⋅M₄ ⋅μ₄                \n",
       "────────────────────────────────────────────── - ──────────────────────────────────────────────────────────────────────────────────────────────\n",
       "                                             2                                                                                                 \n",
       "2       2       2       2       2   3 ___   ⎞                     ⎛                                                                            \n",
       "    3⋅y₁    3⋅y₂    3⋅y₃    3⋅y₄    ╲╱ 2 ⋅μ₃⎟                   3 ⎜                                                           2       2       2\n",
       "─ - ───── - ───── - ───── - ───── + ────────⎟    2⋅\\Lambda_{1,0} ⋅⎜2⋅\\delta\\Phi_{2} - \\delta\\Phi_{3} + 4⋅\\delta\\Phi_{4} + 2⋅x₁  + 2⋅x₂  + 2⋅x₃ \n",
       "      2       2       2       2        μ₁   ⎠                     ⎝                                                                            \n",
       "\n",
       "                                                      \n",
       "                                                      \n",
       "──────────────────────────────────────────────────────\n",
       "                                                     2\n",
       "                                              2/3   ⎞ \n",
       "       2       2       2       2       2   2⋅3   ⋅μ₄⎟ \n",
       " + 2⋅x₄  + 2⋅y₁  + 2⋅y₂  + 2⋅y₃  + 2⋅y₄  + ─────────⎟ \n",
       "                                              3⋅μ₁  ⎠ "
      ]
     },
     "execution_count": 31,
     "metadata": {},
     "output_type": "execute_result"
    }
   ],
   "source": [
    "kam_rtc.H"
   ]
  },
  {
   "cell_type": "markdown",
   "id": "c634fb37",
   "metadata": {},
   "source": [
    "# Solve for equilibrium configurations\n",
    "Now, we'll search for equilibrium solutions to the equations of motion.\n",
    "\n",
    "In general, these equilibria depend on the various conserved quantites. Since we're considering planar configurations, the inclination degrees of freedom (with actions $\\Psi_i$) do not enter the Hamiltonian. There are therefore two conserved quantities $\\delta \\Phi_3$ and $\\delta \\Phi_4$. \n",
    "\n",
    "[Delisle (2017)](https://ui.adsabs.harvard.edu/abs/2017A%26A...605A..96D/abstract) argues that $\\Phi_3 = \\Phi_{3,0} + \\delta \\Phi_3$ acts only as a scaling parameter setting the scales of time, distance and energy. He effectively chooses $\\Lambda_{1,0}$ such that\n",
    "\n",
    "$\\Phi_3 \\Lambda_{1,0} = 8\\Lambda_{1} + 6 \\Lambda_{2} + 4 \\Lambda_{3} + 3 \\Lambda_{4} = 8\\Lambda_{1,0} + 6 \\Lambda_{2,0} + 4 \\Lambda_{3,0} + 3 \\Lambda_{4,0}$\n",
    "\n",
    "where each of the $\\Lambda_{i,0}$ are defined such that the period ratios between adjacent planets correspond to the integer ratios in the resonant chain (the middle expression is just a number given the initial conditions, and after factoring out $\\Lambda_{1,0}$ from the right expression, it only otherwise depends on the (specified) mass and period ratios). We converted our REBOUND simulation to a PoincareHamiltonian, which by default adopted the initial semimajor axis $a_{1,0}$ for determining $\\Lambda_{1,0}$. This in general leads to a nonzero $\\delta \\Phi_3$, but for simplicity we ignore this small correction, since it does not qualitatively affect the dynamics.\n",
    "\n",
    "This leaves a single parameter $\\delta \\Phi_4$, so we search for equilibria as a function of $\\delta \\Phi_4$.\n",
    "In fact, we'll search for equailibria as function of the variable $\\mathcal{D} = -\\delta \\Phi_4$, which is essentially the AMD of the system (see [Haddden & Payne 2020](https://ui.adsabs.harvard.edu/abs/2020AJ....160..106H/abstract))"
   ]
  },
  {
   "cell_type": "code",
   "execution_count": 32,
   "id": "45239d5f",
   "metadata": {},
   "outputs": [],
   "source": [
    "amd = symbols(r\"\\mathcal{D}\")\n",
    "amd_rule = {dPhi[3]: -1*amd}\n",
    "pars = kam_rtc.H_params"
   ]
  },
  {
   "cell_type": "markdown",
   "id": "51bc4133",
   "metadata": {},
   "source": [
    "Now we need to get a list of functions $dy_i/dt$, where the $y_i$ are each of the coordinates and momenta. We can get a list of these differential equations (as `sympy` expressions with numerical values for the parameters) using our Hamiltonian's `flow` attribute. We will also find the Jacobian useful (i.e., the matrix of derivatives of the Nflow_i with respect to each of the $y_j$), available through the `jacobian` attribute. We then turn each of these into a function that takes all our $y_i$ as input to evaluate numerical values for the `flow` and `jacobian` using sympy's `lambdify` function. Finally, we rewrite these functions to take `amd`=$-\\delta \\Phi_4$ separately from the rest of the coordinates and momenta $y$ since we want to search over `amd`"
   ]
  },
  {
   "cell_type": "code",
   "execution_count": 33,
   "id": "cb564e7c",
   "metadata": {},
   "outputs": [
    {
     "name": "stdout",
     "output_type": "stream",
     "text": [
      "CPU times: user 34.3 s, sys: 348 ms, total: 34.6 s\n",
      "Wall time: 35.9 s\n"
     ]
    }
   ],
   "source": [
    "%%time\n",
    "Nflow = kam_rtc.flow.subs(amd_rule).subs(pars).evalf()\n",
    "Njac = kam_rtc.jacobian.subs(amd_rule).evalf().subs(pars)\n",
    "\n",
    "from sympy import lambdify\n",
    "dyvars = kam_rtc.qp_vars + [amd]\n",
    "flow_func = lambdify(dyvars,Nflow)\n",
    "Dflow_func = lambdify(dyvars,Njac)\n",
    "\n",
    "fun = lambda y,amd0: flow_func(*y,amd0).reshape(-1)\n",
    "Dfun = lambda y,amd0: Dflow_func(*y,amd0)"
   ]
  },
  {
   "cell_type": "markdown",
   "id": "f17e399f",
   "metadata": {},
   "source": [
    "Now we write a simple Newton's method to solve for where the flow vanishes (i.e., the fixed points)"
   ]
  },
  {
   "cell_type": "code",
   "execution_count": 34,
   "id": "d3f88f90",
   "metadata": {},
   "outputs": [],
   "source": [
    "from scipy.linalg import solve as lin_solve\n",
    "import warnings\n",
    "\n",
    "def newton_solve(guess,amd0,max_iter=100,rtol=1e-6,atol=1e-12):\n",
    "    y = guess.copy()\n",
    "    for itr in range(max_iter):\n",
    "        f = fun(y,amd0)\n",
    "        Df = Dfun(y,amd0)\n",
    "        dy = -1 * lin_solve(Df,f)\n",
    "        y+=dy\n",
    "        if np.alltrue( np.abs(dy) < rtol * np.abs(y) + atol ):\n",
    "            break\n",
    "    else:\n",
    "        warnings.warn(\"did not converge\")\n",
    "    return y"
   ]
  },
  {
   "cell_type": "markdown",
   "id": "0d36cb35",
   "metadata": {},
   "source": [
    "The root-finding in this high dimensional problem can be a bit finicky: \n",
    " - Trying lots of initial guesses helps find all the elliptic equilibria\n",
    " - Turning off warnings surpresses annoying warnings about a poorly conditioned Jacobian during the Newton's method root-finding"
   ]
  },
  {
   "cell_type": "code",
   "execution_count": 41,
   "id": "944b68a3",
   "metadata": {},
   "outputs": [],
   "source": [
    "inital_guesses=[]\n",
    "for phi10 in np.linspace(0,350,20):\n",
    "    for phi20 in [75,180,25]:\n",
    "        guess=np.zeros(12)\n",
    "        guess[:2] = np.array([phi10,phi20]) * np.pi/180\n",
    "        inital_guesses.append(guess)\n",
    "inital_guesses = np.array(inital_guesses)\n",
    "\n",
    "import warnings\n",
    "warnings.filterwarnings(\"ignore\")"
   ]
  },
  {
   "cell_type": "markdown",
   "id": "586a92e5",
   "metadata": {},
   "source": [
    "We first choose a specific value for `amd0` (taken to match the case plotted in Delisle 2017), and use the eigenvalues to plot the elliptic (stable) fixed points as filled circles, and the unstable fixed points as crosses:"
   ]
  },
  {
   "cell_type": "code",
   "execution_count": 42,
   "id": "92f95f9e",
   "metadata": {},
   "outputs": [],
   "source": [
    "amd0 = 0.02**2"
   ]
  },
  {
   "cell_type": "code",
   "execution_count": 43,
   "id": "35923dcb",
   "metadata": {
    "scrolled": false
   },
   "outputs": [
    {
     "name": "stdout",
     "output_type": "stream",
     "text": [
      "CPU times: user 1.86 s, sys: 6.84 ms, total: 1.87 s\n",
      "Wall time: 1.88 s\n"
     ]
    },
    {
     "data": {
      "text/plain": [
       "Text(0, 0.5, '$\\\\phi_2$ [deg]')"
      ]
     },
     "execution_count": 43,
     "metadata": {},
     "output_type": "execute_result"
    },
    {
     "data": {
      "image/png": "[encoded data removed]",
      "text/plain": [
       "<Figure size 432x288 with 1 Axes>"
      ]
     },
     "metadata": {
      "needs_background": "light"
     },
     "output_type": "display_data"
    }
   ],
   "source": [
    "%%time\n",
    "initial_solns = []\n",
    "phi_eqs = []\n",
    "already_found = False\n",
    "for ig in inital_guesses:\n",
    "    try:\n",
    "        soln = newton_solve(ig,amd0,rtol = 1e-8,atol = 1e-13)\n",
    "    except:\n",
    "        continue\n",
    "    phi1,phi2 = soln[:2]\n",
    "    phi1,phi2=np.mod([phi1,phi2],2*np.pi)\n",
    "    \n",
    "    # Has this combinations of phi1 & phi2 occurred yet?\n",
    "    if len(phi_eqs)>0:\n",
    "        already_found = np.any(np.alltrue(np.isclose(np.array(phi_eqs),np.array((phi1,phi2))),axis=1))\n",
    "    if not already_found:\n",
    "        phi_eqs.append((phi1,phi2))\n",
    "        jac = Dfun(soln,amd0)\n",
    "        eigs = np.linalg.eigvals(jac)\n",
    "        eigs_r = np.real(eigs)\n",
    "        ell = np.alltrue(np.isclose(np.abs(eigs_r),0))\n",
    "        # Save initial conditions for points at \n",
    "        # elliptic equilibria\n",
    "        if ell:\n",
    "            initial_solns.append(soln)\n",
    "        mrker = 'o' if ell else 'x'\n",
    "        plt.scatter(180 * phi1 / np.pi,180 * phi2 / np.pi,s=150,marker=mrker)\n",
    "plt.xlim(-2,362)\n",
    "plt.ylim(-2,362)\n",
    "plt.xticks([0,90,180,270,360])\n",
    "plt.yticks([0,90,180,270,360])\n",
    "plt.tick_params(labelsize=16,size=8,direction='in')\n",
    "plt.xlabel(r\"$\\phi_1$ [deg]\",fontsize=20)\n",
    "plt.ylabel(r\"$\\phi_2$ [deg]\",fontsize=20)"
   ]
  },
  {
   "cell_type": "markdown",
   "id": "f04c1ba4",
   "metadata": {},
   "source": [
    "# Get $N$-body simulations at equilibria\n",
    "\n",
    "Let's create a canonical transformation representing the composition of all the transformations we've gone through so far. \n",
    "Used to go from equilibiria -> poincare variables -> N-body simulations"
   ]
  },
  {
   "cell_type": "code",
   "execution_count": 44,
   "id": "38f5e2f3",
   "metadata": {},
   "outputs": [],
   "source": [
    "ct_composite = CanonicalTransformation.composite([ct,ct_rescale,ct_translate,ct_polar2cart])"
   ]
  },
  {
   "cell_type": "markdown",
   "id": "83a8ce11",
   "metadata": {},
   "source": [
    "Our `kam_rtc` Hamiltonian has a reduced phase space, owing to the conserved quantities we found along the way. We write a function to start from `kam_rtc.full_values`, corresponding to the full $6N$ dimensional phase space we started with. We then overwrite the dynamical variables in the reduced phase space (with indices specified by `active_mask`), as well as $\\delta \\Phi_4$, which we chose above as `amd0`. We then transform all those values back to our original Poincare variables through `ct_composite`, and turn it into a REBOUND simulation."
   ]
  },
  {
   "cell_type": "code",
   "execution_count": 45,
   "id": "cb188458",
   "metadata": {},
   "outputs": [],
   "source": [
    "active_mask = np.array([v in kam_rtc.qp_vars for v in kam_rtc.full_qp_vars])\n",
    "idPhi4 = kam_rtc.full_qp_vars.index(dPhi[3])\n",
    "\n",
    "# Convert a solution to a rebound simulation\n",
    "def to_sim(soln,amdval,sim0):\n",
    "    vals = np.array(kam_rtc.full_values)\n",
    "    vals[active_mask] = soln\n",
    "    vals[idPhi4] = -1*amdval\n",
    "    pvars = Poincare.from_Simulation(sim0)\n",
    "    pvars.values = ct_composite.new_to_old_array(vals)\n",
    "    sim = pvars.to_Simulation()\n",
    "    sim.t = 0\n",
    "    return sim\n",
    "# Run a rebound simulation and get orbital angles and eccentricities\n",
    "def get_angles_and_eccentricities(sim,times):\n",
    "    N = len(times) \n",
    "    ps = sim.particles\n",
    "    Npl = len(ps) - 1\n",
    "    angs = np.zeros((N,3*Npl))\n",
    "    eccs = np.zeros((N,Npl))\n",
    "    for i,t in enumerate(times):\n",
    "        sim.integrate(t)\n",
    "        for j,p in enumerate(ps[1:]):\n",
    "            eccs[i,j] = p.e\n",
    "            angs[i,j] = p.l\n",
    "            angs[i,j+Npl] = -1 * p.pomega\n",
    "            angs[i,j+2*Npl] = -1 * p.Omega\n",
    "    return angs,eccs"
   ]
  },
  {
   "cell_type": "markdown",
   "id": "7cefcf22",
   "metadata": {},
   "source": [
    "We now plot 6 integrations, for each of the 6 stable equilibria."
   ]
  },
  {
   "cell_type": "code",
   "execution_count": 46,
   "id": "96befbbf",
   "metadata": {},
   "outputs": [
    {
     "data": {
      "text/plain": [
       "[<matplotlib.axis.YTick at 0x7ff0aa9853d0>,\n",
       " <matplotlib.axis.YTick at 0x7ff0aa97dc10>,\n",
       " <matplotlib.axis.YTick at 0x7ff0aa9758b0>,\n",
       " <matplotlib.axis.YTick at 0x7ff0aab26e50>,\n",
       " <matplotlib.axis.YTick at 0x7ff0aab2e4c0>]"
      ]
     },
     "execution_count": 46,
     "metadata": {},
     "output_type": "execute_result"
    },
    {
     "data": {
      "image/png": "[encoded data removed]",
      "text/plain": [
       "<Figure size 1080x360 with 12 Axes>"
      ]
     },
     "metadata": {
      "needs_background": "light"
     },
     "output_type": "display_data"
    }
   ],
   "source": [
    "# Simulation times to get N-body results for\n",
    "times = np.linspace(0,1,256) * 2e3 * sim.particles[1].P\n",
    "\n",
    "# Set up plots\n",
    "fig,ax = plt.subplots(2,6,figsize=(15,5),sharex=True,sharey='row')\n",
    "\n",
    "# Loop over 6 stable equilibria, plot N-body solutions\n",
    "for i,soln in enumerate(initial_solns):\n",
    "    sim = to_sim(soln,amd0,sim)\n",
    "    angs,eccs = get_angles_and_eccentricities(sim,times)\n",
    "    ax[0,i].plot(times,eccs)\n",
    "    res_angs = np.mod(np.array([A @ ang for ang in angs]),2*np.pi)\n",
    "    ax[1,i].plot(times,180*res_angs[:,0]/np.pi)\n",
    "    ax[1,i].plot(times,180*res_angs[:,1]/np.pi)\n",
    "    \n",
    "# make things  prettier\n",
    "ax[0,0].set_ylabel(r\"$e_i$ [deg]\",fontsize = 16)\n",
    "ax[1,0].set_ylabel(r\"$\\phi_i$ [deg]\",fontsize = 16)\n",
    "ax[1,0].set_yticks([0,90,180,270,360])"
   ]
  },
  {
   "cell_type": "markdown",
   "id": "804c374e",
   "metadata": {},
   "source": [
    "# AMD-dependence of Period ratios and eccentricities \n",
    "\n",
    "For a given equilibrium solution (we'll take the one corresponding to the right-most panels above, which is the solution that Kepler 223 is closest to), we can also vary the system AMD (or equivalently $\\delta \\Phi_4$), and ask what eccentricities and deviations from resonance that corresponds to for each pair of planets in the system.\n",
    "\n",
    "We choose to express each pair's deviation from resonance as $\\Delta = \\frac{j-1}{j}\\frac{P_\\mathrm{out}}{P_\\mathrm{in}} - 1$."
   ]
  },
  {
   "cell_type": "code",
   "execution_count": 47,
   "id": "ab324bd1",
   "metadata": {},
   "outputs": [
    {
     "name": "stdout",
     "output_type": "stream",
     "text": [
      "Using equilibrium with phi1=311.9 deg, phi2=286.8 deg\n"
     ]
    }
   ],
   "source": [
    "init_soln = initial_solns[5]\n",
    "phi1eq,phi2eq=np.mod(np.array(init_soln[:2]), 2*np.pi) * 180/np.pi\n",
    "print(\"Using equilibrium with phi1={:.1f} deg, phi2={:.1f} deg\".format(phi1eq,phi2eq))\n",
    "# The actual Kepler-223 system resides close to this equilibrium"
   ]
  },
  {
   "cell_type": "code",
   "execution_count": 48,
   "id": "61f2ef07",
   "metadata": {},
   "outputs": [],
   "source": [
    "Nsolns = 150\n",
    "amdvals = np.logspace(np.log10(0.05 * amd0),np.log10(25*amd0),Nsolns)\n",
    "guess = init_soln.copy()\n",
    "eq_solns = np.zeros((Nsolns,guess.shape[0]))\n",
    "for i,amdval in enumerate(amdvals):\n",
    "    guess = newton_solve(guess,amdval)\n",
    "    eq_solns[i] = guess"
   ]
  },
  {
   "cell_type": "markdown",
   "id": "06b85f6c",
   "metadata": {},
   "source": [
    "For example, a particular value of the AMD might correspond to, say, $\\Delta_{bc} = 0.04$ in the top panel, from which we could read off each planet's corresponding eccentricity. For that particular value of eccentricity for planet $c$, we could then find that value of $e_c$ in the middle panel, and read off $e_d$ and the deviation from resonance for the $cd$ planet pair ($\\Delta_{cd}$). And similarly we could take that value of $e_d$ to find the corresponding $e_e$ in the bottom panel and $\\Delta_{de}$."
   ]
  },
  {
   "cell_type": "code",
   "execution_count": 49,
   "id": "3c22b4dd",
   "metadata": {},
   "outputs": [
    {
     "data": {
      "text/plain": [
       "Text(0.5, 0, '$100\\\\times\\\\Delta$')"
      ]
     },
     "execution_count": 49,
     "metadata": {},
     "output_type": "execute_result"
    },
    {
     "data": {
      "image/png": "[encoded data removed]",
      "text/plain": [
       "<Figure size 360x504 with 3 Axes>"
      ]
     },
     "metadata": {
      "needs_background": "light"
     },
     "output_type": "display_data"
    }
   ],
   "source": [
    "plstr='bcde'\n",
    "fig,ax = plt.subplots(3,sharex=True,figsize=(5,7))\n",
    "periods,eccs = np.zeros((2,len(eq_solns),4))\n",
    "for i,soln in enumerate(eq_solns):\n",
    "    sim = to_sim(soln,amdvals[i],sim)\n",
    "    ps = sim.particles\n",
    "    periods[i] = [p.P for p in ps[1:]]\n",
    "    eccs[i] = [p.e for p in ps[1:]]\n",
    "Deltas = periods[:,1:]/periods[:,:-1] * np.array([3/4,2/3,3/4])-1\n",
    "for j,D in enumerate(Deltas.T):\n",
    "    ax[j].plot(100*D,eccs[:,j],'k',label=\"$e_{}$\".format(plstr[j]))\n",
    "    ax[j].plot(100*D,eccs[:,j+1],'r',label=\"$e_{}$\".format(plstr[j+1]))\n",
    "    ax[j].legend(fontsize=20)\n",
    "    ax[j].set_ylim(0,0.15)\n",
    "    ax[j].set_ylabel(\"$e$\")\n",
    "ax[2].set_xlabel(r\"$100\\times\\Delta$\",fontsize=20)"
   ]
  },
  {
   "cell_type": "code",
   "execution_count": null,
   "id": "46a284d5",
   "metadata": {},
   "outputs": [],
   "source": []
  }
 ],
 "metadata": {
  "kernelspec": {
   "display_name": "Python 3 (ipykernel)",
   "language": "python",
   "name": "python3"
  },
  "language_info": {
   "codemirror_mode": {
    "name": "ipython",
    "version": 3
   },
   "file_extension": ".py",
   "mimetype": "text/x-python",
   "name": "python",
   "nbconvert_exporter": "python",
   "pygments_lexer": "ipython3",
   "version": "3.9.7"
  }
 },
 "nbformat": 4,
 "nbformat_minor": 5
}
