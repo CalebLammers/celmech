{
 "cells": [
  {
   "cell_type": "markdown",
   "metadata": {},
   "source": [
    "# Basic Disturbing Function Integration\n",
    "This notebook illustrates some of the basic elements of initializing and running integrations with celmech's 'PoincareHamiltonian'. The package is designed to construct a Hamiltonian and integrate equations of motion using a collection of user-specified disturbing function terms."
   ]
  },
  {
   "cell_type": "code",
   "execution_count": 1,
   "metadata": {
    "collapsed": true
   },
   "outputs": [],
   "source": [
    "import numpy as np\n",
    "import matplotlib.pyplot as plt\n",
    "%matplotlib inline\n",
    "# sympy for pretty printing, symbolic manipulation\n",
    "from sympy import init_printing\n",
    "init_printing()"
   ]
  },
  {
   "cell_type": "markdown",
   "metadata": {},
   "source": [
    "## Set up a REBOUND integration"
   ]
  },
  {
   "cell_type": "markdown",
   "metadata": {},
   "source": [
    "Set up a REBOUND simulation of three planets"
   ]
  },
  {
   "cell_type": "code",
   "execution_count": null,
   "metadata": {
    "collapsed": true
   },
   "outputs": [],
   "source": [
    "import rebound\n",
    "\n",
    "def get_sim(j,k):\n",
    "    sim = rebound.Simulation()\n",
    "    sim.add(m=1)\n",
    " \n",
    "    sim.G = 4*np.pi*np.pi\n",
    "    mass=1e-5\n",
    "    \n",
    "    sim.add(m=mass,e=0.01,P=1)\n",
    "    sim.add(m=mass,P=j / float(j-k),e=0.1,pomega=np.pi)\n",
    "    sim.add(m=1e-3,P=10.1,e=0.02,pomega=0.5*np.pi)\n",
    "    \n",
    "    sim.dt = sim.particles[1].P / 30.\n",
    "    sim.integrator='whfast'\n",
    "    return sim "
   ]
  },
  {
   "cell_type": "markdown",
   "metadata": {},
   "source": [
    "Get a simulation with inner pair near a 3:2 mean-motion resonance"
   ]
  },
  {
   "cell_type": "code",
   "execution_count": null,
   "metadata": {
    "collapsed": false
   },
   "outputs": [],
   "source": [
    "resonance, res_order =3,1\n",
    "sim=get_sim(3,1)\n",
    "rebound.plotting.OrbitPlot(sim,color=True);"
   ]
  },
  {
   "cell_type": "markdown",
   "metadata": {},
   "source": [
    "## Make a celmech model "
   ]
  },
  {
   "cell_type": "markdown",
   "metadata": {},
   "source": [
    "Import Poincare variable functions from the celmech package"
   ]
  },
  {
   "cell_type": "code",
   "execution_count": null,
   "metadata": {
    "collapsed": true
   },
   "outputs": [],
   "source": [
    "from celmech import Poincare, PoincareHamiltonian"
   ]
  },
  {
   "cell_type": "markdown",
   "metadata": {},
   "source": [
    "Initialize model directly from the REBOUND simulation"
   ]
  },
  {
   "cell_type": "code",
   "execution_count": null,
   "metadata": {
    "collapsed": false
   },
   "outputs": [],
   "source": [
    "poincare_variables = Poincare.from_Simulation(sim)"
   ]
  },
  {
   "cell_type": "markdown",
   "metadata": {},
   "source": [
    "A 'Poincare' object stores a set of particles with canonical coordinates:\n",
    "\\begin{align}\n",
    "\\Lambda_i = m_i\\sqrt{G M_* a_i} &;& \\lambda_i \\\\\n",
    "X_i = \\sqrt{2\\Gamma_i}\\cos(\\gamma_i) &;& Y_i=\\sqrt{2\\Gamma_i}\\sin(\\gamma_i)\n",
    "\\end{align}\n",
    "where \n",
    "\\begin{align}\n",
    "\\Gamma_i = \\Lambda_i(1-\\sqrt{1-e_i^2}) &;& \\gamma_i =-\\varpi_i \n",
    "\\end{align}"
   ]
  },
  {
   "cell_type": "code",
   "execution_count": null,
   "metadata": {
    "collapsed": false
   },
   "outputs": [],
   "source": [
    "for i,p in enumerate(poincare_variables.particles[1:]):\n",
    "    print(\"Lambda_%d = %.3g , Gamma_%d = %.3g\"%(i,p.Lambda,i, p.Gamma))"
   ]
  },
  {
   "cell_type": "markdown",
   "metadata": {},
   "source": [
    "Now construct a Hamiltonian model with the Poincare varaibles:"
   ]
  },
  {
   "cell_type": "code",
   "execution_count": null,
   "metadata": {
    "collapsed": true
   },
   "outputs": [],
   "source": [
    "Hp = PoincareHamiltonian(poincare_variables)"
   ]
  },
  {
   "cell_type": "markdown",
   "metadata": {},
   "source": [
    "The 'Hamlitonian' object keeps track of a symbolic Hamiltonian.\n",
    "By default $N$ distinct Keplerian terms are included."
   ]
  },
  {
   "cell_type": "code",
   "execution_count": null,
   "metadata": {
    "collapsed": false
   },
   "outputs": [],
   "source": [
    "Hp.H"
   ]
  },
  {
   "cell_type": "markdown",
   "metadata": {},
   "source": [
    "The numerical value of all parameters is tracked as well:"
   ]
  },
  {
   "cell_type": "code",
   "execution_count": null,
   "metadata": {
    "collapsed": false
   },
   "outputs": [],
   "source": [
    "Hp.NH"
   ]
  },
  {
   "cell_type": "markdown",
   "metadata": {},
   "source": [
    "## Add the disturbing function terms associated with the 3:2 resonance\n",
    "The \"add_all_resonance_subterms\" adds the disturbing function terms\n",
    "\\begin{equation}\n",
    "\\text{3:2 terms}=C_{3,1,0} e'\\cos[3\\lambda'-2\\lambda-\\varpi'] + C_{3,1,1} e\\cos[3\\lambda'-2\\lambda-\\varpi]\n",
    "\\end{equation}\n",
    "to the Hamiltonian in canonical coordinates.\n",
    "\n",
    "Celmech can add terms for any $k$th order resonance as\n",
    "\\begin{equation}\n",
    "\\text{j:(j-k) terms}=\\sum_{l=0}^{k} C_{j,k,l}e^{l}e'^{k-l}\\cos[j\\lambda'-(j-k)\\lambda-l\\varpi-(k-l)\\varpi'] \n",
    "\\end{equation}"
   ]
  },
  {
   "cell_type": "code",
   "execution_count": null,
   "metadata": {
    "collapsed": false
   },
   "outputs": [],
   "source": [
    "inner_planet=1\n",
    "outer_planet=2\n",
    "print(\"Adding %d:%d resonance terms for planets %d and %d\"%(resonance,resonance-res_order,inner_planet,outer_planet))\n",
    "\n",
    "# Call to celmech to add terms\n",
    "Hp.add_all_resonance_subterms(inner_planet,outer_planet, resonance,res_order)"
   ]
  },
  {
   "cell_type": "markdown",
   "metadata": {},
   "source": [
    "The symbolic Hamiltonian now reflects the new terms:"
   ]
  },
  {
   "cell_type": "code",
   "execution_count": null,
   "metadata": {
    "collapsed": false
   },
   "outputs": [],
   "source": [
    "Hp.H"
   ]
  },
  {
   "cell_type": "markdown",
   "metadata": {},
   "source": [
    "An auxilary 'Hpolar' expressed in terms of $\\Gamma_i,\\gamma_i$ is also stored (this is often more readable):"
   ]
  },
  {
   "cell_type": "code",
   "execution_count": null,
   "metadata": {
    "collapsed": false
   },
   "outputs": [],
   "source": [
    "Hp.Hpolar"
   ]
  },
  {
   "cell_type": "markdown",
   "metadata": {},
   "source": [
    "# Integrate the system and compare with the  REBOUND $N$-body results:\n",
    "'PoincareHamiltonian.state' keeps track of the 'Poincare' variables that can easily be converted back to a REBOUND simulation for direct comparison of orbital elements"
   ]
  },
  {
   "cell_type": "code",
   "execution_count": null,
   "metadata": {
    "collapsed": false
   },
   "outputs": [],
   "source": [
    "Norbits = 6e3\n",
    "Nout = 500\n",
    "\n",
    "tmax = Norbits*sim.particles[1].P\n",
    "times = np.linspace(0, tmax, Nout)\n",
    "\n",
    "Nsma = np.zeros((2,Nout))\n",
    "Necc = np.zeros((2,Nout))\n",
    "Psma = np.zeros((2,Nout))\n",
    "Pecc = np.zeros((2,Nout))\n",
    "\n",
    "for i,t in enumerate(times):\n",
    "    # Store N-body data\n",
    "    Nsma[0,i]=sim.particles[1].a\n",
    "    Nsma[1,i]=sim.particles[2].a\n",
    "    Necc[0,i]=sim.particles[1].e\n",
    "    Necc[1,i]=sim.particles[2].e\n",
    "\n",
    "    #  Convert the Poincare variables back to rebound simulation to store a's and e's\n",
    "    simP=Hp.state.to_Simulation()\n",
    "    Psma[0,i]=simP.particles[1].a\n",
    "    Psma[1,i]=simP.particles[2].a\n",
    "    Pecc[0,i]=simP.particles[1].e\n",
    "    Pecc[1,i]=simP.particles[2].e\n",
    "\n",
    "    # integrate the N-body simulation\n",
    "    sim.integrate(times[i])\n",
    "    # integration Poincare simulation\n",
    "    Hp.integrate(times[i])\n",
    "\n"
   ]
  },
  {
   "cell_type": "code",
   "execution_count": null,
   "metadata": {
    "collapsed": false
   },
   "outputs": [],
   "source": [
    "fig,ax=plt.subplots(1,2,figsize=(15,7))\n",
    "\n",
    "ax[0].plot(times,(Psma[0]-Psma[0,0])/Psma[0,0],'r--')\n",
    "ax[0].plot(times,(Psma[1]-Psma[1,0])/Psma[1,0],'k--')\n",
    "\n",
    "ax[0].plot(times,(Nsma[0]-Nsma[0,0])/Nsma[0,0],'r')\n",
    "ax[0].plot(times,(Nsma[1]-Nsma[1,0])/Nsma[1,0],'k')\n",
    "\n",
    "ax[1].plot(times,Pecc[0],'r--',label='Planet 1, celmech')\n",
    "ax[1].plot(times,Pecc[1],'k--',label='Planet 1, celmech')\n",
    "\n",
    "ax[1].plot(times,Necc[0],'r',label='Planet 1, Nbody')\n",
    "ax[1].plot(times,Necc[1],'k',label='Planet 2, Nbody')\n",
    "ax[1].legend()\n",
    "\n",
    "ax[0].set_ylabel('(a-a0)/a',fontsize=18)\n",
    "ax[1].set_ylabel('Eccentricity',fontsize=18)\n",
    "\n",
    "ax[0].set_xlabel('Time [planet 1 orbits]',fontsize=18)\n",
    "ax[1].set_xlabel('Time [planet 1 orbits]',fontsize=18)"
   ]
  },
  {
   "cell_type": "markdown",
   "metadata": {},
   "source": [
    "# Investigate adding more terms\n",
    "Let's include higher harmonics of the 3:2 MMR along and secular terms and secular interactions between all the planets"
   ]
  },
  {
   "cell_type": "code",
   "execution_count": null,
   "metadata": {
    "collapsed": false,
    "scrolled": true
   },
   "outputs": [],
   "source": [
    "resonance, res_order =3,1\n",
    "secular_order = 2\n",
    "sim=get_sim(3,1)\n",
    "poincare_variables = Poincare.from_Simulation(sim)\n",
    "Hp = PoincareHamiltonian(poincare_variables)\n",
    "for i in range(1,4):\n",
    "    j,k = i*resonance,i*(res_order)\n",
    "    print(\"Adding %d:%d resonance terms for planets %d and %d\"%(j,j-k,inner_planet,outer_planet))\n",
    "    Hp.add_all_resonance_subterms(inner_planet,outer_planet,j,k)\n",
    "for i in range(1,Hp.state.N):\n",
    "    for j in range(i+1,Hp.state.N):\n",
    "        print(\"Adding secular terms to order %d for planets %d and %d\"%(secular_order,i,j))\n",
    "        Hp.add_secular_terms(i,j,secular_order)"
   ]
  },
  {
   "cell_type": "code",
   "execution_count": null,
   "metadata": {
    "collapsed": false
   },
   "outputs": [],
   "source": [
    "Norbits = 6e3\n",
    "Nout = 500\n",
    "\n",
    "tmax = Norbits*sim.particles[1].P\n",
    "times = np.linspace(0, tmax, Nout)\n",
    "\n",
    "Nsma = np.zeros((2,Nout))\n",
    "Necc = np.zeros((2,Nout))\n",
    "Psma = np.zeros((2,Nout))\n",
    "Pecc = np.zeros((2,Nout))\n",
    "\n",
    "for i,t in enumerate(times):\n",
    "    # Store N-body data\n",
    "    Nsma[0,i]=sim.particles[1].a\n",
    "    Nsma[1,i]=sim.particles[2].a\n",
    "    Necc[0,i]=sim.particles[1].e\n",
    "    Necc[1,i]=sim.particles[2].e\n",
    "\n",
    "    #  Convert the Poincare variables back to rebound simulation to store a's and e's\n",
    "    simP=Hp.state.to_Simulation()\n",
    "    Psma[0,i]=simP.particles[1].a\n",
    "    Psma[1,i]=simP.particles[2].a\n",
    "    Pecc[0,i]=simP.particles[1].e\n",
    "    Pecc[1,i]=simP.particles[2].e\n",
    "\n",
    "    # integrate the N-body simulation\n",
    "    sim.integrate(times[i])\n",
    "    # integration Poincare simulation\n",
    "    Hp.integrate(times[i])\n",
    "\n"
   ]
  },
  {
   "cell_type": "code",
   "execution_count": null,
   "metadata": {
    "collapsed": false
   },
   "outputs": [],
   "source": [
    "fig,ax=plt.subplots(1,2,figsize=(15,7))\n",
    "\n",
    "ax[0].plot(times,(Psma[0]-Psma[0,0])/Psma[0,0],'r--')\n",
    "ax[0].plot(times,(Psma[1]-Psma[1,0])/Psma[1,0],'k--')\n",
    "\n",
    "ax[0].plot(times,(Nsma[0]-Nsma[0,0])/Nsma[0,0],'r')\n",
    "ax[0].plot(times,(Nsma[1]-Nsma[1,0])/Nsma[1,0],'k')\n",
    "\n",
    "ax[1].plot(times,Pecc[0],'r--',label='Planet 1, celmech')\n",
    "ax[1].plot(times,Pecc[1],'k--',label='Planet 1, celmech')\n",
    "\n",
    "ax[1].plot(times,Necc[0],'r',label='Planet 1, Nbody')\n",
    "ax[1].plot(times,Necc[1],'k',label='Planet 2, Nbody')\n",
    "ax[1].legend()\n",
    "\n",
    "ax[0].set_ylabel('(a-a0)/a',fontsize=18)\n",
    "ax[1].set_ylabel('Eccentricity',fontsize=18)\n",
    "\n",
    "ax[0].set_xlabel('Time [planet 1 orbits]',fontsize=18)\n",
    "ax[1].set_xlabel('Time [planet 1 orbits]',fontsize=18)"
   ]
  },
  {
   "cell_type": "code",
   "execution_count": null,
   "metadata": {
    "collapsed": true
   },
   "outputs": [],
   "source": []
  }
 ],
 "metadata": {
  "kernelspec": {
   "display_name": "Python 2",
   "language": "python",
   "name": "python2"
  },
  "language_info": {
   "codemirror_mode": {
    "name": "ipython",
    "version": 2
   },
   "file_extension": ".py",
   "mimetype": "text/x-python",
   "name": "python",
   "nbconvert_exporter": "python",
   "pygments_lexer": "ipython2",
   "version": "2.7.13"
  }
 },
 "nbformat": 4,
 "nbformat_minor": 0
}
