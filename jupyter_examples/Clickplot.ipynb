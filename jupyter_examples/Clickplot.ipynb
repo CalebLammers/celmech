{
 "cells": [
  {
   "cell_type": "code",
   "execution_count": null,
   "metadata": {
    "collapsed": false
   },
   "outputs": [],
   "source": [
    "%matplotlib notebook\n",
    "import matplotlib.pyplot as plt\n",
    "from celmech.hamiltonian import AndoyerHamiltonian\n",
    "import numpy as np\n",
    "\n",
    "class Clicker(object):\n",
    "    def __init__(self, k, Phiprime):\n",
    "        self.ax = plt.subplot('111', projection='polar')\n",
    "        self.k = k\n",
    "        self.Phiprime = Phiprime\n",
    "        self.cid = self.ax.figure.canvas.mpl_connect('button_press_event', self)\n",
    "\n",
    "    def __call__(self, event):\n",
    "        phi = event.xdata\n",
    "        Phi = event.ydata\n",
    "        H = AndoyerHamiltonian(self.k,self.Phiprime,Phi,phi)\n",
    "        tmax=100\n",
    "        Nout = 1000\n",
    "        times = np.linspace(0, tmax, Nout)\n",
    "        sol = np.zeros((2, Nout))\n",
    "        for i, time in enumerate(times):\n",
    "            H.integrate(time)\n",
    "            sol[:,i] = H.integrator.y\n",
    "        self.ax.plot(sol[1,:], sol[0,:])\n",
    "\n",
    "clicker = Clicker(1, 2)"
   ]
  },
  {
   "cell_type": "code",
   "execution_count": null,
   "metadata": {
    "collapsed": false
   },
   "outputs": [],
   "source": [
    "%matplotlib notebook\n",
    "import matplotlib.pyplot as plt\n",
    "from celmech.hamiltonian import AndoyerHamiltonian\n",
    "import numpy as np\n",
    "\n",
    "def wrap(val):\n",
    "    while val < 0:\n",
    "        val += 2*np.pi\n",
    "    while val > 2*np.pi:\n",
    "        val -= 2*np.pi\n",
    "    return val\n",
    "\n",
    "npwrap = np.vectorize(wrap)\n",
    "\n",
    "class Clicker(object):\n",
    "    def __init__(self, k, Phiprime):\n",
    "        self.ax = plt.subplot('111')\n",
    "        self.k = k\n",
    "        self.Phiprime = Phiprime\n",
    "        self.cid = self.ax.figure.canvas.mpl_connect('button_press_event', self)\n",
    "\n",
    "    def __call__(self, event):\n",
    "        phi = event.xdata\n",
    "        Phi = event.ydata\n",
    "        if Phi < 0:\n",
    "            return\n",
    "        H = AndoyerHamiltonian(self.k,self.Phiprime,Phi,phi)\n",
    "        tmax=100\n",
    "        Nout = 1000\n",
    "        times = np.linspace(0, tmax, Nout)\n",
    "        sol = np.zeros((2, Nout))\n",
    "        for i, time in enumerate(times):\n",
    "            H.integrate(time)\n",
    "            sol[:,i] = H.integrator.y\n",
    "        self.ax.plot(npwrap(sol[1,:]), sol[0,:], '.')\n",
    "\n",
    "clicker = Clicker(1, 2)"
   ]
  },
  {
   "cell_type": "code",
   "execution_count": null,
   "metadata": {
    "collapsed": true
   },
   "outputs": [],
   "source": []
  }
 ],
 "metadata": {
  "kernelspec": {
   "display_name": "Python 3",
   "language": "python",
   "name": "python3"
  },
  "language_info": {
   "codemirror_mode": {
    "name": "ipython",
    "version": 3
   },
   "file_extension": ".py",
   "mimetype": "text/x-python",
   "name": "python",
   "nbconvert_exporter": "python",
   "pygments_lexer": "ipython3",
   "version": "3.5.1"
  }
 },
 "nbformat": 4,
 "nbformat_minor": 2
}
