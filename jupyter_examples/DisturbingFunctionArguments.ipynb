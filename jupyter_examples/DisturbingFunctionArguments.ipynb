{
 "cells": [
  {
   "cell_type": "markdown",
   "id": "fb641803",
   "metadata": {},
   "source": [
    "# Disturbing Function Arguments\n",
    "\n",
    "This notebook illustrates some functions for producing lists of disturbing function arguments."
   ]
  },
  {
   "cell_type": "code",
   "execution_count": 1,
   "id": "3e01bfcd",
   "metadata": {},
   "outputs": [],
   "source": [
    "import sympy \n",
    "from sympy import symbols"
   ]
  },
  {
   "cell_type": "markdown",
   "id": "174a49c3",
   "metadata": {},
   "source": [
    "## `df_arguments_dictionary`\n",
    "This function produces a comprehensive list of cosine arguments appearing in the distrubing function up to a user-specified maximum order in eccentricities and inclinations. The results are organized as a nested dictionary, as described in the function's docstring."
   ]
  },
  {
   "cell_type": "code",
   "execution_count": 2,
   "id": "30ae99ca",
   "metadata": {},
   "outputs": [],
   "source": [
    "from celmech.disturbing_function import df_arguments_dictionary"
   ]
  },
  {
   "cell_type": "code",
   "execution_count": 3,
   "id": "7aa9d126",
   "metadata": {},
   "outputs": [],
   "source": [
    "Nmax = 3 # get all disturbing function cosine arguemnts appearing up to this order\n",
    "dfargs = df_arguments_dictionary(Nmax)"
   ]
  },
  {
   "cell_type": "code",
   "execution_count": 4,
   "id": "4ac031ad",
   "metadata": {},
   "outputs": [],
   "source": [
    "# Get some sympy symbols to represent disturbing function arguments\n",
    "from sympy import symbols, Matrix\n",
    "k =symbols(\"k\")\n",
    "l1,l2 = symbols(\"lambda(1:3)\")\n",
    "pmg1,pmg2 = symbols(\"varpi(1:3)\")\n",
    "Omega1,Omega2 = symbols(\"Omega(1:3)\")\n",
    "pmgOmg = Matrix([pmg1,pmg2,Omega1,Omega2])"
   ]
  },
  {
   "cell_type": "code",
   "execution_count": 5,
   "id": "c241a7ff",
   "metadata": {
    "scrolled": true
   },
   "outputs": [
    {
     "name": "stdout",
     "output_type": "stream",
     "text": [
      "Order 0 Arguments\n",
      "------------------\n"
     ]
    },
    {
     "data": {
      "text/latex": [
       "$\\displaystyle - k \\lambda_{1} + k \\lambda_{2}$"
      ],
      "text/plain": [
       "-k*lambda1 + k*lambda2"
      ]
     },
     "metadata": {},
     "output_type": "display_data"
    },
    {
     "name": "stdout",
     "output_type": "stream",
     "text": [
      "Order 1 Arguments\n",
      "------------------\n"
     ]
    },
    {
     "data": {
      "text/latex": [
       "$\\displaystyle k \\lambda_{2} + \\lambda_{1} \\left(1 - k\\right) - \\varpi_{2}$"
      ],
      "text/plain": [
       "k*lambda2 + lambda1*(1 - k) - varpi2"
      ]
     },
     "metadata": {},
     "output_type": "display_data"
    },
    {
     "data": {
      "text/latex": [
       "$\\displaystyle k \\lambda_{2} + \\lambda_{1} \\left(1 - k\\right) - \\varpi_{1}$"
      ],
      "text/plain": [
       "k*lambda2 + lambda1*(1 - k) - varpi1"
      ]
     },
     "metadata": {},
     "output_type": "display_data"
    },
    {
     "name": "stdout",
     "output_type": "stream",
     "text": [
      "Order 2 Arguments\n",
      "------------------\n"
     ]
    },
    {
     "data": {
      "text/latex": [
       "$\\displaystyle k \\lambda_{2} + \\lambda_{1} \\left(2 - k\\right) - 2 \\varpi_{2}$"
      ],
      "text/plain": [
       "k*lambda2 + lambda1*(2 - k) - 2*varpi2"
      ]
     },
     "metadata": {},
     "output_type": "display_data"
    },
    {
     "data": {
      "text/latex": [
       "$\\displaystyle k \\lambda_{2} + \\lambda_{1} \\left(2 - k\\right) - \\varpi_{1} - \\varpi_{2}$"
      ],
      "text/plain": [
       "k*lambda2 + lambda1*(2 - k) - varpi1 - varpi2"
      ]
     },
     "metadata": {},
     "output_type": "display_data"
    },
    {
     "data": {
      "text/latex": [
       "$\\displaystyle k \\lambda_{2} + \\lambda_{1} \\left(2 - k\\right) - 2 \\varpi_{1}$"
      ],
      "text/plain": [
       "k*lambda2 + lambda1*(2 - k) - 2*varpi1"
      ]
     },
     "metadata": {},
     "output_type": "display_data"
    },
    {
     "data": {
      "text/latex": [
       "$\\displaystyle - 2 \\Omega_{2} + k \\lambda_{2} + \\lambda_{1} \\left(2 - k\\right)$"
      ],
      "text/plain": [
       "-2*Omega2 + k*lambda2 + lambda1*(2 - k)"
      ]
     },
     "metadata": {},
     "output_type": "display_data"
    },
    {
     "data": {
      "text/latex": [
       "$\\displaystyle - \\Omega_{1} - \\Omega_{2} + k \\lambda_{2} + \\lambda_{1} \\left(2 - k\\right)$"
      ],
      "text/plain": [
       "-Omega1 - Omega2 + k*lambda2 + lambda1*(2 - k)"
      ]
     },
     "metadata": {},
     "output_type": "display_data"
    },
    {
     "data": {
      "text/latex": [
       "$\\displaystyle - 2 \\Omega_{1} + k \\lambda_{2} + \\lambda_{1} \\left(2 - k\\right)$"
      ],
      "text/plain": [
       "-2*Omega1 + k*lambda2 + lambda1*(2 - k)"
      ]
     },
     "metadata": {},
     "output_type": "display_data"
    },
    {
     "data": {
      "text/latex": [
       "$\\displaystyle - k \\lambda_{1} + k \\lambda_{2} - \\varpi_{1} + \\varpi_{2}$"
      ],
      "text/plain": [
       "-k*lambda1 + k*lambda2 - varpi1 + varpi2"
      ]
     },
     "metadata": {},
     "output_type": "display_data"
    },
    {
     "data": {
      "text/latex": [
       "$\\displaystyle - \\Omega_{1} + \\Omega_{2} - k \\lambda_{1} + k \\lambda_{2}$"
      ],
      "text/plain": [
       "-Omega1 + Omega2 - k*lambda1 + k*lambda2"
      ]
     },
     "metadata": {},
     "output_type": "display_data"
    },
    {
     "name": "stdout",
     "output_type": "stream",
     "text": [
      "Order 3 Arguments\n",
      "------------------\n"
     ]
    },
    {
     "data": {
      "text/latex": [
       "$\\displaystyle k \\lambda_{2} + \\lambda_{1} \\left(3 - k\\right) - 3 \\varpi_{2}$"
      ],
      "text/plain": [
       "k*lambda2 + lambda1*(3 - k) - 3*varpi2"
      ]
     },
     "metadata": {},
     "output_type": "display_data"
    },
    {
     "data": {
      "text/latex": [
       "$\\displaystyle k \\lambda_{2} + \\lambda_{1} \\left(3 - k\\right) - \\varpi_{1} - 2 \\varpi_{2}$"
      ],
      "text/plain": [
       "k*lambda2 + lambda1*(3 - k) - varpi1 - 2*varpi2"
      ]
     },
     "metadata": {},
     "output_type": "display_data"
    },
    {
     "data": {
      "text/latex": [
       "$\\displaystyle k \\lambda_{2} + \\lambda_{1} \\left(3 - k\\right) - 2 \\varpi_{1} - \\varpi_{2}$"
      ],
      "text/plain": [
       "k*lambda2 + lambda1*(3 - k) - 2*varpi1 - varpi2"
      ]
     },
     "metadata": {},
     "output_type": "display_data"
    },
    {
     "data": {
      "text/latex": [
       "$\\displaystyle k \\lambda_{2} + \\lambda_{1} \\left(3 - k\\right) - 3 \\varpi_{1}$"
      ],
      "text/plain": [
       "k*lambda2 + lambda1*(3 - k) - 3*varpi1"
      ]
     },
     "metadata": {},
     "output_type": "display_data"
    },
    {
     "data": {
      "text/latex": [
       "$\\displaystyle - 2 \\Omega_{2} + k \\lambda_{2} + \\lambda_{1} \\left(3 - k\\right) - \\varpi_{2}$"
      ],
      "text/plain": [
       "-2*Omega2 + k*lambda2 + lambda1*(3 - k) - varpi2"
      ]
     },
     "metadata": {},
     "output_type": "display_data"
    },
    {
     "data": {
      "text/latex": [
       "$\\displaystyle - 2 \\Omega_{2} + k \\lambda_{2} + \\lambda_{1} \\left(3 - k\\right) - \\varpi_{1}$"
      ],
      "text/plain": [
       "-2*Omega2 + k*lambda2 + lambda1*(3 - k) - varpi1"
      ]
     },
     "metadata": {},
     "output_type": "display_data"
    },
    {
     "data": {
      "text/latex": [
       "$\\displaystyle - \\Omega_{1} - \\Omega_{2} + k \\lambda_{2} + \\lambda_{1} \\left(3 - k\\right) - \\varpi_{2}$"
      ],
      "text/plain": [
       "-Omega1 - Omega2 + k*lambda2 + lambda1*(3 - k) - varpi2"
      ]
     },
     "metadata": {},
     "output_type": "display_data"
    },
    {
     "data": {
      "text/latex": [
       "$\\displaystyle - \\Omega_{1} - \\Omega_{2} + k \\lambda_{2} + \\lambda_{1} \\left(3 - k\\right) - \\varpi_{1}$"
      ],
      "text/plain": [
       "-Omega1 - Omega2 + k*lambda2 + lambda1*(3 - k) - varpi1"
      ]
     },
     "metadata": {},
     "output_type": "display_data"
    },
    {
     "data": {
      "text/latex": [
       "$\\displaystyle - 2 \\Omega_{1} + k \\lambda_{2} + \\lambda_{1} \\left(3 - k\\right) - \\varpi_{2}$"
      ],
      "text/plain": [
       "-2*Omega1 + k*lambda2 + lambda1*(3 - k) - varpi2"
      ]
     },
     "metadata": {},
     "output_type": "display_data"
    },
    {
     "data": {
      "text/latex": [
       "$\\displaystyle - 2 \\Omega_{1} + k \\lambda_{2} + \\lambda_{1} \\left(3 - k\\right) - \\varpi_{1}$"
      ],
      "text/plain": [
       "-2*Omega1 + k*lambda2 + lambda1*(3 - k) - varpi1"
      ]
     },
     "metadata": {},
     "output_type": "display_data"
    },
    {
     "data": {
      "text/latex": [
       "$\\displaystyle k \\lambda_{2} + \\lambda_{1} \\left(1 - k\\right) + \\varpi_{1} - 2 \\varpi_{2}$"
      ],
      "text/plain": [
       "k*lambda2 + lambda1*(1 - k) + varpi1 - 2*varpi2"
      ]
     },
     "metadata": {},
     "output_type": "display_data"
    },
    {
     "data": {
      "text/latex": [
       "$\\displaystyle k \\lambda_{2} + \\lambda_{1} \\left(1 - k\\right) - 2 \\varpi_{1} + \\varpi_{2}$"
      ],
      "text/plain": [
       "k*lambda2 + lambda1*(1 - k) - 2*varpi1 + varpi2"
      ]
     },
     "metadata": {},
     "output_type": "display_data"
    },
    {
     "data": {
      "text/latex": [
       "$\\displaystyle \\Omega_{1} - \\Omega_{2} + k \\lambda_{2} + \\lambda_{1} \\left(1 - k\\right) - \\varpi_{1}$"
      ],
      "text/plain": [
       "Omega1 - Omega2 + k*lambda2 + lambda1*(1 - k) - varpi1"
      ]
     },
     "metadata": {},
     "output_type": "display_data"
    },
    {
     "data": {
      "text/latex": [
       "$\\displaystyle \\Omega_{1} - \\Omega_{2} + k \\lambda_{2} + \\lambda_{1} \\left(1 - k\\right) - \\varpi_{2}$"
      ],
      "text/plain": [
       "Omega1 - Omega2 + k*lambda2 + lambda1*(1 - k) - varpi2"
      ]
     },
     "metadata": {},
     "output_type": "display_data"
    },
    {
     "data": {
      "text/latex": [
       "$\\displaystyle - \\Omega_{1} + \\Omega_{2} + k \\lambda_{2} + \\lambda_{1} \\left(1 - k\\right) - \\varpi_{2}$"
      ],
      "text/plain": [
       "-Omega1 + Omega2 + k*lambda2 + lambda1*(1 - k) - varpi2"
      ]
     },
     "metadata": {},
     "output_type": "display_data"
    },
    {
     "data": {
      "text/latex": [
       "$\\displaystyle - \\Omega_{1} + \\Omega_{2} + k \\lambda_{2} + \\lambda_{1} \\left(1 - k\\right) - \\varpi_{1}$"
      ],
      "text/plain": [
       "-Omega1 + Omega2 + k*lambda2 + lambda1*(1 - k) - varpi1"
      ]
     },
     "metadata": {},
     "output_type": "display_data"
    },
    {
     "data": {
      "text/latex": [
       "$\\displaystyle - 2 \\Omega_{2} + k \\lambda_{2} + \\lambda_{1} \\left(1 - k\\right) + \\varpi_{1}$"
      ],
      "text/plain": [
       "-2*Omega2 + k*lambda2 + lambda1*(1 - k) + varpi1"
      ]
     },
     "metadata": {},
     "output_type": "display_data"
    },
    {
     "data": {
      "text/latex": [
       "$\\displaystyle - 2 \\Omega_{2} + k \\lambda_{2} + \\lambda_{1} \\left(1 - k\\right) + \\varpi_{2}$"
      ],
      "text/plain": [
       "-2*Omega2 + k*lambda2 + lambda1*(1 - k) + varpi2"
      ]
     },
     "metadata": {},
     "output_type": "display_data"
    },
    {
     "data": {
      "text/latex": [
       "$\\displaystyle - \\Omega_{1} - \\Omega_{2} + k \\lambda_{2} + \\lambda_{1} \\left(1 - k\\right) + \\varpi_{1}$"
      ],
      "text/plain": [
       "-Omega1 - Omega2 + k*lambda2 + lambda1*(1 - k) + varpi1"
      ]
     },
     "metadata": {},
     "output_type": "display_data"
    },
    {
     "data": {
      "text/latex": [
       "$\\displaystyle - \\Omega_{1} - \\Omega_{2} + k \\lambda_{2} + \\lambda_{1} \\left(1 - k\\right) + \\varpi_{2}$"
      ],
      "text/plain": [
       "-Omega1 - Omega2 + k*lambda2 + lambda1*(1 - k) + varpi2"
      ]
     },
     "metadata": {},
     "output_type": "display_data"
    },
    {
     "data": {
      "text/latex": [
       "$\\displaystyle - 2 \\Omega_{1} + k \\lambda_{2} + \\lambda_{1} \\left(1 - k\\right) + \\varpi_{1}$"
      ],
      "text/plain": [
       "-2*Omega1 + k*lambda2 + lambda1*(1 - k) + varpi1"
      ]
     },
     "metadata": {},
     "output_type": "display_data"
    },
    {
     "data": {
      "text/latex": [
       "$\\displaystyle - 2 \\Omega_{1} + k \\lambda_{2} + \\lambda_{1} \\left(1 - k\\right) + \\varpi_{2}$"
      ],
      "text/plain": [
       "-2*Omega1 + k*lambda2 + lambda1*(1 - k) + varpi2"
      ]
     },
     "metadata": {},
     "output_type": "display_data"
    }
   ],
   "source": [
    "for order,entries in dfargs.items(): # Loop over order\n",
    "    print(\"Order {} Arguments\".format(order))\n",
    "    print(\"------------------\")\n",
    "    for dk,k3to6list in entries.items(): # loop over dk=|k_1-k_2|\n",
    "        for k3to6 in k3to6list: # loop over pomega/Omega combinations\n",
    "            pomegaOmega_combination = Matrix(k3to6).dot(pmgOmg)\n",
    "            display(k*l2 + (dk-k)*l1 + pomegaOmega_combination)"
   ]
  },
  {
   "cell_type": "markdown",
   "id": "7afd3e3b",
   "metadata": {},
   "source": [
    "## `resonance_terms_list`\n",
    "This function produces a list of $(\\pmb{k},\\pmb{\\nu})$ pairs for disturbing function terms\n",
    "$$\n",
    "        C_{\\pmb{k}}^{\\pmb{\\nu}}(\\alpha_{i,j})|Y_i|^{|k_5|+2\\nu_1}\n",
    "        |Y_j|^{|k_6|+2\\nu_2}\n",
    "        |X_i|^{|k_3|+2\\nu_3}\n",
    "        |X_j|^{|k_4|+2\\nu_4}\n",
    "        \\times \\cos[\n",
    "            k_1 \\lambda_j + k_2 \\lambda_i +\n",
    "            k_3 \\varpi_i + k_4 \\varpi_j +\n",
    "            k_5 \\Omega_i + k_6 \\Omega_j\n",
    "        ]\n",
    "$$\n",
    "having order in the range ($N_\\mathrm{min}$,$N_\\mathrm{max}$)\n",
    "\n",
    "In this example, we'll produce all $(\\pmb{k},\\pmb{\\nu})$ pairs associated with the 2:1 MMR that are 3rd order in inclinations and eccentricities."
   ]
  },
  {
   "cell_type": "code",
   "execution_count": 6,
   "id": "e5ff278e",
   "metadata": {},
   "outputs": [],
   "source": [
    "from celmech.disturbing_function import resonance_terms_list\n"
   ]
  },
  {
   "cell_type": "markdown",
   "id": "771f8c47",
   "metadata": {},
   "source": [
    "Produce the list of terms..."
   ]
  },
  {
   "cell_type": "code",
   "execution_count": 7,
   "id": "e43b1d91",
   "metadata": {},
   "outputs": [],
   "source": [
    "Nmin = Nmax = 3\n",
    "j_res = 2\n",
    "k_res = 1\n",
    "res_terms = resonance_terms_list(j_res,k_res,Nmin,Nmax)"
   ]
  },
  {
   "cell_type": "markdown",
   "id": "904f536e",
   "metadata": {},
   "source": [
    "... and display a symbolic expression for each term in the list"
   ]
  },
  {
   "cell_type": "code",
   "execution_count": 8,
   "id": "c993560d",
   "metadata": {},
   "outputs": [],
   "source": [
    "from sympy import cos,Mul\n",
    "from celmech.disturbing_function import get_df_coefficient_symbol\n",
    "\n",
    "\n",
    "X = symbols(\"X(1:3)\")\n",
    "Y = symbols(\"Y(1:3)\")\n",
    "theta = Matrix([l1,l2,pmg1,pmg2,Omega1,Omega2])\n",
    "XY = list(X) + list(Y)"
   ]
  },
  {
   "cell_type": "code",
   "execution_count": 9,
   "id": "10873a71",
   "metadata": {
    "scrolled": true
   },
   "outputs": [
    {
     "data": {
      "text/latex": [
       "$\\displaystyle C_{(2,-1,0,-1,0,0)}^{(0,0,0,1),(0,0)}(\\alpha_{1,2}) \\cos{\\left(- 2 \\lambda_{1} + \\lambda_{2} + \\varpi_{2} \\right)} \\left|{X_{2}}\\right|^{3}$"
      ],
      "text/plain": [
       "C_{(2,-1,0,-1,0,0)}^{(0,0,0,1),(0,0)}(\\alpha_{1,2})*cos(-2*lambda1 + lambda2 + varpi2)*Abs(X2)**3"
      ]
     },
     "metadata": {},
     "output_type": "display_data"
    },
    {
     "data": {
      "text/latex": [
       "$\\displaystyle C_{(2,-1,0,-1,0,0)}^{(0,0,1,0),(0,0)}(\\alpha_{1,2}) \\cos{\\left(- 2 \\lambda_{1} + \\lambda_{2} + \\varpi_{2} \\right)} \\left|{X_{1}}\\right|^{2} \\left|{X_{2}}\\right|$"
      ],
      "text/plain": [
       "C_{(2,-1,0,-1,0,0)}^{(0,0,1,0),(0,0)}(\\alpha_{1,2})*cos(-2*lambda1 + lambda2 + varpi2)*Abs(X1)**2*Abs(X2)"
      ]
     },
     "metadata": {},
     "output_type": "display_data"
    },
    {
     "data": {
      "text/latex": [
       "$\\displaystyle C_{(2,-1,0,-1,0,0)}^{(0,1,0,0),(0,0)}(\\alpha_{1,2}) \\cos{\\left(- 2 \\lambda_{1} + \\lambda_{2} + \\varpi_{2} \\right)} \\left|{X_{2}}\\right| \\left|{Y_{2}}\\right|^{2}$"
      ],
      "text/plain": [
       "C_{(2,-1,0,-1,0,0)}^{(0,1,0,0),(0,0)}(\\alpha_{1,2})*cos(-2*lambda1 + lambda2 + varpi2)*Abs(X2)*Abs(Y2)**2"
      ]
     },
     "metadata": {},
     "output_type": "display_data"
    },
    {
     "data": {
      "text/latex": [
       "$\\displaystyle C_{(2,-1,0,-1,0,0)}^{(1,0,0,0),(0,0)}(\\alpha_{1,2}) \\cos{\\left(- 2 \\lambda_{1} + \\lambda_{2} + \\varpi_{2} \\right)} \\left|{X_{2}}\\right| \\left|{Y_{1}}\\right|^{2}$"
      ],
      "text/plain": [
       "C_{(2,-1,0,-1,0,0)}^{(1,0,0,0),(0,0)}(\\alpha_{1,2})*cos(-2*lambda1 + lambda2 + varpi2)*Abs(X2)*Abs(Y1)**2"
      ]
     },
     "metadata": {},
     "output_type": "display_data"
    },
    {
     "data": {
      "text/latex": [
       "$\\displaystyle C_{(2,-1,-1,0,0,0)}^{(0,0,0,1),(0,0)}(\\alpha_{1,2}) \\cos{\\left(- 2 \\lambda_{1} + \\lambda_{2} + \\varpi_{1} \\right)} \\left|{X_{1}}\\right| \\left|{X_{2}}\\right|^{2}$"
      ],
      "text/plain": [
       "C_{(2,-1,-1,0,0,0)}^{(0,0,0,1),(0,0)}(\\alpha_{1,2})*cos(-2*lambda1 + lambda2 + varpi1)*Abs(X1)*Abs(X2)**2"
      ]
     },
     "metadata": {},
     "output_type": "display_data"
    },
    {
     "data": {
      "text/latex": [
       "$\\displaystyle C_{(2,-1,-1,0,0,0)}^{(0,0,1,0),(0,0)}(\\alpha_{1,2}) \\cos{\\left(- 2 \\lambda_{1} + \\lambda_{2} + \\varpi_{1} \\right)} \\left|{X_{1}}\\right|^{3}$"
      ],
      "text/plain": [
       "C_{(2,-1,-1,0,0,0)}^{(0,0,1,0),(0,0)}(\\alpha_{1,2})*cos(-2*lambda1 + lambda2 + varpi1)*Abs(X1)**3"
      ]
     },
     "metadata": {},
     "output_type": "display_data"
    },
    {
     "data": {
      "text/latex": [
       "$\\displaystyle C_{(2,-1,-1,0,0,0)}^{(0,1,0,0),(0,0)}(\\alpha_{1,2}) \\cos{\\left(- 2 \\lambda_{1} + \\lambda_{2} + \\varpi_{1} \\right)} \\left|{X_{1}}\\right| \\left|{Y_{2}}\\right|^{2}$"
      ],
      "text/plain": [
       "C_{(2,-1,-1,0,0,0)}^{(0,1,0,0),(0,0)}(\\alpha_{1,2})*cos(-2*lambda1 + lambda2 + varpi1)*Abs(X1)*Abs(Y2)**2"
      ]
     },
     "metadata": {},
     "output_type": "display_data"
    },
    {
     "data": {
      "text/latex": [
       "$\\displaystyle C_{(2,-1,-1,0,0,0)}^{(1,0,0,0),(0,0)}(\\alpha_{1,2}) \\cos{\\left(- 2 \\lambda_{1} + \\lambda_{2} + \\varpi_{1} \\right)} \\left|{X_{1}}\\right| \\left|{Y_{1}}\\right|^{2}$"
      ],
      "text/plain": [
       "C_{(2,-1,-1,0,0,0)}^{(1,0,0,0),(0,0)}(\\alpha_{1,2})*cos(-2*lambda1 + lambda2 + varpi1)*Abs(X1)*Abs(Y1)**2"
      ]
     },
     "metadata": {},
     "output_type": "display_data"
    },
    {
     "data": {
      "text/latex": [
       "$\\displaystyle C_{(2,-1,1,-2,0,0)}^{(0,0,0,0),(0,0)}(\\alpha_{1,2}) \\cos{\\left(2 \\lambda_{1} - \\lambda_{2} + \\varpi_{1} - 2 \\varpi_{2} \\right)} \\left|{X_{1}}\\right| \\left|{X_{2}}\\right|^{2}$"
      ],
      "text/plain": [
       "C_{(2,-1,1,-2,0,0)}^{(0,0,0,0),(0,0)}(\\alpha_{1,2})*cos(2*lambda1 - lambda2 + varpi1 - 2*varpi2)*Abs(X1)*Abs(X2)**2"
      ]
     },
     "metadata": {},
     "output_type": "display_data"
    },
    {
     "data": {
      "text/latex": [
       "$\\displaystyle C_{(2,-1,-2,1,0,0)}^{(0,0,0,0),(0,0)}(\\alpha_{1,2}) \\cos{\\left(2 \\lambda_{1} - \\lambda_{2} - 2 \\varpi_{1} + \\varpi_{2} \\right)} \\left|{X_{1}}\\right|^{2} \\left|{X_{2}}\\right|$"
      ],
      "text/plain": [
       "C_{(2,-1,-2,1,0,0)}^{(0,0,0,0),(0,0)}(\\alpha_{1,2})*cos(2*lambda1 - lambda2 - 2*varpi1 + varpi2)*Abs(X1)**2*Abs(X2)"
      ]
     },
     "metadata": {},
     "output_type": "display_data"
    },
    {
     "data": {
      "text/latex": [
       "$\\displaystyle C_{(2,-1,-1,0,1,-1)}^{(0,0,0,0),(0,0)}(\\alpha_{1,2}) \\cos{\\left(- \\Omega_{1} + \\Omega_{2} - 2 \\lambda_{1} + \\lambda_{2} + \\varpi_{1} \\right)} \\left|{X_{1}}\\right| \\left|{Y_{1}}\\right| \\left|{Y_{2}}\\right|$"
      ],
      "text/plain": [
       "C_{(2,-1,-1,0,1,-1)}^{(0,0,0,0),(0,0)}(\\alpha_{1,2})*cos(-Omega1 + Omega2 - 2*lambda1 + lambda2 + varpi1)*Abs(X1)*Abs(Y1)*Abs(Y2)"
      ]
     },
     "metadata": {},
     "output_type": "display_data"
    },
    {
     "data": {
      "text/latex": [
       "$\\displaystyle C_{(2,-1,0,-1,1,-1)}^{(0,0,0,0),(0,0)}(\\alpha_{1,2}) \\cos{\\left(- \\Omega_{1} + \\Omega_{2} - 2 \\lambda_{1} + \\lambda_{2} + \\varpi_{2} \\right)} \\left|{X_{2}}\\right| \\left|{Y_{1}}\\right| \\left|{Y_{2}}\\right|$"
      ],
      "text/plain": [
       "C_{(2,-1,0,-1,1,-1)}^{(0,0,0,0),(0,0)}(\\alpha_{1,2})*cos(-Omega1 + Omega2 - 2*lambda1 + lambda2 + varpi2)*Abs(X2)*Abs(Y1)*Abs(Y2)"
      ]
     },
     "metadata": {},
     "output_type": "display_data"
    },
    {
     "data": {
      "text/latex": [
       "$\\displaystyle C_{(2,-1,0,-1,-1,1)}^{(0,0,0,0),(0,0)}(\\alpha_{1,2}) \\cos{\\left(\\Omega_{1} - \\Omega_{2} - 2 \\lambda_{1} + \\lambda_{2} + \\varpi_{2} \\right)} \\left|{X_{2}}\\right| \\left|{Y_{1}}\\right| \\left|{Y_{2}}\\right|$"
      ],
      "text/plain": [
       "C_{(2,-1,0,-1,-1,1)}^{(0,0,0,0),(0,0)}(\\alpha_{1,2})*cos(Omega1 - Omega2 - 2*lambda1 + lambda2 + varpi2)*Abs(X2)*Abs(Y1)*Abs(Y2)"
      ]
     },
     "metadata": {},
     "output_type": "display_data"
    },
    {
     "data": {
      "text/latex": [
       "$\\displaystyle C_{(2,-1,-1,0,-1,1)}^{(0,0,0,0),(0,0)}(\\alpha_{1,2}) \\cos{\\left(\\Omega_{1} - \\Omega_{2} - 2 \\lambda_{1} + \\lambda_{2} + \\varpi_{1} \\right)} \\left|{X_{1}}\\right| \\left|{Y_{1}}\\right| \\left|{Y_{2}}\\right|$"
      ],
      "text/plain": [
       "C_{(2,-1,-1,0,-1,1)}^{(0,0,0,0),(0,0)}(\\alpha_{1,2})*cos(Omega1 - Omega2 - 2*lambda1 + lambda2 + varpi1)*Abs(X1)*Abs(Y1)*Abs(Y2)"
      ]
     },
     "metadata": {},
     "output_type": "display_data"
    },
    {
     "data": {
      "text/latex": [
       "$\\displaystyle C_{(2,-1,1,0,0,-2)}^{(0,0,0,0),(0,0)}(\\alpha_{1,2}) \\cos{\\left(2 \\Omega_{2} - 2 \\lambda_{1} + \\lambda_{2} - \\varpi_{1} \\right)} \\left|{X_{1}}\\right| \\left|{Y_{2}}\\right|^{2}$"
      ],
      "text/plain": [
       "C_{(2,-1,1,0,0,-2)}^{(0,0,0,0),(0,0)}(\\alpha_{1,2})*cos(2*Omega2 - 2*lambda1 + lambda2 - varpi1)*Abs(X1)*Abs(Y2)**2"
      ]
     },
     "metadata": {},
     "output_type": "display_data"
    },
    {
     "data": {
      "text/latex": [
       "$\\displaystyle C_{(2,-1,0,1,0,-2)}^{(0,0,0,0),(0,0)}(\\alpha_{1,2}) \\cos{\\left(2 \\Omega_{2} - 2 \\lambda_{1} + \\lambda_{2} - \\varpi_{2} \\right)} \\left|{X_{2}}\\right| \\left|{Y_{2}}\\right|^{2}$"
      ],
      "text/plain": [
       "C_{(2,-1,0,1,0,-2)}^{(0,0,0,0),(0,0)}(\\alpha_{1,2})*cos(2*Omega2 - 2*lambda1 + lambda2 - varpi2)*Abs(X2)*Abs(Y2)**2"
      ]
     },
     "metadata": {},
     "output_type": "display_data"
    },
    {
     "data": {
      "text/latex": [
       "$\\displaystyle C_{(2,-1,1,0,-1,-1)}^{(0,0,0,0),(0,0)}(\\alpha_{1,2}) \\cos{\\left(\\Omega_{1} + \\Omega_{2} - 2 \\lambda_{1} + \\lambda_{2} - \\varpi_{1} \\right)} \\left|{X_{1}}\\right| \\left|{Y_{1}}\\right| \\left|{Y_{2}}\\right|$"
      ],
      "text/plain": [
       "C_{(2,-1,1,0,-1,-1)}^{(0,0,0,0),(0,0)}(\\alpha_{1,2})*cos(Omega1 + Omega2 - 2*lambda1 + lambda2 - varpi1)*Abs(X1)*Abs(Y1)*Abs(Y2)"
      ]
     },
     "metadata": {},
     "output_type": "display_data"
    },
    {
     "data": {
      "text/latex": [
       "$\\displaystyle C_{(2,-1,0,1,-1,-1)}^{(0,0,0,0),(0,0)}(\\alpha_{1,2}) \\cos{\\left(\\Omega_{1} + \\Omega_{2} - 2 \\lambda_{1} + \\lambda_{2} - \\varpi_{2} \\right)} \\left|{X_{2}}\\right| \\left|{Y_{1}}\\right| \\left|{Y_{2}}\\right|$"
      ],
      "text/plain": [
       "C_{(2,-1,0,1,-1,-1)}^{(0,0,0,0),(0,0)}(\\alpha_{1,2})*cos(Omega1 + Omega2 - 2*lambda1 + lambda2 - varpi2)*Abs(X2)*Abs(Y1)*Abs(Y2)"
      ]
     },
     "metadata": {},
     "output_type": "display_data"
    },
    {
     "data": {
      "text/latex": [
       "$\\displaystyle C_{(2,-1,1,0,-2,0)}^{(0,0,0,0),(0,0)}(\\alpha_{1,2}) \\cos{\\left(2 \\Omega_{1} - 2 \\lambda_{1} + \\lambda_{2} - \\varpi_{1} \\right)} \\left|{X_{1}}\\right| \\left|{Y_{1}}\\right|^{2}$"
      ],
      "text/plain": [
       "C_{(2,-1,1,0,-2,0)}^{(0,0,0,0),(0,0)}(\\alpha_{1,2})*cos(2*Omega1 - 2*lambda1 + lambda2 - varpi1)*Abs(X1)*Abs(Y1)**2"
      ]
     },
     "metadata": {},
     "output_type": "display_data"
    },
    {
     "data": {
      "text/latex": [
       "$\\displaystyle C_{(2,-1,0,1,-2,0)}^{(0,0,0,0),(0,0)}(\\alpha_{1,2}) \\cos{\\left(2 \\Omega_{1} - 2 \\lambda_{1} + \\lambda_{2} - \\varpi_{2} \\right)} \\left|{X_{2}}\\right| \\left|{Y_{1}}\\right|^{2}$"
      ],
      "text/plain": [
       "C_{(2,-1,0,1,-2,0)}^{(0,0,0,0),(0,0)}(\\alpha_{1,2})*cos(2*Omega1 - 2*lambda1 + lambda2 - varpi2)*Abs(X2)*Abs(Y1)**2"
      ]
     },
     "metadata": {},
     "output_type": "display_data"
    },
    {
     "data": {
      "text/latex": [
       "$\\displaystyle C_{(6,-3,0,-3,0,0)}^{(0,0,0,0),(0,0)}(\\alpha_{1,2}) \\cos{\\left(- 6 \\lambda_{1} + 3 \\lambda_{2} + 3 \\varpi_{2} \\right)} \\left|{X_{2}}\\right|^{3}$"
      ],
      "text/plain": [
       "C_{(6,-3,0,-3,0,0)}^{(0,0,0,0),(0,0)}(\\alpha_{1,2})*cos(-6*lambda1 + 3*lambda2 + 3*varpi2)*Abs(X2)**3"
      ]
     },
     "metadata": {},
     "output_type": "display_data"
    },
    {
     "data": {
      "text/latex": [
       "$\\displaystyle C_{(6,-3,-1,-2,0,0)}^{(0,0,0,0),(0,0)}(\\alpha_{1,2}) \\cos{\\left(- 6 \\lambda_{1} + 3 \\lambda_{2} + \\varpi_{1} + 2 \\varpi_{2} \\right)} \\left|{X_{1}}\\right| \\left|{X_{2}}\\right|^{2}$"
      ],
      "text/plain": [
       "C_{(6,-3,-1,-2,0,0)}^{(0,0,0,0),(0,0)}(\\alpha_{1,2})*cos(-6*lambda1 + 3*lambda2 + varpi1 + 2*varpi2)*Abs(X1)*Abs(X2)**2"
      ]
     },
     "metadata": {},
     "output_type": "display_data"
    },
    {
     "data": {
      "text/latex": [
       "$\\displaystyle C_{(6,-3,-2,-1,0,0)}^{(0,0,0,0),(0,0)}(\\alpha_{1,2}) \\cos{\\left(- 6 \\lambda_{1} + 3 \\lambda_{2} + 2 \\varpi_{1} + \\varpi_{2} \\right)} \\left|{X_{1}}\\right|^{2} \\left|{X_{2}}\\right|$"
      ],
      "text/plain": [
       "C_{(6,-3,-2,-1,0,0)}^{(0,0,0,0),(0,0)}(\\alpha_{1,2})*cos(-6*lambda1 + 3*lambda2 + 2*varpi1 + varpi2)*Abs(X1)**2*Abs(X2)"
      ]
     },
     "metadata": {},
     "output_type": "display_data"
    },
    {
     "data": {
      "text/latex": [
       "$\\displaystyle C_{(6,-3,-3,0,0,0)}^{(0,0,0,0),(0,0)}(\\alpha_{1,2}) \\cos{\\left(- 6 \\lambda_{1} + 3 \\lambda_{2} + 3 \\varpi_{1} \\right)} \\left|{X_{1}}\\right|^{3}$"
      ],
      "text/plain": [
       "C_{(6,-3,-3,0,0,0)}^{(0,0,0,0),(0,0)}(\\alpha_{1,2})*cos(-6*lambda1 + 3*lambda2 + 3*varpi1)*Abs(X1)**3"
      ]
     },
     "metadata": {},
     "output_type": "display_data"
    },
    {
     "data": {
      "text/latex": [
       "$\\displaystyle C_{(6,-3,0,-1,0,-2)}^{(0,0,0,0),(0,0)}(\\alpha_{1,2}) \\cos{\\left(2 \\Omega_{2} - 6 \\lambda_{1} + 3 \\lambda_{2} + \\varpi_{2} \\right)} \\left|{X_{2}}\\right| \\left|{Y_{2}}\\right|^{2}$"
      ],
      "text/plain": [
       "C_{(6,-3,0,-1,0,-2)}^{(0,0,0,0),(0,0)}(\\alpha_{1,2})*cos(2*Omega2 - 6*lambda1 + 3*lambda2 + varpi2)*Abs(X2)*Abs(Y2)**2"
      ]
     },
     "metadata": {},
     "output_type": "display_data"
    },
    {
     "data": {
      "text/latex": [
       "$\\displaystyle C_{(6,-3,-1,0,0,-2)}^{(0,0,0,0),(0,0)}(\\alpha_{1,2}) \\cos{\\left(2 \\Omega_{2} - 6 \\lambda_{1} + 3 \\lambda_{2} + \\varpi_{1} \\right)} \\left|{X_{1}}\\right| \\left|{Y_{2}}\\right|^{2}$"
      ],
      "text/plain": [
       "C_{(6,-3,-1,0,0,-2)}^{(0,0,0,0),(0,0)}(\\alpha_{1,2})*cos(2*Omega2 - 6*lambda1 + 3*lambda2 + varpi1)*Abs(X1)*Abs(Y2)**2"
      ]
     },
     "metadata": {},
     "output_type": "display_data"
    },
    {
     "data": {
      "text/latex": [
       "$\\displaystyle C_{(6,-3,0,-1,-1,-1)}^{(0,0,0,0),(0,0)}(\\alpha_{1,2}) \\cos{\\left(\\Omega_{1} + \\Omega_{2} - 6 \\lambda_{1} + 3 \\lambda_{2} + \\varpi_{2} \\right)} \\left|{X_{2}}\\right| \\left|{Y_{1}}\\right| \\left|{Y_{2}}\\right|$"
      ],
      "text/plain": [
       "C_{(6,-3,0,-1,-1,-1)}^{(0,0,0,0),(0,0)}(\\alpha_{1,2})*cos(Omega1 + Omega2 - 6*lambda1 + 3*lambda2 + varpi2)*Abs(X2)*Abs(Y1)*Abs(Y2)"
      ]
     },
     "metadata": {},
     "output_type": "display_data"
    },
    {
     "data": {
      "text/latex": [
       "$\\displaystyle C_{(6,-3,-1,0,-1,-1)}^{(0,0,0,0),(0,0)}(\\alpha_{1,2}) \\cos{\\left(\\Omega_{1} + \\Omega_{2} - 6 \\lambda_{1} + 3 \\lambda_{2} + \\varpi_{1} \\right)} \\left|{X_{1}}\\right| \\left|{Y_{1}}\\right| \\left|{Y_{2}}\\right|$"
      ],
      "text/plain": [
       "C_{(6,-3,-1,0,-1,-1)}^{(0,0,0,0),(0,0)}(\\alpha_{1,2})*cos(Omega1 + Omega2 - 6*lambda1 + 3*lambda2 + varpi1)*Abs(X1)*Abs(Y1)*Abs(Y2)"
      ]
     },
     "metadata": {},
     "output_type": "display_data"
    },
    {
     "data": {
      "text/latex": [
       "$\\displaystyle C_{(6,-3,0,-1,-2,0)}^{(0,0,0,0),(0,0)}(\\alpha_{1,2}) \\cos{\\left(2 \\Omega_{1} - 6 \\lambda_{1} + 3 \\lambda_{2} + \\varpi_{2} \\right)} \\left|{X_{2}}\\right| \\left|{Y_{1}}\\right|^{2}$"
      ],
      "text/plain": [
       "C_{(6,-3,0,-1,-2,0)}^{(0,0,0,0),(0,0)}(\\alpha_{1,2})*cos(2*Omega1 - 6*lambda1 + 3*lambda2 + varpi2)*Abs(X2)*Abs(Y1)**2"
      ]
     },
     "metadata": {},
     "output_type": "display_data"
    },
    {
     "data": {
      "text/latex": [
       "$\\displaystyle C_{(6,-3,-1,0,-2,0)}^{(0,0,0,0),(0,0)}(\\alpha_{1,2}) \\cos{\\left(2 \\Omega_{1} - 6 \\lambda_{1} + 3 \\lambda_{2} + \\varpi_{1} \\right)} \\left|{X_{1}}\\right| \\left|{Y_{1}}\\right|^{2}$"
      ],
      "text/plain": [
       "C_{(6,-3,-1,0,-2,0)}^{(0,0,0,0),(0,0)}(\\alpha_{1,2})*cos(2*Omega1 - 6*lambda1 + 3*lambda2 + varpi1)*Abs(X1)*Abs(Y1)**2"
      ]
     },
     "metadata": {},
     "output_type": "display_data"
    }
   ],
   "source": [
    "for k,nu in res_terms:\n",
    "    cos_arg = theta.dot(k)\n",
    "    pows = [abs(k[2]) + 2 * nu[2],abs(k[3]) + 2 * nu[3],abs(k[4]) + 2 * nu[0],abs(k[5]) + 2 * nu[1]]\n",
    "    C = get_df_coefficient_symbol(*k,*nu,0,0,1,2)\n",
    "    XYterm = Mul(*[abs(sym)**p for sym,p in zip(XY,pows)])\n",
    "    display(C*XYterm*cos(cos_arg))"
   ]
  },
  {
   "cell_type": "markdown",
   "id": "5e08fc24",
   "metadata": {},
   "source": [
    "## `secular_terms_list`\n",
    "This function produces a list of $(\\pmb{k},\\pmb{\\nu})$ pairs for secular disturbing function terms independent of  planets' mean long longitudes:\n",
    "$$\n",
    "        C_{\\pmb{k}}^{\\pmb{\\nu}}(\\alpha_{i,j})|Y_i|^{|k_5|+2\\nu_1}\n",
    "        |Y_j|^{|k_6|+2\\nu_2}\n",
    "        |X_i|^{|k_3|+2\\nu_3}\n",
    "        |X_j|^{|k_4|+2\\nu_4}\n",
    "        \\times \\cos[\n",
    "            k_3 \\varpi_i + k_4 \\varpi_j +\n",
    "            k_5 \\Omega_i + k_6 \\Omega_j\n",
    "        ]\n",
    "$$\n",
    "The function resturns all $(\\pmb{k},\\pmb{\\nu})$ pairs with order between  ($N_\\mathrm{min}$,$N_\\mathrm{max}$).\n",
    "In this example, we'll produce all $(\\pmb{k},\\pmb{\\nu})$ pairs for secular terms up 4th order."
   ]
  },
  {
   "cell_type": "code",
   "execution_count": 10,
   "id": "88f0e31e",
   "metadata": {},
   "outputs": [],
   "source": [
    "from celmech.disturbing_function import secular_terms_list"
   ]
  },
  {
   "cell_type": "code",
   "execution_count": 11,
   "id": "7906a5b4",
   "metadata": {},
   "outputs": [],
   "source": [
    "Nmin = 2\n",
    "Nmax = 4\n",
    "sec_terms = secular_terms_list(Nmin,Nmax)"
   ]
  },
  {
   "cell_type": "code",
   "execution_count": 12,
   "id": "256ca318",
   "metadata": {
    "scrolled": false
   },
   "outputs": [
    {
     "data": {
      "text/latex": [
       "$\\displaystyle C_{(0,0,0,0,0,0)}^{(0,0,0,1),(0,0)}(\\alpha_{1,2}) \\left|{X_{2}}\\right|^{2}$"
      ],
      "text/plain": [
       "C_{(0,0,0,0,0,0)}^{(0,0,0,1),(0,0)}(\\alpha_{1,2})*Abs(X2)**2"
      ]
     },
     "metadata": {},
     "output_type": "display_data"
    },
    {
     "data": {
      "text/latex": [
       "$\\displaystyle C_{(0,0,0,0,0,0)}^{(0,0,1,0),(0,0)}(\\alpha_{1,2}) \\left|{X_{1}}\\right|^{2}$"
      ],
      "text/plain": [
       "C_{(0,0,0,0,0,0)}^{(0,0,1,0),(0,0)}(\\alpha_{1,2})*Abs(X1)**2"
      ]
     },
     "metadata": {},
     "output_type": "display_data"
    },
    {
     "data": {
      "text/latex": [
       "$\\displaystyle C_{(0,0,0,0,0,0)}^{(0,1,0,0),(0,0)}(\\alpha_{1,2}) \\left|{Y_{2}}\\right|^{2}$"
      ],
      "text/plain": [
       "C_{(0,0,0,0,0,0)}^{(0,1,0,0),(0,0)}(\\alpha_{1,2})*Abs(Y2)**2"
      ]
     },
     "metadata": {},
     "output_type": "display_data"
    },
    {
     "data": {
      "text/latex": [
       "$\\displaystyle C_{(0,0,0,0,0,0)}^{(1,0,0,0),(0,0)}(\\alpha_{1,2}) \\left|{Y_{1}}\\right|^{2}$"
      ],
      "text/plain": [
       "C_{(0,0,0,0,0,0)}^{(1,0,0,0),(0,0)}(\\alpha_{1,2})*Abs(Y1)**2"
      ]
     },
     "metadata": {},
     "output_type": "display_data"
    },
    {
     "data": {
      "text/latex": [
       "$\\displaystyle C_{(0,0,0,0,0,0)}^{(0,0,0,2),(0,0)}(\\alpha_{1,2}) \\left|{X_{2}}\\right|^{4}$"
      ],
      "text/plain": [
       "C_{(0,0,0,0,0,0)}^{(0,0,0,2),(0,0)}(\\alpha_{1,2})*Abs(X2)**4"
      ]
     },
     "metadata": {},
     "output_type": "display_data"
    },
    {
     "data": {
      "text/latex": [
       "$\\displaystyle C_{(0,0,0,0,0,0)}^{(0,0,1,1),(0,0)}(\\alpha_{1,2}) \\left|{X_{1}}\\right|^{2} \\left|{X_{2}}\\right|^{2}$"
      ],
      "text/plain": [
       "C_{(0,0,0,0,0,0)}^{(0,0,1,1),(0,0)}(\\alpha_{1,2})*Abs(X1)**2*Abs(X2)**2"
      ]
     },
     "metadata": {},
     "output_type": "display_data"
    },
    {
     "data": {
      "text/latex": [
       "$\\displaystyle C_{(0,0,0,0,0,0)}^{(0,0,2,0),(0,0)}(\\alpha_{1,2}) \\left|{X_{1}}\\right|^{4}$"
      ],
      "text/plain": [
       "C_{(0,0,0,0,0,0)}^{(0,0,2,0),(0,0)}(\\alpha_{1,2})*Abs(X1)**4"
      ]
     },
     "metadata": {},
     "output_type": "display_data"
    },
    {
     "data": {
      "text/latex": [
       "$\\displaystyle C_{(0,0,0,0,0,0)}^{(0,1,0,1),(0,0)}(\\alpha_{1,2}) \\left|{X_{2}}\\right|^{2} \\left|{Y_{2}}\\right|^{2}$"
      ],
      "text/plain": [
       "C_{(0,0,0,0,0,0)}^{(0,1,0,1),(0,0)}(\\alpha_{1,2})*Abs(X2)**2*Abs(Y2)**2"
      ]
     },
     "metadata": {},
     "output_type": "display_data"
    },
    {
     "data": {
      "text/latex": [
       "$\\displaystyle C_{(0,0,0,0,0,0)}^{(0,1,1,0),(0,0)}(\\alpha_{1,2}) \\left|{X_{1}}\\right|^{2} \\left|{Y_{2}}\\right|^{2}$"
      ],
      "text/plain": [
       "C_{(0,0,0,0,0,0)}^{(0,1,1,0),(0,0)}(\\alpha_{1,2})*Abs(X1)**2*Abs(Y2)**2"
      ]
     },
     "metadata": {},
     "output_type": "display_data"
    },
    {
     "data": {
      "text/latex": [
       "$\\displaystyle C_{(0,0,0,0,0,0)}^{(0,2,0,0),(0,0)}(\\alpha_{1,2}) \\left|{Y_{2}}\\right|^{4}$"
      ],
      "text/plain": [
       "C_{(0,0,0,0,0,0)}^{(0,2,0,0),(0,0)}(\\alpha_{1,2})*Abs(Y2)**4"
      ]
     },
     "metadata": {},
     "output_type": "display_data"
    },
    {
     "data": {
      "text/latex": [
       "$\\displaystyle C_{(0,0,0,0,0,0)}^{(1,0,0,1),(0,0)}(\\alpha_{1,2}) \\left|{X_{2}}\\right|^{2} \\left|{Y_{1}}\\right|^{2}$"
      ],
      "text/plain": [
       "C_{(0,0,0,0,0,0)}^{(1,0,0,1),(0,0)}(\\alpha_{1,2})*Abs(X2)**2*Abs(Y1)**2"
      ]
     },
     "metadata": {},
     "output_type": "display_data"
    },
    {
     "data": {
      "text/latex": [
       "$\\displaystyle C_{(0,0,0,0,0,0)}^{(1,0,1,0),(0,0)}(\\alpha_{1,2}) \\left|{X_{1}}\\right|^{2} \\left|{Y_{1}}\\right|^{2}$"
      ],
      "text/plain": [
       "C_{(0,0,0,0,0,0)}^{(1,0,1,0),(0,0)}(\\alpha_{1,2})*Abs(X1)**2*Abs(Y1)**2"
      ]
     },
     "metadata": {},
     "output_type": "display_data"
    },
    {
     "data": {
      "text/latex": [
       "$\\displaystyle C_{(0,0,0,0,0,0)}^{(1,1,0,0),(0,0)}(\\alpha_{1,2}) \\left|{Y_{1}}\\right|^{2} \\left|{Y_{2}}\\right|^{2}$"
      ],
      "text/plain": [
       "C_{(0,0,0,0,0,0)}^{(1,1,0,0),(0,0)}(\\alpha_{1,2})*Abs(Y1)**2*Abs(Y2)**2"
      ]
     },
     "metadata": {},
     "output_type": "display_data"
    },
    {
     "data": {
      "text/latex": [
       "$\\displaystyle C_{(0,0,0,0,0,0)}^{(2,0,0,0),(0,0)}(\\alpha_{1,2}) \\left|{Y_{1}}\\right|^{4}$"
      ],
      "text/plain": [
       "C_{(0,0,0,0,0,0)}^{(2,0,0,0),(0,0)}(\\alpha_{1,2})*Abs(Y1)**4"
      ]
     },
     "metadata": {},
     "output_type": "display_data"
    },
    {
     "data": {
      "text/latex": [
       "$\\displaystyle C_{(0,0,-1,1,0,0)}^{(0,0,0,0),(0,0)}(\\alpha_{1,2}) \\cos{\\left(\\varpi_{1} - \\varpi_{2} \\right)} \\left|{X_{1}}\\right| \\left|{X_{2}}\\right|$"
      ],
      "text/plain": [
       "C_{(0,0,-1,1,0,0)}^{(0,0,0,0),(0,0)}(\\alpha_{1,2})*cos(varpi1 - varpi2)*Abs(X1)*Abs(X2)"
      ]
     },
     "metadata": {},
     "output_type": "display_data"
    },
    {
     "data": {
      "text/latex": [
       "$\\displaystyle C_{(0,0,0,0,-1,1)}^{(0,0,0,0),(0,0)}(\\alpha_{1,2}) \\cos{\\left(\\Omega_{1} - \\Omega_{2} \\right)} \\left|{Y_{1}}\\right| \\left|{Y_{2}}\\right|$"
      ],
      "text/plain": [
       "C_{(0,0,0,0,-1,1)}^{(0,0,0,0),(0,0)}(\\alpha_{1,2})*cos(Omega1 - Omega2)*Abs(Y1)*Abs(Y2)"
      ]
     },
     "metadata": {},
     "output_type": "display_data"
    },
    {
     "data": {
      "text/latex": [
       "$\\displaystyle C_{(0,0,-1,1,0,0)}^{(0,0,0,1),(0,0)}(\\alpha_{1,2}) \\cos{\\left(\\varpi_{1} - \\varpi_{2} \\right)} \\left|{X_{1}}\\right| \\left|{X_{2}}\\right|^{3}$"
      ],
      "text/plain": [
       "C_{(0,0,-1,1,0,0)}^{(0,0,0,1),(0,0)}(\\alpha_{1,2})*cos(varpi1 - varpi2)*Abs(X1)*Abs(X2)**3"
      ]
     },
     "metadata": {},
     "output_type": "display_data"
    },
    {
     "data": {
      "text/latex": [
       "$\\displaystyle C_{(0,0,0,0,-1,1)}^{(0,0,0,1),(0,0)}(\\alpha_{1,2}) \\cos{\\left(\\Omega_{1} - \\Omega_{2} \\right)} \\left|{X_{2}}\\right|^{2} \\left|{Y_{1}}\\right| \\left|{Y_{2}}\\right|$"
      ],
      "text/plain": [
       "C_{(0,0,0,0,-1,1)}^{(0,0,0,1),(0,0)}(\\alpha_{1,2})*cos(Omega1 - Omega2)*Abs(X2)**2*Abs(Y1)*Abs(Y2)"
      ]
     },
     "metadata": {},
     "output_type": "display_data"
    },
    {
     "data": {
      "text/latex": [
       "$\\displaystyle C_{(0,0,-1,1,0,0)}^{(0,0,1,0),(0,0)}(\\alpha_{1,2}) \\cos{\\left(\\varpi_{1} - \\varpi_{2} \\right)} \\left|{X_{1}}\\right|^{3} \\left|{X_{2}}\\right|$"
      ],
      "text/plain": [
       "C_{(0,0,-1,1,0,0)}^{(0,0,1,0),(0,0)}(\\alpha_{1,2})*cos(varpi1 - varpi2)*Abs(X1)**3*Abs(X2)"
      ]
     },
     "metadata": {},
     "output_type": "display_data"
    },
    {
     "data": {
      "text/latex": [
       "$\\displaystyle C_{(0,0,0,0,-1,1)}^{(0,0,1,0),(0,0)}(\\alpha_{1,2}) \\cos{\\left(\\Omega_{1} - \\Omega_{2} \\right)} \\left|{X_{1}}\\right|^{2} \\left|{Y_{1}}\\right| \\left|{Y_{2}}\\right|$"
      ],
      "text/plain": [
       "C_{(0,0,0,0,-1,1)}^{(0,0,1,0),(0,0)}(\\alpha_{1,2})*cos(Omega1 - Omega2)*Abs(X1)**2*Abs(Y1)*Abs(Y2)"
      ]
     },
     "metadata": {},
     "output_type": "display_data"
    },
    {
     "data": {
      "text/latex": [
       "$\\displaystyle C_{(0,0,-1,1,0,0)}^{(0,1,0,0),(0,0)}(\\alpha_{1,2}) \\cos{\\left(\\varpi_{1} - \\varpi_{2} \\right)} \\left|{X_{1}}\\right| \\left|{X_{2}}\\right| \\left|{Y_{2}}\\right|^{2}$"
      ],
      "text/plain": [
       "C_{(0,0,-1,1,0,0)}^{(0,1,0,0),(0,0)}(\\alpha_{1,2})*cos(varpi1 - varpi2)*Abs(X1)*Abs(X2)*Abs(Y2)**2"
      ]
     },
     "metadata": {},
     "output_type": "display_data"
    },
    {
     "data": {
      "text/latex": [
       "$\\displaystyle C_{(0,0,0,0,-1,1)}^{(0,1,0,0),(0,0)}(\\alpha_{1,2}) \\cos{\\left(\\Omega_{1} - \\Omega_{2} \\right)} \\left|{Y_{1}}\\right| \\left|{Y_{2}}\\right|^{3}$"
      ],
      "text/plain": [
       "C_{(0,0,0,0,-1,1)}^{(0,1,0,0),(0,0)}(\\alpha_{1,2})*cos(Omega1 - Omega2)*Abs(Y1)*Abs(Y2)**3"
      ]
     },
     "metadata": {},
     "output_type": "display_data"
    },
    {
     "data": {
      "text/latex": [
       "$\\displaystyle C_{(0,0,-1,1,0,0)}^{(1,0,0,0),(0,0)}(\\alpha_{1,2}) \\cos{\\left(\\varpi_{1} - \\varpi_{2} \\right)} \\left|{X_{1}}\\right| \\left|{X_{2}}\\right| \\left|{Y_{1}}\\right|^{2}$"
      ],
      "text/plain": [
       "C_{(0,0,-1,1,0,0)}^{(1,0,0,0),(0,0)}(\\alpha_{1,2})*cos(varpi1 - varpi2)*Abs(X1)*Abs(X2)*Abs(Y1)**2"
      ]
     },
     "metadata": {},
     "output_type": "display_data"
    },
    {
     "data": {
      "text/latex": [
       "$\\displaystyle C_{(0,0,0,0,-1,1)}^{(1,0,0,0),(0,0)}(\\alpha_{1,2}) \\cos{\\left(\\Omega_{1} - \\Omega_{2} \\right)} \\left|{Y_{1}}\\right|^{3} \\left|{Y_{2}}\\right|$"
      ],
      "text/plain": [
       "C_{(0,0,0,0,-1,1)}^{(1,0,0,0),(0,0)}(\\alpha_{1,2})*cos(Omega1 - Omega2)*Abs(Y1)**3*Abs(Y2)"
      ]
     },
     "metadata": {},
     "output_type": "display_data"
    },
    {
     "data": {
      "text/latex": [
       "$\\displaystyle C_{(0,0,-2,2,0,0)}^{(0,0,0,0),(0,0)}(\\alpha_{1,2}) \\cos{\\left(2 \\varpi_{1} - 2 \\varpi_{2} \\right)} \\left|{X_{1}}\\right|^{2} \\left|{X_{2}}\\right|^{2}$"
      ],
      "text/plain": [
       "C_{(0,0,-2,2,0,0)}^{(0,0,0,0),(0,0)}(\\alpha_{1,2})*cos(2*varpi1 - 2*varpi2)*Abs(X1)**2*Abs(X2)**2"
      ]
     },
     "metadata": {},
     "output_type": "display_data"
    },
    {
     "data": {
      "text/latex": [
       "$\\displaystyle C_{(0,0,1,-1,-1,1)}^{(0,0,0,0),(0,0)}(\\alpha_{1,2}) \\cos{\\left(\\Omega_{1} - \\Omega_{2} - \\varpi_{1} + \\varpi_{2} \\right)} \\left|{X_{1}}\\right| \\left|{X_{2}}\\right| \\left|{Y_{1}}\\right| \\left|{Y_{2}}\\right|$"
      ],
      "text/plain": [
       "C_{(0,0,1,-1,-1,1)}^{(0,0,0,0),(0,0)}(\\alpha_{1,2})*cos(Omega1 - Omega2 - varpi1 + varpi2)*Abs(X1)*Abs(X2)*Abs(Y1)*Abs(Y2)"
      ]
     },
     "metadata": {},
     "output_type": "display_data"
    },
    {
     "data": {
      "text/latex": [
       "$\\displaystyle C_{(0,0,-1,1,-1,1)}^{(0,0,0,0),(0,0)}(\\alpha_{1,2}) \\cos{\\left(\\Omega_{1} - \\Omega_{2} + \\varpi_{1} - \\varpi_{2} \\right)} \\left|{X_{1}}\\right| \\left|{X_{2}}\\right| \\left|{Y_{1}}\\right| \\left|{Y_{2}}\\right|$"
      ],
      "text/plain": [
       "C_{(0,0,-1,1,-1,1)}^{(0,0,0,0),(0,0)}(\\alpha_{1,2})*cos(Omega1 - Omega2 + varpi1 - varpi2)*Abs(X1)*Abs(X2)*Abs(Y1)*Abs(Y2)"
      ]
     },
     "metadata": {},
     "output_type": "display_data"
    },
    {
     "data": {
      "text/latex": [
       "$\\displaystyle C_{(0,0,0,0,-2,2)}^{(0,0,0,0),(0,0)}(\\alpha_{1,2}) \\cos{\\left(2 \\Omega_{1} - 2 \\Omega_{2} \\right)} \\left|{Y_{1}}\\right|^{2} \\left|{Y_{2}}\\right|^{2}$"
      ],
      "text/plain": [
       "C_{(0,0,0,0,-2,2)}^{(0,0,0,0),(0,0)}(\\alpha_{1,2})*cos(2*Omega1 - 2*Omega2)*Abs(Y1)**2*Abs(Y2)**2"
      ]
     },
     "metadata": {},
     "output_type": "display_data"
    },
    {
     "data": {
      "text/latex": [
       "$\\displaystyle C_{(0,0,2,0,0,-2)}^{(0,0,0,0),(0,0)}(\\alpha_{1,2}) \\cos{\\left(2 \\Omega_{2} - 2 \\varpi_{1} \\right)} \\left|{X_{1}}\\right|^{2} \\left|{Y_{2}}\\right|^{2}$"
      ],
      "text/plain": [
       "C_{(0,0,2,0,0,-2)}^{(0,0,0,0),(0,0)}(\\alpha_{1,2})*cos(2*Omega2 - 2*varpi1)*Abs(X1)**2*Abs(Y2)**2"
      ]
     },
     "metadata": {},
     "output_type": "display_data"
    },
    {
     "data": {
      "text/latex": [
       "$\\displaystyle C_{(0,0,1,1,0,-2)}^{(0,0,0,0),(0,0)}(\\alpha_{1,2}) \\cos{\\left(- 2 \\Omega_{2} + \\varpi_{1} + \\varpi_{2} \\right)} \\left|{X_{1}}\\right| \\left|{X_{2}}\\right| \\left|{Y_{2}}\\right|^{2}$"
      ],
      "text/plain": [
       "C_{(0,0,1,1,0,-2)}^{(0,0,0,0),(0,0)}(\\alpha_{1,2})*cos(-2*Omega2 + varpi1 + varpi2)*Abs(X1)*Abs(X2)*Abs(Y2)**2"
      ]
     },
     "metadata": {},
     "output_type": "display_data"
    },
    {
     "data": {
      "text/latex": [
       "$\\displaystyle C_{(0,0,0,2,0,-2)}^{(0,0,0,0),(0,0)}(\\alpha_{1,2}) \\cos{\\left(2 \\Omega_{2} - 2 \\varpi_{2} \\right)} \\left|{X_{2}}\\right|^{2} \\left|{Y_{2}}\\right|^{2}$"
      ],
      "text/plain": [
       "C_{(0,0,0,2,0,-2)}^{(0,0,0,0),(0,0)}(\\alpha_{1,2})*cos(2*Omega2 - 2*varpi2)*Abs(X2)**2*Abs(Y2)**2"
      ]
     },
     "metadata": {},
     "output_type": "display_data"
    },
    {
     "data": {
      "text/latex": [
       "$\\displaystyle C_{(0,0,2,0,-1,-1)}^{(0,0,0,0),(0,0)}(\\alpha_{1,2}) \\cos{\\left(\\Omega_{1} + \\Omega_{2} - 2 \\varpi_{1} \\right)} \\left|{X_{1}}\\right|^{2} \\left|{Y_{1}}\\right| \\left|{Y_{2}}\\right|$"
      ],
      "text/plain": [
       "C_{(0,0,2,0,-1,-1)}^{(0,0,0,0),(0,0)}(\\alpha_{1,2})*cos(Omega1 + Omega2 - 2*varpi1)*Abs(X1)**2*Abs(Y1)*Abs(Y2)"
      ]
     },
     "metadata": {},
     "output_type": "display_data"
    },
    {
     "data": {
      "text/latex": [
       "$\\displaystyle C_{(0,0,1,1,-1,-1)}^{(0,0,0,0),(0,0)}(\\alpha_{1,2}) \\cos{\\left(\\Omega_{1} + \\Omega_{2} - \\varpi_{1} - \\varpi_{2} \\right)} \\left|{X_{1}}\\right| \\left|{X_{2}}\\right| \\left|{Y_{1}}\\right| \\left|{Y_{2}}\\right|$"
      ],
      "text/plain": [
       "C_{(0,0,1,1,-1,-1)}^{(0,0,0,0),(0,0)}(\\alpha_{1,2})*cos(Omega1 + Omega2 - varpi1 - varpi2)*Abs(X1)*Abs(X2)*Abs(Y1)*Abs(Y2)"
      ]
     },
     "metadata": {},
     "output_type": "display_data"
    },
    {
     "data": {
      "text/latex": [
       "$\\displaystyle C_{(0,0,0,2,-1,-1)}^{(0,0,0,0),(0,0)}(\\alpha_{1,2}) \\cos{\\left(\\Omega_{1} + \\Omega_{2} - 2 \\varpi_{2} \\right)} \\left|{X_{2}}\\right|^{2} \\left|{Y_{1}}\\right| \\left|{Y_{2}}\\right|$"
      ],
      "text/plain": [
       "C_{(0,0,0,2,-1,-1)}^{(0,0,0,0),(0,0)}(\\alpha_{1,2})*cos(Omega1 + Omega2 - 2*varpi2)*Abs(X2)**2*Abs(Y1)*Abs(Y2)"
      ]
     },
     "metadata": {},
     "output_type": "display_data"
    },
    {
     "data": {
      "text/latex": [
       "$\\displaystyle C_{(0,0,2,0,-2,0)}^{(0,0,0,0),(0,0)}(\\alpha_{1,2}) \\cos{\\left(2 \\Omega_{1} - 2 \\varpi_{1} \\right)} \\left|{X_{1}}\\right|^{2} \\left|{Y_{1}}\\right|^{2}$"
      ],
      "text/plain": [
       "C_{(0,0,2,0,-2,0)}^{(0,0,0,0),(0,0)}(\\alpha_{1,2})*cos(2*Omega1 - 2*varpi1)*Abs(X1)**2*Abs(Y1)**2"
      ]
     },
     "metadata": {},
     "output_type": "display_data"
    },
    {
     "data": {
      "text/latex": [
       "$\\displaystyle C_{(0,0,1,1,-2,0)}^{(0,0,0,0),(0,0)}(\\alpha_{1,2}) \\cos{\\left(- 2 \\Omega_{1} + \\varpi_{1} + \\varpi_{2} \\right)} \\left|{X_{1}}\\right| \\left|{X_{2}}\\right| \\left|{Y_{1}}\\right|^{2}$"
      ],
      "text/plain": [
       "C_{(0,0,1,1,-2,0)}^{(0,0,0,0),(0,0)}(\\alpha_{1,2})*cos(-2*Omega1 + varpi1 + varpi2)*Abs(X1)*Abs(X2)*Abs(Y1)**2"
      ]
     },
     "metadata": {},
     "output_type": "display_data"
    },
    {
     "data": {
      "text/latex": [
       "$\\displaystyle C_{(0,0,0,2,-2,0)}^{(0,0,0,0),(0,0)}(\\alpha_{1,2}) \\cos{\\left(2 \\Omega_{1} - 2 \\varpi_{2} \\right)} \\left|{X_{2}}\\right|^{2} \\left|{Y_{1}}\\right|^{2}$"
      ],
      "text/plain": [
       "C_{(0,0,0,2,-2,0)}^{(0,0,0,0),(0,0)}(\\alpha_{1,2})*cos(2*Omega1 - 2*varpi2)*Abs(X2)**2*Abs(Y1)**2"
      ]
     },
     "metadata": {},
     "output_type": "display_data"
    }
   ],
   "source": [
    "for k,nu in sec_terms:\n",
    "    cos_arg = theta.dot(k)\n",
    "    pows = [abs(k[2]) + 2 * nu[2],abs(k[3]) + 2 * nu[3],abs(k[4]) + 2 * nu[0],abs(k[5]) + 2 * nu[1]]\n",
    "    C = get_df_coefficient_symbol(*k,*nu,0,0,1,2)\n",
    "    XYterm = Mul(*[abs(sym)**p for sym,p in zip(XY,pows)])\n",
    "    display(C*XYterm*cos(cos_arg))"
   ]
  },
  {
   "cell_type": "code",
   "execution_count": null,
   "id": "5c79df86",
   "metadata": {},
   "outputs": [],
   "source": []
  }
 ],
 "metadata": {
  "kernelspec": {
   "display_name": "Python 3 (ipykernel)",
   "language": "python",
   "name": "python3"
  },
  "language_info": {
   "codemirror_mode": {
    "name": "ipython",
    "version": 3
   },
   "file_extension": ".py",
   "mimetype": "text/x-python",
   "name": "python",
   "nbconvert_exporter": "python",
   "pygments_lexer": "ipython3",
   "version": "3.9.7"
  }
 },
 "nbformat": 4,
 "nbformat_minor": 5
}
