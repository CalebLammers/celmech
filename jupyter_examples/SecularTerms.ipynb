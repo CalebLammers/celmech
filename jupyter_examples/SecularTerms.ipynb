{
 "cells": [
  {
   "cell_type": "code",
   "execution_count": 1,
   "metadata": {
    "collapsed": false
   },
   "outputs": [],
   "source": [
    "from celmech.disturbing_function import *\n",
    "\n",
    "from sympy import symbols, init_printing, Function,simplify,collect,cos\n",
    "init_printing()\n",
    "\n",
    "import numpy as np\n",
    "\n",
    "from celmech.poincare import Poincare, PoincareHamiltonian"
   ]
  },
  {
   "cell_type": "code",
   "execution_count": 2,
   "metadata": {
    "collapsed": false
   },
   "outputs": [],
   "source": [
    "import rebound\n",
    "def make_sim(pratio):\n",
    "    mass = 3.e-6\n",
    "    e0 = 0.07 # initial eccentricity of planets\n",
    "    \n",
    "    sim = rebound.Simulation()\n",
    "    sim.G = 4*np.pi**2\n",
    "    sim.add(m=1.)\n",
    "    sim.add(m=mass, e=e0, P=1.)\n",
    "    sim.add(m=mass, e=1.e-5, P=pratio, f=np.pi)\n",
    "    sim.move_to_com()\n",
    "    return sim     \n",
    "\n",
    "sim=make_sim(np.sqrt(5))\n",
    "pvars = Poincare.from_Simulation(sim)\n",
    "Hsim = PoincareHamiltonian(pvars)"
   ]
  },
  {
   "cell_type": "code",
   "execution_count": 3,
   "metadata": {
    "collapsed": false
   },
   "outputs": [
    {
     "data": {
      "image/png": "[encoded data removed]",
      "text/latex": [
       "$$- \\frac{G^{2} M_{2}^{2} m_{2}^{3}}{2 \\Lambda_{2}^{2}} - \\frac{G^{2} M_{1}^{2} m_{1}^{3}}{2 \\Lambda_{1}^{2}}$$"
      ],
      "text/plain": [
       "   2   2   3    2   2   3\n",
       "  G ⋅M₂ ⋅m₂    G ⋅M₁ ⋅m₁ \n",
       "- ────────── - ──────────\n",
       "        2            2   \n",
       "    2⋅Λ₂         2⋅Λ₁    "
      ]
     },
     "execution_count": 3,
     "metadata": {},
     "output_type": "execute_result"
    }
   ],
   "source": [
    "Hsim.H"
   ]
  },
  {
   "cell_type": "code",
   "execution_count": 4,
   "metadata": {
    "collapsed": false
   },
   "outputs": [],
   "source": [
    "Hsim.add_secular_terms(1,2)"
   ]
  },
  {
   "cell_type": "code",
   "execution_count": 5,
   "metadata": {
    "collapsed": false
   },
   "outputs": [
    {
     "data": {
      "image/png": "[encoded data removed]",
      "text/latex": [
       "$$- \\frac{G^{2} M_{2}^{2} m_{2}^{3}}{2 \\Lambda_{2}^{2}} - \\frac{G^{2} M_{2}^{2} m_{1} m_{2}^{3}}{\\Lambda_{2}^{2} M_{1}} \\left(\\frac{X_{2}^{2} \\alpha^{2} \\sqrt{\\frac{X_{1}^{2}}{2 \\Lambda_{1}} + \\frac{Y_{1}^{2}}{2 \\Lambda_{1}}}}{2 X_{2}^{2} + 2 Y_{2}^{2}} \\sqrt{\\frac{X_{2}^{2}}{2 \\Lambda_{2}} + \\frac{Y_{2}^{2}}{2 \\Lambda_{2}}} b{\\left (\\frac{1}{2},1,2,\\alpha \\right )} \\cos{\\left (\\operatorname{atan_{2}}{\\left (Y_{1},X_{1} \\right )} - \\operatorname{atan_{2}}{\\left (Y_{2},X_{2} \\right )} \\right )} - \\frac{X_{2}^{2} \\alpha b{\\left (\\frac{1}{2},1,1,\\alpha \\right )}}{X_{2}^{2} + Y_{2}^{2}} \\sqrt{\\frac{X_{1}^{2}}{2 \\Lambda_{1}} + \\frac{Y_{1}^{2}}{2 \\Lambda_{1}}} \\sqrt{\\frac{X_{2}^{2}}{2 \\Lambda_{2}} + \\frac{Y_{2}^{2}}{2 \\Lambda_{2}}} \\cos{\\left (\\operatorname{atan_{2}}{\\left (Y_{1},X_{1} \\right )} - \\operatorname{atan_{2}}{\\left (Y_{2},X_{2} \\right )} \\right )} + \\frac{X_{2}^{2} \\sqrt{\\frac{X_{1}^{2}}{2 \\Lambda_{1}} + \\frac{Y_{1}^{2}}{2 \\Lambda_{1}}}}{X_{2}^{2} + Y_{2}^{2}} \\sqrt{\\frac{X_{2}^{2}}{2 \\Lambda_{2}} + \\frac{Y_{2}^{2}}{2 \\Lambda_{2}}} b{\\left (\\frac{1}{2},1,0,\\alpha \\right )} \\cos{\\left (\\operatorname{atan_{2}}{\\left (Y_{1},X_{1} \\right )} - \\operatorname{atan_{2}}{\\left (Y_{2},X_{2} \\right )} \\right )} + \\frac{Y_{2}^{2} \\alpha^{2} \\sqrt{\\frac{X_{1}^{2}}{2 \\Lambda_{1}} + \\frac{Y_{1}^{2}}{2 \\Lambda_{1}}}}{2 X_{2}^{2} + 2 Y_{2}^{2}} \\sqrt{\\frac{X_{2}^{2}}{2 \\Lambda_{2}} + \\frac{Y_{2}^{2}}{2 \\Lambda_{2}}} b{\\left (\\frac{1}{2},1,2,\\alpha \\right )} \\cos{\\left (\\operatorname{atan_{2}}{\\left (Y_{1},X_{1} \\right )} - \\operatorname{atan_{2}}{\\left (Y_{2},X_{2} \\right )} \\right )} - \\frac{Y_{2}^{2} \\alpha b{\\left (\\frac{1}{2},1,1,\\alpha \\right )}}{X_{2}^{2} + Y_{2}^{2}} \\sqrt{\\frac{X_{1}^{2}}{2 \\Lambda_{1}} + \\frac{Y_{1}^{2}}{2 \\Lambda_{1}}} \\sqrt{\\frac{X_{2}^{2}}{2 \\Lambda_{2}} + \\frac{Y_{2}^{2}}{2 \\Lambda_{2}}} \\cos{\\left (\\operatorname{atan_{2}}{\\left (Y_{1},X_{1} \\right )} - \\operatorname{atan_{2}}{\\left (Y_{2},X_{2} \\right )} \\right )} + \\frac{Y_{2}^{2} \\sqrt{\\frac{X_{1}^{2}}{2 \\Lambda_{1}} + \\frac{Y_{1}^{2}}{2 \\Lambda_{1}}}}{X_{2}^{2} + Y_{2}^{2}} \\sqrt{\\frac{X_{2}^{2}}{2 \\Lambda_{2}} + \\frac{Y_{2}^{2}}{2 \\Lambda_{2}}} b{\\left (\\frac{1}{2},1,0,\\alpha \\right )} \\cos{\\left (\\operatorname{atan_{2}}{\\left (Y_{1},X_{1} \\right )} - \\operatorname{atan_{2}}{\\left (Y_{2},X_{2} \\right )} \\right )} - \\alpha^{2} \\sqrt{\\frac{X_{1}^{2}}{2 \\Lambda_{1}} + \\frac{Y_{1}^{2}}{2 \\Lambda_{1}}} \\sqrt{\\frac{X_{2}^{2}}{2 \\Lambda_{2}} + \\frac{Y_{2}^{2}}{2 \\Lambda_{2}}} b{\\left (\\frac{1}{2},1,2,\\alpha \\right )} \\cos{\\left (\\operatorname{atan_{2}}{\\left (Y_{1},X_{1} \\right )} - \\operatorname{atan_{2}}{\\left (Y_{2},X_{2} \\right )} \\right )} + \\frac{1}{2} b{\\left (\\frac{1}{2},0,0,\\alpha \\right )} + \\frac{X_{2}^{2} \\alpha^{2}}{8 \\Lambda_{2}} b{\\left (\\frac{1}{2},0,2,\\alpha \\right )} + \\frac{X_{2}^{2} \\alpha}{4 \\Lambda_{2}} b{\\left (\\frac{1}{2},0,1,\\alpha \\right )} + \\frac{Y_{2}^{2} \\alpha^{2}}{8 \\Lambda_{2}} b{\\left (\\frac{1}{2},0,2,\\alpha \\right )} + \\frac{Y_{2}^{2} \\alpha}{4 \\Lambda_{2}} b{\\left (\\frac{1}{2},0,1,\\alpha \\right )} + \\frac{X_{1}^{2} \\alpha^{2}}{8 \\Lambda_{1}} b{\\left (\\frac{1}{2},0,2,\\alpha \\right )} + \\frac{X_{1}^{2} \\alpha}{4 \\Lambda_{1}} b{\\left (\\frac{1}{2},0,1,\\alpha \\right )} + \\frac{Y_{1}^{2} \\alpha^{2}}{8 \\Lambda_{1}} b{\\left (\\frac{1}{2},0,2,\\alpha \\right )} + \\frac{Y_{1}^{2} \\alpha}{4 \\Lambda_{1}} b{\\left (\\frac{1}{2},0,1,\\alpha \\right )}\\right) - \\frac{G^{2} M_{1}^{2} m_{1}^{3}}{2 \\Lambda_{1}^{2}}$$"
      ],
      "text/plain": [
       "                             ⎛            _____________      _____________    \n",
       "                             ⎜           ╱   2      2       ╱   2      2      \n",
       "                             ⎜  2  2    ╱  X₁     Y₁       ╱  X₂     Y₂       \n",
       "                             ⎜X₂ ⋅α ⋅  ╱   ──── + ──── ⋅  ╱   ──── + ──── ⋅b(1\n",
       "                2   2      3 ⎜       ╲╱    2⋅Λ₁   2⋅Λ₁  ╲╱    2⋅Λ₂   2⋅Λ₂     \n",
       "               G ⋅M₂ ⋅m₁⋅m₂ ⋅⎜────────────────────────────────────────────────\n",
       "                             ⎜                                           ⎛  2 \n",
       "                             ⎜                                           ⎜X₂  \n",
       "   2   2   3                 ⎜                                         4⋅⎜─── \n",
       "  G ⋅M₂ ⋅m₂                  ⎝                                           ⎝ 2  \n",
       "- ────────── - ───────────────────────────────────────────────────────────────\n",
       "        2                                                                     \n",
       "    2⋅Λ₂                                                                      \n",
       "\n",
       "                                                             _____________    \n",
       "                                                            ╱   2      2      \n",
       "                                                    2      ╱  X₁     Y₁       \n",
       "/2, 1, 2, α)⋅cos(atan2(Y₁, X₁) - atan2(Y₂, X₂))   X₂ ⋅α⋅  ╱   ──── + ──── ⋅  ╱\n",
       "                                                        ╲╱    2⋅Λ₁   2⋅Λ₁  ╲╱ \n",
       "─────────────────────────────────────────────── - ────────────────────────────\n",
       "    2⎞                                                                        \n",
       "  Y₂ ⎟                                                                        \n",
       "+ ───⎟                                                                        \n",
       "   2 ⎠                                                                        \n",
       "──────────────────────────────────────────────────────────────────────────────\n",
       "                                                                              \n",
       "                                                                              \n",
       "\n",
       "  _____________                                                               \n",
       " ╱   2      2                                                                ╱\n",
       "╱  X₂     Y₂                                                           2    ╱ \n",
       "   ──── + ──── ⋅b(1/2, 1, 1, α)⋅cos(atan2(Y₁, X₁) - atan2(Y₂, X₂))   X₂ ⋅  ╱  \n",
       "   2⋅Λ₂   2⋅Λ₂                                                           ╲╱   \n",
       "────────────────────────────────────────────────────────────────── + ─────────\n",
       "              ⎛  2     2⎞                                                     \n",
       "              ⎜X₂    Y₂ ⎟                                                     \n",
       "            2⋅⎜─── + ───⎟                                                     \n",
       "              ⎝ 2     2 ⎠                                                     \n",
       "──────────────────────────────────────────────────────────────────────────────\n",
       "                                                                              \n",
       "                                                                              \n",
       "\n",
       "_____________      _____________                                              \n",
       "   2      2       ╱   2      2                                                \n",
       " X₁     Y₁       ╱  X₂     Y₂                                                 \n",
       " ──── + ──── ⋅  ╱   ──── + ──── ⋅b(1/2, 1, 0, α)⋅cos(atan2(Y₁, X₁) - atan2(Y₂,\n",
       " 2⋅Λ₁   2⋅Λ₁  ╲╱    2⋅Λ₂   2⋅Λ₂                                               \n",
       "──────────────────────────────────────────────────────────────────────────────\n",
       "                                ⎛  2     2⎞                                   \n",
       "                                ⎜X₂    Y₂ ⎟                                   \n",
       "                              2⋅⎜─── + ───⎟                                   \n",
       "                                ⎝ 2     2 ⎠                                   \n",
       "──────────────────────────────────────────────────────────────────────────────\n",
       "                                                                              \n",
       "                                                                              \n",
       "\n",
       "                    _____________      _____________                          \n",
       "                   ╱   2      2       ╱   2      2                            \n",
       "          2  2    ╱  X₁     Y₁       ╱  X₂     Y₂                             \n",
       " X₂))   Y₂ ⋅α ⋅  ╱   ──── + ──── ⋅  ╱   ──── + ──── ⋅b(1/2, 1, 2, α)⋅cos(atan2\n",
       "               ╲╱    2⋅Λ₁   2⋅Λ₁  ╲╱    2⋅Λ₂   2⋅Λ₂                           \n",
       "───── + ──────────────────────────────────────────────────────────────────────\n",
       "                                                   ⎛  2     2⎞                \n",
       "                                                   ⎜X₂    Y₂ ⎟                \n",
       "                                                 4⋅⎜─── + ───⎟                \n",
       "                                                   ⎝ 2     2 ⎠                \n",
       "──────────────────────────────────────────────────────────────────────────────\n",
       "                                                                              \n",
       "                                                                              \n",
       "\n",
       "                                       _____________      _____________       \n",
       "                                      ╱   2      2       ╱   2      2         \n",
       "                              2      ╱  X₁     Y₁       ╱  X₂     Y₂          \n",
       "(Y₁, X₁) - atan2(Y₂, X₂))   Y₂ ⋅α⋅  ╱   ──── + ──── ⋅  ╱   ──── + ──── ⋅b(1/2,\n",
       "                                  ╲╱    2⋅Λ₁   2⋅Λ₁  ╲╱    2⋅Λ₂   2⋅Λ₂        \n",
       "───────────────────────── - ──────────────────────────────────────────────────\n",
       "                                                                      ⎛  2    \n",
       "                                                                      ⎜X₂    Y\n",
       "                                                                    2⋅⎜─── + ─\n",
       "                                                                      ⎝ 2     \n",
       "──────────────────────────────────────────────────────────────────────────────\n",
       "                                                                           2  \n",
       "                                                                         Λ₂ ⋅M\n",
       "\n",
       "                                                        _____________      ___\n",
       "                                                       ╱   2      2       ╱   \n",
       "                                                 2    ╱  X₁     Y₁       ╱  X₂\n",
       " 1, 1, α)⋅cos(atan2(Y₁, X₁) - atan2(Y₂, X₂))   Y₂ ⋅  ╱   ──── + ──── ⋅  ╱   ──\n",
       "                                                   ╲╱    2⋅Λ₁   2⋅Λ₁  ╲╱    2⋅\n",
       "──────────────────────────────────────────── + ───────────────────────────────\n",
       " 2⎞                                                                           \n",
       "₂ ⎟                                                                           \n",
       "──⎟                                                                           \n",
       "2 ⎠                                                                           \n",
       "──────────────────────────────────────────────────────────────────────────────\n",
       "                                                                              \n",
       "₁                                                                             \n",
       "\n",
       "__________                                                                    \n",
       "2      2                                                                      \n",
       "     Y₂                                                                 ______\n",
       "── + ──── ⋅b(1/2, 1, 0, α)⋅cos(atan2(Y₁, X₁) - atan2(Y₂, X₂))          ╱   2  \n",
       "Λ₂   2⋅Λ₂                                                        2    ╱  X₁   \n",
       "───────────────────────────────────────────────────────────── - α ⋅  ╱   ──── \n",
       "          ⎛  2     2⎞                                              ╲╱    2⋅Λ₁ \n",
       "          ⎜X₂    Y₂ ⎟                                                         \n",
       "        2⋅⎜─── + ───⎟                                                         \n",
       "          ⎝ 2     2 ⎠                                                         \n",
       "──────────────────────────────────────────────────────────────────────────────\n",
       "                                                                              \n",
       "                                                                              \n",
       "\n",
       "                                                                              \n",
       "                                                                              \n",
       "_______      _____________                                                    \n",
       "    2       ╱   2      2                                                      \n",
       "  Y₁       ╱  X₂     Y₂                                                       \n",
       "+ ──── ⋅  ╱   ──── + ──── ⋅b(1/2, 1, 2, α)⋅cos(atan2(Y₁, X₁) - atan2(Y₂, X₂)) \n",
       "  2⋅Λ₁  ╲╱    2⋅Λ₂   2⋅Λ₂                                                     \n",
       "                                                                              \n",
       "                                                                              \n",
       "                                                                              \n",
       "──────────────────────────────────────────────────────────────────────────────\n",
       "                                                                              \n",
       "                                                                              \n",
       "\n",
       "                                                                              \n",
       "                                                                              \n",
       "                                                                              \n",
       "                      2  2                     2                       2  2   \n",
       "  b(1/2, 0, 0, α)   X₂ ⋅α ⋅b(1/2, 0, 2, α)   X₂ ⋅α⋅b(1/2, 0, 1, α)   Y₂ ⋅α ⋅b(\n",
       "+ ─────────────── + ────────────────────── + ───────────────────── + ─────────\n",
       "         2                   8⋅Λ₂                     4⋅Λ₂                    \n",
       "                                                                              \n",
       "                                                                              \n",
       "                                                                              \n",
       "──────────────────────────────────────────────────────────────────────────────\n",
       "                                                                              \n",
       "                                                                              \n",
       "\n",
       "                                                                              \n",
       "                                                                              \n",
       "                                                                              \n",
       "                  2                       2  2                     2          \n",
       "1/2, 0, 2, α)   Y₂ ⋅α⋅b(1/2, 0, 1, α)   X₁ ⋅α ⋅b(1/2, 0, 2, α)   X₁ ⋅α⋅b(1/2, \n",
       "───────────── + ───────────────────── + ────────────────────── + ─────────────\n",
       "8⋅Λ₂                     4⋅Λ₂                    8⋅Λ₁                     4⋅Λ₁\n",
       "                                                                              \n",
       "                                                                              \n",
       "                                                                              \n",
       "──────────────────────────────────────────────────────────────────────────────\n",
       "                                                                              \n",
       "                                                                              \n",
       "\n",
       "                                                         ⎞             \n",
       "                                                         ⎟             \n",
       "                                                         ⎟             \n",
       "             2  2                     2                  ⎟             \n",
       "0, 1, α)   Y₁ ⋅α ⋅b(1/2, 0, 2, α)   Y₁ ⋅α⋅b(1/2, 0, 1, α)⎟             \n",
       "──────── + ────────────────────── + ─────────────────────⎟             \n",
       "                    8⋅Λ₁                     4⋅Λ₁        ⎟             \n",
       "                                                         ⎟             \n",
       "                                                         ⎟    2   2   3\n",
       "                                                         ⎠   G ⋅M₁ ⋅m₁ \n",
       "────────────────────────────────────────────────────────── - ──────────\n",
       "                                                                   2   \n",
       "                                                               2⋅Λ₁    "
      ]
     },
     "execution_count": 5,
     "metadata": {},
     "output_type": "execute_result"
    }
   ],
   "source": [
    "Hsim.H\n"
   ]
  },
  {
   "cell_type": "code",
   "execution_count": 10,
   "metadata": {
    "collapsed": false
   },
   "outputs": [],
   "source": [
    "from sympy import cos,atan,atan2"
   ]
  },
  {
   "cell_type": "code",
   "execution_count": null,
   "metadata": {
    "collapsed": true
   },
   "outputs": [],
   "source": [
    "cos()"
   ]
  },
  {
   "cell_type": "code",
   "execution_count": 16,
   "metadata": {
    "collapsed": false
   },
   "outputs": [
    {
     "data": {
      "image/png": "[encoded data removed]",
      "text/latex": [
       "$$\\cos{\\left (\\operatorname{atan_{2}}{\\left (y_{1},x_{1} \\right )} - \\operatorname{atan_{2}}{\\left (y_{2},x_{2} \\right )} \\right )}$$"
      ],
      "text/plain": [
       "cos(atan2(y₁, x₁) - atan2(y₂, x₂))"
      ]
     },
     "execution_count": 16,
     "metadata": {},
     "output_type": "execute_result"
    }
   ],
   "source": [
    "simplify(cos(atan2(S('y1'),S('x1'))-atan2(S('y2'),S('x2'))))"
   ]
  },
  {
   "cell_type": "code",
   "execution_count": 15,
   "metadata": {
    "collapsed": false
   },
   "outputs": [],
   "source": [
    "from sympy import hyper"
   ]
  },
  {
   "cell_type": "code",
   "execution_count": 21,
   "metadata": {
    "collapsed": false
   },
   "outputs": [
    {
     "data": {
      "image/png": "[encoded data removed]",
      "text/latex": [
       "$$x \\left(- \\frac{4 E\\left(x^{2}\\right)}{\\pi x^{2}} + \\frac{4 K\\left(x^{2}\\right)}{\\pi x^{2}}\\right)$$"
      ],
      "text/plain": [
       "  ⎛     ⎛ 2⎞      ⎛ 2⎞⎞\n",
       "  ⎜  4⋅E⎝x ⎠   4⋅K⎝x ⎠⎟\n",
       "x⋅⎜- ─────── + ───────⎟\n",
       "  ⎜       2         2 ⎟\n",
       "  ⎝    π⋅x       π⋅x  ⎠"
      ]
     },
     "execution_count": 21,
     "metadata": {},
     "output_type": "execute_result"
    }
   ],
   "source": [
    "hyperexpand(S('x')*hyper([1/S(2),3/S(2)],[2],S('x')*S('x')))"
   ]
  },
  {
   "cell_type": "code",
   "execution_count": 9,
   "metadata": {
    "collapsed": false
   },
   "outputs": [
    {
     "data": {
      "image/png": "[encoded data removed]",
      "text/latex": [
       "$$1$$"
      ],
      "text/plain": [
       "1"
      ]
     },
     "execution_count": 9,
     "metadata": {},
     "output_type": "execute_result"
    }
   ],
   "source": [
    "S.One"
   ]
  },
  {
   "cell_type": "code",
   "execution_count": 80,
   "metadata": {
    "collapsed": true
   },
   "outputs": [],
   "source": [
    "class laplace_B(Function):\n",
    "    nargs=4\n",
    "    @classmethod\n",
    "    def eval(cls, s,j,n,alpha):\n",
    "    # laplace coeffcients don't evaluate well with the C code\n",
    "    # for large n, therefore I've substituted the exact expression\n",
    "    # in terms of the elliptic K function when j=0\n",
    "        if j is S.Zero:\n",
    "            x = S('x')\n",
    "            exprn = 4 / np.pi * diff(elliptic_k(x*x),x,n)\n",
    "            return exprn.subs(x,alpha)\n",
    "\n",
    "        else:\n",
    "            return laplace_coefficient(s,j,n,alpha)/ alpha**n"
   ]
  },
  {
   "cell_type": "code",
   "execution_count": 51,
   "metadata": {
    "collapsed": true
   },
   "outputs": [],
   "source": [
    "from sympy import a"
   ]
  },
  {
   "cell_type": "code",
   "execution_count": 52,
   "metadata": {
    "collapsed": true
   },
   "outputs": [],
   "source": [
    "?lambdify"
   ]
  },
  {
   "cell_type": "code",
   "execution_count": 7,
   "metadata": {
    "collapsed": false
   },
   "outputs": [
    {
     "ename": "TypeError",
     "evalue": "as_base_exp() missing 1 required positional argument: 'self'",
     "output_type": "error",
     "traceback": [
      "\u001b[0;31m---------------------------------------------------------------------------\u001b[0m",
      "\u001b[0;31mTypeError\u001b[0m                                 Traceback (most recent call last)",
      "\u001b[0;32m<ipython-input-7-7c3ac9e94339>\u001b[0m in \u001b[0;36m<module>\u001b[0;34m()\u001b[0m\n\u001b[0;32m----> 1\u001b[0;31m \u001b[0mHsim\u001b[0m\u001b[0;34m.\u001b[0m\u001b[0m_update\u001b[0m\u001b[0;34m(\u001b[0m\u001b[0;34m)\u001b[0m\u001b[0;34m\u001b[0m\u001b[0m\n\u001b[0m\u001b[1;32m      2\u001b[0m \u001b[0mHsim\u001b[0m\u001b[0;34m.\u001b[0m\u001b[0mNH\u001b[0m\u001b[0;34m\u001b[0m\u001b[0m\n",
      "\u001b[0;32m/home/shadden/.local/lib/python3.4/site-packages/celmech-0.1.0-py3.4-linux-x86_64.egg/celmech/hamiltonian.py\u001b[0m in \u001b[0;36m_update\u001b[0;34m(self)\u001b[0m\n\u001b[1;32m     37\u001b[0m         \u001b[0mself\u001b[0m\u001b[0;34m.\u001b[0m\u001b[0mNH\u001b[0m \u001b[0;34m=\u001b[0m \u001b[0mself\u001b[0m\u001b[0;34m.\u001b[0m\u001b[0mH\u001b[0m \u001b[0;31m# reset to Hamiltonian with all parameters unset\u001b[0m\u001b[0;34m\u001b[0m\u001b[0m\n\u001b[1;32m     38\u001b[0m         \u001b[0;32mfor\u001b[0m \u001b[0mkey\u001b[0m\u001b[0;34m,\u001b[0m \u001b[0mval\u001b[0m \u001b[0;32min\u001b[0m \u001b[0mself\u001b[0m\u001b[0;34m.\u001b[0m\u001b[0mHparams\u001b[0m\u001b[0;34m.\u001b[0m\u001b[0mitems\u001b[0m\u001b[0;34m(\u001b[0m\u001b[0;34m)\u001b[0m\u001b[0;34m:\u001b[0m\u001b[0;34m\u001b[0m\u001b[0m\n\u001b[0;32m---> 39\u001b[0;31m             \u001b[0mself\u001b[0m\u001b[0;34m.\u001b[0m\u001b[0mNH\u001b[0m \u001b[0;34m=\u001b[0m \u001b[0mself\u001b[0m\u001b[0;34m.\u001b[0m\u001b[0mNH\u001b[0m\u001b[0;34m.\u001b[0m\u001b[0msubs\u001b[0m\u001b[0;34m(\u001b[0m\u001b[0mkey\u001b[0m\u001b[0;34m,\u001b[0m \u001b[0mval\u001b[0m\u001b[0;34m)\u001b[0m\u001b[0;34m\u001b[0m\u001b[0m\n\u001b[0m\u001b[1;32m     40\u001b[0m \u001b[0;34m\u001b[0m\u001b[0m\n\u001b[1;32m     41\u001b[0m         \u001b[0mself\u001b[0m\u001b[0;34m.\u001b[0m\u001b[0mderivs\u001b[0m \u001b[0;34m=\u001b[0m \u001b[0;34m{\u001b[0m\u001b[0;34m}\u001b[0m\u001b[0;34m\u001b[0m\u001b[0m\n",
      "\u001b[0;32m/opt/cfpython/anaconda3.4/lib/python3.4/site-packages/sympy/core/basic.py\u001b[0m in \u001b[0;36msubs\u001b[0;34m(self, *args, **kwargs)\u001b[0m\n\u001b[1;32m    900\u001b[0m             \u001b[0mrv\u001b[0m \u001b[0;34m=\u001b[0m \u001b[0mself\u001b[0m\u001b[0;34m\u001b[0m\u001b[0m\n\u001b[1;32m    901\u001b[0m             \u001b[0;32mfor\u001b[0m \u001b[0mold\u001b[0m\u001b[0;34m,\u001b[0m \u001b[0mnew\u001b[0m \u001b[0;32min\u001b[0m \u001b[0msequence\u001b[0m\u001b[0;34m:\u001b[0m\u001b[0;34m\u001b[0m\u001b[0m\n\u001b[0;32m--> 902\u001b[0;31m                 \u001b[0mrv\u001b[0m \u001b[0;34m=\u001b[0m \u001b[0mrv\u001b[0m\u001b[0;34m.\u001b[0m\u001b[0m_subs\u001b[0m\u001b[0;34m(\u001b[0m\u001b[0mold\u001b[0m\u001b[0;34m,\u001b[0m \u001b[0mnew\u001b[0m\u001b[0;34m,\u001b[0m \u001b[0;34m**\u001b[0m\u001b[0mkwargs\u001b[0m\u001b[0;34m)\u001b[0m\u001b[0;34m\u001b[0m\u001b[0m\n\u001b[0m\u001b[1;32m    903\u001b[0m                 \u001b[0;32mif\u001b[0m \u001b[0;32mnot\u001b[0m \u001b[0misinstance\u001b[0m\u001b[0;34m(\u001b[0m\u001b[0mrv\u001b[0m\u001b[0;34m,\u001b[0m \u001b[0mBasic\u001b[0m\u001b[0;34m)\u001b[0m\u001b[0;34m:\u001b[0m\u001b[0;34m\u001b[0m\u001b[0m\n\u001b[1;32m    904\u001b[0m                     \u001b[0;32mbreak\u001b[0m\u001b[0;34m\u001b[0m\u001b[0m\n",
      "\u001b[0;32m/opt/cfpython/anaconda3.4/lib/python3.4/site-packages/sympy/core/basic.py\u001b[0m in \u001b[0;36m_subs\u001b[0;34m(self, old, new, **hints)\u001b[0m\n\u001b[1;32m   1014\u001b[0m         \u001b[0mrv\u001b[0m \u001b[0;34m=\u001b[0m \u001b[0mself\u001b[0m\u001b[0;34m.\u001b[0m\u001b[0m_eval_subs\u001b[0m\u001b[0;34m(\u001b[0m\u001b[0mold\u001b[0m\u001b[0;34m,\u001b[0m \u001b[0mnew\u001b[0m\u001b[0;34m)\u001b[0m\u001b[0;34m\u001b[0m\u001b[0m\n\u001b[1;32m   1015\u001b[0m         \u001b[0;32mif\u001b[0m \u001b[0mrv\u001b[0m \u001b[0;32mis\u001b[0m \u001b[0;32mNone\u001b[0m\u001b[0;34m:\u001b[0m\u001b[0;34m\u001b[0m\u001b[0m\n\u001b[0;32m-> 1016\u001b[0;31m             \u001b[0mrv\u001b[0m \u001b[0;34m=\u001b[0m \u001b[0mfallback\u001b[0m\u001b[0;34m(\u001b[0m\u001b[0mself\u001b[0m\u001b[0;34m,\u001b[0m \u001b[0mold\u001b[0m\u001b[0;34m,\u001b[0m \u001b[0mnew\u001b[0m\u001b[0;34m)\u001b[0m\u001b[0;34m\u001b[0m\u001b[0m\n\u001b[0m\u001b[1;32m   1017\u001b[0m         \u001b[0;32mreturn\u001b[0m \u001b[0mrv\u001b[0m\u001b[0;34m\u001b[0m\u001b[0m\n\u001b[1;32m   1018\u001b[0m \u001b[0;34m\u001b[0m\u001b[0m\n",
      "\u001b[0;32m/opt/cfpython/anaconda3.4/lib/python3.4/site-packages/sympy/core/basic.py\u001b[0m in \u001b[0;36mfallback\u001b[0;34m(self, old, new)\u001b[0m\n\u001b[1;32m    986\u001b[0m                 \u001b[0;32mif\u001b[0m \u001b[0;32mnot\u001b[0m \u001b[0mhasattr\u001b[0m\u001b[0;34m(\u001b[0m\u001b[0marg\u001b[0m\u001b[0;34m,\u001b[0m \u001b[0;34m'_eval_subs'\u001b[0m\u001b[0;34m)\u001b[0m\u001b[0;34m:\u001b[0m\u001b[0;34m\u001b[0m\u001b[0m\n\u001b[1;32m    987\u001b[0m                     \u001b[0;32mcontinue\u001b[0m\u001b[0;34m\u001b[0m\u001b[0m\n\u001b[0;32m--> 988\u001b[0;31m                 \u001b[0marg\u001b[0m \u001b[0;34m=\u001b[0m \u001b[0marg\u001b[0m\u001b[0;34m.\u001b[0m\u001b[0m_subs\u001b[0m\u001b[0;34m(\u001b[0m\u001b[0mold\u001b[0m\u001b[0;34m,\u001b[0m \u001b[0mnew\u001b[0m\u001b[0;34m,\u001b[0m \u001b[0;34m**\u001b[0m\u001b[0mhints\u001b[0m\u001b[0;34m)\u001b[0m\u001b[0;34m\u001b[0m\u001b[0m\n\u001b[0m\u001b[1;32m    989\u001b[0m                 \u001b[0;32mif\u001b[0m \u001b[0;32mnot\u001b[0m \u001b[0m_aresame\u001b[0m\u001b[0;34m(\u001b[0m\u001b[0marg\u001b[0m\u001b[0;34m,\u001b[0m \u001b[0margs\u001b[0m\u001b[0;34m[\u001b[0m\u001b[0mi\u001b[0m\u001b[0;34m]\u001b[0m\u001b[0;34m)\u001b[0m\u001b[0;34m:\u001b[0m\u001b[0;34m\u001b[0m\u001b[0m\n\u001b[1;32m    990\u001b[0m                     \u001b[0mhit\u001b[0m \u001b[0;34m=\u001b[0m \u001b[0;32mTrue\u001b[0m\u001b[0;34m\u001b[0m\u001b[0m\n",
      "\u001b[0;32m/opt/cfpython/anaconda3.4/lib/python3.4/site-packages/sympy/core/basic.py\u001b[0m in \u001b[0;36m_subs\u001b[0;34m(self, old, new, **hints)\u001b[0m\n\u001b[1;32m   1014\u001b[0m         \u001b[0mrv\u001b[0m \u001b[0;34m=\u001b[0m \u001b[0mself\u001b[0m\u001b[0;34m.\u001b[0m\u001b[0m_eval_subs\u001b[0m\u001b[0;34m(\u001b[0m\u001b[0mold\u001b[0m\u001b[0;34m,\u001b[0m \u001b[0mnew\u001b[0m\u001b[0;34m)\u001b[0m\u001b[0;34m\u001b[0m\u001b[0m\n\u001b[1;32m   1015\u001b[0m         \u001b[0;32mif\u001b[0m \u001b[0mrv\u001b[0m \u001b[0;32mis\u001b[0m \u001b[0;32mNone\u001b[0m\u001b[0;34m:\u001b[0m\u001b[0;34m\u001b[0m\u001b[0m\n\u001b[0;32m-> 1016\u001b[0;31m             \u001b[0mrv\u001b[0m \u001b[0;34m=\u001b[0m \u001b[0mfallback\u001b[0m\u001b[0;34m(\u001b[0m\u001b[0mself\u001b[0m\u001b[0;34m,\u001b[0m \u001b[0mold\u001b[0m\u001b[0;34m,\u001b[0m \u001b[0mnew\u001b[0m\u001b[0;34m)\u001b[0m\u001b[0;34m\u001b[0m\u001b[0m\n\u001b[0m\u001b[1;32m   1017\u001b[0m         \u001b[0;32mreturn\u001b[0m \u001b[0mrv\u001b[0m\u001b[0;34m\u001b[0m\u001b[0m\n\u001b[1;32m   1018\u001b[0m \u001b[0;34m\u001b[0m\u001b[0m\n",
      "\u001b[0;32m/opt/cfpython/anaconda3.4/lib/python3.4/site-packages/sympy/core/basic.py\u001b[0m in \u001b[0;36mfallback\u001b[0;34m(self, old, new)\u001b[0m\n\u001b[1;32m    991\u001b[0m                     \u001b[0margs\u001b[0m\u001b[0;34m[\u001b[0m\u001b[0mi\u001b[0m\u001b[0;34m]\u001b[0m \u001b[0;34m=\u001b[0m \u001b[0marg\u001b[0m\u001b[0;34m\u001b[0m\u001b[0m\n\u001b[1;32m    992\u001b[0m             \u001b[0;32mif\u001b[0m \u001b[0mhit\u001b[0m\u001b[0;34m:\u001b[0m\u001b[0;34m\u001b[0m\u001b[0m\n\u001b[0;32m--> 993\u001b[0;31m                 \u001b[0mrv\u001b[0m \u001b[0;34m=\u001b[0m \u001b[0mself\u001b[0m\u001b[0;34m.\u001b[0m\u001b[0mfunc\u001b[0m\u001b[0;34m(\u001b[0m\u001b[0;34m*\u001b[0m\u001b[0margs\u001b[0m\u001b[0;34m)\u001b[0m\u001b[0;34m\u001b[0m\u001b[0m\n\u001b[0m\u001b[1;32m    994\u001b[0m                 \u001b[0mhack2\u001b[0m \u001b[0;34m=\u001b[0m \u001b[0mhints\u001b[0m\u001b[0;34m.\u001b[0m\u001b[0mget\u001b[0m\u001b[0;34m(\u001b[0m\u001b[0;34m'hack2'\u001b[0m\u001b[0;34m,\u001b[0m \u001b[0;32mFalse\u001b[0m\u001b[0;34m)\u001b[0m\u001b[0;34m\u001b[0m\u001b[0m\n\u001b[1;32m    995\u001b[0m                 \u001b[0;32mif\u001b[0m \u001b[0mhack2\u001b[0m \u001b[0;32mand\u001b[0m \u001b[0mself\u001b[0m\u001b[0;34m.\u001b[0m\u001b[0mis_Mul\u001b[0m \u001b[0;32mand\u001b[0m \u001b[0;32mnot\u001b[0m \u001b[0mrv\u001b[0m\u001b[0;34m.\u001b[0m\u001b[0mis_Mul\u001b[0m\u001b[0;34m:\u001b[0m  \u001b[0;31m# 2-arg hack\u001b[0m\u001b[0;34m\u001b[0m\u001b[0m\n",
      "\u001b[0;32m/opt/cfpython/anaconda3.4/lib/python3.4/site-packages/sympy/core/operations.py\u001b[0m in \u001b[0;36m__new__\u001b[0;34m(cls, *args, **options)\u001b[0m\n\u001b[1;32m     39\u001b[0m             \u001b[0;32mreturn\u001b[0m \u001b[0margs\u001b[0m\u001b[0;34m[\u001b[0m\u001b[0;36m0\u001b[0m\u001b[0;34m]\u001b[0m\u001b[0;34m\u001b[0m\u001b[0m\n\u001b[1;32m     40\u001b[0m \u001b[0;34m\u001b[0m\u001b[0m\n\u001b[0;32m---> 41\u001b[0;31m         \u001b[0mc_part\u001b[0m\u001b[0;34m,\u001b[0m \u001b[0mnc_part\u001b[0m\u001b[0;34m,\u001b[0m \u001b[0morder_symbols\u001b[0m \u001b[0;34m=\u001b[0m \u001b[0mcls\u001b[0m\u001b[0;34m.\u001b[0m\u001b[0mflatten\u001b[0m\u001b[0;34m(\u001b[0m\u001b[0margs\u001b[0m\u001b[0;34m)\u001b[0m\u001b[0;34m\u001b[0m\u001b[0m\n\u001b[0m\u001b[1;32m     42\u001b[0m         \u001b[0mis_commutative\u001b[0m \u001b[0;34m=\u001b[0m \u001b[0;32mnot\u001b[0m \u001b[0mnc_part\u001b[0m\u001b[0;34m\u001b[0m\u001b[0m\n\u001b[1;32m     43\u001b[0m         \u001b[0mobj\u001b[0m \u001b[0;34m=\u001b[0m \u001b[0mcls\u001b[0m\u001b[0;34m.\u001b[0m\u001b[0m_from_args\u001b[0m\u001b[0;34m(\u001b[0m\u001b[0mc_part\u001b[0m \u001b[0;34m+\u001b[0m \u001b[0mnc_part\u001b[0m\u001b[0;34m,\u001b[0m \u001b[0mis_commutative\u001b[0m\u001b[0;34m)\u001b[0m\u001b[0;34m\u001b[0m\u001b[0m\n",
      "\u001b[0;32m/opt/cfpython/anaconda3.4/lib/python3.4/site-packages/sympy/core/mul.py\u001b[0m in \u001b[0;36mflatten\u001b[0;34m(cls, seq)\u001b[0m\n\u001b[1;32m    290\u001b[0m                 \u001b[0;31m#      e\u001b[0m\u001b[0;34m\u001b[0m\u001b[0;34m\u001b[0m\u001b[0m\n\u001b[1;32m    291\u001b[0m                 \u001b[0;31m# o = b\u001b[0m\u001b[0;34m\u001b[0m\u001b[0;34m\u001b[0m\u001b[0m\n\u001b[0;32m--> 292\u001b[0;31m                 \u001b[0mb\u001b[0m\u001b[0;34m,\u001b[0m \u001b[0me\u001b[0m \u001b[0;34m=\u001b[0m \u001b[0mo\u001b[0m\u001b[0;34m.\u001b[0m\u001b[0mas_base_exp\u001b[0m\u001b[0;34m(\u001b[0m\u001b[0;34m)\u001b[0m\u001b[0;34m\u001b[0m\u001b[0m\n\u001b[0m\u001b[1;32m    293\u001b[0m \u001b[0;34m\u001b[0m\u001b[0m\n\u001b[1;32m    294\u001b[0m                 \u001b[0;31m#  y\u001b[0m\u001b[0;34m\u001b[0m\u001b[0;34m\u001b[0m\u001b[0m\n",
      "\u001b[0;31mTypeError\u001b[0m: as_base_exp() missing 1 required positional argument: 'self'"
     ]
    }
   ],
   "source": [
    "Hsim._update()\n",
    "Hsim.NH"
   ]
  },
  {
   "cell_type": "code",
   "execution_count": 4,
   "metadata": {
    "collapsed": false
   },
   "outputs": [],
   "source": [
    "e,e1 = symbols(\"e_1 e_2\")\n",
    "w,w1 = symbols(\"varpi_1 varpi_2\")\n",
    "exprn=secular_DF(e,e1,w,w1,4)-secular_DF(e,e1,w,w1,2)"
   ]
  },
  {
   "cell_type": "code",
   "execution_count": 59,
   "metadata": {
    "collapsed": false
   },
   "outputs": [
    {
     "data": {
      "image/png": "[encoded data removed]",
      "text/latex": [
       "$$0.265573205564144 e_{1}^{4} - 1.47309734460786 e_{1}^{3} e_{2} \\cos{\\left (\\varpi_{1} - \\varpi_{2} \\right )} + e_{1}^{2} \\left(1.20740504966865 e_{2}^{2} \\cos{\\left (2 \\varpi_{1} - 2 \\varpi_{2} \\right )} + 2.20688896734313 e_{2}^{2}\\right) - 2.50503890980275 e_{1} e_{2}^{3} \\cos{\\left (\\varpi_{1} - \\varpi_{2} \\right )} + 0.994871836512112 e_{2}^{4}$$"
      ],
      "text/plain": [
       "                    4                      3                             2 ⎛  \n",
       "0.265573205564144⋅e₁  - 1.47309734460786⋅e₁ ⋅e₂⋅cos(varpi₁ - varpi₂) + e₁ ⋅⎝1.\n",
       "\n",
       "                 2                                               2⎞           \n",
       "20740504966865⋅e₂ ⋅cos(2⋅varpi₁ - 2⋅varpi₂) + 2.20688896734313⋅e₂ ⎠ - 2.505038\n",
       "\n",
       "              3                                            4\n",
       "90980275⋅e₁⋅e₂ ⋅cos(varpi₁ - varpi₂) + 0.994871836512112⋅e₂ "
      ]
     },
     "execution_count": 59,
     "metadata": {},
     "output_type": "execute_result"
    }
   ],
   "source": [
    "collect(exprn.subs(S('alpha'),0.6).subs(Function('b'),laplace_B),(e,e1))"
   ]
  },
  {
   "cell_type": "code",
   "execution_count": 65,
   "metadata": {
    "collapsed": false
   },
   "outputs": [
    {
     "data": {
      "image/png": "[encoded data removed]",
      "text/latex": [
       "$$0.265573205564144 e_{1}^{4}$$"
      ],
      "text/plain": [
       "                    4\n",
       "0.265573205564144⋅e₁ "
      ]
     },
     "execution_count": 65,
     "metadata": {},
     "output_type": "execute_result"
    }
   ],
   "source": [
    "exprn.subs(e1,0).subs(S('alpha'),0.6).subs(Function('b'),laplace_B)"
   ]
  },
  {
   "cell_type": "code",
   "execution_count": 64,
   "metadata": {
    "collapsed": false
   },
   "outputs": [
    {
     "data": {
      "image/png": "[encoded data removed]",
      "text/latex": [
       "$$\\left [ \\left ( 1, \\quad 0.986763832200498\\right ), \\quad \\left ( 2, \\quad 3.6885898217623\\right ), \\quad \\left ( 3, \\quad 18.1346652127392\\right ), \\quad \\left ( 4, \\quad 141.396755929041\\right )\\right ]$$"
      ],
      "text/plain": [
       "[(1, 0.986763832200498), (2, 3.6885898217623), (3, 18.1346652127392), (4, 141.\n",
       "396755929041)]"
      ]
     },
     "execution_count": 64,
     "metadata": {},
     "output_type": "execute_result"
    }
   ],
   "source": [
    "[(n,laplace_B(1/2,0,n,0.6)) for n in range(1,5)]"
   ]
  },
  {
   "cell_type": "code",
   "execution_count": null,
   "metadata": {
    "collapsed": true
   },
   "outputs": [],
   "source": []
  },
  {
   "cell_type": "code",
   "execution_count": null,
   "metadata": {
    "collapsed": true
   },
   "outputs": [],
   "source": [
    "Hsim."
   ]
  }
 ],
 "metadata": {
  "kernelspec": {
   "display_name": "Python 3",
   "language": "python",
   "name": "python3"
  },
  "language_info": {
   "codemirror_mode": {
    "name": "ipython",
    "version": 3
   },
   "file_extension": ".py",
   "mimetype": "text/x-python",
   "name": "python",
   "nbconvert_exporter": "python",
   "pygments_lexer": "ipython3",
   "version": "3.4.5"
  }
 },
 "nbformat": 4,
 "nbformat_minor": 2
}
