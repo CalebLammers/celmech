{
 "cells": [
  {
   "cell_type": "markdown",
   "metadata": {},
   "source": [
    "# Secular dynamics with celmech"
   ]
  },
  {
   "cell_type": "markdown",
   "metadata": {},
   "source": [
    "Import packages"
   ]
  },
  {
   "cell_type": "code",
   "execution_count": null,
   "metadata": {
    "collapsed": false
   },
   "outputs": [],
   "source": [
    "\n",
    "from celmech.disturbing_function import *\n",
    "from sympy import symbols, init_printing,Function,simplify,collect,cos\n",
    "init_printing()\n",
    "import numpy as np\n",
    "from celmech.poincare import Poincare, PoincareHamiltonian\n",
    "import matplotlib\n",
    "%matplotlib inline"
   ]
  },
  {
   "cell_type": "markdown",
   "metadata": {},
   "source": [
    "## Use sympy to derive a 4th order Laplace expansion of the secular disturbing function:"
   ]
  },
  {
   "cell_type": "code",
   "execution_count": null,
   "metadata": {
    "collapsed": false
   },
   "outputs": [],
   "source": [
    "e1,e2,w1,w2=symbols(\"e1 e2 varpi1 varpi2\")\n",
    "sdf4 = secular_DF(e1,e2,w1,w2,4)"
   ]
  },
  {
   "cell_type": "markdown",
   "metadata": {},
   "source": [
    "Print the symbolic expression with sympy"
   ]
  },
  {
   "cell_type": "code",
   "execution_count": null,
   "metadata": {
    "collapsed": false
   },
   "outputs": [],
   "source": [
    "sdf4"
   ]
  },
  {
   "cell_type": "markdown",
   "metadata": {},
   "source": [
    "Substitute particular values to evaluate for a choice of semi-major axis ratio. Use the celmech routine 'laplace_B' to numerically evaluate Laplace coefficients:"
   ]
  },
  {
   "cell_type": "code",
   "execution_count": null,
   "metadata": {
    "collapsed": false
   },
   "outputs": [],
   "source": [
    "Nalpha = 0.4\n",
    "sdf4.subs([(S('alpha'),Nalpha),(Function('b'),laplace_B)])"
   ]
  },
  {
   "cell_type": "markdown",
   "metadata": {},
   "source": [
    "# Compare N-body with celmech "
   ]
  },
  {
   "cell_type": "markdown",
   "metadata": {},
   "source": [
    "## Set up a Rebound integration"
   ]
  },
  {
   "cell_type": "code",
   "execution_count": null,
   "metadata": {
    "collapsed": false
   },
   "outputs": [],
   "source": [
    "np.random.seed(123)\n",
    "import rebound\n",
    "def make_sim(pratio1,pratio2):\n",
    "    mass = 3.e-5\n",
    "    \n",
    "    e1,e2,e3 = 0.2 * np.random.rand(3) \n",
    "    w1,w2,w3 = 2*np.pi*np.random.rand(3)\n",
    "    \n",
    "    sim = rebound.Simulation()\n",
    "    sim.G = 4*np.pi**2\n",
    "\n",
    "    sim.add(m=1.)\n",
    "    sim.add(m=mass, e=e1, P=1.,pomega=w1)\n",
    "    sim.add(m=mass, e=e2, P=pratio1, pomega=w2)\n",
    "    sim.add(m=mass, e=e3, P=pratio1*pratio2, pomega=w3)\n",
    "    \n",
    "    sim.move_to_com()\n",
    "    return sim     \n",
    "\n",
    "sim=make_sim(np.sqrt(7),np.sqrt(4.3))\n",
    "sim.integrator='whfast'\n",
    "sim.dt=sim.particles[1].P / 25.\n",
    "\n",
    "rebound.plotting.OrbitPlot(sim);"
   ]
  },
  {
   "cell_type": "markdown",
   "metadata": {},
   "source": [
    "## Use Rebound simulation to initalize celmech system in Poincare variables"
   ]
  },
  {
   "cell_type": "code",
   "execution_count": null,
   "metadata": {
    "collapsed": false
   },
   "outputs": [],
   "source": [
    "pvars = Poincare.from_Simulation(sim)\n",
    "Hsim = PoincareHamiltonian(pvars)"
   ]
  },
  {
   "cell_type": "markdown",
   "metadata": {},
   "source": [
    "## Add secular disturbing function terms to 4th order"
   ]
  },
  {
   "cell_type": "markdown",
   "metadata": {},
   "source": [
    "Secular terms are added for each pairwise interaction"
   ]
  },
  {
   "cell_type": "code",
   "execution_count": null,
   "metadata": {
    "collapsed": false
   },
   "outputs": [],
   "source": [
    "Nbodies = Hsim.state.N\n",
    "expand_order=4\n",
    "for i in range(1,Nbodies):\n",
    "    for j in range(i+1,Nbodies):\n",
    "        Hsim.add_secular_terms(i,j,expand_order)"
   ]
  },
  {
   "cell_type": "markdown",
   "metadata": {},
   "source": [
    "Set secular mode to disable (Lambda,lambda) degrees of freedom in Hamiltonian"
   ]
  },
  {
   "cell_type": "code",
   "execution_count": null,
   "metadata": {
    "collapsed": false
   },
   "outputs": [],
   "source": [
    "Hsim.set_secular_mode()"
   ]
  },
  {
   "cell_type": "markdown",
   "metadata": {},
   "source": [
    "## Run the integrations"
   ]
  },
  {
   "cell_type": "code",
   "execution_count": null,
   "metadata": {
    "collapsed": false
   },
   "outputs": [],
   "source": [
    "tFin,Nout= 4e5,500\n",
    "times= np.linspace(0,tFin,Nout)\n",
    "rebound_ecc = np.zeros((3,Nout))\n",
    "celmech_ecc = np.zeros((3,Nout))\n",
    "for i,t in enumerate(times):\n",
    "    for j in range(1,sim.N):\n",
    "        celmech_ecc[j-1,i] = Hsim.state.particles[j].eccentricity\n",
    "        rebound_ecc[j-1,i] = sim.particles[j].e\n",
    "    Hsim.integrate(t)\n",
    "    sim.integrate(t)\n",
    "\n"
   ]
  },
  {
   "cell_type": "markdown",
   "metadata": {},
   "source": [
    "## Compare results"
   ]
  },
  {
   "cell_type": "code",
   "execution_count": null,
   "metadata": {
    "collapsed": false
   },
   "outputs": [],
   "source": [
    "import matplotlib.pyplot as plt\n",
    "%matplotlib inline\n",
    "fig,ax = plt.subplots(1,figsize=(10,5))\n",
    "for i,col in enumerate(['k','r','b']):\n",
    "    ax.plot(times,rebound_ecc[i],'%s'%col,label='Nbody,planet %d'%(i+1))\n",
    "    ax.plot(times,celmech_ecc[i],'%s-.'%col,label='celmech,planet %d'%(i+1))\n",
    "\n",
    "ax.set_xlabel('Time [planet 1 orbits]')\n",
    "ax.set_ylabel('Eccentricity')\n",
    "ax.legend()\n"
   ]
  },
  {
   "cell_type": "code",
   "execution_count": null,
   "metadata": {
    "collapsed": true
   },
   "outputs": [],
   "source": []
  }
 ],
 "metadata": {
  "kernelspec": {
   "display_name": "Python 3",
   "language": "python",
   "name": "python3"
  },
  "language_info": {
   "codemirror_mode": {
    "name": "ipython",
    "version": 3
   },
   "file_extension": ".py",
   "mimetype": "text/x-python",
   "name": "python",
   "nbconvert_exporter": "python",
   "pygments_lexer": "ipython3",
   "version": "3.4.5"
  }
 },
 "nbformat": 4,
 "nbformat_minor": 2
}
