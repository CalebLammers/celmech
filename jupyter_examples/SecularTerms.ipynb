{
 "cells": [
  {
   "cell_type": "code",
   "execution_count": 1,
   "metadata": {
    "collapsed": true
   },
   "outputs": [],
   "source": [
    "from celmech.disturbing_function import *"
   ]
  },
  {
   "cell_type": "code",
   "execution_count": 2,
   "metadata": {
    "collapsed": false
   },
   "outputs": [],
   "source": [
    "from sympy import symbols, init_printing, Function,simplify,collect,cos\n",
    "init_printing()"
   ]
  },
  {
   "cell_type": "code",
   "execution_count": 3,
   "metadata": {
    "collapsed": true
   },
   "outputs": [],
   "source": [
    "import numpy as np"
   ]
  },
  {
   "cell_type": "code",
   "execution_count": 58,
   "metadata": {
    "collapsed": false
   },
   "outputs": [],
   "source": [
    "e,e1 = symbols(\"e_1 e_2\")\n",
    "w,w1 = symbols(\"varpi_1 varpi_2\")\n",
    "exprn=secular_DF(e,e1,w,w1,4)-secular_DF(e,e1,w,w1,2)"
   ]
  },
  {
   "cell_type": "code",
   "execution_count": 59,
   "metadata": {
    "collapsed": false
   },
   "outputs": [
    {
     "data": {
      "image/png": "[encoded data removed]",
      "text/latex": [
       "$$0.265573205564144 e_{1}^{4} - 1.47309734460786 e_{1}^{3} e_{2} \\cos{\\left (\\varpi_{1} - \\varpi_{2} \\right )} + e_{1}^{2} \\left(1.20740504966865 e_{2}^{2} \\cos{\\left (2 \\varpi_{1} - 2 \\varpi_{2} \\right )} + 2.20688896734313 e_{2}^{2}\\right) - 2.50503890980275 e_{1} e_{2}^{3} \\cos{\\left (\\varpi_{1} - \\varpi_{2} \\right )} + 0.994871836512112 e_{2}^{4}$$"
      ],
      "text/plain": [
       "                    4                      3                             2 ⎛  \n",
       "0.265573205564144⋅e₁  - 1.47309734460786⋅e₁ ⋅e₂⋅cos(varpi₁ - varpi₂) + e₁ ⋅⎝1.\n",
       "\n",
       "                 2                                               2⎞           \n",
       "20740504966865⋅e₂ ⋅cos(2⋅varpi₁ - 2⋅varpi₂) + 2.20688896734313⋅e₂ ⎠ - 2.505038\n",
       "\n",
       "              3                                            4\n",
       "90980275⋅e₁⋅e₂ ⋅cos(varpi₁ - varpi₂) + 0.994871836512112⋅e₂ "
      ]
     },
     "execution_count": 59,
     "metadata": {},
     "output_type": "execute_result"
    }
   ],
   "source": [
    "collect(exprn.subs(S('alpha'),0.6).subs(Function('b'),laplace_B),(e,e1))"
   ]
  },
  {
   "cell_type": "code",
   "execution_count": 65,
   "metadata": {
    "collapsed": false
   },
   "outputs": [
    {
     "data": {
      "image/png": "[encoded data removed]",
      "text/latex": [
       "$$0.265573205564144 e_{1}^{4}$$"
      ],
      "text/plain": [
       "                    4\n",
       "0.265573205564144⋅e₁ "
      ]
     },
     "execution_count": 65,
     "metadata": {},
     "output_type": "execute_result"
    }
   ],
   "source": [
    "exprn.subs(e1,0).subs(S('alpha'),0.6).subs(Function('b'),laplace_B)"
   ]
  },
  {
   "cell_type": "code",
   "execution_count": 64,
   "metadata": {
    "collapsed": false
   },
   "outputs": [
    {
     "data": {
      "image/png": "[encoded data removed]",
      "text/latex": [
       "$$\\left [ \\left ( 1, \\quad 0.986763832200498\\right ), \\quad \\left ( 2, \\quad 3.6885898217623\\right ), \\quad \\left ( 3, \\quad 18.1346652127392\\right ), \\quad \\left ( 4, \\quad 141.396755929041\\right )\\right ]$$"
      ],
      "text/plain": [
       "[(1, 0.986763832200498), (2, 3.6885898217623), (3, 18.1346652127392), (4, 141.\n",
       "396755929041)]"
      ]
     },
     "execution_count": 64,
     "metadata": {},
     "output_type": "execute_result"
    }
   ],
   "source": [
    "[(n,laplace_B(1/2,0,n,0.6)) for n in range(1,5)]"
   ]
  },
  {
   "cell_type": "code",
   "execution_count": 50,
   "metadata": {
    "collapsed": false
   },
   "outputs": [],
   "source": [
    "from sympy import elliptic_k,diff,pi"
   ]
  },
  {
   "cell_type": "code",
   "execution_count": 53,
   "metadata": {
    "collapsed": false
   },
   "outputs": [
    {
     "data": {
      "image/png": "[encoded data removed]",
      "text/latex": [
       "$$0$$"
      ],
      "text/plain": [
       "0"
      ]
     },
     "execution_count": 53,
     "metadata": {},
     "output_type": "execute_result"
    }
   ],
   "source": [
    "sin(pi)"
   ]
  },
  {
   "cell_type": "code",
   "execution_count": 49,
   "metadata": {
    "collapsed": true
   },
   "outputs": [],
   "source": [
    "?diff"
   ]
  },
  {
   "cell_type": "code",
   "execution_count": null,
   "metadata": {
    "collapsed": true
   },
   "outputs": [],
   "source": []
  },
  {
   "cell_type": "code",
   "execution_count": null,
   "metadata": {
    "collapsed": true
   },
   "outputs": [],
   "source": []
  },
  {
   "cell_type": "code",
   "execution_count": 62,
   "metadata": {
    "collapsed": false
   },
   "outputs": [
    {
     "data": {
      "image/png": "[encoded data removed]",
      "text/latex": [
       "$$0$$"
      ],
      "text/plain": [
       "0"
      ]
     },
     "execution_count": 62,
     "metadata": {},
     "output_type": "execute_result"
    }
   ],
   "source": [
    "S.Zero"
   ]
  },
  {
   "cell_type": "code",
   "execution_count": 63,
   "metadata": {
    "collapsed": true
   },
   "outputs": [],
   "source": [
    "class laplace_B(Function):\n",
    "    nargs=4\n",
    "    @classmethod\n",
    "    def eval(cls, s,j,n,alpha):\n",
    "        # laplace coeffcients don't evaluate well with the C code\n",
    "        # for large n, therefore I've substituted the exact expression\n",
    "        # in terms of the elliptic K function when j=0\n",
    "        if j is S.Zero:\n",
    "            exprn = 4 / np.pi * diff(elliptic_k(x*x),x,n)\n",
    "            return exprn.subs(x,alpha)\n",
    "        else:\n",
    "            return Function('b')\n",
    "        "
   ]
  }
 ],
 "metadata": {
  "kernelspec": {
   "display_name": "Python 3",
   "language": "python",
   "name": "python3"
  },
  "language_info": {
   "codemirror_mode": {
    "name": "ipython",
    "version": 3
   },
   "file_extension": ".py",
   "mimetype": "text/x-python",
   "name": "python",
   "nbconvert_exporter": "python",
   "pygments_lexer": "ipython3",
   "version": "3.4.5"
  }
 },
 "nbformat": 4,
 "nbformat_minor": 2
}
