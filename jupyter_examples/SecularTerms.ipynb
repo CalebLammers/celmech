{
 "cells": [
  {
   "cell_type": "code",
   "execution_count": 1,
   "metadata": {
    "collapsed": true
   },
   "outputs": [],
   "source": [
    "from celmech.disturbing_function import *"
   ]
  },
  {
   "cell_type": "code",
   "execution_count": 9,
   "metadata": {
    "collapsed": false
   },
   "outputs": [],
   "source": [
    "from sympy import symbols, init_printing\n",
    "init_printing()"
   ]
  },
  {
   "cell_type": "code",
   "execution_count": 2,
   "metadata": {
    "collapsed": true
   },
   "outputs": [],
   "source": [
    "import numpy as np"
   ]
  },
  {
   "cell_type": "code",
   "execution_count": 26,
   "metadata": {
    "collapsed": false
   },
   "outputs": [
    {
     "data": {
      "image/png": "[encoded data removed]",
      "text/latex": [
       "$$\\frac{\\alpha^{2} e_{1}^{2}}{4} b{\\left (\\frac{1}{2},0,2 \\right )} - \\frac{e_{1} e_{2}}{4} \\alpha^{2} b{\\left (\\frac{1}{2},1,2 \\right )} \\cos{\\left (\\varpi_{1} - \\varpi_{2} \\right )} + \\frac{\\alpha^{2} e_{2}^{2}}{4} b{\\left (\\frac{1}{2},0,2 \\right )} + \\frac{\\alpha e_{1}^{2}}{2} b{\\left (\\frac{1}{2},0,1 \\right )} - \\frac{\\alpha e_{1}}{2} e_{2} b{\\left (\\frac{1}{2},1,1 \\right )} \\cos{\\left (\\varpi_{1} - \\varpi_{2} \\right )} + \\frac{\\alpha e_{2}^{2}}{2} b{\\left (\\frac{1}{2},0,1 \\right )} + \\frac{e_{1} e_{2}}{2} b{\\left (\\frac{1}{2},1,0 \\right )} \\cos{\\left (\\varpi_{1} - \\varpi_{2} \\right )} + b{\\left (\\frac{1}{2},0,0 \\right )}$$"
      ],
      "text/plain": [
       " 2   2                 2                                            2   2     \n",
       "α ⋅e₁ ⋅b(1/2, 0, 2)   α ⋅e₁⋅e₂⋅b(1/2, 1, 2)⋅cos(varpi₁ - varpi₂)   α ⋅e₂ ⋅b(1/\n",
       "─────────────────── - ────────────────────────────────────────── + ───────────\n",
       "         4                                4                                 4 \n",
       "\n",
       "               2                                                              \n",
       "2, 0, 2)   α⋅e₁ ⋅b(1/2, 0, 1)   α⋅e₁⋅e₂⋅b(1/2, 1, 1)⋅cos(varpi₁ - varpi₂)   α⋅\n",
       "──────── + ────────────────── - ───────────────────────────────────────── + ──\n",
       "                   2                                2                         \n",
       "\n",
       "  2                                                                      \n",
       "e₂ ⋅b(1/2, 0, 1)   e₁⋅e₂⋅b(1/2, 1, 0)⋅cos(varpi₁ - varpi₂)               \n",
       "──────────────── + ─────────────────────────────────────── + b(1/2, 0, 0)\n",
       "      2                               2                                  "
      ]
     },
     "execution_count": 26,
     "metadata": {},
     "output_type": "execute_result"
    }
   ],
   "source": [
    "e,e1 = symbols(\"e_1 e_2\")\n",
    "w,w1 = symbols(\"varpi_1 varpi_2\")\n",
    "secular_DF(e,e1,w,w1,2)"
   ]
  },
  {
   "cell_type": "code",
   "execution_count": 27,
   "metadata": {
    "collapsed": true
   },
   "outputs": [],
   "source": [
    "?laplace_coefficient"
   ]
  },
  {
   "cell_type": "code",
   "execution_count": 29,
   "metadata": {
    "collapsed": false
   },
   "outputs": [
    {
     "data": {
      "image/png": "[encoded data removed]",
      "text/latex": [
       "$$1.3278923355355101$$"
      ],
      "text/plain": [
       "1.3278923355355101"
      ]
     },
     "execution_count": 29,
     "metadata": {},
     "output_type": "execute_result"
    }
   ],
   "source": [
    "laplace_coefficient(1/2,0,2,0.6)"
   ]
  },
  {
   "cell_type": "code",
   "execution_count": null,
   "metadata": {
    "collapsed": true
   },
   "outputs": [],
   "source": []
  }
 ],
 "metadata": {
  "kernelspec": {
   "display_name": "Python 3",
   "language": "python",
   "name": "python3"
  },
  "language_info": {
   "codemirror_mode": {
    "name": "ipython",
    "version": 3
   },
   "file_extension": ".py",
   "mimetype": "text/x-python",
   "name": "python",
   "nbconvert_exporter": "python",
   "pygments_lexer": "ipython3",
   "version": "3.4.5"
  }
 },
 "nbformat": 4,
 "nbformat_minor": 2
}
