{
 "cells": [
  {
   "cell_type": "code",
   "execution_count": null,
   "metadata": {
    "collapsed": false
   },
   "outputs": [],
   "source": [
    "from sympy import symbols, init_printing\n",
    "init_printing()\n",
    "from celmech.hamiltonian import AndoyerHamiltonian\n",
    "from celmech.transformations import poincare_vars_to_andoyer_vars, poincare_vars_from_sim\n",
    "from celmech.transformations import jacobi_masses_from_sim, get_andoyer_params\n",
    "from celmech.transformations import andoyer_vars_to_poincare_vars, andoyer_vars_from_sim"
   ]
  },
  {
   "cell_type": "code",
   "execution_count": null,
   "metadata": {
    "collapsed": true
   },
   "outputs": [],
   "source": [
    "import rebound\n",
    "import numpy as np\n",
    "\n",
    "def make_sim(j, k):\n",
    "    mass = 1.e-5\n",
    "    e0 = 0.1 # initial eccentricity of planets\n",
    "    \n",
    "    sim = rebound.Simulation()\n",
    "    sim.G = 4*np.pi**2\n",
    "    sim.add(m=1.)\n",
    "    sim.add(m=mass, e=e0, pomega = np.pi/2., P=1., theta=np.pi)\n",
    "    sim.add(m=2*mass, e=1.e-5, pomega=0., P=j/float(j-k))\n",
    "    sim.move_to_com()\n",
    "    return sim\n",
    "\n",
    "j=7\n",
    "k=2\n",
    "sim = make_sim(j,k)"
   ]
  },
  {
   "cell_type": "code",
   "execution_count": null,
   "metadata": {
    "collapsed": false
   },
   "outputs": [],
   "source": [
    "sim = make_sim(j,k)\n",
    "ps = sim.particles\n",
    "a10 = ps[1].a\n",
    "a20 = ps[2].a\n",
    "\n",
    "andvars, params = andoyer_vars_from_sim(sim, j, k, a10, a20, average_synodic_terms=True)\n",
    "Phi0, phi0, W0, w0, B0, K0, A0, B0, C0 = andvars\n",
    "Phiscale, timescale, Phiprime = params\n",
    "Hsim = AndoyerHamiltonian(k, Phiprime, Phi0, phi0)\n",
    "\n",
    "Norbits = 3000\n",
    "Nout = 1000\n",
    "tmax = Norbits*sim.particles[1].P\n",
    "times = np.linspace(0, tmax, Nout)\n",
    "symtimes = times/abs(timescale)\n",
    "\n",
    "Nsol = np.zeros((2, Nout))\n",
    "symsol = np.zeros((2, Nout))\n",
    "pratio, BrouwerErr, WErr, Ks = np.zeros(Nout), np.zeros(Nout), np.zeros(Nout), np.zeros(Nout)\n",
    "\n",
    "for i, time in enumerate(times):\n",
    "    pratio[i] = ps[2].P/ps[1].P\n",
    "    andvars, params = andoyer_vars_from_sim(sim, j, k, a10, a20, average_synodic_terms=True)\n",
    "    Phi, phi, W, w, B, K, A, B, C = andvars\n",
    "    BrouwerErr[i] = abs((B-B0)/B0)\n",
    "    WErr[i] = abs((W-W0)/W0)\n",
    "    Ks[i] = K\n",
    "\n",
    "    symsol[:,i] = Hsim.integrator.y\n",
    "    Nsol[:,i] = [Phi, phi]\n",
    "\n",
    "    sim.integrate(np.sign(timescale)*time)    \n",
    "    Hsim.integrate(symtimes[i])"
   ]
  },
  {
   "cell_type": "code",
   "execution_count": null,
   "metadata": {
    "collapsed": false
   },
   "outputs": [],
   "source": [
    "Hsim.NH"
   ]
  },
  {
   "cell_type": "code",
   "execution_count": null,
   "metadata": {
    "collapsed": false
   },
   "outputs": [],
   "source": [
    "%matplotlib inline\n",
    "import matplotlib.pyplot as plt\n",
    "\n",
    "ax = plt.subplot('111', projection='polar')\n",
    "ax.plot(Nsol[1,:], Nsol[0,:], label='Nbody')\n",
    "ax.plot(symsol[1,:], symsol[0,:], label='Symbolic')\n",
    "ax.legend()"
   ]
  },
  {
   "cell_type": "code",
   "execution_count": null,
   "metadata": {
    "collapsed": false
   },
   "outputs": [],
   "source": [
    "%matplotlib inline\n",
    "import matplotlib.pyplot as plt\n",
    "\n",
    "fig, axarr = plt.subplots(figsize=(15,10), nrows=3)\n",
    "axarr[0].plot(times, BrouwerErr, '.')\n",
    "axarr[1].plot(times, WErr, '.')\n",
    "axarr[2].plot(times, Ks, '.')"
   ]
  }
 ],
 "metadata": {
  "kernelspec": {
   "display_name": "Python 3",
   "language": "python",
   "name": "python3"
  },
  "language_info": {
   "codemirror_mode": {
    "name": "ipython",
    "version": 3
   },
   "file_extension": ".py",
   "mimetype": "text/x-python",
   "name": "python",
   "nbconvert_exporter": "python",
   "pygments_lexer": "ipython3",
   "version": "3.5.1"
  }
 },
 "nbformat": 4,
 "nbformat_minor": 2
}
