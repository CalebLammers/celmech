{
 "cells": [
  {
   "cell_type": "code",
   "execution_count": 1,
   "id": "751f137e",
   "metadata": {},
   "outputs": [],
   "source": [
    "import numpy as np\n",
    "from celmech.hamiltonian import Hamiltonian,PhaseSpaceState\n",
    "from sympy import symbols,cos,sqrt"
   ]
  },
  {
   "cell_type": "code",
   "execution_count": 2,
   "id": "c6c20153",
   "metadata": {},
   "outputs": [
    {
     "data": {
      "text/latex": [
       "$\\displaystyle g l m \\left(1 - \\cos{\\left(\\theta \\right)}\\right) + \\frac{p^{2}}{2 l^{2} m}$"
      ],
      "text/plain": [
       "                        2  \n",
       "                       p   \n",
       "g⋅l⋅m⋅(1 - cos(θ)) + ──────\n",
       "                        2  \n",
       "                     2⋅l ⋅m"
      ]
     },
     "execution_count": 2,
     "metadata": {},
     "output_type": "execute_result"
    }
   ],
   "source": [
    "p,theta,m,g,l=symbols(\"p,theta,m,g,l\")\n",
    "H = p*p/2/(m*l*l) + (m*g*l) * (1 - cos(theta))\n",
    "H"
   ]
  },
  {
   "cell_type": "code",
   "execution_count": 3,
   "id": "f038b667",
   "metadata": {},
   "outputs": [],
   "source": [
    "theta0,p0=np.pi/2,0\n",
    "state = PhaseSpaceState([theta,p],[theta0,p0])\n",
    "pars=dict()\n",
    "pars[g]=9.8\n",
    "pars[l] = 1\n",
    "pars[m] = 0.15\n",
    "ham = Hamiltonian(H,pars,state)"
   ]
  },
  {
   "cell_type": "code",
   "execution_count": 4,
   "id": "8ffe1f89",
   "metadata": {},
   "outputs": [
    {
     "data": {
      "text/latex": [
       "$\\displaystyle g l m \\left(1 - \\cos{\\left(\\theta \\right)}\\right) + \\frac{p^{2}}{2 l^{2} m}$"
      ],
      "text/plain": [
       "                        2  \n",
       "                       p   \n",
       "g⋅l⋅m⋅(1 - cos(θ)) + ──────\n",
       "                        2  \n",
       "                     2⋅l ⋅m"
      ]
     },
     "execution_count": 4,
     "metadata": {},
     "output_type": "execute_result"
    }
   ],
   "source": [
    "# symbolic hamiltonian\n",
    "ham.H"
   ]
  },
  {
   "cell_type": "code",
   "execution_count": 5,
   "id": "b3885c35",
   "metadata": {},
   "outputs": [
    {
     "data": {
      "text/latex": [
       "$\\displaystyle 3.33333333333333 p^{2} - 1.47 \\cos{\\left(\\theta \\right)} + 1.47$"
      ],
      "text/plain": [
       "                  2                     \n",
       "3.33333333333333⋅p  - 1.47⋅cos(θ) + 1.47"
      ]
     },
     "execution_count": 5,
     "metadata": {},
     "output_type": "execute_result"
    }
   ],
   "source": [
    "# numeric hamiltonian\n",
    "ham.N_H"
   ]
  },
  {
   "cell_type": "code",
   "execution_count": 6,
   "id": "a3eeee4d",
   "metadata": {},
   "outputs": [
    {
     "data": {
      "text/latex": [
       "$\\displaystyle \\left[ \\left( \\theta, \\  6.66666666666667 p\\right), \\  \\left( p, \\  - 1.47 \\sin{\\left(\\theta \\right)}\\right)\\right]$"
      ],
      "text/plain": [
       "[(θ, 6.66666666666667⋅p), (p, -1.47⋅sin(θ))]"
      ]
     },
     "metadata": {},
     "output_type": "display_data"
    }
   ],
   "source": [
    "# canonical variables and their time derivatives\n",
    "display([(var,ham.N_Lie_deriv(var)) for var in ham.qp_vars])"
   ]
  },
  {
   "cell_type": "code",
   "execution_count": 7,
   "id": "bedb34a9",
   "metadata": {},
   "outputs": [],
   "source": [
    "ham.integrator.set_integrator('vode',method='adams')\n",
    "\n",
    "omega0 = float(sqrt(g/l).subs(ham.H_params))\n",
    "T0 = 2 * np.pi / omega0\n",
    "times  = np.linspace(0,4*T0,100)\n",
    "soln = np.zeros((len(times),len(state.values)))\n",
    "\n",
    "for i,t in enumerate(times):\n",
    "    # Double the length of of the pendulum at the  50th step\n",
    "    if i==50:\n",
    "        ham.H_params[l] *= 2\n",
    "    ham.integrate(t)\n",
    "    soln[i]=ham.state.values"
   ]
  },
  {
   "cell_type": "code",
   "execution_count": 8,
   "id": "85641bc1",
   "metadata": {},
   "outputs": [
    {
     "data": {
      "text/plain": [
       "<matplotlib.lines.Line2D at 0x7fbc5b2cd8b0>"
      ]
     },
     "execution_count": 8,
     "metadata": {},
     "output_type": "execute_result"
    },
    {
     "data": {
      "image/png": "[encoded data removed]",
      "text/plain": [
       "<Figure size 432x288 with 2 Axes>"
      ]
     },
     "metadata": {
      "needs_background": "light"
     },
     "output_type": "display_data"
    }
   ],
   "source": [
    "from matplotlib import pyplot as plt\n",
    "fig,ax = plt.subplots(2,1,sharex=True)\n",
    "ax[0].plot(times,soln[:,0])\n",
    "ax[0].set_ylabel(r\"$\\theta$\")\n",
    "ax[1].plot(times,soln[:,1],label=\"$p$\")\n",
    "ax[1].set_ylabel(r\"$p$\")\n",
    "ax[1].set_xlabel(\"Time\")\n",
    "plt.axvline(times[50],ls='--',color='k')"
   ]
  },
  {
   "cell_type": "markdown",
   "id": "16d019cb",
   "metadata": {},
   "source": [
    " "
   ]
  }
 ],
 "metadata": {
  "kernelspec": {
   "display_name": "Python 3 (ipykernel)",
   "language": "python",
   "name": "python3"
  },
  "language_info": {
   "codemirror_mode": {
    "name": "ipython",
    "version": 3
   },
   "file_extension": ".py",
   "mimetype": "text/x-python",
   "name": "python",
   "nbconvert_exporter": "python",
   "pygments_lexer": "ipython3",
   "version": "3.9.7"
  }
 },
 "nbformat": 4,
 "nbformat_minor": 5
}
