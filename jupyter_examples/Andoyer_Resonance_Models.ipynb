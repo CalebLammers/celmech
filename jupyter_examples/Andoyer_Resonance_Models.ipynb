{
 "cells": [
  {
   "cell_type": "code",
   "execution_count": null,
   "metadata": {
    "collapsed": true
   },
   "outputs": [],
   "source": [
    "from sympy import init_printing\n",
    "init_printing()"
   ]
  },
  {
   "cell_type": "markdown",
   "metadata": {},
   "source": [
    "# The 'Andoyer' model for Resonance\n",
    "The 'Andoyer' class of Hamiltonians provide models for $k$th-order mean motion resonance (e.g. Ferraz-Mello 2007). After a long slog of canoncial tranformations, one can show that the resonant dynamics of a pair of planets is governed by a Hamiltonian of the form:\n",
    "\\begin{equation}\n",
    "H_{k}(\\Phi,\\phi;\\alpha) = 4\\Phi^2-3\\alpha\\Phi +(\\sqrt{2\\Phi})^{k/2}\\cos\\phi \n",
    "\\end{equation}\n",
    "where \n",
    "\\begin{eqnarray}\n",
    "\\Phi&\\propto& \\Delta a /a_\\text{res.} \\\\\n",
    "\\phi&=&j\\lambda_{out} - (j-k)\\lambda_{in} - k\\varpi\\\\\n",
    "\\alpha &\\propto& <e^2>\n",
    "\\end{eqnarray}.\n",
    " These models offer the simplicity of a one-parameter Hamiltonian with a single degree of freedom. However, translating these models to and from orbital elements can be tedious. Luckily, celmech can do it for you!"
   ]
  },
  {
   "cell_type": "code",
   "execution_count": null,
   "metadata": {
    "collapsed": false
   },
   "outputs": [],
   "source": [
    "from celmech import Andoyer, AndoyerHamiltonian"
   ]
  },
  {
   "cell_type": "markdown",
   "metadata": {},
   "source": [
    "The code below sets up an interactive interface for integrating 'Andoyer' models"
   ]
  },
  {
   "cell_type": "code",
   "execution_count": null,
   "metadata": {
    "collapsed": true
   },
   "outputs": [],
   "source": [
    "%matplotlib notebook\n",
    "import matplotlib.pyplot as plt\n",
    "import numpy as np\n",
    "\n",
    "def wrap(val):\n",
    "    while val < 0:\n",
    "        val += 2*np.pi\n",
    "    while val > 2*np.pi:\n",
    "        val -= 2*np.pi\n",
    "    return val\n",
    "\n",
    "npwrap = np.vectorize(wrap)\n",
    "\n",
    "class Clicker(object):\n",
    "    def __init__(self,j,k, Phiprime, projection=None):\n",
    "        self.ax = plt.subplot('111', projection=projection)\n",
    "        self.j = j\n",
    "        self.k = k\n",
    "        self.Phiprime = Phiprime\n",
    "        self.projection = projection\n",
    "        self.cid = self.ax.figure.canvas.mpl_connect('button_press_event', self)\n",
    "\n",
    "    def __call__(self, event):\n",
    "        phi = event.xdata\n",
    "        Phi = event.ydata\n",
    "        if Phi < 0:\n",
    "            return\n",
    "        andvars = Andoyer(self.j,self.k,Phi,phi,Phiprime=self.Phiprime,G=4*np.pi*np.pi) # could choose any j\n",
    "        self.andvars = andvars\n",
    "        H = AndoyerHamiltonian(andvars)\n",
    "        tmax=100\n",
    "        Nout = 1000\n",
    "        times = np.linspace(0, tmax, Nout)\n",
    "        Phi, phi = np.zeros(Nout), np.zeros(Nout)\n",
    "        for i, time in enumerate(times):\n",
    "            H.integrate(time)\n",
    "            Phi[i] = H.state.Phi\n",
    "            phi[i] = H.state.phi\n",
    "        if self.projection is None:\n",
    "            self.ax.plot(npwrap(phi), Phi, 'r.')\n",
    "            \n",
    "        else:\n",
    "            self.ax.plot(phi, Phi, 'r.')\n",
    "            ax.set_rlim(0,2*self.Phiprime)"
   ]
  },
  {
   "cell_type": "markdown",
   "metadata": {},
   "source": [
    "# Click to simulate a simple resonance model"
   ]
  },
  {
   "cell_type": "code",
   "execution_count": null,
   "metadata": {
    "collapsed": false
   },
   "outputs": [],
   "source": [
    "resonance,res_order = 5,2\n",
    "alpha = 7.5\n",
    "clicker=Clicker(5,2,alpha) \n",
    "import matplotlib.lines as mlines\n",
    "red_line = mlines.Line2D([], [], color='red', marker='.',\n",
    "                          markersize=15, label='Andoyer model')\n",
    "black_line = mlines.Line2D([], [], color='black', marker='.',\n",
    "                          markersize=15, label='N-body')\n",
    "plt.legend(handles=[red_line,black_line])\n",
    "\n",
    "plt.show()\n",
    "\n",
    "clicker.ax.set_xlim(0,2*np.pi)\n",
    "clicker.ax.set_ylim(0,7)\n",
    "clicker.ax.set_xlabel('$\\phi$',fontsize=18)\n",
    "clicker.ax.set_ylabel('$\\Phi$',fontsize=18)\n",
    "clicker.ax.set_title(\"$\\\\alpha$=%.2f\"%(alpha))"
   ]
  },
  {
   "cell_type": "markdown",
   "metadata": {},
   "source": [
    "# Use canonical transformations to generate N-body integrations!\n",
    "\n",
    "\n",
    "Initialize N-body integrations directly from  ($\\Phi,\\phi$) phase space\n",
    "\n",
    "Run integrations and transform them back\n",
    "\n",
    "Works for 1st, 2nd and 3rd order resonances.\n",
    "\n",
    "Applies for general 2-planet system (i.e., no restriction to circular/test-particle case!)\n",
    "\n",
    "## Run an N-body integration initialzed from the last trajectory clicked"
   ]
  },
  {
   "cell_type": "code",
   "execution_count": null,
   "metadata": {
    "collapsed": false
   },
   "outputs": [],
   "source": [
    "j,k,a10=clicker.andvars.params['j'],clicker.andvars.params['k'],clicker.andvars.params['a10']\n",
    "sim=clicker.andvars.to_Simulation();\n",
    "tFin,Nout = 1 * abs(clicker.andvars.params['tau']) , 400\n",
    "times = np.linspace(0,tFin,Nout)\n",
    "NPhi,Nphi=np.zeros((2,Nout))\n",
    "orbits=np.zeros((2,4,Nout))\n",
    "for i,t in enumerate(times):\n",
    "    NPhi[i] = Andoyer.from_Simulation(sim,j,k,a10).Phi\n",
    "    Nphi[i] = Andoyer.from_Simulation(sim,j,k,a10).phi\n",
    "    orbs=sim.calculate_orbits()\n",
    "    orbits[0,:,i] = orbs[0].a,orbs[0].e,orbs[0].l,orbs[0].pomega\n",
    "    orbits[1,:,i] = orbs[1].a,orbs[1].e,orbs[1].l,orbs[1].pomega\n",
    "    sim.integrate(t)\n",
    "\n",
    "clicker.ax.plot(npwrap(Nphi),NPhi,'k.')\n",
    "fig,ax = plt.subplots(1)\n",
    "ax.plot(times,orbits[0,1],label='Planet 1')\n",
    "ax.plot(times,orbits[1,1],label='Planet 2')\n",
    "ax.set_xlabel('Time',fontsize=18)\n",
    "ax.set_ylabel('Eccentricity',fontsize=18)"
   ]
  },
  {
   "cell_type": "code",
   "execution_count": null,
   "metadata": {
    "collapsed": true
   },
   "outputs": [],
   "source": []
  }
 ],
 "metadata": {
  "kernelspec": {
   "display_name": "Python 2",
   "language": "python",
   "name": "python2"
  },
  "language_info": {
   "codemirror_mode": {
    "name": "ipython",
    "version": 2
   },
   "file_extension": ".py",
   "mimetype": "text/x-python",
   "name": "python",
   "nbconvert_exporter": "python",
   "pygments_lexer": "ipython2",
   "version": "2.7.13"
  }
 },
 "nbformat": 4,
 "nbformat_minor": 2
}
