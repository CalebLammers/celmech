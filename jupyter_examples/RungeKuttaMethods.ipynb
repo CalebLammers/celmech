{
 "cells": [
  {
   "cell_type": "code",
   "execution_count": 1,
   "metadata": {
    "collapsed": true
   },
   "outputs": [],
   "source": [
    "import rebound as rb\n",
    "from celmech.symplectic_evolution_operators import SecularDFTermsEvolutionOperator\n",
    "from celmech.secular import SecularSystemSimulation,LaplaceLagrangeSystem\n",
    "import numpy as np\n",
    "from celmech.nbody_simulation_utilities import align_simulation\n",
    "from celmech import Poincare,PoincareHamiltonian\n",
    "from celmech.disturbing_function import SecularTermsList\n",
    "from sympy import S\n",
    "import matplotlib.pyplot as plt"
   ]
  },
  {
   "cell_type": "code",
   "execution_count": 2,
   "metadata": {
    "collapsed": true
   },
   "outputs": [],
   "source": [
    "def get_sim(scale= 0.05,Nplanet = 2):\n",
    "    sim = rb.Simulation()\n",
    "    sim.add(m=1)\n",
    "    for i in range(1,Nplanet+1):\n",
    "        sim.add(m=i * 1e-5 , a = 2**i, \n",
    "                e = np.random.rayleigh(scale),\n",
    "                inc = np.random.rayleigh(scale),\n",
    "                l = 'uniform',\n",
    "                pomega = 'uniform',\n",
    "                Omega = 'uniform'\n",
    "               )\n",
    "    sim.move_to_com()\n",
    "    align_simulation(sim)\n",
    "    return sim\n"
   ]
  },
  {
   "cell_type": "code",
   "execution_count": 3,
   "metadata": {
    "collapsed": true
   },
   "outputs": [],
   "source": [
    "def get_relative_energy_error(dfOp,qp0,method,h,T,rtol = 1e-15):\n",
    "    dfOp.rkmethod = method\n",
    "    dfOp.rtol = rtol\n",
    "    dfOp.dt = h\n",
    "    E0 = dfOp.Hamiltonian_from_qp_vec(qp0)\n",
    "    Nsteps = int(np.ceil(T / h))\n",
    "    qp = qp0.copy()\n",
    "    for _ in xrange(Nsteps):\n",
    "        qp = dfOp.implicit_rk_step(qp)\n",
    "    Ef = dfOp.Hamiltonian_from_qp_vec(qp)\n",
    "    return np.abs((E0-Ef)/E0)"
   ]
  },
  {
   "cell_type": "code",
   "execution_count": 4,
   "metadata": {
    "collapsed": true
   },
   "outputs": [],
   "source": [
    "sim = get_sim()\n",
    "pvars = Poincare.from_Simulation(sim)\n",
    "pham = PoincareHamiltonian(pvars)\n",
    "llsys = LaplaceLagrangeSystem.from_Poincare(pvars)\n",
    "Tsec = llsys.Tsec\n",
    "dfOp = SecularDFTermsEvolutionOperator.fromOrderRange(pvars,Tsec / 100,2,4,max_iter = 25,rtol = 1.e-15)\n",
    "state_vec = pham.state_to_list(pvars)\n",
    "qpvec0 = dfOp.state_vec_to_qp_vec(state_vec)\n",
    "\n",
    "\n",
    "terms_list = SecularTermsList(2,2)\n",
    "for i in range(1,pvars.N):\n",
    "    for j in range(i+1,pvars.N):\n",
    "        for term in terms_list:\n",
    "            k,z = term\n",
    "            pham.add_monomial_term(k,z,indexIn=i,indexOut=j,update=False)\n",
    "pham._update()\n",
    "qpsymbols = [S('eta{}'.format(i)) for i in range(1,pvars.N)] +\\\n",
    "[S('rho{}'.format(i)) for i in range(1,pvars.N)] +\\\n",
    "[S('kappa{}'.format(i)) for i in range(1,pvars.N)] +\\\n",
    "[S('sigma{}'.format(i)) for i in range(1,pvars.N)]  \n",
    "secular_variable_indices = [pham.varsymbols.index(s) for s in qpsymbols ]"
   ]
  },
  {
   "cell_type": "code",
   "execution_count": 5,
   "metadata": {
    "collapsed": true
   },
   "outputs": [],
   "source": [
    "methods = ['ImplicitMidpoint','LobattoIIIB','GL4','GL6']\n",
    "N = 12\n",
    "hsteps =  np.logspace(-3.,-1.25,N) * Tsec\n",
    "Tfinal = 0.1*Tsec\n",
    "\n",
    "dEbyE_dict = {method:np.zeros(N) for method in methods}\n",
    "for method in methods:\n",
    "    dfOp.rkmethod = method\n",
    "    dEbyE = dEbyE_dict[method]\n",
    "    for i,h in enumerate(hsteps):        \n",
    "        dEbyE[i] = get_relative_energy_error(dfOp,qpvec0,method,h,Tfinal)"
   ]
  },
  {
   "cell_type": "code",
   "execution_count": 6,
   "metadata": {},
   "outputs": [
    {
     "name": "stdout",
     "output_type": "stream",
     "text": [
      "method: ImplicitMidpoint, scaling: h^2.03\n",
      "method: LobattoIIIB, scaling: h^4.03\n",
      "method: GL4, scaling: h^4.03\n",
      "method: GL6, scaling: h^6.05\n"
     ]
    },
    {
     "data": {
      "image/png": "[encoded data removed]",
      "text/plain": [
       "<Figure size 432x288 with 1 Axes>"
      ]
     },
     "metadata": {
      "needs_background": "light"
     },
     "output_type": "display_data"
    }
   ],
   "source": [
    "for method,dEbyE in dEbyE_dict.items():\n",
    "    \n",
    "    plt.loglog(hsteps/Tsec,dEbyE,'s-',label=method)\n",
    "    x = np.log10(hsteps[dEbyE>1e-13]/Tsec)\n",
    "    y = np.log10(dEbyE[dEbyE>1e-13])\n",
    "    A = np.vstack((np.ones(len(x)) , x)).T\n",
    "    answer = np.linalg.lstsq(A,y,rcond=-1)\n",
    "    \n",
    "    print(\"method: {0}, scaling: h^{1:.2f}\".format(method,answer[0][1]))\n",
    "    \n",
    "plt.legend()    \n",
    "plt.ylabel(r'$|dE/E|$',fontsize=16)\n",
    "plt.xlabel(r'$h/T_{sec}$',fontsize=16)\n",
    "plt.tick_params(labelsize=14)\n"
   ]
  },
  {
   "cell_type": "code",
   "execution_count": null,
   "metadata": {
    "collapsed": true
   },
   "outputs": [],
   "source": []
  }
 ],
 "metadata": {
  "kernelspec": {
   "display_name": "Python 3",
   "language": "python",
   "name": "python3"
  },
  "language_info": {
   "codemirror_mode": {
    "name": "ipython",
    "version": 3
   },
   "file_extension": ".py",
   "mimetype": "text/x-python",
   "name": "python",
   "nbconvert_exporter": "python",
   "pygments_lexer": "ipython3",
   "version": "3.6.8"
  }
 },
 "nbformat": 4,
 "nbformat_minor": 2
}
