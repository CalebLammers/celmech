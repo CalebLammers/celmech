{
 "cells": [
  {
   "cell_type": "code",
   "execution_count": 1,
   "metadata": {
    "collapsed": true
   },
   "outputs": [],
   "source": [
    "import numpy as np\n",
    "import matplotlib.pyplot as plt\n",
    "from numpy import sqrt"
   ]
  },
  {
   "cell_type": "code",
   "execution_count": 2,
   "metadata": {
    "collapsed": true
   },
   "outputs": [],
   "source": [
    "def ydot(y):\n",
    "    rvec = y[:2] \n",
    "    pvec = y[2:]\n",
    "    rsq = rvec @ rvec\n",
    "    r3 = rsq * sqrt(rsq)\n",
    "    r3inv = 1/r3\n",
    "    return np.concatenate([pvec,-1 * rvec * r3inv])"
   ]
  },
  {
   "cell_type": "code",
   "execution_count": 3,
   "metadata": {},
   "outputs": [],
   "source": [
    "# Butcher tableuas for different methods\n",
    "LobattoIIIB = {\n",
    "    'a':np.array([\n",
    "        [1/6, -1/6, 0],\n",
    "        [1/6, 1/3, 0],\n",
    "        [1/6, 5/6, 0]\n",
    "    ]),\n",
    "    'c':np.array([0, 1/2, 1]),\n",
    "    'b':np.array([1/6, 2/3, 1/6])\n",
    "}\n",
    "\n",
    "GL4 = {\n",
    "    'a':np.array([\n",
    "        [1/4, 1/4-1/6*sqrt(3)],\n",
    "        [ 1/4+1/6*sqrt(3), 1/4]\n",
    "    ]),\n",
    "    'c':np.array([1/2 - 1/6*sqrt(3),1/2 + 1/6*sqrt(3)]),\n",
    "    'b':np.array([1/2,1/2])\n",
    "}\n",
    "\n",
    "GL6 = {\n",
    "    'a':np.array([\n",
    "        [5/36,2/9-1/15*sqrt(15),5/36-1/30*sqrt(15)],\n",
    "        [5/36 + 1/24*sqrt(15),2/9,5/36 - 1/24*sqrt(15)],\n",
    "        [5/36 + 1/30*sqrt(15),   2/9 + 1/15*sqrt(15),5/36]\n",
    "    ]),\n",
    "    'c':np.array([1/2 - 1/10*sqrt(15), 1/2, 1/2 + 1/10*sqrt(15)]),\n",
    "    'b':np.array([5/18,  4/9,  5/18])\n",
    "}\n",
    "methods = {'LobattoIIIB':LobattoIIIB,'GL4':GL4,'GL6':GL6}"
   ]
  },
  {
   "cell_type": "code",
   "execution_count": 4,
   "metadata": {
    "collapsed": true
   },
   "outputs": [],
   "source": [
    "def rk4(y,ydot,h,f):\n",
    "    k1 = ydot\n",
    "    y2 = y + h/2 * k1\n",
    "    k2 = f(y2)\n",
    "    y3 = y + h/2 * k2;\n",
    "    k3 = f(y3);\n",
    "    y4 = y + h * k3;\n",
    "    k4 = f(y4)\n",
    "    yout = y + 1/6*h*(k1 + 2*k2 + 2*k3 + k4);\n",
    "    ydotout = f(yout)\n",
    "    return yout,ydotout"
   ]
  },
  {
   "cell_type": "code",
   "execution_count": 22,
   "metadata": {
    "collapsed": true
   },
   "outputs": [],
   "source": [
    "from warnings import warn\n",
    "machine_eps = np.finfo(np.float64).eps\n",
    "\n",
    "def rkimplicitstep(f,y,h,a,b,c,max_iter = 20,tol=machine_eps):\n",
    "    \"\"\"\n",
    "    Advance ODE dy/dt = f(y) for input y for a timestep h\n",
    "    using an implicit Runge-Kutta method defined by the \n",
    "    Butcher tableau [a,b,c].\n",
    "    \n",
    "    Arguments\n",
    "    ---------\n",
    "    f : function\n",
    "     Vector function of numpy array that returns the\n",
    "     time derivatives defining the ODE.\n",
    "    y : ndarray\n",
    "     Initial condition of ODE\n",
    "    h : float\n",
    "      Timestep to advance ODE\n",
    "    a : ndarray, shape (N,N)\n",
    "     Butcher tableau entry 'a' for N-stage RK method.\n",
    "    b : ndarray shape (N,)\n",
    "     Butcher tableau entry 'b' for N-stage RK method.\n",
    "    c : ndarray shape (N,)\n",
    "     Butcher tableau entry 'c' for N-stage RK method.\n",
    "    max_iter : int, optional\n",
    "     Maximum number of iterations to compute for \n",
    "     root-finding via fixed-point iteration.\n",
    "     Default is 20\n",
    "    tol : float, optional\n",
    "     Tolerance for fixed-point iteration root-finding.\n",
    "     Default is machine precision.\n",
    "    \"\"\"\n",
    "    \n",
    "    si1,si2 = a.shape\n",
    "    sic, = c.shape\n",
    "    ydottemp = f(y)\n",
    "    ndim, = y.shape\n",
    "    ydot = np.zeros((sic,ndim))\n",
    "\n",
    "    for i,ci in enumerate(c):\n",
    "        if ci == 0:\n",
    "            ydot[i,:] = ydottemp\n",
    "        else:\n",
    "            ytemp,ydtemp = rk4(y,ydottemp,ci*h,f)\n",
    "            ydot[i,:] = ydtemp\n",
    "\n",
    "    delk = 1\n",
    "    itr = 0 \n",
    "    for itr in range(max_iter):\n",
    "        ydot_old = ydot.copy()\n",
    "        for i in range(si1):\n",
    "            ytemp = y.copy()\n",
    "            for j in range(si2):\n",
    "                ytemp = ytemp + h * a[i,j] * ydot[j,:]\n",
    "            ydot[i,:] = f(ytemp)\n",
    "        if np.alltrue( np.abs(ydot - ydot_old) < tol * np.abs(ydot_old) ):\n",
    "            break\n",
    "    else:\n",
    "        warn(\"'rkimplicitstep' reached maximum number of iterations ({})\".format(max_iter))\n",
    "    for i in range(si1):\n",
    "        y += h * b[i] * ydot[i,:]\n",
    "    return y,ydot,itr"
   ]
  },
  {
   "cell_type": "code",
   "execution_count": 23,
   "metadata": {},
   "outputs": [],
   "source": [
    "e = 0.3;\n",
    "y0 = np.array([1+e, 0, 0, np.sqrt((1-e)/(1+e))]);\n",
    "ydot0 = ydot(y0)"
   ]
  },
  {
   "cell_type": "code",
   "execution_count": 24,
   "metadata": {
    "collapsed": true
   },
   "outputs": [],
   "source": [
    "def Energy(y):\n",
    "    rvec = y[:2] \n",
    "    pvec = y[2:]\n",
    "    rsq = rvec @ rvec\n",
    "    r = np.sqrt(rsq)\n",
    "    return 0.5 * pvec @ pvec - 1/r "
   ]
  },
  {
   "cell_type": "code",
   "execution_count": 25,
   "metadata": {},
   "outputs": [
    {
     "name": "stderr",
     "output_type": "stream",
     "text": [
      "/Users/shadden/anaconda/lib/python3.6/site-packages/ipykernel_launcher.py:31: UserWarning: 'rkimplicitstep' reached maximum number of iterations (25)\n"
     ]
    }
   ],
   "source": [
    "N = 35\n",
    "hsteps = 2*np.pi * np.logspace(-2.5,-.5,N)\n",
    "dEbyE_dict = {method:np.zeros(N) for method in methods.keys()}\n",
    "for method,tableau in methods.items():\n",
    "    dEbyE = dEbyE_dict[method]\n",
    "    for i,h in enumerate(hsteps):\n",
    "        Nstep = int(np.ceil(2 * np.pi * 2 / h))\n",
    "        y0 = np.array([1+e, 0, 0, np.sqrt((1-e)/(1+e))])\n",
    "        E0 = Energy(y0)\n",
    "        for _ in range(Nstep):\n",
    "            y0,_,_ = rkimplicitstep(ydot,y0,h,tableau['a'],tableau['b'],tableau['c'],tol=1e-15,max_iter=25)\n",
    "        Ef = Energy(y0)\n",
    "        dEbyE[i] = np.abs((Ef - E0) / E0)"
   ]
  },
  {
   "cell_type": "code",
   "execution_count": 29,
   "metadata": {},
   "outputs": [
    {
     "data": {
      "text/plain": [
       "3.4498346128112773"
      ]
     },
     "execution_count": 29,
     "metadata": {},
     "output_type": "execute_result"
    }
   ],
   "source": []
  },
  {
   "cell_type": "code",
   "execution_count": 35,
   "metadata": {},
   "outputs": [
    {
     "data": {
      "text/plain": [
       "(1e-16, 99.91988011734433)"
      ]
     },
     "execution_count": 35,
     "metadata": {},
     "output_type": "execute_result"
    },
    {
     "data": {
      "image/png": "[encoded data removed]",
      "text/plain": [
       "<Figure size 432x288 with 1 Axes>"
      ]
     },
     "metadata": {
      "needs_background": "light"
     },
     "output_type": "display_data"
    }
   ],
   "source": [
    "for method,dEbyE in dEbyE_dict.items():\n",
    "    plt.loglog(hsteps/(2 *np.pi),dEbyE,label=method)\n",
    "plt.legend()    \n",
    "plt.ylabel(r'$|dE/E|$',fontsize=16)\n",
    "plt.xlabel(r'$|h/P|$',fontsize=16)\n",
    "plt.tick_params(labelsize=14)\n",
    "p = 8\n",
    "xplot = hsteps/(2 *np.pi)\n",
    "y0plot = dEbyE_dict['LobattoIIIB'][N//2]/xplot[N//2]**p \n",
    "yplot = y0plot * (xplot)**p\n",
    "plt.loglog(xplot,yplot,label=p,color='k')\n",
    "\n",
    "p = 12\n",
    "xplot = hsteps/(2 *np.pi)\n",
    "y0plot = dEbyE_dict['GL6'][N//2]/xplot[N//2]**p \n",
    "yplot = y0plot * (xplot)**p\n",
    "plt.loglog(xplot,yplot,'k--',label=p)\n",
    "plt.legend()    \n",
    "plt.ylim(ymin=1e-16)"
   ]
  },
  {
   "cell_type": "code",
   "execution_count": null,
   "metadata": {
    "collapsed": true
   },
   "outputs": [],
   "source": []
  }
 ],
 "metadata": {
  "kernelspec": {
   "display_name": "Python 3",
   "language": "python",
   "name": "python3"
  },
  "language_info": {
   "codemirror_mode": {
    "name": "ipython",
    "version": 3
   },
   "file_extension": ".py",
   "mimetype": "text/x-python",
   "name": "python",
   "nbconvert_exporter": "python",
   "pygments_lexer": "ipython3",
   "version": "3.6.8"
  }
 },
 "nbformat": 4,
 "nbformat_minor": 2
}
