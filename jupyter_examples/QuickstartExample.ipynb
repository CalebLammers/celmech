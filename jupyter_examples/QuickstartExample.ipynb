{
 "cells": [
  {
   "cell_type": "code",
   "execution_count": null,
   "metadata": {},
   "outputs": [],
   "source": [
    "import matplotlib.pyplot as plt\n",
    "%matplotlib inline\n",
    "\n",
    "import numpy as np\n",
    "import rebound as rb\n",
    "from celmech import Poincare, PoincareHamiltonian\n",
    "from sympy import init_printing\n",
    "from sympy import latex\n",
    "init_printing()"
   ]
  },
  {
   "cell_type": "code",
   "execution_count": null,
   "metadata": {},
   "outputs": [],
   "source": [
    "sim = rb.Simulation()\n",
    "sim.add(m=1,hash='star')\n",
    "sim.add(m=3e-6,P = 1, e = 0.03,l=0)\n",
    "sim.add(m=3e-6,P = 3/2, e = 0.03,l=np.pi/5,pomega = np.pi)\n",
    "sim.move_to_com()\n",
    "rb.OrbitPlot(sim,periastron=True)"
   ]
  },
  {
   "cell_type": "code",
   "execution_count": null,
   "metadata": {},
   "outputs": [],
   "source": [
    "pvars = Poincare.from_Simulation(sim)\n",
    "pham = PoincareHamiltonian(pvars)"
   ]
  },
  {
   "cell_type": "code",
   "execution_count": null,
   "metadata": {},
   "outputs": [],
   "source": [
    "pham.H"
   ]
  },
  {
   "cell_type": "code",
   "execution_count": null,
   "metadata": {
    "scrolled": false
   },
   "outputs": [],
   "source": [
    "pham.add_MMR_terms(3,1,max_order=1)\n",
    "pham.H"
   ]
  },
  {
   "cell_type": "code",
   "execution_count": null,
   "metadata": {},
   "outputs": [],
   "source": [
    "Nout = 150\n",
    "times = np.linspace(0 , 3e3, Nout) * sim.particles[1].P\n",
    "keys = ['l1','l2','pomega1','pomega2','e1','e2','a1','a2']\n",
    "\n",
    "rebound_results= {key:np.zeros(Nout) for key in keys}\n",
    "celmech_results= {key:np.zeros(Nout) for key in keys}\n",
    "\n",
    "rb_particles = sim.particles\n",
    "cm_particles = pvars.particles\n",
    "\n",
    "for i,t in enumerate(times):\n",
    "    \n",
    "    sim.integrate(t)\n",
    "    pham.integrate(t)\n",
    "    \n",
    "    for j,p_rb,p_cm in zip([1,2],rb_particles[1:],cm_particles[1:]):\n",
    "        \n",
    "        rebound_results[\"l{}\".format(j)][i] = p_rb.l\n",
    "        rebound_results[\"pomega{}\".format(j)][i] = p_rb.pomega\n",
    "        rebound_results[\"e{}\".format(j)][i] = p_rb.e\n",
    "        rebound_results[\"a{}\".format(j)][i] = p_rb.a\n",
    "\n",
    "        celmech_results[\"l{}\".format(j)][i] = p_cm.l\n",
    "        celmech_results[\"pomega{}\".format(j)][i] = p_cm.pomega\n",
    "        celmech_results[\"e{}\".format(j)][i] = p_cm.e\n",
    "        celmech_results[\"a{}\".format(j)][i] = p_cm.a"
   ]
  },
  {
   "cell_type": "code",
   "execution_count": null,
   "metadata": {},
   "outputs": [],
   "source": [
    "for d in [celmech_results,rebound_results]:\n",
    "    d['theta1'] = np.mod(3 * d['l2'] - 2 * d['l1'] - d['pomega1'],2*np.pi)\n",
    "    d['theta2'] = np.mod(3 * d['l2'] - 2 * d['l1'] - d['pomega2'],2*np.pi)"
   ]
  },
  {
   "cell_type": "code",
   "execution_count": null,
   "metadata": {},
   "outputs": [],
   "source": [
    "fig,ax = plt.subplots(3,2,sharex = True,figsize = (12,8))\n",
    "for i,q in enumerate(['theta','e','a']):\n",
    "    for j in range(2):\n",
    "        key = \"{:s}{:d}\".format(q,j+1)\n",
    "        ax[i,j].plot(times,rebound_results[key],'k.',label='$N$-body')\n",
    "        ax[i,j].plot(times,celmech_results[key],'r.',label='celmech')\n",
    "        ax[i,j].set_ylabel(key,fontsize=15)\n",
    "        ax[i,j].legend(loc='upper left')\n",
    "ax[0,0].set_ylim(0,2*np.pi);\n",
    "ax[0,1].set_ylim(0,2*np.pi);\n",
    "ax[2,0].set_xlabel(r\"$t/P_1$\",fontsize=15);\n",
    "ax[2,1].set_xlabel(r\"$t/P_1$\",fontsize=15);"
   ]
  },
  {
   "cell_type": "code",
   "execution_count": null,
   "metadata": {},
   "outputs": [],
   "source": []
  }
 ],
 "metadata": {
  "kernelspec": {
   "display_name": "Python 3 (ipykernel)",
   "language": "python",
   "name": "python3"
  },
  "language_info": {
   "codemirror_mode": {
    "name": "ipython",
    "version": 3
   },
   "file_extension": ".py",
   "mimetype": "text/x-python",
   "name": "python",
   "nbconvert_exporter": "python",
   "pygments_lexer": "ipython3",
   "version": "3.9.7"
  }
 },
 "nbformat": 4,
 "nbformat_minor": 2
}
