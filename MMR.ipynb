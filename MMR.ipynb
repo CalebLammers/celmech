{
 "cells": [
  {
   "cell_type": "code",
   "execution_count": 27,
   "metadata": {
    "collapsed": false
   },
   "outputs": [
    {
     "data": {
      "image/png": "[encoded data removed]",
      "text/latex": [
       "$$\\left [ 1, \\quad 2, \\quad 3, \\quad 4\\right ]$$"
      ],
      "text/plain": [
       "[1, 2, 3, 4]"
      ]
     },
     "execution_count": 27,
     "metadata": {},
     "output_type": "execute_result"
    }
   ],
   "source": [
    "a = (1,2,3)\n",
    "a = list(a)\n",
    "a.append(4)\n",
    "a"
   ]
  },
  {
   "cell_type": "code",
   "execution_count": null,
   "metadata": {
    "collapsed": true
   },
   "outputs": [],
   "source": []
  },
  {
   "cell_type": "code",
   "execution_count": 13,
   "metadata": {
    "collapsed": true
   },
   "outputs": [],
   "source": [
    "Lambdas = symbols('Lambda0:5')"
   ]
  },
  {
   "cell_type": "code",
   "execution_count": 14,
   "metadata": {
    "collapsed": false
   },
   "outputs": [
    {
     "data": {
      "image/png": "[encoded data removed]",
      "text/latex": [
       "$$\\left ( \\Lambda_{0}, \\quad \\Lambda_{1}, \\quad \\Lambda_{2}, \\quad \\Lambda_{3}, \\quad \\Lambda_{4}\\right )$$"
      ],
      "text/plain": [
       "(Λ₀, Λ₁, Λ₂, Λ₃, Λ₄)"
      ]
     },
     "execution_count": 14,
     "metadata": {},
     "output_type": "execute_result"
    }
   ],
   "source": [
    "Lambdas"
   ]
  },
  {
   "cell_type": "code",
   "execution_count": 3,
   "metadata": {
    "collapsed": false
   },
   "outputs": [],
   "source": [
    "from sympy import diff, lambdify, symbols, sqrt, cos, numbered_symbols, simplify, S, init_printing\n",
    "from scipy.integrate import odeint\n",
    "import numpy as np\n",
    "init_printing()"
   ]
  },
  {
   "cell_type": "code",
   "execution_count": 7,
   "metadata": {
    "collapsed": false
   },
   "outputs": [],
   "source": [
    "rotation_matrix = np.array([[1,2],[3,1]])"
   ]
  },
  {
   "cell_type": "code",
   "execution_count": 8,
   "metadata": {
    "collapsed": false
   },
   "outputs": [
    {
     "data": {
      "text/plain": [
       "array([x + 2*y, 3*x + y], dtype=object)"
      ]
     },
     "execution_count": 8,
     "metadata": {},
     "output_type": "execute_result"
    }
   ],
   "source": [
    "np.dot(rotation_matrix,[S(\"x\"),S(\"y\")])"
   ]
  },
  {
   "cell_type": "code",
   "execution_count": 2,
   "metadata": {
    "collapsed": false
   },
   "outputs": [],
   "source": [
    "import rebound\n",
    "import numpy as np\n",
    "\n",
    "def make_sim(m_res):\n",
    "    logmass = -5.1\n",
    "    e0 = 1.e-4 # initial eccentricity of planets\n",
    "    \n",
    "    sim = rebound.Simulation()\n",
    "    sim.G = 4*np.pi**2\n",
    "    sim.add(m=1.)\n",
    "    sim.add(m=10**logmass, e=e0, P=1., hash='Earth')\n",
    "    sim.add(m=10**logmass, e=e0, P=(m_res+1)/m_res)\n",
    "    sim.move_to_com()\n",
    "    return sim\n",
    "\n",
    "m_res=2\n",
    "Norbits = 300 # number of inner planet orbits to integrate for\n",
    "Nout = 1000\n",
    "\n",
    "sim = make_sim(m_res)"
   ]
  },
  {
   "cell_type": "code",
   "execution_count": 4,
   "metadata": {
    "collapsed": false
   },
   "outputs": [],
   "source": [
    "from celmech.hamiltonian import HamiltonianPoincare\n",
    "Hp = HamiltonianPoincare()\n",
    "Hp.initialize_from_sim(sim)"
   ]
  },
  {
   "cell_type": "code",
   "execution_count": 8,
   "metadata": {
    "collapsed": false
   },
   "outputs": [
    {
     "data": {
      "image/png": "[encoded data removed]",
      "text/latex": [
       "$$- \\frac{\\sqrt{2} C_{4,1,0} m_{1} \\mu_{2}}{\\Lambda_{2}^{2} M_{2}} \\sqrt{\\frac{\\Gamma_{2}}{\\Lambda_{2}}} \\cos{\\left (\\gamma_{2} - 3 \\lambda_{1} + 4 \\lambda_{2} \\right )} - \\frac{\\sqrt{2} C_{4,1,1} m_{1} \\mu_{2}}{\\Lambda_{2}^{2} M_{2}} \\sqrt{\\frac{\\Gamma_{1}}{\\Lambda_{1}}} \\cos{\\left (\\gamma_{1} - 3 \\lambda_{1} + 4 \\lambda_{2} \\right )} - \\frac{\\mu_{2}}{2 \\Lambda_{2}^{2}} - \\frac{\\mu_{1}}{2 \\Lambda_{1}^{2}}$$"
      ],
      "text/plain": [
       "                          ____                                                \n",
       "    ___                  ╱ Γ₂                            ___                  \n",
       "  ╲╱ 2 ⋅C_4,1,0⋅m₁⋅μ₂⋅  ╱  ── ⋅cos(γ₂ - 3⋅λ₁ + 4⋅λ₂)   ╲╱ 2 ⋅C_4,1,1⋅m₁⋅μ₂⋅  ╱\n",
       "                      ╲╱   Λ₂                                              ╲╱ \n",
       "- ────────────────────────────────────────────────── - ───────────────────────\n",
       "                          2                                                   \n",
       "                        Λ₂ ⋅M₂                                               Λ\n",
       "\n",
       " ____                                      \n",
       "╱ Γ₁                                       \n",
       "  ── ⋅cos(γ₁ - 3⋅λ₁ + 4⋅λ₂)                \n",
       "  Λ₁                            μ₂      μ₁ \n",
       "─────────────────────────── - ───── - ─────\n",
       " 2                                2       2\n",
       "₂ ⋅M₂                         2⋅Λ₂    2⋅Λ₁ "
      ]
     },
     "execution_count": 8,
     "metadata": {},
     "output_type": "execute_result"
    }
   ],
   "source": [
    "Hp.H"
   ]
  },
  {
   "cell_type": "code",
   "execution_count": 7,
   "metadata": {
    "collapsed": true
   },
   "outputs": [],
   "source": [
    "Hp.add_all_resonance_subterms(1,2,4,1)"
   ]
  },
  {
   "cell_type": "code",
   "execution_count": 9,
   "metadata": {
    "collapsed": false
   },
   "outputs": [
    {
     "data": {
      "image/png": "[encoded data removed]",
      "text/latex": [
       "$$\\frac{\\sqrt{2} \\sqrt{\\frac{\\Gamma_{1}}{\\Lambda_{1}}}}{\\Lambda_{2}^{2}} 7.46081061689357 \\cdot 10^{-13} \\cos{\\left (\\gamma_{1} - 3 \\lambda_{1} + 4 \\lambda_{2} \\right )} - \\frac{\\sqrt{2} \\sqrt{\\frac{\\Gamma_{2}}{\\Lambda_{2}}}}{\\Lambda_{2}^{2}} 7.46061881561978 \\cdot 10^{-13} \\cos{\\left (\\gamma_{2} - 3 \\lambda_{1} + 4 \\lambda_{2} \\right )} - \\frac{1}{\\Lambda_{2}^{2}} 3.90558440607865 \\cdot 10^{-13} - \\frac{1}{\\Lambda_{1}^{2}} 3.90558440607865 \\cdot 10^{-13}$$"
      ],
      "text/plain": [
       "                               ____                                           \n",
       "                       ___    ╱ Γ₁                                            \n",
       "7.46081061689357e-13⋅╲╱ 2 ⋅  ╱  ── ⋅cos(γ₁ - 3⋅λ₁ + 4⋅λ₂)   - -7.4606188156197\n",
       "                           ╲╱   Λ₁                                            \n",
       "───────────────────────────────────────────────────────── - ──────────────────\n",
       "                             2                                                \n",
       "                           Λ₂                                                 \n",
       "\n",
       "                ____                                                          \n",
       "        ___    ╱ Γ₂                                                           \n",
       "8e-13⋅╲╱ 2 ⋅  ╱  ── ⋅cos(γ₂ - 3⋅λ₁ + 4⋅λ₂)                                    \n",
       "            ╲╱   Λ₂                           - -3.90558440607865e-13    - -3.\n",
       "─────────────────────────────────────────── - ──────────────────────── - ─────\n",
       "             2                                            2                   \n",
       "           Λ₂                                           Λ₂                    \n",
       "\n",
       "                   \n",
       "                   \n",
       "                   \n",
       "90558440607865e-13 \n",
       "───────────────────\n",
       "       2           \n",
       "     Λ₁            "
      ]
     },
     "execution_count": 9,
     "metadata": {},
     "output_type": "execute_result"
    }
   ],
   "source": [
    "Hp.NH"
   ]
  },
  {
   "cell_type": "code",
   "execution_count": 30,
   "metadata": {
    "collapsed": false
   },
   "outputs": [
    {
     "data": {
      "image/png": "[encoded data removed]",
      "text/latex": [
       "$$- \\frac{\\mu_{2}}{2 \\Lambda_{2}^{2}} - \\frac{m_{1} \\mu_{2}}{\\Lambda_{2}^{2} M_{1}} \\left(f_{27} \\sqrt{\\frac{\\Gamma_{1}}{\\Lambda_{1}}} \\cos{\\left (\\gamma_{1} - \\lambda_{1} m + \\lambda_{2} \\left(m + 1\\right) \\right )} + \\sqrt{2} f_{31} \\sqrt{\\frac{\\Gamma_{2}}{\\Lambda_{2}}} \\cos{\\left (\\gamma_{2} - \\lambda_{1} m + \\lambda_{2} \\left(m + 1\\right) \\right )}\\right) - \\frac{\\mu_{1}}{2 \\Lambda_{1}^{2}}$$"
      ],
      "text/plain": [
       "                ⎛        ____                                          ____   \n",
       "                ⎜       ╱ Γ₁                                          ╱ Γ₂    \n",
       "          m₁⋅μ₂⋅⎜f₂₇⋅  ╱  ── ⋅cos(γ₁ - λ₁⋅m + λ₂⋅(m + 1)) + √2⋅f₃₁⋅  ╱  ── ⋅co\n",
       "    μ₂          ⎝    ╲╱   Λ₁                                       ╲╱   Λ₂    \n",
       "- ───── - ────────────────────────────────────────────────────────────────────\n",
       "      2                                                 2                     \n",
       "  2⋅Λ₂                                                Λ₂ ⋅M₁                  \n",
       "\n",
       "                         ⎞        \n",
       "                         ⎟        \n",
       "s(γ₂ - λ₁⋅m + λ₂⋅(m + 1))⎟        \n",
       "                         ⎠     μ₁ \n",
       "────────────────────────── - ─────\n",
       "                                 2\n",
       "                             2⋅Λ₁ "
      ]
     },
     "execution_count": 30,
     "metadata": {},
     "output_type": "execute_result"
    }
   ],
   "source": [
    "m2 = symbols('m2')\n",
    "Hp.H.subs(m2, 3)"
   ]
  },
  {
   "cell_type": "code",
   "execution_count": null,
   "metadata": {
    "collapsed": true
   },
   "outputs": [],
   "source": []
  },
  {
   "cell_type": "code",
   "execution_count": 10,
   "metadata": {
    "collapsed": false
   },
   "outputs": [
    {
     "name": "stderr",
     "output_type": "stream",
     "text": [
      "/Users/samuelhadden/anaconda/lib/python2.7/site-packages/numpy/__init__.py:1: RuntimeWarning: invalid value encountered in sqrt\n",
      "  \"\"\"\n",
      "/Users/samuelhadden/anaconda/lib/python2.7/site-packages/numpy/__init__.py:1: RuntimeWarning: invalid value encountered in sqrt\n",
      "  \"\"\"\n",
      "/Users/samuelhadden/anaconda/lib/python2.7/site-packages/numpy/__init__.py:1: RuntimeWarning: invalid value encountered in sqrt\n",
      "  \"\"\"\n",
      "/Users/samuelhadden/anaconda/lib/python2.7/site-packages/numpy/__init__.py:1: RuntimeWarning: invalid value encountered in sqrt\n",
      "  \"\"\"\n",
      "/Users/samuelhadden/anaconda/lib/python2.7/site-packages/numpy/__init__.py:1: RuntimeWarning: invalid value encountered in sqrt\n",
      "  \"\"\"\n",
      "/Users/samuelhadden/anaconda/lib/python2.7/site-packages/numpy/__init__.py:1: RuntimeWarning: invalid value encountered in sqrt\n",
      "  \"\"\"\n",
      "celmech/transformations.py:22: RuntimeWarning: invalid value encountered in sqrt\n",
      "  Lambda = mjac[i]*np.sqrt(sim.G*Mjac[i]*ps[i].a)\n",
      "celmech/transformations.py:25: RuntimeWarning: invalid value encountered in sqrt\n",
      "  pvars.append(Lambda*(1.-np.sqrt(1.-ps[i].e**2)))    # Gamma\n"
     ]
    }
   ],
   "source": [
    "from celmech.transformations import poincare_vars_from_sim\n",
    "tmax = Norbits*sim.particles[1].P\n",
    "times = np.linspace(0, tmax, Nout, endpoint=False)\n",
    "\n",
    "Nsol = np.zeros((8, Nout))\n",
    "symsol = np.zeros((8, Nout))\n",
    "for i, time in enumerate(times):\n",
    "    sim.integrate(time)\n",
    "    Hp.integrate(time)\n",
    "    Nsol[:,i] = poincare_vars_from_sim(sim)\n",
    "    symsol[:,i] = list(Hp.integrator.y)"
   ]
  },
  {
   "cell_type": "code",
   "execution_count": null,
   "metadata": {
    "collapsed": false
   },
   "outputs": [],
   "source": [
    "%matplotlib inline\n",
    "import matplotlib.pyplot as plt\n",
    "\n",
    "fig, ax = plt.subplots(figsize=(15,10))\n",
    "ax.set_xlabel(\"Time (years = inner planet orbits)\", fontsize=24)\n",
    "ax.set_ylabel(r\"$\\Lambda_1$\", fontsize=24)\n",
    "\n",
    "ax.plot(times, Nsol[0,:], '.', label='Nbody')\n",
    "ax.plot(times, symsol[0,:], '.', label='Symbolic')\n",
    "\n",
    "ax.legend()"
   ]
  },
  {
   "cell_type": "code",
   "execution_count": 10,
   "metadata": {
    "collapsed": false
   },
   "outputs": [],
   "source": [
    "#from sympy.abc import _clash2\n",
    "#from sympy import sympify\n",
    "#zeta = sympify('zeta', _clash2) \n",
    "theta, theta1, Theta, Theta1, zeta = symbols('theta, theta1, Theta, Theta1, {\\zeta}') # need to do this trick to get zeta symbol to override sympy zeta function\n",
    "#Lambda1 = Theta1 - m*Theta\n",
    "#Lambda2 = (m+1)*Theta\n",
    "#theta = (m+1)*lambda2 - m*lambda1\n",
    "#theta1 = lambda1"
   ]
  },
  {
   "cell_type": "code",
   "execution_count": 11,
   "metadata": {
    "collapsed": false
   },
   "outputs": [],
   "source": [
    "Htheta = H.subs(Lambda1, Theta1 - m*Theta)\n",
    "Htheta = Htheta.subs(Lambda2, (m+1)*Theta)\n",
    "Htheta = Htheta.subs(lambda1, theta1)\n",
    "Htheta = Htheta.subs(lambda2, (theta + m*theta1)/(m+1))"
   ]
  },
  {
   "cell_type": "code",
   "execution_count": 12,
   "metadata": {
    "collapsed": false
   },
   "outputs": [
    {
     "data": {
      "image/png": "[encoded data removed]",
      "text/latex": [
       "$$- \\frac{\\mu_{1}}{2 \\left(- \\Theta m + \\Theta_{1}\\right)^{2}} - \\frac{\\mu_{2}}{2 \\Theta^{2} \\left(m + 1\\right)^{2}} - \\frac{m_{1} \\mu_{2}}{M_{1} \\Theta^{2} \\left(m + 1\\right)^{2}} \\left(f_{27} \\sqrt{\\frac{\\Gamma_{1}}{- \\Theta m + \\Theta_{1}}} \\cos{\\left (\\gamma_{1} + \\theta \\right )} + \\sqrt{2} f_{31} \\sqrt{\\frac{\\Gamma_{2}}{\\Theta \\left(m + 1\\right)}} \\cos{\\left (\\gamma_{2} + \\theta \\right )}\\right)$$"
      ],
      "text/plain": [
       "                                         ⎛        ___________                 \n",
       "                                         ⎜       ╱     Γ₁                     \n",
       "                                   m₁⋅μ₂⋅⎜f₂₇⋅  ╱  ───────── ⋅cos(γ₁ + θ) + √2\n",
       "        μ₁               μ₂              ⎝    ╲╱   -Θ⋅m + Θ₁                  \n",
       "- ────────────── - ───────────── - ───────────────────────────────────────────\n",
       "               2      2        2                                      2       \n",
       "  2⋅(-Θ⋅m + Θ₁)    2⋅Θ ⋅(m + 1)                                   M₁⋅Θ ⋅(m + 1\n",
       "\n",
       "         ___________            ⎞\n",
       "        ╱     Γ₂                ⎟\n",
       "⋅f₃₁⋅  ╱  ───────── ⋅cos(γ₂ + θ)⎟\n",
       "     ╲╱   Θ⋅(m + 1)             ⎠\n",
       "─────────────────────────────────\n",
       " 2                               \n",
       ")                                "
      ]
     },
     "execution_count": 12,
     "metadata": {},
     "output_type": "execute_result"
    }
   ],
   "source": [
    "Htheta"
   ]
  },
  {
   "cell_type": "code",
   "execution_count": 13,
   "metadata": {
    "collapsed": true
   },
   "outputs": [],
   "source": [
    "# Actionnew = Action/Theta1, Action = Actionnew*Theta1"
   ]
  },
  {
   "cell_type": "code",
   "execution_count": 14,
   "metadata": {
    "collapsed": false
   },
   "outputs": [],
   "source": [
    "Htheta = Htheta.subs(Theta, Theta*Theta1)\n",
    "Htheta = Htheta.subs(Gamma1, Gamma1*Theta1)\n",
    "Htheta = Htheta.subs(Gamma2, Gamma2*Theta1)"
   ]
  },
  {
   "cell_type": "code",
   "execution_count": 15,
   "metadata": {
    "collapsed": false
   },
   "outputs": [],
   "source": [
    "Htheta /= mu2/Theta1**2\n",
    "Htheta = Htheta.subs(mu1, zeta**3*mu2)\n",
    "Htheta = simplify(Htheta)"
   ]
  },
  {
   "cell_type": "code",
   "execution_count": 16,
   "metadata": {
    "collapsed": false
   },
   "outputs": [
    {
     "data": {
      "image/png": "[encoded data removed]",
      "text/latex": [
       "$$- \\frac{{\\zeta}^{3}}{2 \\left(\\Theta m - 1\\right)^{2}} - \\frac{1}{2 \\Theta^{2} \\left(m + 1\\right)^{2}} - \\frac{f_{27} m_{1} \\sqrt{- \\frac{\\Gamma_{1}}{\\Theta m - 1}}}{M_{1} \\Theta^{2} \\left(m + 1\\right)^{2}} \\cos{\\left (\\gamma_{1} + \\theta \\right )} - \\frac{\\sqrt{2} f_{31} m_{1} \\sqrt{\\frac{\\Gamma_{2}}{\\Theta m + \\Theta}}}{M_{1} \\Theta^{2} \\left(m + 1\\right)^{2}} \\cos{\\left (\\gamma_{2} + \\theta \\right )}$$"
      ],
      "text/plain": [
       "                                            _________                         \n",
       "                                           ╱   -Γ₁                            \n",
       "           3                     f₂₇⋅m₁⋅  ╱  ─────── ⋅cos(γ₁ + θ)   √2⋅f₃₁⋅m₁⋅\n",
       "    {\\zeta}            1                ╲╱   Θ⋅m - 1                          \n",
       "- ──────────── - ───────────── - ──────────────────────────────── - ──────────\n",
       "             2      2        2                2        2                      \n",
       "  2⋅(Θ⋅m - 1)    2⋅Θ ⋅(m + 1)             M₁⋅Θ ⋅(m + 1)                       \n",
       "\n",
       "    _________            \n",
       "   ╱    Γ₂               \n",
       "  ╱  ─────── ⋅cos(γ₂ + θ)\n",
       "╲╱   Θ⋅m + Θ             \n",
       "─────────────────────────\n",
       "     2        2          \n",
       " M₁⋅Θ ⋅(m + 1)           "
      ]
     },
     "execution_count": 16,
     "metadata": {},
     "output_type": "execute_result"
    }
   ],
   "source": [
    "Htheta"
   ]
  },
  {
   "cell_type": "code",
   "execution_count": 17,
   "metadata": {
    "collapsed": true
   },
   "outputs": [],
   "source": [
    "#Lambda1, Lambda2, lambda1, lambda2, Gamma1, Gamma2, gamma1, gamma2 = S('Lambda1, Lambda2, lambda1, lambda2, Gamma1, Gamma2, gamma1, gamma2')\n",
    "actionanglepairs = [(Theta, theta), (Gamma1, gamma1), (Gamma2, gamma2)]\n",
    "#m1, m2, M1, mu1, mu2, alpha, m, f27, f31 = S('m1, m2, M1, mu1, mu2, alpha, m, f27, f31')\n",
    "params = [m1, M1, zeta, m, f27, f31]"
   ]
  },
  {
   "cell_type": "code",
   "execution_count": 18,
   "metadata": {
    "collapsed": false
   },
   "outputs": [],
   "source": [
    "Ht = Hamiltonian(Htheta, actionanglepairs, params)"
   ]
  },
  {
   "cell_type": "code",
   "execution_count": null,
   "metadata": {
    "collapsed": true
   },
   "outputs": [],
   "source": [
    "def thetas_from_sim(sim, inner, outer, m, average_synodic_terms=False, scales=None):\n",
    "    var, params = sim_to_poincare(sim, inner, outer, average_synodic_terms=average_synodic_terms)\n",
    "    params['m'] = m\n",
    "    params['zeta'] = params['mu1']/params['mu2']\n",
    "    Theta = var['Lambda2']/(m+1)\n",
    "    Theta1 = m/(m+1)*var['Lambda2'] + var['Lambda1']\n",
    "    theta = (m+1)*var['lambda2'] - m*var['lambda1']\n",
    "    theta1 = var['lambda1']\n",
    "    \n",
    "    if scales is None:\n",
    "        scales = {'actionscale':Theta1, 'timescale':Theta1**3/params['mu2']}\n",
    "    \n",
    "    actionscale = scales['actionscale']\n",
    "    var =  {'Theta':Theta/actionscale, 'Theta1':Theta1/actionscale, 'theta':theta, 'theta1':theta1, 'Gamma1':var['Gamma1']/actionscale, 'Gamma2':var['Gamma2']/actionscale, 'gamma1':var['gamma1'], 'gamma2':var['gamma2']}\n",
    "    return var, params, scales"
   ]
  },
  {
   "cell_type": "code",
   "execution_count": null,
   "metadata": {
    "collapsed": false
   },
   "outputs": [],
   "source": [
    "sim = make_sim(m_res)"
   ]
  },
  {
   "cell_type": "code",
   "execution_count": null,
   "metadata": {
    "collapsed": true
   },
   "outputs": [],
   "source": [
    "ic, Nparams, scales = thetas_from_sim(sim, 1, 2, m_res, average_synodic_terms=True)\n",
    "#m=params['m']\n",
    "#alpha = params['alpha']\n",
    "#f27 = 1/2*(-2*(m+1)*LaplaceCoefficient(0.5, m+1, alpha, 0) - alpha*LaplaceCoefficient(0.5, m+1, alpha, 1))\n",
    "#f31 = 1/2*((2*m+1)*LaplaceCoefficient(0.5, m, alpha, 0) + alpha*LaplaceCoefficient(0.5, m, alpha, 1))        "
   ]
  },
  {
   "cell_type": "code",
   "execution_count": null,
   "metadata": {
    "collapsed": false
   },
   "outputs": [],
   "source": [
    "htheta = Htheta(**Nparams, f27=Nf27, f31=Nf31)"
   ]
  },
  {
   "cell_type": "code",
   "execution_count": null,
   "metadata": {
    "collapsed": false
   },
   "outputs": [],
   "source": [
    "htheta.symH"
   ]
  },
  {
   "cell_type": "code",
   "execution_count": null,
   "metadata": {
    "collapsed": false
   },
   "outputs": [],
   "source": [
    "htheta.H"
   ]
  },
  {
   "cell_type": "code",
   "execution_count": null,
   "metadata": {
    "collapsed": false
   },
   "outputs": [],
   "source": [
    "tmax = Norbits*sim.particles[1].P\n",
    "times = np.linspace(0, tmax, Nout, endpoint=False)\n",
    "timescale = scales['timescale']\n",
    "normtimes = [t/timescale for t in times]\n",
    "symsol = htheta.integrate(ic, normtimes)\n",
    "\n",
    "Nsol = {'Theta':np.zeros(Nout), 'Theta1':np.zeros(Nout), 'theta':np.zeros(Nout), 'theta1':np.zeros(Nout), \n",
    "        'Gamma1':np.zeros(Nout), 'Gamma2':np.zeros(Nout), 'gamma1':np.zeros(Nout), 'gamma2':np.zeros(Nout)}\n",
    "for i, time in enumerate(times):\n",
    "    sim.integrate(time)\n",
    "    var, Nparams, scales = thetas_from_sim(sim, 1, 2, m_res, scales=scales)\n",
    "    for key in Nsol.keys():\n",
    "        Nsol[key][i] = var[key]"
   ]
  },
  {
   "cell_type": "code",
   "execution_count": null,
   "metadata": {
    "collapsed": false
   },
   "outputs": [],
   "source": [
    "%matplotlib inline\n",
    "import matplotlib.pyplot as plt\n",
    "\n",
    "fig, ax = plt.subplots(figsize=(15,10))\n",
    "ax.set_xlabel(\"Time (years = inner planet orbits)\", fontsize=24)\n",
    "ax.set_ylabel(r\"$\\Theta$\", fontsize=24)\n",
    "\n",
    "ax.plot(normtimes, Nsol['Theta'], '.', label='Nbody')\n",
    "ax.plot(normtimes, symsol['Theta'], '.', label='Symbolic')\n",
    "\n",
    "ax.legend()"
   ]
  },
  {
   "cell_type": "code",
   "execution_count": null,
   "metadata": {
    "collapsed": false
   },
   "outputs": [],
   "source": [
    "Thetabar, alpha_res = S('Thetabar, alpha_res')\n",
    "Thetabar = alpha_res/m/(alpha_res + zeta)\n",
    "Thetabar"
   ]
  },
  {
   "cell_type": "code",
   "execution_count": null,
   "metadata": {
    "collapsed": false
   },
   "outputs": [],
   "source": [
    "from sympy import series\n",
    "Thetabar = Thetabar.subs(alpha_res, (m/(m+1))**(S(2)/3))\n",
    "Thetabar"
   ]
  },
  {
   "cell_type": "code",
   "execution_count": null,
   "metadata": {
    "collapsed": false
   },
   "outputs": [],
   "source": [
    "from sympy import python\n",
    "python(htheta.symH)"
   ]
  },
  {
   "cell_type": "code",
   "execution_count": null,
   "metadata": {
    "collapsed": false
   },
   "outputs": [],
   "source": [
    "H0 = -zeta**3/(2*(Theta*m - 1)**2) - 1/(2*Theta**2*(m + 1)**2)\n",
    "H0"
   ]
  },
  {
   "cell_type": "markdown",
   "metadata": {},
   "source": [
    "dH/d$\\Theta$ = 0 at $\\bar{\\Theta}$"
   ]
  },
  {
   "cell_type": "code",
   "execution_count": null,
   "metadata": {
    "collapsed": false
   },
   "outputs": [],
   "source": [
    "simplify(diff(H0, Theta).subs(Theta, Thetabar))"
   ]
  },
  {
   "cell_type": "markdown",
   "metadata": {},
   "source": [
    "$\\beta$ = d^2H/d$\\Theta^2$ at $\\bar{\\Theta}$ (Deck Eq. 20)"
   ]
  },
  {
   "cell_type": "code",
   "execution_count": null,
   "metadata": {
    "collapsed": false
   },
   "outputs": [],
   "source": [
    "beta = S('beta')\n",
    "beta = (-3*m**2*(alpha_res + zeta)**5/(zeta*alpha_res))\n",
    "beta"
   ]
  },
  {
   "cell_type": "markdown",
   "metadata": {},
   "source": [
    "Check that it's true:"
   ]
  },
  {
   "cell_type": "code",
   "execution_count": null,
   "metadata": {
    "collapsed": false
   },
   "outputs": [],
   "source": [
    "simplify((diff(H0, Theta, 2)-beta.subs(alpha_res, (m/(m+1))**(S(2)/3))).subs(Theta, Thetabar))"
   ]
  },
  {
   "cell_type": "code",
   "execution_count": null,
   "metadata": {
    "collapsed": false
   },
   "outputs": [],
   "source": [
    "Cx0=Symbol('{C_{x_{0}}')\n",
    "latex(Cx0)"
   ]
  },
  {
   "cell_type": "code",
   "execution_count": null,
   "metadata": {
    "collapsed": false
   },
   "outputs": [],
   "source": [
    "from sympy import symbols\n",
    "dt = symbols('delta_Theta')\n",
    "dt"
   ]
  },
  {
   "cell_type": "code",
   "execution_count": null,
   "metadata": {
    "collapsed": false
   },
   "outputs": [],
   "source": [
    "dt.name"
   ]
  },
  {
   "cell_type": "code",
   "execution_count": null,
   "metadata": {
    "collapsed": false
   },
   "outputs": [],
   "source": [
    "zeta = symbols('{\\zeta}')\n",
    "zeta"
   ]
  },
  {
   "cell_type": "code",
   "execution_count": 15,
   "metadata": {
    "collapsed": false
   },
   "outputs": [
    {
     "data": {
      "image/png": "[encoded data removed]",
      "text/latex": [
       "$${\\delta\\Theta}$$"
      ],
      "text/plain": [
       "{\\delta\\Theta}"
      ]
     },
     "execution_count": 15,
     "metadata": {},
     "output_type": "execute_result"
    }
   ],
   "source": [
    "from sympy import Symbol\n",
    "deltaTheta = Symbol('{\\delta\\Theta}')\n",
    "deltaTheta"
   ]
  },
  {
   "cell_type": "code",
   "execution_count": null,
   "metadata": {
    "collapsed": false
   },
   "outputs": [],
   "source": [
    "deltaTheta.name"
   ]
  },
  {
   "cell_type": "code",
   "execution_count": null,
   "metadata": {
    "collapsed": true
   },
   "outputs": [],
   "source": [
    "dt = Symbol('dt')"
   ]
  },
  {
   "cell_type": "code",
   "execution_count": null,
   "metadata": {
    "collapsed": false
   },
   "outputs": [],
   "source": [
    "from IPython.display import display\n",
    "init_printing(use_latex='mathjax')\n",
    "display(latex(dt, symbol_names={dt:r'\\delta\\Theta'}))"
   ]
  },
  {
   "cell_type": "markdown",
   "metadata": {},
   "source": [
    "Removing constant piece:"
   ]
  },
  {
   "cell_type": "code",
   "execution_count": null,
   "metadata": {
    "collapsed": true
   },
   "outputs": [],
   "source": [
    "Hexp,  = S('Hexp')\n",
    "Hexp = beta/2"
   ]
  },
  {
   "cell_type": "code",
   "execution_count": null,
   "metadata": {
    "collapsed": false
   },
   "outputs": [],
   "source": [
    "H0 = -mu1/(2*Lambda1**2) - mu2/(2*Lambda2**2)\n",
    "H0"
   ]
  },
  {
   "cell_type": "code",
   "execution_count": null,
   "metadata": {
    "collapsed": false
   },
   "outputs": [],
   "source": [
    "dL_1, dL_2 = S('dL_1, dL_2')\n",
    "H0 = -mu1/(2*((2*m1/m2*sqrt(alpha) + dL_1)**2)) - mu2/(2*(2 + dL_2)**2)"
   ]
  },
  {
   "cell_type": "code",
   "execution_count": null,
   "metadata": {
    "collapsed": false
   },
   "outputs": [],
   "source": [
    "H0"
   ]
  },
  {
   "cell_type": "code",
   "execution_count": null,
   "metadata": {
    "collapsed": false
   },
   "outputs": [],
   "source": [
    "from sympy import series\n",
    "series(H0, dL_1, 0, 3)"
   ]
  },
  {
   "cell_type": "code",
   "execution_count": null,
   "metadata": {
    "collapsed": false
   },
   "outputs": [],
   "source": [
    "series(H0, dL_2, 0, 3)"
   ]
  },
  {
   "cell_type": "code",
   "execution_count": null,
   "metadata": {
    "collapsed": true
   },
   "outputs": [],
   "source": []
  }
 ],
 "metadata": {
  "kernelspec": {
   "display_name": "Python 2",
   "language": "python",
   "name": "python2"
  },
  "language_info": {
   "codemirror_mode": {
    "name": "ipython",
    "version": 2
   },
   "file_extension": ".py",
   "mimetype": "text/x-python",
   "name": "python",
   "nbconvert_exporter": "python",
   "pygments_lexer": "ipython2",
   "version": "2.7.13"
  }
 },
 "nbformat": 4,
 "nbformat_minor": 2
}
